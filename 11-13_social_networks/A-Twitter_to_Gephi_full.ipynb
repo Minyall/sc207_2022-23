{
 "cells": [
  {
   "cell_type": "markdown",
   "metadata": {
    "pycharm": {
     "name": "#%% md\n"
    }
   },
   "source": [
    "<img src=\"https://github.com/Minyall/sc207_materials/blob/master/images/gephi_network.png?raw=true\" align=\"right\" width=\"300\">\n",
    "\n",
    "\n",
    "# SC207 - Session 8\n",
    "# Social Network Analysis with Gephi\n",
    "## Reshaping your Data into a Network\n",
    "\n",
    "\n",
    "### Imports\n",
    "\n",
    "Today we will just need...\n",
    "- Pandas to import and reshape our twitter data\n",
    "\n",
    "- <img src=\"https://github.com/Minyall/sc207_materials/blob/master/images/gephi-logo-2010-transparent.png?raw=true\" align=\"left\" width=\"75\">....to visualise and explore our data.\n"
   ]
  },
  {
   "cell_type": "code",
   "execution_count": null,
   "metadata": {
    "pycharm": {
     "name": "#%%\n"
    }
   },
   "outputs": [],
   "source": [
    "import pandas as pd"
   ]
  },
  {
   "cell_type": "code",
   "execution_count": null,
   "outputs": [],
   "source": [
    "def flatten_nested_dicts(df):\n",
    "    dicts = df.to_dict(orient='records')\n",
    "    flattened = pd.json_normalize(dicts)\n",
    "    return flattened"
   ],
   "metadata": {
    "collapsed": false,
    "pycharm": {
     "name": "#%%\n"
    }
   }
  },
  {
   "cell_type": "markdown",
   "metadata": {
    "pycharm": {
     "name": "#%% md\n"
    }
   },
   "source": [
    "## Converting Twitter Data\n",
    "\n",
    "- We're going to make a Retweet network. \n",
    "- In this network every Node will represent a different user, \n",
    "- An edge between user a and user b will represent one user retweeting the other\n",
    "- Eges will be given a `weight` that counts how many unique times user a retweeted user b. \n",
    "- We will make our network `directional` meaning that we will record seperately\n",
    "  -     how many times `a` is retweeted by -> `b` \n",
    "  -     and how many times `b` -> is retweeted by `a`\n",
    "    -\n",
    "First we need to find out the IDS of any referenced tweets, and if they're not already in our dataset get their full dataset plus user data."
   ]
  },
  {
   "cell_type": "code",
   "execution_count": null,
   "metadata": {
    "pycharm": {
     "name": "#%%\n"
    }
   },
   "outputs": [],
   "source": [
    "filename = 'new_trhr.json'\n",
    "\n",
    "tweets = pd.read_json(filename)\n",
    "tweets"
   ]
  },
  {
   "cell_type": "code",
   "execution_count": null,
   "outputs": [],
   "source": [
    "subset = tweets[['id','author_id','referenced_tweets']].dropna()\n",
    "subset"
   ],
   "metadata": {
    "collapsed": false,
    "pycharm": {
     "name": "#%%\n"
    }
   }
  },
  {
   "cell_type": "code",
   "execution_count": null,
   "outputs": [],
   "source": [
    "# first we deal with everything being in lists using .explode!!\n",
    "\n",
    "edge_data = subset.explode('referenced_tweets').copy()\n",
    "edge_data"
   ],
   "metadata": {
    "collapsed": false,
    "pycharm": {
     "name": "#%%\n"
    }
   }
  },
  {
   "cell_type": "code",
   "execution_count": null,
   "outputs": [],
   "source": [
    "# Next we unpack that series of dictionaries into their own columns\n",
    "edge_data = flatten_nested_dicts(edge_data)\n",
    "edge_data"
   ],
   "metadata": {
    "collapsed": false,
    "pycharm": {
     "name": "#%%\n"
    }
   }
  },
  {
   "cell_type": "code",
   "execution_count": null,
   "outputs": [],
   "source": [
    "new_cols = {'id':'source_id',\n",
    "            'author_id':'source_user_id',\n",
    " 'referenced_tweets.type':'type',\n",
    " 'referenced_tweets.id':'target_id'}\n",
    "edge_data = edge_data.rename(columns=new_cols)\n",
    "edge_data = edge_data[['source_id','source_user_id','type','target_id']]\n",
    "edge_data.info()"
   ],
   "metadata": {
    "collapsed": false,
    "pycharm": {
     "name": "#%%\n"
    }
   }
  },
  {
   "cell_type": "markdown",
   "source": [
    "We almost have everything we need except the target usernames. We should have these as part of our larger dataset because we retained both original and referencerd tweets with their associated user data\n"
   ],
   "metadata": {
    "collapsed": false,
    "pycharm": {
     "name": "#%% md\n"
    }
   }
  },
  {
   "cell_type": "code",
   "execution_count": null,
   "outputs": [],
   "source": [
    "edge_data"
   ],
   "metadata": {
    "collapsed": false,
    "pycharm": {
     "name": "#%%\n"
    }
   }
  },
  {
   "cell_type": "code",
   "execution_count": null,
   "outputs": [],
   "source": [
    "edge_data = edge_data[edge_data['type'] == 'retweeted']"
   ],
   "metadata": {
    "collapsed": false,
    "pycharm": {
     "name": "#%%\n"
    }
   }
  },
  {
   "cell_type": "code",
   "execution_count": null,
   "outputs": [],
   "source": [
    "user_data = tweets[['id','author_id']]\n",
    "user_data"
   ],
   "metadata": {
    "collapsed": false,
    "pycharm": {
     "name": "#%%\n"
    }
   }
  },
  {
   "cell_type": "code",
   "execution_count": null,
   "outputs": [],
   "source": [
    "edge_data = edge_data.merge(user_data, how='left',left_on='target_id', right_on='id')\n",
    "edge_data.info()"
   ],
   "metadata": {
    "collapsed": false,
    "pycharm": {
     "name": "#%%\n"
    }
   }
  },
  {
   "cell_type": "code",
   "execution_count": null,
   "outputs": [],
   "source": [
    "new_cols = {'author_id':'target_user_id'}\n",
    "edge_data = edge_data.rename(columns=new_cols).drop(columns=['target_id','id','source_id'])\n",
    "edge_data"
   ],
   "metadata": {
    "collapsed": false,
    "pycharm": {
     "name": "#%%\n"
    }
   }
  },
  {
   "cell_type": "markdown",
   "source": [
    "At the moment we have one row per instance of retweeting between a pair of users. However it may be the case that one user retweeted another a number of times, and so there are duplicate rows. Rather than discard this information, we'll capture this by adding weights to our edges that count how many times the source user retweeted the target user."
   ],
   "metadata": {
    "collapsed": false,
    "pycharm": {
     "name": "#%% md\n"
    }
   }
  },
  {
   "cell_type": "code",
   "execution_count": null,
   "outputs": [],
   "source": [
    "# First we give every edge a weight of 1, because each row represents 1 instance of retweeting\n",
    "\n",
    "edge_data['weight'] = 1\n",
    "edge_data"
   ],
   "metadata": {
    "collapsed": false,
    "pycharm": {
     "name": "#%%\n"
    }
   }
  },
  {
   "cell_type": "markdown",
   "source": [
    "Now we use groupby to gather together rows that have the same combination of source, target and type, and add the weight values together."
   ],
   "metadata": {
    "collapsed": false,
    "pycharm": {
     "name": "#%% md\n"
    }
   }
  },
  {
   "cell_type": "code",
   "execution_count": null,
   "outputs": [],
   "source": [
    "edge_data = edge_data.groupby(['source_user_id','target_user_id','type'],as_index=False).sum()\n",
    "edge_data.sort_values('weight',ascending=False)"
   ],
   "metadata": {
    "collapsed": false,
    "pycharm": {
     "name": "#%%\n"
    }
   }
  },
  {
   "cell_type": "markdown",
   "source": [
    "Now our `edge_data` has one row per `source` `target` pair, and a weight indicating how many times that pair appeared in the data. Finally we just need to relabel the columns so that Gephi understands them."
   ],
   "metadata": {
    "collapsed": false,
    "pycharm": {
     "name": "#%% md\n"
    }
   }
  },
  {
   "cell_type": "code",
   "execution_count": null,
   "outputs": [],
   "source": [
    "gephi_edge_labels = {'source_user_id':'Source','target_user_id':'Target','type':'Type','weight':'Weight'}\n",
    "edge_data = edge_data.rename(columns=gephi_edge_labels)\n",
    "edge_data"
   ],
   "metadata": {
    "collapsed": false,
    "pycharm": {
     "name": "#%%\n"
    }
   }
  },
  {
   "cell_type": "markdown",
   "source": [
    "### Nodes\n",
    "- `source_user_id` and `target_user_id` as the node ids.\n",
    "- `source_username` and `target_username` as the node labels\n",
    "- User followers count and statuses count as the node attributes\n",
    "\n",
    "### Edges\n",
    "-  `source_user_id` and `target_user_id` as the two ends of our edges."
   ],
   "metadata": {
    "collapsed": false,
    "pycharm": {
     "name": "#%% md\n"
    }
   }
  },
  {
   "cell_type": "markdown",
   "metadata": {
    "pycharm": {
     "name": "#%% md\n"
    }
   },
   "source": [
    "# Nodes\n",
    "This dataframe will be a list of unique nodes and we will assign some attributes to the nodes that we can use in Gephi later on.\n",
    "First we grab the relevant columns from our original dataset. It may have duplicates as each row represents a tweet, and it may have users that didn't end up in our edge table but we'll deal with that soon."
   ]
  },
  {
   "cell_type": "code",
   "execution_count": null,
   "outputs": [],
   "source": [
    "node_data = tweets[['user_id','user_name','user_public_metrics']]\n",
    "node_data"
   ],
   "metadata": {
    "collapsed": false,
    "pycharm": {
     "name": "#%%\n"
    }
   }
  },
  {
   "cell_type": "code",
   "execution_count": null,
   "outputs": [],
   "source": [
    "# First we drop any duplicates because we simply need one row per user\n",
    "node_data = node_data.drop_duplicates('user_id')\n",
    "node_data"
   ],
   "metadata": {
    "collapsed": false,
    "pycharm": {
     "name": "#%%\n"
    }
   }
  },
  {
   "cell_type": "code",
   "execution_count": null,
   "outputs": [],
   "source": [
    "# Next we create a list of all users that are actually in our edge list\n",
    "\n",
    "nodes_in_network = pd.concat([edge_data['Source'], edge_data['Target']], axis=0).drop_duplicates()\n",
    "nodes_in_network"
   ],
   "metadata": {
    "collapsed": false,
    "pycharm": {
     "name": "#%%\n"
    }
   }
  },
  {
   "cell_type": "code",
   "execution_count": null,
   "outputs": [],
   "source": [
    "node_data = node_data[node_data['user_id'].isin(nodes_in_network)]\n",
    "node_data"
   ],
   "metadata": {
    "collapsed": false,
    "pycharm": {
     "name": "#%%\n"
    }
   }
  },
  {
   "cell_type": "code",
   "execution_count": null,
   "outputs": [],
   "source": [
    "# Now lets expand out our user metrics\n",
    "\n",
    "node_data = flatten_nested_dicts(node_data)\n",
    "node_data"
   ],
   "metadata": {
    "collapsed": false,
    "pycharm": {
     "name": "#%%\n"
    }
   }
  },
  {
   "cell_type": "code",
   "execution_count": null,
   "outputs": [],
   "source": [
    "# Finally we need to relabel our columns for Gephi\n",
    "\n",
    "gephi_node_labels = {'user_id':'ID','user_name':'Label',\n",
    "                     'user_public_metrics.followers_count':'followers_count',\n",
    "                     'user_public_metrics.following_count':'following_count',\n",
    "                     'user_public_metrics.tweet_count':'tweet_count',\n",
    "                     'user_public_metrics.listed_count':'listed_count'}\n",
    "\n",
    "node_data = node_data.rename(columns=gephi_node_labels)\n",
    "node_data\n"
   ],
   "metadata": {
    "collapsed": false,
    "pycharm": {
     "name": "#%%\n"
    }
   }
  },
  {
   "cell_type": "code",
   "execution_count": null,
   "metadata": {
    "pycharm": {
     "name": "#%%\n"
    }
   },
   "outputs": [],
   "source": [
    "node_data.to_csv('retweet_node_list.csv',index=False)\n",
    "edge_data.to_csv('retweet_edge_list.csv',index=False)"
   ]
  },
  {
   "cell_type": "markdown",
   "metadata": {
    "pycharm": {
     "name": "#%% md\n"
    }
   },
   "source": [
    "Now we go to...\n",
    "\n",
    "<img src=\"https://github.com/Minyall/sc207_materials/blob/master/images/gephi-logo-2010-transparent.png?raw=true\" align=\"left\" width=\"150\">"
   ]
  },
  {
   "cell_type": "markdown",
   "metadata": {
    "pycharm": {
     "name": "#%% md\n"
    }
   },
   "source": [
    "### Some Notes\n",
    "#### Filter sets\n",
    "\n",
    "To examine individual communities\n",
    "\n",
    "- Giant component\n",
    "    - Inter Edges (modularity Class)\n",
    "        - Degree range 2\n",
    "\n",
    "To examine the overall structure\n",
    "- Giant component\n",
    "    - Degree range 2\n",
    "\n",
    "\n",
    "#### Measures\n",
    "- Weighted in-degree to show influence\n",
    "- Pagerank centrality to show those who may have the ear of an influencer.\n"
   ]
  },
  {
   "cell_type": "code",
   "execution_count": null,
   "metadata": {
    "pycharm": {
     "name": "#%%\n"
    }
   },
   "outputs": [],
   "source": []
  }
 ],
 "metadata": {
  "kernelspec": {
   "display_name": "Python 3 (ipykernel)",
   "language": "python",
   "name": "python3"
  },
  "language_info": {
   "codemirror_mode": {
    "name": "ipython",
    "version": 3
   },
   "file_extension": ".py",
   "mimetype": "text/x-python",
   "name": "python",
   "nbconvert_exporter": "python",
   "pygments_lexer": "ipython3",
   "version": "3.8.12"
  }
 },
 "nbformat": 4,
 "nbformat_minor": 4
}