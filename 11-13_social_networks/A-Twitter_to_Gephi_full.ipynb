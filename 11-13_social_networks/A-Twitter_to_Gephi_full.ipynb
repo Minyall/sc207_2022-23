{
 "cells": [
  {
   "cell_type": "markdown",
   "metadata": {
    "pycharm": {
     "name": "#%% md\n"
    }
   },
   "source": [
    "<img src=\"https://github.com/Minyall/sc207_materials/blob/master/images/gephi_network.png?raw=true\" align=\"right\" width=\"300\">\n",
    "\n",
    "\n",
    "# SC207 - Session 8\n",
    "# Social Network Analysis with Gephi\n",
    "## Reshaping your Data into a Network\n",
    "\n",
    "\n",
    "### Imports\n",
    "\n",
    "Today we will just need...\n",
    "- Pandas to import and reshape our twitter data\n",
    "\n",
    "- <img src=\"https://github.com/Minyall/sc207_materials/blob/master/images/gephi-logo-2010-transparent.png?raw=true\" align=\"left\" width=\"75\">....to visualise and explore our data.\n"
   ]
  },
  {
   "cell_type": "code",
   "execution_count": 1,
   "metadata": {
    "pycharm": {
     "name": "#%%\n"
    }
   },
   "outputs": [],
   "source": [
    "import pandas as pd"
   ]
  },
  {
   "cell_type": "code",
   "execution_count": 2,
   "outputs": [],
   "source": [
    "def flatten_nested_dicts(df):\n",
    "    dicts = df.to_dict(orient='records')\n",
    "    flattened = pd.json_normalize(dicts)\n",
    "    return flattened"
   ],
   "metadata": {
    "collapsed": false,
    "pycharm": {
     "name": "#%%\n"
    }
   }
  },
  {
   "cell_type": "markdown",
   "source": [
    "## Converting Twitter Data\n",
    "\n",
    "- We're going to make a Retweet network. \n",
    "- In this network every Node will represent a different user, \n",
    "- An edge between user a and user b will represent one user retweeting the other\n",
    "- Edges will be given a `weight` that counts how many unique times user a retweeted user b.\n",
    "- We will make our network `directional` meaning that we will record seperately.\n",
    "  -     how many times `a` is retweeted by -> `b` \n",
    "  -     and how many times `b` -> is retweeted by `a`\n",
    "\n",
    "#### Stage 1\n",
    "We currently have data laid out like this...\n",
    "\n",
    "| author_id | referenced_tweet_id |\n",
    "| --------- | ------------------- |\n",
    "| USER A    | TWEET 1             |\n",
    "| USER B    | TWEET 2             |\n",
    "| USER C    | TWEET 3             |\n",
    "\n",
    "#### Stage 2\n",
    "However we want our data to look like this....\n",
    "\n",
    "| author_id | referenced_tweet_id | referenced_tweet's author |\n",
    "| --------- | ------------------- | ------------------------- |\n",
    "| USER A    | TWEET 1             | USER B                    |\n",
    "| USER B    | TWEET 2             | USER A                    |\n",
    "| USER C    | TWEET 3             | USER C                    |\n",
    "\n",
    "\n",
    "#### Stage 3\n",
    "Or actually more accurately, just like this...\n",
    "\n",
    "| retweeter | author |\n",
    "|-----------|--------|\n",
    "| USER A    | USER B |\n",
    "| USER B    | USER A |\n",
    "| USER C    | USER C |\n",
    "\n",
    "#### Stage 4\n",
    "We create a weight column that represents the number of times the author_id retweeted the referenced_tweet's author.\n",
    "\n",
    "| retweeter | author | weight |\n",
    "|-----------| ---------------------- |--------|\n",
    "| USER A    | USER B                 |1|\n",
    "| USER B    | USER A                 |5|\n",
    "| USER C    | USER C                 |12|\n",
    "\n"
   ],
   "metadata": {
    "collapsed": false,
    "pycharm": {
     "name": "#%% md\n"
    }
   }
  },
  {
   "cell_type": "markdown",
   "source": [
    "## Stage 1"
   ],
   "metadata": {
    "collapsed": false,
    "pycharm": {
     "name": "#%% md\n"
    }
   }
  },
  {
   "cell_type": "code",
   "execution_count": 3,
   "outputs": [
    {
     "data": {
      "text/plain": "                 author_id                                context_annotations  \\\n0       937606688034709504                                               None   \n1      1203336448218456064  [{'domain': {'id': '10', 'name': 'Person', 'de...   \n2      1304562578438451203                                               None   \n3       914786917895561216  [{'domain': {'id': '46', 'name': 'Business Tax...   \n4                279176310  [{'domain': {'id': '3', 'name': 'TV Shows', 'd...   \n...                    ...                                                ...   \n21039             19685424  [{'domain': {'id': '3', 'name': 'TV Shows', 'd...   \n21040   701806221892968449  [{'domain': {'id': '3', 'name': 'TV Shows', 'd...   \n21041            105889848  [{'domain': {'id': '3', 'name': 'TV Shows', 'd...   \n21042            474887617  [{'domain': {'id': '3', 'name': 'TV Shows', 'd...   \n21043  1450397279177908227  [{'domain': {'id': '3', 'name': 'TV Shows', 'd...   \n\n           conversation_id          created_at edit_history_tweet_ids  \\\n0      1603756552598478849 2022-12-16 14:18:53  [1603756552598478849]   \n1      1603756550807592961 2022-12-16 14:18:52  [1603756550807592961]   \n2      1603756550014656512 2022-12-16 14:18:52  [1603756550014656512]   \n3      1603756547900940288 2022-12-16 14:18:52  [1603756547900940288]   \n4      1603756545455562752 2022-12-16 14:18:51  [1603756545455562752]   \n...                    ...                 ...                    ...   \n21039  1603532815030784008 2022-12-15 23:29:49  [1603532815030784008]   \n21040  1603529272370642946 2022-12-15 23:15:45  [1603529272370642946]   \n21041  1603532700748582912 2022-12-15 23:29:22  [1603532700748582912]   \n21042  1603532059812794368 2022-12-15 23:26:49  [1603532059812794368]   \n21043  1603533847810957319 2022-12-15 23:37:29  [1603534743114588160]   \n\n                                                entities                   id  \\\n0      {'annotations': [{'start': 17, 'end': 31, 'pro...  1603756552598478849   \n1      {'annotations': [{'start': 12, 'end': 22, 'pro...  1603756550807592961   \n2      {'annotations': [{'start': 82, 'end': 90, 'pro...  1603756550014656512   \n3      {'mentions': [{'start': 3, 'end': 19, 'usernam...  1603756547900940288   \n4      {'annotations': [{'start': 108, 'end': 116, 'p...  1603756545455562752   \n...                                                  ...                  ...   \n21039  {'annotations': [{'start': 1, 'end': 5, 'proba...  1603532815030784008   \n21040  {'annotations': [{'start': 0, 'end': 8, 'proba...  1603529272370642946   \n21041  {'urls': [{'start': 144, 'end': 167, 'url': 'h...  1603532700748582912   \n21042  {'annotations': [{'start': 65, 'end': 66, 'pro...  1603532059812794368   \n21043  {'urls': [{'start': 122, 'end': 145, 'url': 'h...  1603534743114588160   \n\n      lang                                     public_metrics  \\\n0       en  {'retweet_count': 1124, 'reply_count': 0, 'lik...   \n1       en  {'retweet_count': 287, 'reply_count': 0, 'like...   \n2       en  {'retweet_count': 7, 'reply_count': 0, 'like_c...   \n3       en  {'retweet_count': 2053, 'reply_count': 0, 'lik...   \n4       en  {'retweet_count': 5, 'reply_count': 0, 'like_c...   \n...    ...                                                ...   \n21039   en  {'retweet_count': 2, 'reply_count': 0, 'like_c...   \n21040   en  {'retweet_count': 4, 'reply_count': 0, 'like_c...   \n21041   en  {'retweet_count': 2, 'reply_count': 0, 'like_c...   \n21042   en  {'retweet_count': 3, 'reply_count': 0, 'like_c...   \n21043   en  {'retweet_count': 1, 'reply_count': 0, 'like_c...   \n\n                                       referenced_tweets               source  \\\n0      [{'data': {'type': 'retweeted', 'id': '1603677...   Twitter for iPhone   \n1      [{'data': {'type': 'retweeted', 'id': '1603527...   Twitter for iPhone   \n2      [{'data': {'type': 'retweeted', 'id': '1603665...   Twitter for iPhone   \n3      [{'data': {'type': 'retweeted', 'id': '1603506...      Twitter Web App   \n4      [{'data': {'type': 'retweeted', 'id': '1603724...     Twitter for iPad   \n...                                                  ...                  ...   \n21039                                               None  Twitter for Android   \n21040                                               None  Twitter for Android   \n21041                                               None   Twitter for iPhone   \n21042                                               None      Twitter Web App   \n21043  [{'data': {'type': 'replied_to', 'id': '160353...      Twitter Web App   \n\n                                                    text withheld  \\\n0      RT @BladeoftheS: Jacob Rees-Mogg has avoided m...     None   \n1      RT @Zero_4: Fiona Bruce abbreviating Jacob Ree...     None   \n2      RT @torysleazeUK: 🏴‍☠️ Just how long do we hav...     None   \n3      RT @implausibleblog: \"You're taking something ...     None   \n4      RT @nickreeves9876: @bbcquestiontime The loss ...     None   \n...                                                  ...      ...   \n21039  #bbcqt Rees Mogg incredibly patronising. If yo...     None   \n21040  Rees-Mogg and Hitchens - two mediocre right-wi...     None   \n21041  Never forget - @Jacob_Rees_Mogg … is an absolu...     None   \n21042  How dare @Jacob_Rees_Mogg throw accusations of...     None   \n21043  \"I don't think we've seen quite the corruption...     None   \n\n          user_created_at              user_id  \\\n0     2017-12-04 08:57:09   937606688034709504   \n1     2019-12-07 15:32:37  1203336448218456064   \n2     2020-09-11 23:29:16  1304562578438451203   \n3     2017-10-02 09:39:31   914786917895561216   \n4     2011-04-08 18:55:55            279176310   \n...                   ...                  ...   \n21039 2009-01-29 00:02:42             19685424   \n21040 2016-02-22 16:30:17   701806221892968449   \n21041 2010-01-17 20:56:59            105889848   \n21042 2012-01-26 13:09:17            474887617   \n21043 2021-10-19 09:44:49  1450397279177908227   \n\n                                   user_name  \\\n0          Beth Sawyer ebs28@fediscience.org   \n1                         Art and revolution   \n2                     Corporal of the Parish   \n3                                     Baxter   \n4                             Theresa Travis   \n...                                      ...   \n21039                           Karl Wardlaw   \n21040                                    Stu   \n21041                                   BeCo   \n21042          PM in Espana #RejoinEU #GENow   \n21043  Jack Quack 🎗far left anti-imperialist   \n\n                                     user_public_metrics    user_username  \\\n0      {'followers_count': 235, 'following_count': 19...        eb_sawyer   \n1      {'followers_count': 91, 'following_count': 112...  Artandrevoluti2   \n2      {'followers_count': 317, 'following_count': 60...      corporal_of   \n3      {'followers_count': 587, 'following_count': 15...           tuq010   \n4      {'followers_count': 6907, 'following_count': 2...            s9tmt   \n...                                                  ...              ...   \n21039  {'followers_count': 979, 'following_count': 41...          KarlosW   \n21040  {'followers_count': 497, 'following_count': 53...          indstu7   \n21041  {'followers_count': 1121, 'following_count': 2...           BeCo74   \n21042  {'followers_count': 333, 'following_count': 99...         PennyM51   \n21043  {'followers_count': 820, 'following_count': 15...      jackquack16   \n\n      user_withheld  \n0              None  \n1              None  \n2              None  \n3              None  \n4              None  \n...             ...  \n21039          None  \n21040          None  \n21041          None  \n21042          None  \n21043          None  \n\n[21044 rows x 19 columns]",
      "text/html": "<div>\n<style scoped>\n    .dataframe tbody tr th:only-of-type {\n        vertical-align: middle;\n    }\n\n    .dataframe tbody tr th {\n        vertical-align: top;\n    }\n\n    .dataframe thead th {\n        text-align: right;\n    }\n</style>\n<table border=\"1\" class=\"dataframe\">\n  <thead>\n    <tr style=\"text-align: right;\">\n      <th></th>\n      <th>author_id</th>\n      <th>context_annotations</th>\n      <th>conversation_id</th>\n      <th>created_at</th>\n      <th>edit_history_tweet_ids</th>\n      <th>entities</th>\n      <th>id</th>\n      <th>lang</th>\n      <th>public_metrics</th>\n      <th>referenced_tweets</th>\n      <th>source</th>\n      <th>text</th>\n      <th>withheld</th>\n      <th>user_created_at</th>\n      <th>user_id</th>\n      <th>user_name</th>\n      <th>user_public_metrics</th>\n      <th>user_username</th>\n      <th>user_withheld</th>\n    </tr>\n  </thead>\n  <tbody>\n    <tr>\n      <th>0</th>\n      <td>937606688034709504</td>\n      <td>None</td>\n      <td>1603756552598478849</td>\n      <td>2022-12-16 14:18:53</td>\n      <td>[1603756552598478849]</td>\n      <td>{'annotations': [{'start': 17, 'end': 31, 'pro...</td>\n      <td>1603756552598478849</td>\n      <td>en</td>\n      <td>{'retweet_count': 1124, 'reply_count': 0, 'lik...</td>\n      <td>[{'data': {'type': 'retweeted', 'id': '1603677...</td>\n      <td>Twitter for iPhone</td>\n      <td>RT @BladeoftheS: Jacob Rees-Mogg has avoided m...</td>\n      <td>None</td>\n      <td>2017-12-04 08:57:09</td>\n      <td>937606688034709504</td>\n      <td>Beth Sawyer ebs28@fediscience.org</td>\n      <td>{'followers_count': 235, 'following_count': 19...</td>\n      <td>eb_sawyer</td>\n      <td>None</td>\n    </tr>\n    <tr>\n      <th>1</th>\n      <td>1203336448218456064</td>\n      <td>[{'domain': {'id': '10', 'name': 'Person', 'de...</td>\n      <td>1603756550807592961</td>\n      <td>2022-12-16 14:18:52</td>\n      <td>[1603756550807592961]</td>\n      <td>{'annotations': [{'start': 12, 'end': 22, 'pro...</td>\n      <td>1603756550807592961</td>\n      <td>en</td>\n      <td>{'retweet_count': 287, 'reply_count': 0, 'like...</td>\n      <td>[{'data': {'type': 'retweeted', 'id': '1603527...</td>\n      <td>Twitter for iPhone</td>\n      <td>RT @Zero_4: Fiona Bruce abbreviating Jacob Ree...</td>\n      <td>None</td>\n      <td>2019-12-07 15:32:37</td>\n      <td>1203336448218456064</td>\n      <td>Art and revolution</td>\n      <td>{'followers_count': 91, 'following_count': 112...</td>\n      <td>Artandrevoluti2</td>\n      <td>None</td>\n    </tr>\n    <tr>\n      <th>2</th>\n      <td>1304562578438451203</td>\n      <td>None</td>\n      <td>1603756550014656512</td>\n      <td>2022-12-16 14:18:52</td>\n      <td>[1603756550014656512]</td>\n      <td>{'annotations': [{'start': 82, 'end': 90, 'pro...</td>\n      <td>1603756550014656512</td>\n      <td>en</td>\n      <td>{'retweet_count': 7, 'reply_count': 0, 'like_c...</td>\n      <td>[{'data': {'type': 'retweeted', 'id': '1603665...</td>\n      <td>Twitter for iPhone</td>\n      <td>RT @torysleazeUK: 🏴‍☠️ Just how long do we hav...</td>\n      <td>None</td>\n      <td>2020-09-11 23:29:16</td>\n      <td>1304562578438451203</td>\n      <td>Corporal of the Parish</td>\n      <td>{'followers_count': 317, 'following_count': 60...</td>\n      <td>corporal_of</td>\n      <td>None</td>\n    </tr>\n    <tr>\n      <th>3</th>\n      <td>914786917895561216</td>\n      <td>[{'domain': {'id': '46', 'name': 'Business Tax...</td>\n      <td>1603756547900940288</td>\n      <td>2022-12-16 14:18:52</td>\n      <td>[1603756547900940288]</td>\n      <td>{'mentions': [{'start': 3, 'end': 19, 'usernam...</td>\n      <td>1603756547900940288</td>\n      <td>en</td>\n      <td>{'retweet_count': 2053, 'reply_count': 0, 'lik...</td>\n      <td>[{'data': {'type': 'retweeted', 'id': '1603506...</td>\n      <td>Twitter Web App</td>\n      <td>RT @implausibleblog: \"You're taking something ...</td>\n      <td>None</td>\n      <td>2017-10-02 09:39:31</td>\n      <td>914786917895561216</td>\n      <td>Baxter</td>\n      <td>{'followers_count': 587, 'following_count': 15...</td>\n      <td>tuq010</td>\n      <td>None</td>\n    </tr>\n    <tr>\n      <th>4</th>\n      <td>279176310</td>\n      <td>[{'domain': {'id': '3', 'name': 'TV Shows', 'd...</td>\n      <td>1603756545455562752</td>\n      <td>2022-12-16 14:18:51</td>\n      <td>[1603756545455562752]</td>\n      <td>{'annotations': [{'start': 108, 'end': 116, 'p...</td>\n      <td>1603756545455562752</td>\n      <td>en</td>\n      <td>{'retweet_count': 5, 'reply_count': 0, 'like_c...</td>\n      <td>[{'data': {'type': 'retweeted', 'id': '1603724...</td>\n      <td>Twitter for iPad</td>\n      <td>RT @nickreeves9876: @bbcquestiontime The loss ...</td>\n      <td>None</td>\n      <td>2011-04-08 18:55:55</td>\n      <td>279176310</td>\n      <td>Theresa Travis</td>\n      <td>{'followers_count': 6907, 'following_count': 2...</td>\n      <td>s9tmt</td>\n      <td>None</td>\n    </tr>\n    <tr>\n      <th>...</th>\n      <td>...</td>\n      <td>...</td>\n      <td>...</td>\n      <td>...</td>\n      <td>...</td>\n      <td>...</td>\n      <td>...</td>\n      <td>...</td>\n      <td>...</td>\n      <td>...</td>\n      <td>...</td>\n      <td>...</td>\n      <td>...</td>\n      <td>...</td>\n      <td>...</td>\n      <td>...</td>\n      <td>...</td>\n      <td>...</td>\n      <td>...</td>\n    </tr>\n    <tr>\n      <th>21039</th>\n      <td>19685424</td>\n      <td>[{'domain': {'id': '3', 'name': 'TV Shows', 'd...</td>\n      <td>1603532815030784008</td>\n      <td>2022-12-15 23:29:49</td>\n      <td>[1603532815030784008]</td>\n      <td>{'annotations': [{'start': 1, 'end': 5, 'proba...</td>\n      <td>1603532815030784008</td>\n      <td>en</td>\n      <td>{'retweet_count': 2, 'reply_count': 0, 'like_c...</td>\n      <td>None</td>\n      <td>Twitter for Android</td>\n      <td>#bbcqt Rees Mogg incredibly patronising. If yo...</td>\n      <td>None</td>\n      <td>2009-01-29 00:02:42</td>\n      <td>19685424</td>\n      <td>Karl Wardlaw</td>\n      <td>{'followers_count': 979, 'following_count': 41...</td>\n      <td>KarlosW</td>\n      <td>None</td>\n    </tr>\n    <tr>\n      <th>21040</th>\n      <td>701806221892968449</td>\n      <td>[{'domain': {'id': '3', 'name': 'TV Shows', 'd...</td>\n      <td>1603529272370642946</td>\n      <td>2022-12-15 23:15:45</td>\n      <td>[1603529272370642946]</td>\n      <td>{'annotations': [{'start': 0, 'end': 8, 'proba...</td>\n      <td>1603529272370642946</td>\n      <td>en</td>\n      <td>{'retweet_count': 4, 'reply_count': 0, 'like_c...</td>\n      <td>None</td>\n      <td>Twitter for Android</td>\n      <td>Rees-Mogg and Hitchens - two mediocre right-wi...</td>\n      <td>None</td>\n      <td>2016-02-22 16:30:17</td>\n      <td>701806221892968449</td>\n      <td>Stu</td>\n      <td>{'followers_count': 497, 'following_count': 53...</td>\n      <td>indstu7</td>\n      <td>None</td>\n    </tr>\n    <tr>\n      <th>21041</th>\n      <td>105889848</td>\n      <td>[{'domain': {'id': '3', 'name': 'TV Shows', 'd...</td>\n      <td>1603532700748582912</td>\n      <td>2022-12-15 23:29:22</td>\n      <td>[1603532700748582912]</td>\n      <td>{'urls': [{'start': 144, 'end': 167, 'url': 'h...</td>\n      <td>1603532700748582912</td>\n      <td>en</td>\n      <td>{'retweet_count': 2, 'reply_count': 0, 'like_c...</td>\n      <td>None</td>\n      <td>Twitter for iPhone</td>\n      <td>Never forget - @Jacob_Rees_Mogg … is an absolu...</td>\n      <td>None</td>\n      <td>2010-01-17 20:56:59</td>\n      <td>105889848</td>\n      <td>BeCo</td>\n      <td>{'followers_count': 1121, 'following_count': 2...</td>\n      <td>BeCo74</td>\n      <td>None</td>\n    </tr>\n    <tr>\n      <th>21042</th>\n      <td>474887617</td>\n      <td>[{'domain': {'id': '3', 'name': 'TV Shows', 'd...</td>\n      <td>1603532059812794368</td>\n      <td>2022-12-15 23:26:49</td>\n      <td>[1603532059812794368]</td>\n      <td>{'annotations': [{'start': 65, 'end': 66, 'pro...</td>\n      <td>1603532059812794368</td>\n      <td>en</td>\n      <td>{'retweet_count': 3, 'reply_count': 0, 'like_c...</td>\n      <td>None</td>\n      <td>Twitter Web App</td>\n      <td>How dare @Jacob_Rees_Mogg throw accusations of...</td>\n      <td>None</td>\n      <td>2012-01-26 13:09:17</td>\n      <td>474887617</td>\n      <td>PM in Espana #RejoinEU #GENow</td>\n      <td>{'followers_count': 333, 'following_count': 99...</td>\n      <td>PennyM51</td>\n      <td>None</td>\n    </tr>\n    <tr>\n      <th>21043</th>\n      <td>1450397279177908227</td>\n      <td>[{'domain': {'id': '3', 'name': 'TV Shows', 'd...</td>\n      <td>1603533847810957319</td>\n      <td>2022-12-15 23:37:29</td>\n      <td>[1603534743114588160]</td>\n      <td>{'urls': [{'start': 122, 'end': 145, 'url': 'h...</td>\n      <td>1603534743114588160</td>\n      <td>en</td>\n      <td>{'retweet_count': 1, 'reply_count': 0, 'like_c...</td>\n      <td>[{'data': {'type': 'replied_to', 'id': '160353...</td>\n      <td>Twitter Web App</td>\n      <td>\"I don't think we've seen quite the corruption...</td>\n      <td>None</td>\n      <td>2021-10-19 09:44:49</td>\n      <td>1450397279177908227</td>\n      <td>Jack Quack 🎗far left anti-imperialist</td>\n      <td>{'followers_count': 820, 'following_count': 15...</td>\n      <td>jackquack16</td>\n      <td>None</td>\n    </tr>\n  </tbody>\n</table>\n<p>21044 rows × 19 columns</p>\n</div>"
     },
     "execution_count": 3,
     "metadata": {},
     "output_type": "execute_result"
    }
   ],
   "source": [
    "filename = 'mogg_tweets.json'\n",
    "\n",
    "tweets = pd.read_json(filename)\n",
    "tweets"
   ],
   "metadata": {
    "collapsed": false,
    "pycharm": {
     "name": "#%%\n"
    }
   }
  },
  {
   "cell_type": "code",
   "execution_count": 4,
   "outputs": [
    {
     "data": {
      "text/plain": "                 author_id                                  referenced_tweets\n0       937606688034709504  [{'data': {'type': 'retweeted', 'id': '1603677...\n1      1203336448218456064  [{'data': {'type': 'retweeted', 'id': '1603527...\n2      1304562578438451203  [{'data': {'type': 'retweeted', 'id': '1603665...\n3       914786917895561216  [{'data': {'type': 'retweeted', 'id': '1603506...\n4                279176310  [{'data': {'type': 'retweeted', 'id': '1603724...\n...                    ...                                                ...\n21032  1033836699263098880  [{'data': {'type': 'retweeted', 'id': '1603527...\n21033  1284574966671974400  [{'data': {'type': 'retweeted', 'id': '1603506...\n21034             81820563  [{'data': {'type': 'retweeted', 'id': '1603529...\n21037            571392805  [{'data': {'type': 'quoted', 'id': '1603293300...\n21043  1450397279177908227  [{'data': {'type': 'replied_to', 'id': '160353...\n\n[20625 rows x 2 columns]",
      "text/html": "<div>\n<style scoped>\n    .dataframe tbody tr th:only-of-type {\n        vertical-align: middle;\n    }\n\n    .dataframe tbody tr th {\n        vertical-align: top;\n    }\n\n    .dataframe thead th {\n        text-align: right;\n    }\n</style>\n<table border=\"1\" class=\"dataframe\">\n  <thead>\n    <tr style=\"text-align: right;\">\n      <th></th>\n      <th>author_id</th>\n      <th>referenced_tweets</th>\n    </tr>\n  </thead>\n  <tbody>\n    <tr>\n      <th>0</th>\n      <td>937606688034709504</td>\n      <td>[{'data': {'type': 'retweeted', 'id': '1603677...</td>\n    </tr>\n    <tr>\n      <th>1</th>\n      <td>1203336448218456064</td>\n      <td>[{'data': {'type': 'retweeted', 'id': '1603527...</td>\n    </tr>\n    <tr>\n      <th>2</th>\n      <td>1304562578438451203</td>\n      <td>[{'data': {'type': 'retweeted', 'id': '1603665...</td>\n    </tr>\n    <tr>\n      <th>3</th>\n      <td>914786917895561216</td>\n      <td>[{'data': {'type': 'retweeted', 'id': '1603506...</td>\n    </tr>\n    <tr>\n      <th>4</th>\n      <td>279176310</td>\n      <td>[{'data': {'type': 'retweeted', 'id': '1603724...</td>\n    </tr>\n    <tr>\n      <th>...</th>\n      <td>...</td>\n      <td>...</td>\n    </tr>\n    <tr>\n      <th>21032</th>\n      <td>1033836699263098880</td>\n      <td>[{'data': {'type': 'retweeted', 'id': '1603527...</td>\n    </tr>\n    <tr>\n      <th>21033</th>\n      <td>1284574966671974400</td>\n      <td>[{'data': {'type': 'retweeted', 'id': '1603506...</td>\n    </tr>\n    <tr>\n      <th>21034</th>\n      <td>81820563</td>\n      <td>[{'data': {'type': 'retweeted', 'id': '1603529...</td>\n    </tr>\n    <tr>\n      <th>21037</th>\n      <td>571392805</td>\n      <td>[{'data': {'type': 'quoted', 'id': '1603293300...</td>\n    </tr>\n    <tr>\n      <th>21043</th>\n      <td>1450397279177908227</td>\n      <td>[{'data': {'type': 'replied_to', 'id': '160353...</td>\n    </tr>\n  </tbody>\n</table>\n<p>20625 rows × 2 columns</p>\n</div>"
     },
     "execution_count": 4,
     "metadata": {},
     "output_type": "execute_result"
    }
   ],
   "source": [
    "subset = tweets[['author_id','referenced_tweets']].dropna()\n",
    "subset"
   ],
   "metadata": {
    "collapsed": false,
    "pycharm": {
     "name": "#%%\n"
    }
   }
  },
  {
   "cell_type": "code",
   "execution_count": 5,
   "outputs": [
    {
     "data": {
      "text/plain": "                 author_id                                  referenced_tweets\n0       937606688034709504  {'data': {'type': 'retweeted', 'id': '16036779...\n1      1203336448218456064  {'data': {'type': 'retweeted', 'id': '16035279...\n2      1304562578438451203  {'data': {'type': 'retweeted', 'id': '16036657...\n3       914786917895561216  {'data': {'type': 'retweeted', 'id': '16035061...\n4                279176310  {'data': {'type': 'retweeted', 'id': '16037246...\n...                    ...                                                ...\n21032  1033836699263098880  {'data': {'type': 'retweeted', 'id': '16035279...\n21033  1284574966671974400  {'data': {'type': 'retweeted', 'id': '16035061...\n21034             81820563  {'data': {'type': 'retweeted', 'id': '16035299...\n21037            571392805  {'data': {'type': 'quoted', 'id': '16032933008...\n21043  1450397279177908227  {'data': {'type': 'replied_to', 'id': '1603533...\n\n[20644 rows x 2 columns]",
      "text/html": "<div>\n<style scoped>\n    .dataframe tbody tr th:only-of-type {\n        vertical-align: middle;\n    }\n\n    .dataframe tbody tr th {\n        vertical-align: top;\n    }\n\n    .dataframe thead th {\n        text-align: right;\n    }\n</style>\n<table border=\"1\" class=\"dataframe\">\n  <thead>\n    <tr style=\"text-align: right;\">\n      <th></th>\n      <th>author_id</th>\n      <th>referenced_tweets</th>\n    </tr>\n  </thead>\n  <tbody>\n    <tr>\n      <th>0</th>\n      <td>937606688034709504</td>\n      <td>{'data': {'type': 'retweeted', 'id': '16036779...</td>\n    </tr>\n    <tr>\n      <th>1</th>\n      <td>1203336448218456064</td>\n      <td>{'data': {'type': 'retweeted', 'id': '16035279...</td>\n    </tr>\n    <tr>\n      <th>2</th>\n      <td>1304562578438451203</td>\n      <td>{'data': {'type': 'retweeted', 'id': '16036657...</td>\n    </tr>\n    <tr>\n      <th>3</th>\n      <td>914786917895561216</td>\n      <td>{'data': {'type': 'retweeted', 'id': '16035061...</td>\n    </tr>\n    <tr>\n      <th>4</th>\n      <td>279176310</td>\n      <td>{'data': {'type': 'retweeted', 'id': '16037246...</td>\n    </tr>\n    <tr>\n      <th>...</th>\n      <td>...</td>\n      <td>...</td>\n    </tr>\n    <tr>\n      <th>21032</th>\n      <td>1033836699263098880</td>\n      <td>{'data': {'type': 'retweeted', 'id': '16035279...</td>\n    </tr>\n    <tr>\n      <th>21033</th>\n      <td>1284574966671974400</td>\n      <td>{'data': {'type': 'retweeted', 'id': '16035061...</td>\n    </tr>\n    <tr>\n      <th>21034</th>\n      <td>81820563</td>\n      <td>{'data': {'type': 'retweeted', 'id': '16035299...</td>\n    </tr>\n    <tr>\n      <th>21037</th>\n      <td>571392805</td>\n      <td>{'data': {'type': 'quoted', 'id': '16032933008...</td>\n    </tr>\n    <tr>\n      <th>21043</th>\n      <td>1450397279177908227</td>\n      <td>{'data': {'type': 'replied_to', 'id': '1603533...</td>\n    </tr>\n  </tbody>\n</table>\n<p>20644 rows × 2 columns</p>\n</div>"
     },
     "execution_count": 5,
     "metadata": {},
     "output_type": "execute_result"
    }
   ],
   "source": [
    "# first we deal with everything being in lists using .explode!!\n",
    "\n",
    "edge_data = subset.explode('referenced_tweets').copy()\n",
    "edge_data"
   ],
   "metadata": {
    "collapsed": false,
    "pycharm": {
     "name": "#%%\n"
    }
   }
  },
  {
   "cell_type": "code",
   "execution_count": 6,
   "outputs": [
    {
     "data": {
      "text/plain": "                 author_id referenced_tweets.data.type  \\\n0       937606688034709504                   retweeted   \n1      1203336448218456064                   retweeted   \n2      1304562578438451203                   retweeted   \n3       914786917895561216                   retweeted   \n4                279176310                   retweeted   \n...                    ...                         ...   \n20639  1033836699263098880                   retweeted   \n20640  1284574966671974400                   retweeted   \n20641             81820563                   retweeted   \n20642            571392805                      quoted   \n20643  1450397279177908227                  replied_to   \n\n      referenced_tweets.data.id  referenced_tweets.id referenced_tweets.type  \n0           1603677916554039297   1603677916554039297              retweeted  \n1           1603527974606741507   1603527974606741507              retweeted  \n2           1603665763826798593   1603665763826798593              retweeted  \n3           1603506174925611020   1603506174925611020              retweeted  \n4           1603724614051438593   1603724614051438593              retweeted  \n...                         ...                   ...                    ...  \n20639       1603527974606741507   1603527974606741507              retweeted  \n20640       1603506174925611020   1603506174925611020              retweeted  \n20641       1603529996466884609   1603529996466884609              retweeted  \n20642       1603293300802392064   1603293300802392064                 quoted  \n20643       1603533847810957319   1603533847810957319             replied_to  \n\n[20644 rows x 5 columns]",
      "text/html": "<div>\n<style scoped>\n    .dataframe tbody tr th:only-of-type {\n        vertical-align: middle;\n    }\n\n    .dataframe tbody tr th {\n        vertical-align: top;\n    }\n\n    .dataframe thead th {\n        text-align: right;\n    }\n</style>\n<table border=\"1\" class=\"dataframe\">\n  <thead>\n    <tr style=\"text-align: right;\">\n      <th></th>\n      <th>author_id</th>\n      <th>referenced_tweets.data.type</th>\n      <th>referenced_tweets.data.id</th>\n      <th>referenced_tweets.id</th>\n      <th>referenced_tweets.type</th>\n    </tr>\n  </thead>\n  <tbody>\n    <tr>\n      <th>0</th>\n      <td>937606688034709504</td>\n      <td>retweeted</td>\n      <td>1603677916554039297</td>\n      <td>1603677916554039297</td>\n      <td>retweeted</td>\n    </tr>\n    <tr>\n      <th>1</th>\n      <td>1203336448218456064</td>\n      <td>retweeted</td>\n      <td>1603527974606741507</td>\n      <td>1603527974606741507</td>\n      <td>retweeted</td>\n    </tr>\n    <tr>\n      <th>2</th>\n      <td>1304562578438451203</td>\n      <td>retweeted</td>\n      <td>1603665763826798593</td>\n      <td>1603665763826798593</td>\n      <td>retweeted</td>\n    </tr>\n    <tr>\n      <th>3</th>\n      <td>914786917895561216</td>\n      <td>retweeted</td>\n      <td>1603506174925611020</td>\n      <td>1603506174925611020</td>\n      <td>retweeted</td>\n    </tr>\n    <tr>\n      <th>4</th>\n      <td>279176310</td>\n      <td>retweeted</td>\n      <td>1603724614051438593</td>\n      <td>1603724614051438593</td>\n      <td>retweeted</td>\n    </tr>\n    <tr>\n      <th>...</th>\n      <td>...</td>\n      <td>...</td>\n      <td>...</td>\n      <td>...</td>\n      <td>...</td>\n    </tr>\n    <tr>\n      <th>20639</th>\n      <td>1033836699263098880</td>\n      <td>retweeted</td>\n      <td>1603527974606741507</td>\n      <td>1603527974606741507</td>\n      <td>retweeted</td>\n    </tr>\n    <tr>\n      <th>20640</th>\n      <td>1284574966671974400</td>\n      <td>retweeted</td>\n      <td>1603506174925611020</td>\n      <td>1603506174925611020</td>\n      <td>retweeted</td>\n    </tr>\n    <tr>\n      <th>20641</th>\n      <td>81820563</td>\n      <td>retweeted</td>\n      <td>1603529996466884609</td>\n      <td>1603529996466884609</td>\n      <td>retweeted</td>\n    </tr>\n    <tr>\n      <th>20642</th>\n      <td>571392805</td>\n      <td>quoted</td>\n      <td>1603293300802392064</td>\n      <td>1603293300802392064</td>\n      <td>quoted</td>\n    </tr>\n    <tr>\n      <th>20643</th>\n      <td>1450397279177908227</td>\n      <td>replied_to</td>\n      <td>1603533847810957319</td>\n      <td>1603533847810957319</td>\n      <td>replied_to</td>\n    </tr>\n  </tbody>\n</table>\n<p>20644 rows × 5 columns</p>\n</div>"
     },
     "execution_count": 6,
     "metadata": {},
     "output_type": "execute_result"
    }
   ],
   "source": [
    "# Next we unpack that series of dictionaries into their own columns\n",
    "edge_data = flatten_nested_dicts(edge_data)\n",
    "edge_data"
   ],
   "metadata": {
    "collapsed": false,
    "pycharm": {
     "name": "#%%\n"
    }
   }
  },
  {
   "cell_type": "code",
   "execution_count": 7,
   "outputs": [
    {
     "data": {
      "text/plain": "                 author_id  referenced_tweets.id referenced_tweets.type\n0       937606688034709504   1603677916554039297              retweeted\n1      1203336448218456064   1603527974606741507              retweeted\n2      1304562578438451203   1603665763826798593              retweeted\n3       914786917895561216   1603506174925611020              retweeted\n4                279176310   1603724614051438593              retweeted\n...                    ...                   ...                    ...\n20637   718166364658208769   1603502488581156868              retweeted\n20638           2580674796   1603527815672041472              retweeted\n20639  1033836699263098880   1603527974606741507              retweeted\n20640  1284574966671974400   1603506174925611020              retweeted\n20641             81820563   1603529996466884609              retweeted\n\n[20000 rows x 3 columns]",
      "text/html": "<div>\n<style scoped>\n    .dataframe tbody tr th:only-of-type {\n        vertical-align: middle;\n    }\n\n    .dataframe tbody tr th {\n        vertical-align: top;\n    }\n\n    .dataframe thead th {\n        text-align: right;\n    }\n</style>\n<table border=\"1\" class=\"dataframe\">\n  <thead>\n    <tr style=\"text-align: right;\">\n      <th></th>\n      <th>author_id</th>\n      <th>referenced_tweets.id</th>\n      <th>referenced_tweets.type</th>\n    </tr>\n  </thead>\n  <tbody>\n    <tr>\n      <th>0</th>\n      <td>937606688034709504</td>\n      <td>1603677916554039297</td>\n      <td>retweeted</td>\n    </tr>\n    <tr>\n      <th>1</th>\n      <td>1203336448218456064</td>\n      <td>1603527974606741507</td>\n      <td>retweeted</td>\n    </tr>\n    <tr>\n      <th>2</th>\n      <td>1304562578438451203</td>\n      <td>1603665763826798593</td>\n      <td>retweeted</td>\n    </tr>\n    <tr>\n      <th>3</th>\n      <td>914786917895561216</td>\n      <td>1603506174925611020</td>\n      <td>retweeted</td>\n    </tr>\n    <tr>\n      <th>4</th>\n      <td>279176310</td>\n      <td>1603724614051438593</td>\n      <td>retweeted</td>\n    </tr>\n    <tr>\n      <th>...</th>\n      <td>...</td>\n      <td>...</td>\n      <td>...</td>\n    </tr>\n    <tr>\n      <th>20637</th>\n      <td>718166364658208769</td>\n      <td>1603502488581156868</td>\n      <td>retweeted</td>\n    </tr>\n    <tr>\n      <th>20638</th>\n      <td>2580674796</td>\n      <td>1603527815672041472</td>\n      <td>retweeted</td>\n    </tr>\n    <tr>\n      <th>20639</th>\n      <td>1033836699263098880</td>\n      <td>1603527974606741507</td>\n      <td>retweeted</td>\n    </tr>\n    <tr>\n      <th>20640</th>\n      <td>1284574966671974400</td>\n      <td>1603506174925611020</td>\n      <td>retweeted</td>\n    </tr>\n    <tr>\n      <th>20641</th>\n      <td>81820563</td>\n      <td>1603529996466884609</td>\n      <td>retweeted</td>\n    </tr>\n  </tbody>\n</table>\n<p>20000 rows × 3 columns</p>\n</div>"
     },
     "execution_count": 7,
     "metadata": {},
     "output_type": "execute_result"
    }
   ],
   "source": [
    "# and select just three columns, the original author id, the tweet id of the referenced tweet, and the type of the referenced tweet\n",
    "\n",
    "edge_data = edge_data[['author_id','referenced_tweets.id', 'referenced_tweets.type']]\n",
    "edge_data = edge_data[edge_data['referenced_tweets.type'] == 'retweeted']\n",
    "edge_data"
   ],
   "metadata": {
    "collapsed": false,
    "pycharm": {
     "name": "#%%\n"
    }
   }
  },
  {
   "cell_type": "markdown",
   "source": [
    "So to recap, we have three columns...\n",
    "- source: The id of the user that retweeted somebody.\n",
    "- id: The id of the tweet that they retweeted\n",
    "- type: the way in which the source 'referenced' a tweet. In our case all retweets."
   ],
   "metadata": {
    "collapsed": false,
    "pycharm": {
     "name": "#%% md\n"
    }
   }
  },
  {
   "cell_type": "markdown",
   "source": [
    "## Stage 2\n",
    "Our hope is that all the referenced tweets are also in our dataset somewhere else, and so have associated user information. We'll create a new dataframe of tweet ids and associated user ids and then use merge to match them up."
   ],
   "metadata": {
    "collapsed": false,
    "pycharm": {
     "name": "#%% md\n"
    }
   }
  },
  {
   "cell_type": "code",
   "execution_count": 8,
   "outputs": [
    {
     "data": {
      "text/plain": "                        id            author_id\n0      1603756552598478849   937606688034709504\n1      1603756550807592961  1203336448218456064\n2      1603756550014656512  1304562578438451203\n3      1603756547900940288   914786917895561216\n4      1603756545455562752            279176310\n...                    ...                  ...\n21039  1603532815030784008             19685424\n21040  1603529272370642946   701806221892968449\n21041  1603532700748582912            105889848\n21042  1603532059812794368            474887617\n21043  1603534743114588160  1450397279177908227\n\n[21044 rows x 2 columns]",
      "text/html": "<div>\n<style scoped>\n    .dataframe tbody tr th:only-of-type {\n        vertical-align: middle;\n    }\n\n    .dataframe tbody tr th {\n        vertical-align: top;\n    }\n\n    .dataframe thead th {\n        text-align: right;\n    }\n</style>\n<table border=\"1\" class=\"dataframe\">\n  <thead>\n    <tr style=\"text-align: right;\">\n      <th></th>\n      <th>id</th>\n      <th>author_id</th>\n    </tr>\n  </thead>\n  <tbody>\n    <tr>\n      <th>0</th>\n      <td>1603756552598478849</td>\n      <td>937606688034709504</td>\n    </tr>\n    <tr>\n      <th>1</th>\n      <td>1603756550807592961</td>\n      <td>1203336448218456064</td>\n    </tr>\n    <tr>\n      <th>2</th>\n      <td>1603756550014656512</td>\n      <td>1304562578438451203</td>\n    </tr>\n    <tr>\n      <th>3</th>\n      <td>1603756547900940288</td>\n      <td>914786917895561216</td>\n    </tr>\n    <tr>\n      <th>4</th>\n      <td>1603756545455562752</td>\n      <td>279176310</td>\n    </tr>\n    <tr>\n      <th>...</th>\n      <td>...</td>\n      <td>...</td>\n    </tr>\n    <tr>\n      <th>21039</th>\n      <td>1603532815030784008</td>\n      <td>19685424</td>\n    </tr>\n    <tr>\n      <th>21040</th>\n      <td>1603529272370642946</td>\n      <td>701806221892968449</td>\n    </tr>\n    <tr>\n      <th>21041</th>\n      <td>1603532700748582912</td>\n      <td>105889848</td>\n    </tr>\n    <tr>\n      <th>21042</th>\n      <td>1603532059812794368</td>\n      <td>474887617</td>\n    </tr>\n    <tr>\n      <th>21043</th>\n      <td>1603534743114588160</td>\n      <td>1450397279177908227</td>\n    </tr>\n  </tbody>\n</table>\n<p>21044 rows × 2 columns</p>\n</div>"
     },
     "execution_count": 8,
     "metadata": {},
     "output_type": "execute_result"
    }
   ],
   "source": [
    "# Here we create a list of all the tweets we collected and associated author id.\n",
    "user_data = tweets[['id','author_id']]\n",
    "user_data"
   ],
   "metadata": {
    "collapsed": false,
    "pycharm": {
     "name": "#%%\n"
    }
   }
  },
  {
   "cell_type": "code",
   "execution_count": 9,
   "outputs": [
    {
     "data": {
      "text/plain": "               author_id_x  referenced_tweets.id referenced_tweets.type  \\\n0       937606688034709504   1603677916554039297              retweeted   \n1      1203336448218456064   1603527974606741507              retweeted   \n2      1304562578438451203   1603665763826798593              retweeted   \n3       914786917895561216   1603506174925611020              retweeted   \n4                279176310   1603724614051438593              retweeted   \n...                    ...                   ...                    ...   \n19995   718166364658208769   1603502488581156868              retweeted   \n19996           2580674796   1603527815672041472              retweeted   \n19997  1033836699263098880   1603527974606741507              retweeted   \n19998  1284574966671974400   1603506174925611020              retweeted   \n19999             81820563   1603529996466884609              retweeted   \n\n                        id          author_id_y  \n0      1603677916554039297  1455903807389458436  \n1      1603527974606741507             19674092  \n2      1603665763826798593  1382431445063495688  \n3      1603506174925611020            199452338  \n4      1603724614051438593   746371177174679552  \n...                    ...                  ...  \n19995  1603502488581156868             45970216  \n19996  1603527815672041472  1126511673794129920  \n19997  1603527974606741507             19674092  \n19998  1603506174925611020            199452338  \n19999  1603529996466884609   854769693051297794  \n\n[20000 rows x 5 columns]",
      "text/html": "<div>\n<style scoped>\n    .dataframe tbody tr th:only-of-type {\n        vertical-align: middle;\n    }\n\n    .dataframe tbody tr th {\n        vertical-align: top;\n    }\n\n    .dataframe thead th {\n        text-align: right;\n    }\n</style>\n<table border=\"1\" class=\"dataframe\">\n  <thead>\n    <tr style=\"text-align: right;\">\n      <th></th>\n      <th>author_id_x</th>\n      <th>referenced_tweets.id</th>\n      <th>referenced_tweets.type</th>\n      <th>id</th>\n      <th>author_id_y</th>\n    </tr>\n  </thead>\n  <tbody>\n    <tr>\n      <th>0</th>\n      <td>937606688034709504</td>\n      <td>1603677916554039297</td>\n      <td>retweeted</td>\n      <td>1603677916554039297</td>\n      <td>1455903807389458436</td>\n    </tr>\n    <tr>\n      <th>1</th>\n      <td>1203336448218456064</td>\n      <td>1603527974606741507</td>\n      <td>retweeted</td>\n      <td>1603527974606741507</td>\n      <td>19674092</td>\n    </tr>\n    <tr>\n      <th>2</th>\n      <td>1304562578438451203</td>\n      <td>1603665763826798593</td>\n      <td>retweeted</td>\n      <td>1603665763826798593</td>\n      <td>1382431445063495688</td>\n    </tr>\n    <tr>\n      <th>3</th>\n      <td>914786917895561216</td>\n      <td>1603506174925611020</td>\n      <td>retweeted</td>\n      <td>1603506174925611020</td>\n      <td>199452338</td>\n    </tr>\n    <tr>\n      <th>4</th>\n      <td>279176310</td>\n      <td>1603724614051438593</td>\n      <td>retweeted</td>\n      <td>1603724614051438593</td>\n      <td>746371177174679552</td>\n    </tr>\n    <tr>\n      <th>...</th>\n      <td>...</td>\n      <td>...</td>\n      <td>...</td>\n      <td>...</td>\n      <td>...</td>\n    </tr>\n    <tr>\n      <th>19995</th>\n      <td>718166364658208769</td>\n      <td>1603502488581156868</td>\n      <td>retweeted</td>\n      <td>1603502488581156868</td>\n      <td>45970216</td>\n    </tr>\n    <tr>\n      <th>19996</th>\n      <td>2580674796</td>\n      <td>1603527815672041472</td>\n      <td>retweeted</td>\n      <td>1603527815672041472</td>\n      <td>1126511673794129920</td>\n    </tr>\n    <tr>\n      <th>19997</th>\n      <td>1033836699263098880</td>\n      <td>1603527974606741507</td>\n      <td>retweeted</td>\n      <td>1603527974606741507</td>\n      <td>19674092</td>\n    </tr>\n    <tr>\n      <th>19998</th>\n      <td>1284574966671974400</td>\n      <td>1603506174925611020</td>\n      <td>retweeted</td>\n      <td>1603506174925611020</td>\n      <td>199452338</td>\n    </tr>\n    <tr>\n      <th>19999</th>\n      <td>81820563</td>\n      <td>1603529996466884609</td>\n      <td>retweeted</td>\n      <td>1603529996466884609</td>\n      <td>854769693051297794</td>\n    </tr>\n  </tbody>\n</table>\n<p>20000 rows × 5 columns</p>\n</div>"
     },
     "execution_count": 9,
     "metadata": {},
     "output_type": "execute_result"
    }
   ],
   "source": [
    "edge_data = edge_data.merge(user_data, how='left',left_on='referenced_tweets.id', right_on='id')\n",
    "edge_data"
   ],
   "metadata": {
    "collapsed": false,
    "pycharm": {
     "name": "#%%\n"
    }
   }
  },
  {
   "cell_type": "markdown",
   "source": [
    "### Stage 3"
   ],
   "metadata": {
    "collapsed": false,
    "pycharm": {
     "name": "#%% md\n"
    }
   }
  },
  {
   "cell_type": "code",
   "execution_count": 10,
   "outputs": [
    {
     "name": "stdout",
     "output_type": "stream",
     "text": [
      "<class 'pandas.core.frame.DataFrame'>\n",
      "Int64Index: 20000 entries, 0 to 19999\n",
      "Data columns (total 5 columns):\n",
      " #   Column                  Non-Null Count  Dtype \n",
      "---  ------                  --------------  ----- \n",
      " 0   author_id_x             20000 non-null  int64 \n",
      " 1   referenced_tweets.id    20000 non-null  int64 \n",
      " 2   referenced_tweets.type  20000 non-null  object\n",
      " 3   id                      20000 non-null  int64 \n",
      " 4   author_id_y             20000 non-null  int64 \n",
      "dtypes: int64(4), object(1)\n",
      "memory usage: 937.5+ KB\n"
     ]
    }
   ],
   "source": [
    "# Here we check if we're missing any author info for any reason. If we were we'd just use .dropna() to drop any rows with missing info.\n",
    "edge_data.info()"
   ],
   "metadata": {
    "collapsed": false,
    "pycharm": {
     "name": "#%%\n"
    }
   }
  },
  {
   "cell_type": "code",
   "execution_count": 11,
   "outputs": [
    {
     "data": {
      "text/plain": "                 retweeter               author\n0       937606688034709504  1455903807389458436\n1      1203336448218456064             19674092\n2      1304562578438451203  1382431445063495688\n3       914786917895561216            199452338\n4                279176310   746371177174679552\n...                    ...                  ...\n19995   718166364658208769             45970216\n19996           2580674796  1126511673794129920\n19997  1033836699263098880             19674092\n19998  1284574966671974400            199452338\n19999             81820563   854769693051297794\n\n[20000 rows x 2 columns]",
      "text/html": "<div>\n<style scoped>\n    .dataframe tbody tr th:only-of-type {\n        vertical-align: middle;\n    }\n\n    .dataframe tbody tr th {\n        vertical-align: top;\n    }\n\n    .dataframe thead th {\n        text-align: right;\n    }\n</style>\n<table border=\"1\" class=\"dataframe\">\n  <thead>\n    <tr style=\"text-align: right;\">\n      <th></th>\n      <th>retweeter</th>\n      <th>author</th>\n    </tr>\n  </thead>\n  <tbody>\n    <tr>\n      <th>0</th>\n      <td>937606688034709504</td>\n      <td>1455903807389458436</td>\n    </tr>\n    <tr>\n      <th>1</th>\n      <td>1203336448218456064</td>\n      <td>19674092</td>\n    </tr>\n    <tr>\n      <th>2</th>\n      <td>1304562578438451203</td>\n      <td>1382431445063495688</td>\n    </tr>\n    <tr>\n      <th>3</th>\n      <td>914786917895561216</td>\n      <td>199452338</td>\n    </tr>\n    <tr>\n      <th>4</th>\n      <td>279176310</td>\n      <td>746371177174679552</td>\n    </tr>\n    <tr>\n      <th>...</th>\n      <td>...</td>\n      <td>...</td>\n    </tr>\n    <tr>\n      <th>19995</th>\n      <td>718166364658208769</td>\n      <td>45970216</td>\n    </tr>\n    <tr>\n      <th>19996</th>\n      <td>2580674796</td>\n      <td>1126511673794129920</td>\n    </tr>\n    <tr>\n      <th>19997</th>\n      <td>1033836699263098880</td>\n      <td>19674092</td>\n    </tr>\n    <tr>\n      <th>19998</th>\n      <td>1284574966671974400</td>\n      <td>199452338</td>\n    </tr>\n    <tr>\n      <th>19999</th>\n      <td>81820563</td>\n      <td>854769693051297794</td>\n    </tr>\n  </tbody>\n</table>\n<p>20000 rows × 2 columns</p>\n</div>"
     },
     "execution_count": 11,
     "metadata": {},
     "output_type": "execute_result"
    }
   ],
   "source": [
    "# Here we will rename the columns to be more descriptive, and drop any columns we don't need.\n",
    "\n",
    "new_cols = {'author_id_x':'retweeter', 'author_id_y':'author'}\n",
    "edge_data = edge_data.rename(columns=new_cols).drop(columns=['referenced_tweets.id','id','referenced_tweets.type'])\n",
    "edge_data"
   ],
   "metadata": {
    "collapsed": false,
    "pycharm": {
     "name": "#%%\n"
    }
   }
  },
  {
   "cell_type": "markdown",
   "source": [
    "### Stage 4"
   ],
   "metadata": {
    "collapsed": false,
    "pycharm": {
     "name": "#%% md\n"
    }
   }
  },
  {
   "cell_type": "markdown",
   "source": [
    "At the moment we have one row per instance of retweeting between a pair of users. However it may be the case that one user retweeted another a number of times, and so there are duplicate rows. Rather than discard this information, we'll capture this by adding weights to our edges that count how many times the source user retweeted the target user."
   ],
   "metadata": {
    "collapsed": false,
    "pycharm": {
     "name": "#%% md\n"
    }
   }
  },
  {
   "cell_type": "code",
   "execution_count": 12,
   "outputs": [
    {
     "data": {
      "text/plain": "                 retweeter               author  weight\n0       937606688034709504  1455903807389458436       1\n1      1203336448218456064             19674092       1\n2      1304562578438451203  1382431445063495688       1\n3       914786917895561216            199452338       1\n4                279176310   746371177174679552       1\n...                    ...                  ...     ...\n19995   718166364658208769             45970216       1\n19996           2580674796  1126511673794129920       1\n19997  1033836699263098880             19674092       1\n19998  1284574966671974400            199452338       1\n19999             81820563   854769693051297794       1\n\n[20000 rows x 3 columns]",
      "text/html": "<div>\n<style scoped>\n    .dataframe tbody tr th:only-of-type {\n        vertical-align: middle;\n    }\n\n    .dataframe tbody tr th {\n        vertical-align: top;\n    }\n\n    .dataframe thead th {\n        text-align: right;\n    }\n</style>\n<table border=\"1\" class=\"dataframe\">\n  <thead>\n    <tr style=\"text-align: right;\">\n      <th></th>\n      <th>retweeter</th>\n      <th>author</th>\n      <th>weight</th>\n    </tr>\n  </thead>\n  <tbody>\n    <tr>\n      <th>0</th>\n      <td>937606688034709504</td>\n      <td>1455903807389458436</td>\n      <td>1</td>\n    </tr>\n    <tr>\n      <th>1</th>\n      <td>1203336448218456064</td>\n      <td>19674092</td>\n      <td>1</td>\n    </tr>\n    <tr>\n      <th>2</th>\n      <td>1304562578438451203</td>\n      <td>1382431445063495688</td>\n      <td>1</td>\n    </tr>\n    <tr>\n      <th>3</th>\n      <td>914786917895561216</td>\n      <td>199452338</td>\n      <td>1</td>\n    </tr>\n    <tr>\n      <th>4</th>\n      <td>279176310</td>\n      <td>746371177174679552</td>\n      <td>1</td>\n    </tr>\n    <tr>\n      <th>...</th>\n      <td>...</td>\n      <td>...</td>\n      <td>...</td>\n    </tr>\n    <tr>\n      <th>19995</th>\n      <td>718166364658208769</td>\n      <td>45970216</td>\n      <td>1</td>\n    </tr>\n    <tr>\n      <th>19996</th>\n      <td>2580674796</td>\n      <td>1126511673794129920</td>\n      <td>1</td>\n    </tr>\n    <tr>\n      <th>19997</th>\n      <td>1033836699263098880</td>\n      <td>19674092</td>\n      <td>1</td>\n    </tr>\n    <tr>\n      <th>19998</th>\n      <td>1284574966671974400</td>\n      <td>199452338</td>\n      <td>1</td>\n    </tr>\n    <tr>\n      <th>19999</th>\n      <td>81820563</td>\n      <td>854769693051297794</td>\n      <td>1</td>\n    </tr>\n  </tbody>\n</table>\n<p>20000 rows × 3 columns</p>\n</div>"
     },
     "execution_count": 12,
     "metadata": {},
     "output_type": "execute_result"
    }
   ],
   "source": [
    "# First we give every edge a weight of 1, because each row represents 1 instance of retweeting\n",
    "\n",
    "edge_data['weight'] = 1\n",
    "edge_data"
   ],
   "metadata": {
    "collapsed": false,
    "pycharm": {
     "name": "#%%\n"
    }
   }
  },
  {
   "cell_type": "markdown",
   "source": [
    "Now we use groupby to gather together rows that have the same combination of source, target and type, and add the weight values together."
   ],
   "metadata": {
    "collapsed": false,
    "pycharm": {
     "name": "#%% md\n"
    }
   }
  },
  {
   "cell_type": "code",
   "execution_count": 13,
   "outputs": [
    {
     "data": {
      "text/plain": "                 retweeter               author  weight\n17851  1451964806383210499  1453753755321708547      10\n16072  1240935329462444033  1453753755321708547       9\n18690  1528285938161532928           1539378523       7\n10690           2830030004           1539378523       4\n12488   748628668507885568   748628668507885568       4\n...                    ...                  ...     ...\n6544             477914145   864030687120281602       1\n6543             477914145           2846809907       1\n6542             477914145            199452338       1\n6541             477914145             58436094       1\n19415  1603663671787388928            912853116       1\n\n[19416 rows x 3 columns]",
      "text/html": "<div>\n<style scoped>\n    .dataframe tbody tr th:only-of-type {\n        vertical-align: middle;\n    }\n\n    .dataframe tbody tr th {\n        vertical-align: top;\n    }\n\n    .dataframe thead th {\n        text-align: right;\n    }\n</style>\n<table border=\"1\" class=\"dataframe\">\n  <thead>\n    <tr style=\"text-align: right;\">\n      <th></th>\n      <th>retweeter</th>\n      <th>author</th>\n      <th>weight</th>\n    </tr>\n  </thead>\n  <tbody>\n    <tr>\n      <th>17851</th>\n      <td>1451964806383210499</td>\n      <td>1453753755321708547</td>\n      <td>10</td>\n    </tr>\n    <tr>\n      <th>16072</th>\n      <td>1240935329462444033</td>\n      <td>1453753755321708547</td>\n      <td>9</td>\n    </tr>\n    <tr>\n      <th>18690</th>\n      <td>1528285938161532928</td>\n      <td>1539378523</td>\n      <td>7</td>\n    </tr>\n    <tr>\n      <th>10690</th>\n      <td>2830030004</td>\n      <td>1539378523</td>\n      <td>4</td>\n    </tr>\n    <tr>\n      <th>12488</th>\n      <td>748628668507885568</td>\n      <td>748628668507885568</td>\n      <td>4</td>\n    </tr>\n    <tr>\n      <th>...</th>\n      <td>...</td>\n      <td>...</td>\n      <td>...</td>\n    </tr>\n    <tr>\n      <th>6544</th>\n      <td>477914145</td>\n      <td>864030687120281602</td>\n      <td>1</td>\n    </tr>\n    <tr>\n      <th>6543</th>\n      <td>477914145</td>\n      <td>2846809907</td>\n      <td>1</td>\n    </tr>\n    <tr>\n      <th>6542</th>\n      <td>477914145</td>\n      <td>199452338</td>\n      <td>1</td>\n    </tr>\n    <tr>\n      <th>6541</th>\n      <td>477914145</td>\n      <td>58436094</td>\n      <td>1</td>\n    </tr>\n    <tr>\n      <th>19415</th>\n      <td>1603663671787388928</td>\n      <td>912853116</td>\n      <td>1</td>\n    </tr>\n  </tbody>\n</table>\n<p>19416 rows × 3 columns</p>\n</div>"
     },
     "execution_count": 13,
     "metadata": {},
     "output_type": "execute_result"
    }
   ],
   "source": [
    "edge_data = edge_data.groupby(['retweeter','author'],as_index=False).sum()\n",
    "edge_data.sort_values('weight',ascending=False)"
   ],
   "metadata": {
    "collapsed": false,
    "pycharm": {
     "name": "#%%\n"
    }
   }
  },
  {
   "cell_type": "markdown",
   "source": [
    "Now our `edge_data` has one row per pair, and a weight indicating how many times that pair appeared in the data. Finally we just need to relabel the columns so that Gephi understands them.\n",
    "\n",
    "In network analysis when we talk about edges we refer to a `source` and a `target`. If you imagine an edge as an arrow the `source` is where the arrow starts and the `target` is where it points to.\n",
    "\n",
    "In our case the direction matters, just because USER A retweete USER B doesn't mean that they retweeted back. The relationship is not necessarily mutual, like perhaps a friendship where we wouldn't necessarily consider there to be a direction to the connection. Which is the source and which is the target though? Well, either, depending on how you define what the edge represents.\n",
    "\n",
    "We could say the edge means `RETWEETED`, so it would be...\n",
    "\n",
    "```\n",
    "(SOURCE: retweeter) -[RETWEETED]-> (TARGET: author)\n",
    "```\n",
    "\n",
    "But equally we could say the edge means `RETWEETED_BY`, meaning the positions would be reversed.\n",
    "\n",
    "```\n",
    "(SOURCE: author) -[RETWEETED_BY]-> (TARGET: retweeter)\n",
    "```\n",
    "\n",
    "In this case, it doesn't matter what we choose, so long as we remember what the direction of our edge represents. We'll go with `RETWEETED`.\n"
   ],
   "metadata": {
    "collapsed": false,
    "pycharm": {
     "name": "#%% md\n"
    }
   }
  },
  {
   "cell_type": "code",
   "execution_count": 14,
   "outputs": [
    {
     "data": {
      "text/plain": "                    Source               Target  weight\n0                    17773             20909048       1\n1                    66873  1299017696416272385       1\n2                    73963  1472707884693733380       1\n3                    79553             19674092       1\n4                    79553           1652177576       1\n...                    ...                  ...     ...\n19411  1603309652233670656             40442193       1\n19412  1603398425810243585  1278401163373707267       1\n19413  1603414321324761089            199452338       1\n19414  1603414574589427714             19674092       1\n19415  1603663671787388928            912853116       1\n\n[19416 rows x 3 columns]",
      "text/html": "<div>\n<style scoped>\n    .dataframe tbody tr th:only-of-type {\n        vertical-align: middle;\n    }\n\n    .dataframe tbody tr th {\n        vertical-align: top;\n    }\n\n    .dataframe thead th {\n        text-align: right;\n    }\n</style>\n<table border=\"1\" class=\"dataframe\">\n  <thead>\n    <tr style=\"text-align: right;\">\n      <th></th>\n      <th>Source</th>\n      <th>Target</th>\n      <th>weight</th>\n    </tr>\n  </thead>\n  <tbody>\n    <tr>\n      <th>0</th>\n      <td>17773</td>\n      <td>20909048</td>\n      <td>1</td>\n    </tr>\n    <tr>\n      <th>1</th>\n      <td>66873</td>\n      <td>1299017696416272385</td>\n      <td>1</td>\n    </tr>\n    <tr>\n      <th>2</th>\n      <td>73963</td>\n      <td>1472707884693733380</td>\n      <td>1</td>\n    </tr>\n    <tr>\n      <th>3</th>\n      <td>79553</td>\n      <td>19674092</td>\n      <td>1</td>\n    </tr>\n    <tr>\n      <th>4</th>\n      <td>79553</td>\n      <td>1652177576</td>\n      <td>1</td>\n    </tr>\n    <tr>\n      <th>...</th>\n      <td>...</td>\n      <td>...</td>\n      <td>...</td>\n    </tr>\n    <tr>\n      <th>19411</th>\n      <td>1603309652233670656</td>\n      <td>40442193</td>\n      <td>1</td>\n    </tr>\n    <tr>\n      <th>19412</th>\n      <td>1603398425810243585</td>\n      <td>1278401163373707267</td>\n      <td>1</td>\n    </tr>\n    <tr>\n      <th>19413</th>\n      <td>1603414321324761089</td>\n      <td>199452338</td>\n      <td>1</td>\n    </tr>\n    <tr>\n      <th>19414</th>\n      <td>1603414574589427714</td>\n      <td>19674092</td>\n      <td>1</td>\n    </tr>\n    <tr>\n      <th>19415</th>\n      <td>1603663671787388928</td>\n      <td>912853116</td>\n      <td>1</td>\n    </tr>\n  </tbody>\n</table>\n<p>19416 rows × 3 columns</p>\n</div>"
     },
     "execution_count": 14,
     "metadata": {},
     "output_type": "execute_result"
    }
   ],
   "source": [
    "gephi_edge_labels = {'retweeter':'Source','author':'Target'}\n",
    "edge_data = edge_data.rename(columns=gephi_edge_labels)\n",
    "edge_data"
   ],
   "metadata": {
    "collapsed": false,
    "pycharm": {
     "name": "#%%\n"
    }
   }
  },
  {
   "cell_type": "markdown",
   "source": [
    "# Nodes\n",
    "This dataframe will be a list of unique nodes and we will assign some attributes to the nodes that we can use in Gephi later on.\n",
    "First we grab the relevant columns from our original dataset. It may have duplicates as each row represents a tweet, and it may have users that didn't end up in our edge table but we'll deal with that soon."
   ],
   "metadata": {
    "collapsed": false,
    "pycharm": {
     "name": "#%% md\n"
    }
   }
  },
  {
   "cell_type": "code",
   "execution_count": 15,
   "outputs": [
    {
     "data": {
      "text/plain": "                   user_id                              user_name  \\\n0       937606688034709504      Beth Sawyer ebs28@fediscience.org   \n1      1203336448218456064                     Art and revolution   \n2      1304562578438451203                 Corporal of the Parish   \n3       914786917895561216                                 Baxter   \n4                279176310                         Theresa Travis   \n...                    ...                                    ...   \n21039             19685424                           Karl Wardlaw   \n21040   701806221892968449                                    Stu   \n21041            105889848                                   BeCo   \n21042            474887617          PM in Espana #RejoinEU #GENow   \n21043  1450397279177908227  Jack Quack 🎗far left anti-imperialist   \n\n                                     user_public_metrics  \n0      {'followers_count': 235, 'following_count': 19...  \n1      {'followers_count': 91, 'following_count': 112...  \n2      {'followers_count': 317, 'following_count': 60...  \n3      {'followers_count': 587, 'following_count': 15...  \n4      {'followers_count': 6907, 'following_count': 2...  \n...                                                  ...  \n21039  {'followers_count': 979, 'following_count': 41...  \n21040  {'followers_count': 497, 'following_count': 53...  \n21041  {'followers_count': 1121, 'following_count': 2...  \n21042  {'followers_count': 333, 'following_count': 99...  \n21043  {'followers_count': 820, 'following_count': 15...  \n\n[21044 rows x 3 columns]",
      "text/html": "<div>\n<style scoped>\n    .dataframe tbody tr th:only-of-type {\n        vertical-align: middle;\n    }\n\n    .dataframe tbody tr th {\n        vertical-align: top;\n    }\n\n    .dataframe thead th {\n        text-align: right;\n    }\n</style>\n<table border=\"1\" class=\"dataframe\">\n  <thead>\n    <tr style=\"text-align: right;\">\n      <th></th>\n      <th>user_id</th>\n      <th>user_name</th>\n      <th>user_public_metrics</th>\n    </tr>\n  </thead>\n  <tbody>\n    <tr>\n      <th>0</th>\n      <td>937606688034709504</td>\n      <td>Beth Sawyer ebs28@fediscience.org</td>\n      <td>{'followers_count': 235, 'following_count': 19...</td>\n    </tr>\n    <tr>\n      <th>1</th>\n      <td>1203336448218456064</td>\n      <td>Art and revolution</td>\n      <td>{'followers_count': 91, 'following_count': 112...</td>\n    </tr>\n    <tr>\n      <th>2</th>\n      <td>1304562578438451203</td>\n      <td>Corporal of the Parish</td>\n      <td>{'followers_count': 317, 'following_count': 60...</td>\n    </tr>\n    <tr>\n      <th>3</th>\n      <td>914786917895561216</td>\n      <td>Baxter</td>\n      <td>{'followers_count': 587, 'following_count': 15...</td>\n    </tr>\n    <tr>\n      <th>4</th>\n      <td>279176310</td>\n      <td>Theresa Travis</td>\n      <td>{'followers_count': 6907, 'following_count': 2...</td>\n    </tr>\n    <tr>\n      <th>...</th>\n      <td>...</td>\n      <td>...</td>\n      <td>...</td>\n    </tr>\n    <tr>\n      <th>21039</th>\n      <td>19685424</td>\n      <td>Karl Wardlaw</td>\n      <td>{'followers_count': 979, 'following_count': 41...</td>\n    </tr>\n    <tr>\n      <th>21040</th>\n      <td>701806221892968449</td>\n      <td>Stu</td>\n      <td>{'followers_count': 497, 'following_count': 53...</td>\n    </tr>\n    <tr>\n      <th>21041</th>\n      <td>105889848</td>\n      <td>BeCo</td>\n      <td>{'followers_count': 1121, 'following_count': 2...</td>\n    </tr>\n    <tr>\n      <th>21042</th>\n      <td>474887617</td>\n      <td>PM in Espana #RejoinEU #GENow</td>\n      <td>{'followers_count': 333, 'following_count': 99...</td>\n    </tr>\n    <tr>\n      <th>21043</th>\n      <td>1450397279177908227</td>\n      <td>Jack Quack 🎗far left anti-imperialist</td>\n      <td>{'followers_count': 820, 'following_count': 15...</td>\n    </tr>\n  </tbody>\n</table>\n<p>21044 rows × 3 columns</p>\n</div>"
     },
     "execution_count": 15,
     "metadata": {},
     "output_type": "execute_result"
    }
   ],
   "source": [
    "node_data = tweets[['user_id','user_name','user_public_metrics']]\n",
    "node_data"
   ],
   "metadata": {
    "collapsed": false,
    "pycharm": {
     "name": "#%%\n"
    }
   }
  },
  {
   "cell_type": "code",
   "execution_count": 16,
   "outputs": [
    {
     "data": {
      "text/plain": "                   user_id                          user_name  \\\n0       937606688034709504  Beth Sawyer ebs28@fediscience.org   \n1      1203336448218456064                 Art and revolution   \n2      1304562578438451203             Corporal of the Parish   \n3       914786917895561216                             Baxter   \n4                279176310                     Theresa Travis   \n...                    ...                                ...   \n21036            112853509             ☮️ Matt Hill 🇪🇺 🚴 🏳️‍🌈   \n21038            499083263                       Kwame Gyamfi   \n21039             19685424                       Karl Wardlaw   \n21040   701806221892968449                                Stu   \n21042            474887617      PM in Espana #RejoinEU #GENow   \n\n                                     user_public_metrics  \n0      {'followers_count': 235, 'following_count': 19...  \n1      {'followers_count': 91, 'following_count': 112...  \n2      {'followers_count': 317, 'following_count': 60...  \n3      {'followers_count': 587, 'following_count': 15...  \n4      {'followers_count': 6907, 'following_count': 2...  \n...                                                  ...  \n21036  {'followers_count': 1187, 'following_count': 9...  \n21038  {'followers_count': 229, 'following_count': 47...  \n21039  {'followers_count': 979, 'following_count': 41...  \n21040  {'followers_count': 497, 'following_count': 53...  \n21042  {'followers_count': 333, 'following_count': 99...  \n\n[10996 rows x 3 columns]",
      "text/html": "<div>\n<style scoped>\n    .dataframe tbody tr th:only-of-type {\n        vertical-align: middle;\n    }\n\n    .dataframe tbody tr th {\n        vertical-align: top;\n    }\n\n    .dataframe thead th {\n        text-align: right;\n    }\n</style>\n<table border=\"1\" class=\"dataframe\">\n  <thead>\n    <tr style=\"text-align: right;\">\n      <th></th>\n      <th>user_id</th>\n      <th>user_name</th>\n      <th>user_public_metrics</th>\n    </tr>\n  </thead>\n  <tbody>\n    <tr>\n      <th>0</th>\n      <td>937606688034709504</td>\n      <td>Beth Sawyer ebs28@fediscience.org</td>\n      <td>{'followers_count': 235, 'following_count': 19...</td>\n    </tr>\n    <tr>\n      <th>1</th>\n      <td>1203336448218456064</td>\n      <td>Art and revolution</td>\n      <td>{'followers_count': 91, 'following_count': 112...</td>\n    </tr>\n    <tr>\n      <th>2</th>\n      <td>1304562578438451203</td>\n      <td>Corporal of the Parish</td>\n      <td>{'followers_count': 317, 'following_count': 60...</td>\n    </tr>\n    <tr>\n      <th>3</th>\n      <td>914786917895561216</td>\n      <td>Baxter</td>\n      <td>{'followers_count': 587, 'following_count': 15...</td>\n    </tr>\n    <tr>\n      <th>4</th>\n      <td>279176310</td>\n      <td>Theresa Travis</td>\n      <td>{'followers_count': 6907, 'following_count': 2...</td>\n    </tr>\n    <tr>\n      <th>...</th>\n      <td>...</td>\n      <td>...</td>\n      <td>...</td>\n    </tr>\n    <tr>\n      <th>21036</th>\n      <td>112853509</td>\n      <td>☮️ Matt Hill 🇪🇺 🚴 🏳️‍🌈</td>\n      <td>{'followers_count': 1187, 'following_count': 9...</td>\n    </tr>\n    <tr>\n      <th>21038</th>\n      <td>499083263</td>\n      <td>Kwame Gyamfi</td>\n      <td>{'followers_count': 229, 'following_count': 47...</td>\n    </tr>\n    <tr>\n      <th>21039</th>\n      <td>19685424</td>\n      <td>Karl Wardlaw</td>\n      <td>{'followers_count': 979, 'following_count': 41...</td>\n    </tr>\n    <tr>\n      <th>21040</th>\n      <td>701806221892968449</td>\n      <td>Stu</td>\n      <td>{'followers_count': 497, 'following_count': 53...</td>\n    </tr>\n    <tr>\n      <th>21042</th>\n      <td>474887617</td>\n      <td>PM in Espana #RejoinEU #GENow</td>\n      <td>{'followers_count': 333, 'following_count': 99...</td>\n    </tr>\n  </tbody>\n</table>\n<p>10996 rows × 3 columns</p>\n</div>"
     },
     "execution_count": 16,
     "metadata": {},
     "output_type": "execute_result"
    }
   ],
   "source": [
    "# First we drop any duplicates because we simply need one row per user\n",
    "node_data = node_data.drop_duplicates('user_id')\n",
    "node_data"
   ],
   "metadata": {
    "collapsed": false,
    "pycharm": {
     "name": "#%%\n"
    }
   }
  },
  {
   "cell_type": "code",
   "execution_count": 17,
   "outputs": [
    {
     "data": {
      "text/plain": "0                      17773\n1                      66873\n2                      73963\n3                      79553\n7                     465973\n                ...         \n19239    1595461088141008896\n19272             1944262404\n19274              460819776\n19398              315264228\n19408              402593408\nLength: 10996, dtype: int64"
     },
     "execution_count": 17,
     "metadata": {},
     "output_type": "execute_result"
    }
   ],
   "source": [
    "# Next we create a list of all users that are actually in our edge list\n",
    "\n",
    "nodes_in_network = pd.concat([edge_data['Source'], edge_data['Target']], axis=0).drop_duplicates()\n",
    "nodes_in_network"
   ],
   "metadata": {
    "collapsed": false,
    "pycharm": {
     "name": "#%%\n"
    }
   }
  },
  {
   "cell_type": "code",
   "execution_count": 18,
   "outputs": [
    {
     "data": {
      "text/plain": "                   user_id                          user_name  \\\n0       937606688034709504  Beth Sawyer ebs28@fediscience.org   \n1      1203336448218456064                 Art and revolution   \n2      1304562578438451203             Corporal of the Parish   \n3       914786917895561216                             Baxter   \n4                279176310                     Theresa Travis   \n...                    ...                                ...   \n21036            112853509             ☮️ Matt Hill 🇪🇺 🚴 🏳️‍🌈   \n21038            499083263                       Kwame Gyamfi   \n21039             19685424                       Karl Wardlaw   \n21040   701806221892968449                                Stu   \n21042            474887617      PM in Espana #RejoinEU #GENow   \n\n                                     user_public_metrics  \n0      {'followers_count': 235, 'following_count': 19...  \n1      {'followers_count': 91, 'following_count': 112...  \n2      {'followers_count': 317, 'following_count': 60...  \n3      {'followers_count': 587, 'following_count': 15...  \n4      {'followers_count': 6907, 'following_count': 2...  \n...                                                  ...  \n21036  {'followers_count': 1187, 'following_count': 9...  \n21038  {'followers_count': 229, 'following_count': 47...  \n21039  {'followers_count': 979, 'following_count': 41...  \n21040  {'followers_count': 497, 'following_count': 53...  \n21042  {'followers_count': 333, 'following_count': 99...  \n\n[10996 rows x 3 columns]",
      "text/html": "<div>\n<style scoped>\n    .dataframe tbody tr th:only-of-type {\n        vertical-align: middle;\n    }\n\n    .dataframe tbody tr th {\n        vertical-align: top;\n    }\n\n    .dataframe thead th {\n        text-align: right;\n    }\n</style>\n<table border=\"1\" class=\"dataframe\">\n  <thead>\n    <tr style=\"text-align: right;\">\n      <th></th>\n      <th>user_id</th>\n      <th>user_name</th>\n      <th>user_public_metrics</th>\n    </tr>\n  </thead>\n  <tbody>\n    <tr>\n      <th>0</th>\n      <td>937606688034709504</td>\n      <td>Beth Sawyer ebs28@fediscience.org</td>\n      <td>{'followers_count': 235, 'following_count': 19...</td>\n    </tr>\n    <tr>\n      <th>1</th>\n      <td>1203336448218456064</td>\n      <td>Art and revolution</td>\n      <td>{'followers_count': 91, 'following_count': 112...</td>\n    </tr>\n    <tr>\n      <th>2</th>\n      <td>1304562578438451203</td>\n      <td>Corporal of the Parish</td>\n      <td>{'followers_count': 317, 'following_count': 60...</td>\n    </tr>\n    <tr>\n      <th>3</th>\n      <td>914786917895561216</td>\n      <td>Baxter</td>\n      <td>{'followers_count': 587, 'following_count': 15...</td>\n    </tr>\n    <tr>\n      <th>4</th>\n      <td>279176310</td>\n      <td>Theresa Travis</td>\n      <td>{'followers_count': 6907, 'following_count': 2...</td>\n    </tr>\n    <tr>\n      <th>...</th>\n      <td>...</td>\n      <td>...</td>\n      <td>...</td>\n    </tr>\n    <tr>\n      <th>21036</th>\n      <td>112853509</td>\n      <td>☮️ Matt Hill 🇪🇺 🚴 🏳️‍🌈</td>\n      <td>{'followers_count': 1187, 'following_count': 9...</td>\n    </tr>\n    <tr>\n      <th>21038</th>\n      <td>499083263</td>\n      <td>Kwame Gyamfi</td>\n      <td>{'followers_count': 229, 'following_count': 47...</td>\n    </tr>\n    <tr>\n      <th>21039</th>\n      <td>19685424</td>\n      <td>Karl Wardlaw</td>\n      <td>{'followers_count': 979, 'following_count': 41...</td>\n    </tr>\n    <tr>\n      <th>21040</th>\n      <td>701806221892968449</td>\n      <td>Stu</td>\n      <td>{'followers_count': 497, 'following_count': 53...</td>\n    </tr>\n    <tr>\n      <th>21042</th>\n      <td>474887617</td>\n      <td>PM in Espana #RejoinEU #GENow</td>\n      <td>{'followers_count': 333, 'following_count': 99...</td>\n    </tr>\n  </tbody>\n</table>\n<p>10996 rows × 3 columns</p>\n</div>"
     },
     "execution_count": 18,
     "metadata": {},
     "output_type": "execute_result"
    }
   ],
   "source": [
    "node_data = node_data[node_data['user_id'].isin(nodes_in_network)]\n",
    "node_data"
   ],
   "metadata": {
    "collapsed": false,
    "pycharm": {
     "name": "#%%\n"
    }
   }
  },
  {
   "cell_type": "code",
   "execution_count": 19,
   "outputs": [
    {
     "data": {
      "text/plain": "                   user_id                          user_name  \\\n0       937606688034709504  Beth Sawyer ebs28@fediscience.org   \n1      1203336448218456064                 Art and revolution   \n2      1304562578438451203             Corporal of the Parish   \n3       914786917895561216                             Baxter   \n4                279176310                     Theresa Travis   \n...                    ...                                ...   \n10991            112853509             ☮️ Matt Hill 🇪🇺 🚴 🏳️‍🌈   \n10992            499083263                       Kwame Gyamfi   \n10993             19685424                       Karl Wardlaw   \n10994   701806221892968449                                Stu   \n10995            474887617      PM in Espana #RejoinEU #GENow   \n\n       user_public_metrics.followers_count  \\\n0                                      235   \n1                                       91   \n2                                      317   \n3                                      587   \n4                                     6907   \n...                                    ...   \n10991                                 1187   \n10992                                  229   \n10993                                  979   \n10994                                  497   \n10995                                  333   \n\n       user_public_metrics.following_count  user_public_metrics.tweet_count  \\\n0                                      192                             1241   \n1                                      112                             6914   \n2                                      605                            82014   \n3                                     1562                             2010   \n4                                     2060                          1756575   \n...                                    ...                              ...   \n10991                                  995                            22545   \n10992                                  473                             7490   \n10993                                 4194                            13838   \n10994                                  539                             9580   \n10995                                  993                             2486   \n\n       user_public_metrics.listed_count  \n0                                     2  \n1                                     0  \n2                                     0  \n3                                     2  \n4                                   999  \n...                                 ...  \n10991                                19  \n10992                                 0  \n10993                                13  \n10994                                 5  \n10995                                 3  \n\n[10996 rows x 6 columns]",
      "text/html": "<div>\n<style scoped>\n    .dataframe tbody tr th:only-of-type {\n        vertical-align: middle;\n    }\n\n    .dataframe tbody tr th {\n        vertical-align: top;\n    }\n\n    .dataframe thead th {\n        text-align: right;\n    }\n</style>\n<table border=\"1\" class=\"dataframe\">\n  <thead>\n    <tr style=\"text-align: right;\">\n      <th></th>\n      <th>user_id</th>\n      <th>user_name</th>\n      <th>user_public_metrics.followers_count</th>\n      <th>user_public_metrics.following_count</th>\n      <th>user_public_metrics.tweet_count</th>\n      <th>user_public_metrics.listed_count</th>\n    </tr>\n  </thead>\n  <tbody>\n    <tr>\n      <th>0</th>\n      <td>937606688034709504</td>\n      <td>Beth Sawyer ebs28@fediscience.org</td>\n      <td>235</td>\n      <td>192</td>\n      <td>1241</td>\n      <td>2</td>\n    </tr>\n    <tr>\n      <th>1</th>\n      <td>1203336448218456064</td>\n      <td>Art and revolution</td>\n      <td>91</td>\n      <td>112</td>\n      <td>6914</td>\n      <td>0</td>\n    </tr>\n    <tr>\n      <th>2</th>\n      <td>1304562578438451203</td>\n      <td>Corporal of the Parish</td>\n      <td>317</td>\n      <td>605</td>\n      <td>82014</td>\n      <td>0</td>\n    </tr>\n    <tr>\n      <th>3</th>\n      <td>914786917895561216</td>\n      <td>Baxter</td>\n      <td>587</td>\n      <td>1562</td>\n      <td>2010</td>\n      <td>2</td>\n    </tr>\n    <tr>\n      <th>4</th>\n      <td>279176310</td>\n      <td>Theresa Travis</td>\n      <td>6907</td>\n      <td>2060</td>\n      <td>1756575</td>\n      <td>999</td>\n    </tr>\n    <tr>\n      <th>...</th>\n      <td>...</td>\n      <td>...</td>\n      <td>...</td>\n      <td>...</td>\n      <td>...</td>\n      <td>...</td>\n    </tr>\n    <tr>\n      <th>10991</th>\n      <td>112853509</td>\n      <td>☮️ Matt Hill 🇪🇺 🚴 🏳️‍🌈</td>\n      <td>1187</td>\n      <td>995</td>\n      <td>22545</td>\n      <td>19</td>\n    </tr>\n    <tr>\n      <th>10992</th>\n      <td>499083263</td>\n      <td>Kwame Gyamfi</td>\n      <td>229</td>\n      <td>473</td>\n      <td>7490</td>\n      <td>0</td>\n    </tr>\n    <tr>\n      <th>10993</th>\n      <td>19685424</td>\n      <td>Karl Wardlaw</td>\n      <td>979</td>\n      <td>4194</td>\n      <td>13838</td>\n      <td>13</td>\n    </tr>\n    <tr>\n      <th>10994</th>\n      <td>701806221892968449</td>\n      <td>Stu</td>\n      <td>497</td>\n      <td>539</td>\n      <td>9580</td>\n      <td>5</td>\n    </tr>\n    <tr>\n      <th>10995</th>\n      <td>474887617</td>\n      <td>PM in Espana #RejoinEU #GENow</td>\n      <td>333</td>\n      <td>993</td>\n      <td>2486</td>\n      <td>3</td>\n    </tr>\n  </tbody>\n</table>\n<p>10996 rows × 6 columns</p>\n</div>"
     },
     "execution_count": 19,
     "metadata": {},
     "output_type": "execute_result"
    }
   ],
   "source": [
    "# Now lets expand out our user metrics\n",
    "\n",
    "node_data = flatten_nested_dicts(node_data)\n",
    "node_data"
   ],
   "metadata": {
    "collapsed": false,
    "pycharm": {
     "name": "#%%\n"
    }
   }
  },
  {
   "cell_type": "code",
   "execution_count": 20,
   "outputs": [
    {
     "data": {
      "text/plain": "                        ID                              Label  \\\n0       937606688034709504  Beth Sawyer ebs28@fediscience.org   \n1      1203336448218456064                 Art and revolution   \n2      1304562578438451203             Corporal of the Parish   \n3       914786917895561216                             Baxter   \n4                279176310                     Theresa Travis   \n...                    ...                                ...   \n10991            112853509             ☮️ Matt Hill 🇪🇺 🚴 🏳️‍🌈   \n10992            499083263                       Kwame Gyamfi   \n10993             19685424                       Karl Wardlaw   \n10994   701806221892968449                                Stu   \n10995            474887617      PM in Espana #RejoinEU #GENow   \n\n       followers_count  following_count  tweet_count  listed_count  \n0                  235              192         1241             2  \n1                   91              112         6914             0  \n2                  317              605        82014             0  \n3                  587             1562         2010             2  \n4                 6907             2060      1756575           999  \n...                ...              ...          ...           ...  \n10991             1187              995        22545            19  \n10992              229              473         7490             0  \n10993              979             4194        13838            13  \n10994              497              539         9580             5  \n10995              333              993         2486             3  \n\n[10996 rows x 6 columns]",
      "text/html": "<div>\n<style scoped>\n    .dataframe tbody tr th:only-of-type {\n        vertical-align: middle;\n    }\n\n    .dataframe tbody tr th {\n        vertical-align: top;\n    }\n\n    .dataframe thead th {\n        text-align: right;\n    }\n</style>\n<table border=\"1\" class=\"dataframe\">\n  <thead>\n    <tr style=\"text-align: right;\">\n      <th></th>\n      <th>ID</th>\n      <th>Label</th>\n      <th>followers_count</th>\n      <th>following_count</th>\n      <th>tweet_count</th>\n      <th>listed_count</th>\n    </tr>\n  </thead>\n  <tbody>\n    <tr>\n      <th>0</th>\n      <td>937606688034709504</td>\n      <td>Beth Sawyer ebs28@fediscience.org</td>\n      <td>235</td>\n      <td>192</td>\n      <td>1241</td>\n      <td>2</td>\n    </tr>\n    <tr>\n      <th>1</th>\n      <td>1203336448218456064</td>\n      <td>Art and revolution</td>\n      <td>91</td>\n      <td>112</td>\n      <td>6914</td>\n      <td>0</td>\n    </tr>\n    <tr>\n      <th>2</th>\n      <td>1304562578438451203</td>\n      <td>Corporal of the Parish</td>\n      <td>317</td>\n      <td>605</td>\n      <td>82014</td>\n      <td>0</td>\n    </tr>\n    <tr>\n      <th>3</th>\n      <td>914786917895561216</td>\n      <td>Baxter</td>\n      <td>587</td>\n      <td>1562</td>\n      <td>2010</td>\n      <td>2</td>\n    </tr>\n    <tr>\n      <th>4</th>\n      <td>279176310</td>\n      <td>Theresa Travis</td>\n      <td>6907</td>\n      <td>2060</td>\n      <td>1756575</td>\n      <td>999</td>\n    </tr>\n    <tr>\n      <th>...</th>\n      <td>...</td>\n      <td>...</td>\n      <td>...</td>\n      <td>...</td>\n      <td>...</td>\n      <td>...</td>\n    </tr>\n    <tr>\n      <th>10991</th>\n      <td>112853509</td>\n      <td>☮️ Matt Hill 🇪🇺 🚴 🏳️‍🌈</td>\n      <td>1187</td>\n      <td>995</td>\n      <td>22545</td>\n      <td>19</td>\n    </tr>\n    <tr>\n      <th>10992</th>\n      <td>499083263</td>\n      <td>Kwame Gyamfi</td>\n      <td>229</td>\n      <td>473</td>\n      <td>7490</td>\n      <td>0</td>\n    </tr>\n    <tr>\n      <th>10993</th>\n      <td>19685424</td>\n      <td>Karl Wardlaw</td>\n      <td>979</td>\n      <td>4194</td>\n      <td>13838</td>\n      <td>13</td>\n    </tr>\n    <tr>\n      <th>10994</th>\n      <td>701806221892968449</td>\n      <td>Stu</td>\n      <td>497</td>\n      <td>539</td>\n      <td>9580</td>\n      <td>5</td>\n    </tr>\n    <tr>\n      <th>10995</th>\n      <td>474887617</td>\n      <td>PM in Espana #RejoinEU #GENow</td>\n      <td>333</td>\n      <td>993</td>\n      <td>2486</td>\n      <td>3</td>\n    </tr>\n  </tbody>\n</table>\n<p>10996 rows × 6 columns</p>\n</div>"
     },
     "execution_count": 20,
     "metadata": {},
     "output_type": "execute_result"
    }
   ],
   "source": [
    "# Finally we need to relabel our columns for Gephi\n",
    "\n",
    "gephi_node_labels = {'user_id':'ID','user_name':'Label',\n",
    "                     'user_public_metrics.followers_count':'followers_count',\n",
    "                     'user_public_metrics.following_count':'following_count',\n",
    "                     'user_public_metrics.tweet_count':'tweet_count',\n",
    "                     'user_public_metrics.listed_count':'listed_count'}\n",
    "\n",
    "node_data = node_data.rename(columns=gephi_node_labels)\n",
    "node_data\n"
   ],
   "metadata": {
    "collapsed": false,
    "pycharm": {
     "name": "#%%\n"
    }
   }
  },
  {
   "cell_type": "code",
   "execution_count": 21,
   "outputs": [],
   "source": [
    "node_data.to_csv('mogg_node_list.csv',index=False)\n",
    "edge_data.to_csv('mogg_edge_list.csv',index=False)"
   ],
   "metadata": {
    "collapsed": false,
    "pycharm": {
     "name": "#%%\n"
    }
   }
  },
  {
   "cell_type": "code",
   "execution_count": 21,
   "outputs": [],
   "source": [],
   "metadata": {
    "collapsed": false,
    "pycharm": {
     "name": "#%%\n"
    }
   }
  },
  {
   "cell_type": "code",
   "execution_count": null,
   "outputs": [],
   "source": [],
   "metadata": {
    "collapsed": false,
    "pycharm": {
     "name": "#%%\n"
    }
   }
  }
 ],
 "metadata": {
  "kernelspec": {
   "display_name": "Python 3 (ipykernel)",
   "language": "python",
   "name": "python3"
  },
  "language_info": {
   "codemirror_mode": {
    "name": "ipython",
    "version": 3
   },
   "file_extension": ".py",
   "mimetype": "text/x-python",
   "name": "python",
   "nbconvert_exporter": "python",
   "pygments_lexer": "ipython3",
   "version": "3.8.12"
  }
 },
 "nbformat": 4,
 "nbformat_minor": 4
}