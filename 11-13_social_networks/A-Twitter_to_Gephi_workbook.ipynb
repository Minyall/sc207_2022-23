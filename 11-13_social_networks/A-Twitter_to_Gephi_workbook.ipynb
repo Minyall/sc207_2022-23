{
 "cells": [
  {
   "cell_type": "markdown",
   "metadata": {
    "pycharm": {
     "name": "#%% md\n"
    }
   },
   "source": [
    "<img src=\"https://github.com/Minyall/sc207_materials/blob/master/images/gephi_network.png?raw=true\" align=\"right\" width=\"300\">\n",
    "\n",
    "\n",
    "# SC207 - Session 8\n",
    "# Social Network Analysis with Gephi\n",
    "## Reshaping your Data into a Network\n",
    "\n",
    "\n",
    "### Imports\n",
    "\n",
    "Today we will just need...\n",
    "- Pandas to import and reshape our twitter data\n",
    "\n",
    "- <img src=\"https://github.com/Minyall/sc207_materials/blob/master/images/gephi-logo-2010-transparent.png?raw=true\" align=\"left\" width=\"75\">....to visualise and explore our data.\n"
   ]
  },
  {
   "cell_type": "code",
   "execution_count": 1,
   "metadata": {
    "pycharm": {
     "name": "#%%\n"
    }
   },
   "outputs": [],
   "source": [
    "import pandas as pd"
   ]
  },
  {
   "cell_type": "markdown",
   "metadata": {
    "pycharm": {
     "name": "#%% md\n"
    }
   },
   "source": [
    "## Converting Twitter Data\n",
    "\n",
    "- We're going to make a Retweet network. \n",
    "- In this network every Node will represent a different user, \n",
    "- An edge between user a and user b will represent one user retweeting the other\n",
    "- Edges will be given a `weight` that counts how many unique times user a retweeted user b. \n",
    "- We will make our network `directional` meaning that we will record seperately\n",
    "  -     how many times `a` is retweeted by -> `b` \n",
    "  -     and how many times `b` -> is retweeted by `a`"
   ]
  },
  {
   "cell_type": "code",
   "execution_count": 2,
   "metadata": {
    "pycharm": {
     "name": "#%%\n"
    }
   },
   "outputs": [],
   "source": [
    "filename = 'example_twitter_data.pkl'\n",
    "tweets = pd.read_pickle(filename)"
   ]
  },
  {
   "cell_type": "code",
   "execution_count": 3,
   "metadata": {
    "pycharm": {
     "name": "#%%\n"
    }
   },
   "outputs": [
    {
     "data": {
      "text/html": [
       "<div>\n",
       "<style scoped>\n",
       "    .dataframe tbody tr th:only-of-type {\n",
       "        vertical-align: middle;\n",
       "    }\n",
       "\n",
       "    .dataframe tbody tr th {\n",
       "        vertical-align: top;\n",
       "    }\n",
       "\n",
       "    .dataframe thead th {\n",
       "        text-align: right;\n",
       "    }\n",
       "</style>\n",
       "<table border=\"1\" class=\"dataframe\">\n",
       "  <thead>\n",
       "    <tr style=\"text-align: right;\">\n",
       "      <th></th>\n",
       "      <th>created_at</th>\n",
       "      <th>id</th>\n",
       "      <th>id_str</th>\n",
       "      <th>full_text</th>\n",
       "      <th>truncated</th>\n",
       "      <th>display_text_range</th>\n",
       "      <th>entities</th>\n",
       "      <th>metadata</th>\n",
       "      <th>source</th>\n",
       "      <th>in_reply_to_status_id</th>\n",
       "      <th>...</th>\n",
       "      <th>retweet_count</th>\n",
       "      <th>favorite_count</th>\n",
       "      <th>favorited</th>\n",
       "      <th>retweeted</th>\n",
       "      <th>lang</th>\n",
       "      <th>possibly_sensitive</th>\n",
       "      <th>extended_entities</th>\n",
       "      <th>quoted_status_id</th>\n",
       "      <th>quoted_status_id_str</th>\n",
       "      <th>quoted_status</th>\n",
       "    </tr>\n",
       "  </thead>\n",
       "  <tbody>\n",
       "    <tr>\n",
       "      <th>0</th>\n",
       "      <td>Sat Nov 21 13:12:34 +0000 2020</td>\n",
       "      <td>1330137025148817408</td>\n",
       "      <td>1330137025148817408</td>\n",
       "      <td>RT @Keir_Starmer: In the interest of transpare...</td>\n",
       "      <td>False</td>\n",
       "      <td>[0, 140]</td>\n",
       "      <td>{'hashtags': [], 'symbols': [], 'user_mentions...</td>\n",
       "      <td>{'iso_language_code': 'en', 'result_type': 're...</td>\n",
       "      <td>&lt;a href=\"https://mobile.twitter.com\" rel=\"nofo...</td>\n",
       "      <td>NaN</td>\n",
       "      <td>...</td>\n",
       "      <td>946</td>\n",
       "      <td>0</td>\n",
       "      <td>False</td>\n",
       "      <td>False</td>\n",
       "      <td>en</td>\n",
       "      <td>NaN</td>\n",
       "      <td>NaN</td>\n",
       "      <td>NaN</td>\n",
       "      <td>NaN</td>\n",
       "      <td>NaN</td>\n",
       "    </tr>\n",
       "    <tr>\n",
       "      <th>1</th>\n",
       "      <td>Sat Nov 21 13:12:33 +0000 2020</td>\n",
       "      <td>1330137020711235586</td>\n",
       "      <td>1330137020711235586</td>\n",
       "      <td>RT @mrjamesob: Priti Patel bullies people who ...</td>\n",
       "      <td>False</td>\n",
       "      <td>[0, 128]</td>\n",
       "      <td>{'hashtags': [], 'symbols': [], 'user_mentions...</td>\n",
       "      <td>{'iso_language_code': 'en', 'result_type': 're...</td>\n",
       "      <td>&lt;a href=\"http://twitter.com/download/iphone\" r...</td>\n",
       "      <td>NaN</td>\n",
       "      <td>...</td>\n",
       "      <td>2519</td>\n",
       "      <td>0</td>\n",
       "      <td>False</td>\n",
       "      <td>False</td>\n",
       "      <td>en</td>\n",
       "      <td>NaN</td>\n",
       "      <td>NaN</td>\n",
       "      <td>NaN</td>\n",
       "      <td>NaN</td>\n",
       "      <td>NaN</td>\n",
       "    </tr>\n",
       "    <tr>\n",
       "      <th>2</th>\n",
       "      <td>Sat Nov 21 13:12:32 +0000 2020</td>\n",
       "      <td>1330137019679432707</td>\n",
       "      <td>1330137019679432707</td>\n",
       "      <td>@BorisJohnson\\nAnother Dominic Cummings Saga!!...</td>\n",
       "      <td>False</td>\n",
       "      <td>[0, 117]</td>\n",
       "      <td>{'hashtags': [], 'symbols': [], 'user_mentions...</td>\n",
       "      <td>{'iso_language_code': 'en', 'result_type': 're...</td>\n",
       "      <td>&lt;a href=\"http://twitter.com/download/android\" ...</td>\n",
       "      <td>NaN</td>\n",
       "      <td>...</td>\n",
       "      <td>0</td>\n",
       "      <td>0</td>\n",
       "      <td>False</td>\n",
       "      <td>False</td>\n",
       "      <td>en</td>\n",
       "      <td>False</td>\n",
       "      <td>NaN</td>\n",
       "      <td>NaN</td>\n",
       "      <td>NaN</td>\n",
       "      <td>NaN</td>\n",
       "    </tr>\n",
       "    <tr>\n",
       "      <th>3</th>\n",
       "      <td>Sat Nov 21 13:12:32 +0000 2020</td>\n",
       "      <td>1330137016881860610</td>\n",
       "      <td>1330137016881860610</td>\n",
       "      <td>Rather than all these pious and sycophantic tw...</td>\n",
       "      <td>False</td>\n",
       "      <td>[0, 268]</td>\n",
       "      <td>{'hashtags': [], 'symbols': [], 'user_mentions...</td>\n",
       "      <td>{'iso_language_code': 'en', 'result_type': 're...</td>\n",
       "      <td>&lt;a href=\"https://about.twitter.com/products/tw...</td>\n",
       "      <td>NaN</td>\n",
       "      <td>...</td>\n",
       "      <td>0</td>\n",
       "      <td>0</td>\n",
       "      <td>False</td>\n",
       "      <td>False</td>\n",
       "      <td>en</td>\n",
       "      <td>NaN</td>\n",
       "      <td>NaN</td>\n",
       "      <td>NaN</td>\n",
       "      <td>NaN</td>\n",
       "      <td>NaN</td>\n",
       "    </tr>\n",
       "    <tr>\n",
       "      <th>4</th>\n",
       "      <td>Sat Nov 21 13:12:31 +0000 2020</td>\n",
       "      <td>1330137014180737025</td>\n",
       "      <td>1330137014180737025</td>\n",
       "      <td>RT @MarinaHyde: My bit about Priti Patel’s bul...</td>\n",
       "      <td>False</td>\n",
       "      <td>[0, 129]</td>\n",
       "      <td>{'hashtags': [], 'symbols': [], 'user_mentions...</td>\n",
       "      <td>{'iso_language_code': 'en', 'result_type': 're...</td>\n",
       "      <td>&lt;a href=\"http://twitter.com/download/iphone\" r...</td>\n",
       "      <td>NaN</td>\n",
       "      <td>...</td>\n",
       "      <td>1153</td>\n",
       "      <td>0</td>\n",
       "      <td>False</td>\n",
       "      <td>False</td>\n",
       "      <td>en</td>\n",
       "      <td>False</td>\n",
       "      <td>NaN</td>\n",
       "      <td>NaN</td>\n",
       "      <td>NaN</td>\n",
       "      <td>NaN</td>\n",
       "    </tr>\n",
       "  </tbody>\n",
       "</table>\n",
       "<p>5 rows × 31 columns</p>\n",
       "</div>"
      ],
      "text/plain": [
       "                       created_at                   id               id_str  \\\n",
       "0  Sat Nov 21 13:12:34 +0000 2020  1330137025148817408  1330137025148817408   \n",
       "1  Sat Nov 21 13:12:33 +0000 2020  1330137020711235586  1330137020711235586   \n",
       "2  Sat Nov 21 13:12:32 +0000 2020  1330137019679432707  1330137019679432707   \n",
       "3  Sat Nov 21 13:12:32 +0000 2020  1330137016881860610  1330137016881860610   \n",
       "4  Sat Nov 21 13:12:31 +0000 2020  1330137014180737025  1330137014180737025   \n",
       "\n",
       "                                           full_text  truncated  \\\n",
       "0  RT @Keir_Starmer: In the interest of transpare...      False   \n",
       "1  RT @mrjamesob: Priti Patel bullies people who ...      False   \n",
       "2  @BorisJohnson\\nAnother Dominic Cummings Saga!!...      False   \n",
       "3  Rather than all these pious and sycophantic tw...      False   \n",
       "4  RT @MarinaHyde: My bit about Priti Patel’s bul...      False   \n",
       "\n",
       "  display_text_range                                           entities  \\\n",
       "0           [0, 140]  {'hashtags': [], 'symbols': [], 'user_mentions...   \n",
       "1           [0, 128]  {'hashtags': [], 'symbols': [], 'user_mentions...   \n",
       "2           [0, 117]  {'hashtags': [], 'symbols': [], 'user_mentions...   \n",
       "3           [0, 268]  {'hashtags': [], 'symbols': [], 'user_mentions...   \n",
       "4           [0, 129]  {'hashtags': [], 'symbols': [], 'user_mentions...   \n",
       "\n",
       "                                            metadata  \\\n",
       "0  {'iso_language_code': 'en', 'result_type': 're...   \n",
       "1  {'iso_language_code': 'en', 'result_type': 're...   \n",
       "2  {'iso_language_code': 'en', 'result_type': 're...   \n",
       "3  {'iso_language_code': 'en', 'result_type': 're...   \n",
       "4  {'iso_language_code': 'en', 'result_type': 're...   \n",
       "\n",
       "                                              source  in_reply_to_status_id  \\\n",
       "0  <a href=\"https://mobile.twitter.com\" rel=\"nofo...                    NaN   \n",
       "1  <a href=\"http://twitter.com/download/iphone\" r...                    NaN   \n",
       "2  <a href=\"http://twitter.com/download/android\" ...                    NaN   \n",
       "3  <a href=\"https://about.twitter.com/products/tw...                    NaN   \n",
       "4  <a href=\"http://twitter.com/download/iphone\" r...                    NaN   \n",
       "\n",
       "   ... retweet_count  favorite_count favorited retweeted lang  \\\n",
       "0  ...           946               0     False     False   en   \n",
       "1  ...          2519               0     False     False   en   \n",
       "2  ...             0               0     False     False   en   \n",
       "3  ...             0               0     False     False   en   \n",
       "4  ...          1153               0     False     False   en   \n",
       "\n",
       "  possibly_sensitive extended_entities quoted_status_id quoted_status_id_str  \\\n",
       "0                NaN               NaN              NaN                  NaN   \n",
       "1                NaN               NaN              NaN                  NaN   \n",
       "2              False               NaN              NaN                  NaN   \n",
       "3                NaN               NaN              NaN                  NaN   \n",
       "4              False               NaN              NaN                  NaN   \n",
       "\n",
       "  quoted_status  \n",
       "0           NaN  \n",
       "1           NaN  \n",
       "2           NaN  \n",
       "3           NaN  \n",
       "4           NaN  \n",
       "\n",
       "[5 rows x 31 columns]"
      ]
     },
     "execution_count": 3,
     "metadata": {},
     "output_type": "execute_result"
    }
   ],
   "source": [
    "tweets.head()"
   ]
  },
  {
   "cell_type": "markdown",
   "metadata": {
    "pycharm": {
     "name": "#%% md\n"
    }
   },
   "source": [
    "#### Our Unpacking Funtions"
   ]
  },
  {
   "cell_type": "code",
   "execution_count": 4,
   "metadata": {
    "pycharm": {
     "name": "#%%\n"
    }
   },
   "outputs": [],
   "source": [
    "def flatten_nested_dicts(df):\n",
    "    dicts = df.to_dict(orient='records')\n",
    "    flattened = pd.json_normalize(dicts)\n",
    "    return flattened"
   ]
  },
  {
   "cell_type": "markdown",
   "metadata": {
    "tags": [],
    "pycharm": {
     "name": "#%% md\n"
    }
   },
   "source": [
    "### Nodes\n",
    "- User screen names as the id and Label.\n",
    "- User followers count and statuses count as the node attributes\n",
    "\n",
    "### Edges \n",
    "-  `user.screen_name` and the `retweeted_status.user.screen_name` as the two ends of our edges."
   ]
  },
  {
   "cell_type": "code",
   "execution_count": 5,
   "metadata": {
    "pycharm": {
     "name": "#%%\n"
    }
   },
   "outputs": [
    {
     "data": {
      "text/html": [
       "<div>\n",
       "<style scoped>\n",
       "    .dataframe tbody tr th:only-of-type {\n",
       "        vertical-align: middle;\n",
       "    }\n",
       "\n",
       "    .dataframe tbody tr th {\n",
       "        vertical-align: top;\n",
       "    }\n",
       "\n",
       "    .dataframe thead th {\n",
       "        text-align: right;\n",
       "    }\n",
       "</style>\n",
       "<table border=\"1\" class=\"dataframe\">\n",
       "  <thead>\n",
       "    <tr style=\"text-align: right;\">\n",
       "      <th></th>\n",
       "      <th>id</th>\n",
       "      <th>user</th>\n",
       "      <th>retweeted_status</th>\n",
       "    </tr>\n",
       "  </thead>\n",
       "  <tbody>\n",
       "    <tr>\n",
       "      <th>0</th>\n",
       "      <td>1330137025148817408</td>\n",
       "      <td>{'id': 1027183102886662144, 'id_str': '1027183...</td>\n",
       "      <td>{'created_at': 'Fri Nov 20 12:14:39 +0000 2020...</td>\n",
       "    </tr>\n",
       "    <tr>\n",
       "      <th>1</th>\n",
       "      <td>1330137020711235586</td>\n",
       "      <td>{'id': 337419307, 'id_str': '337419307', 'name...</td>\n",
       "      <td>{'created_at': 'Sat Nov 21 09:24:45 +0000 2020...</td>\n",
       "    </tr>\n",
       "    <tr>\n",
       "      <th>2</th>\n",
       "      <td>1330137019679432707</td>\n",
       "      <td>{'id': 890878937487876096, 'id_str': '89087893...</td>\n",
       "      <td>NaN</td>\n",
       "    </tr>\n",
       "    <tr>\n",
       "      <th>3</th>\n",
       "      <td>1330137016881860610</td>\n",
       "      <td>{'id': 488028839, 'id_str': '488028839', 'name...</td>\n",
       "      <td>NaN</td>\n",
       "    </tr>\n",
       "    <tr>\n",
       "      <th>4</th>\n",
       "      <td>1330137014180737025</td>\n",
       "      <td>{'id': 244243442, 'id_str': '244243442', 'name...</td>\n",
       "      <td>{'created_at': 'Sat Nov 21 07:03:01 +0000 2020...</td>\n",
       "    </tr>\n",
       "  </tbody>\n",
       "</table>\n",
       "</div>"
      ],
      "text/plain": [
       "                    id                                               user  \\\n",
       "0  1330137025148817408  {'id': 1027183102886662144, 'id_str': '1027183...   \n",
       "1  1330137020711235586  {'id': 337419307, 'id_str': '337419307', 'name...   \n",
       "2  1330137019679432707  {'id': 890878937487876096, 'id_str': '89087893...   \n",
       "3  1330137016881860610  {'id': 488028839, 'id_str': '488028839', 'name...   \n",
       "4  1330137014180737025  {'id': 244243442, 'id_str': '244243442', 'name...   \n",
       "\n",
       "                                    retweeted_status  \n",
       "0  {'created_at': 'Fri Nov 20 12:14:39 +0000 2020...  \n",
       "1  {'created_at': 'Sat Nov 21 09:24:45 +0000 2020...  \n",
       "2                                                NaN  \n",
       "3                                                NaN  \n",
       "4  {'created_at': 'Sat Nov 21 07:03:01 +0000 2020...  "
      ]
     },
     "execution_count": 5,
     "metadata": {},
     "output_type": "execute_result"
    }
   ],
   "source": [
    "# First let's grab just the portion of data we need\n",
    "\n",
    "tweet_network_data = tweets[['id', 'user', 'retweeted_status']]\n",
    "tweet_network_data.head()"
   ]
  },
  {
   "cell_type": "code",
   "execution_count": 6,
   "metadata": {
    "pycharm": {
     "name": "#%%\n"
    }
   },
   "outputs": [
    {
     "data": {
      "text/html": [
       "<div>\n",
       "<style scoped>\n",
       "    .dataframe tbody tr th:only-of-type {\n",
       "        vertical-align: middle;\n",
       "    }\n",
       "\n",
       "    .dataframe tbody tr th {\n",
       "        vertical-align: top;\n",
       "    }\n",
       "\n",
       "    .dataframe thead th {\n",
       "        text-align: right;\n",
       "    }\n",
       "</style>\n",
       "<table border=\"1\" class=\"dataframe\">\n",
       "  <thead>\n",
       "    <tr style=\"text-align: right;\">\n",
       "      <th></th>\n",
       "      <th>id</th>\n",
       "      <th>user.id</th>\n",
       "      <th>user.id_str</th>\n",
       "      <th>user.name</th>\n",
       "      <th>user.screen_name</th>\n",
       "      <th>user.location</th>\n",
       "      <th>user.description</th>\n",
       "      <th>user.url</th>\n",
       "      <th>user.entities.description.urls</th>\n",
       "      <th>user.protected</th>\n",
       "      <th>...</th>\n",
       "      <th>retweeted_status.quoted_status.place.id</th>\n",
       "      <th>retweeted_status.quoted_status.place.url</th>\n",
       "      <th>retweeted_status.quoted_status.place.place_type</th>\n",
       "      <th>retweeted_status.quoted_status.place.name</th>\n",
       "      <th>retweeted_status.quoted_status.place.full_name</th>\n",
       "      <th>retweeted_status.quoted_status.place.country_code</th>\n",
       "      <th>retweeted_status.quoted_status.place.country</th>\n",
       "      <th>retweeted_status.quoted_status.place.contained_within</th>\n",
       "      <th>retweeted_status.quoted_status.place.bounding_box.type</th>\n",
       "      <th>retweeted_status.quoted_status.place.bounding_box.coordinates</th>\n",
       "    </tr>\n",
       "  </thead>\n",
       "  <tbody>\n",
       "    <tr>\n",
       "      <th>0</th>\n",
       "      <td>1330137025148817408</td>\n",
       "      <td>1027183102886662144</td>\n",
       "      <td>1027183102886662144</td>\n",
       "      <td>Nanna #BackTo60 🕷 #50sWomen #ExcludedUK</td>\n",
       "      <td>nanna39076633</td>\n",
       "      <td></td>\n",
       "      <td>#IStandWithJoanne\\n                    \\n\\n\\n\\...</td>\n",
       "      <td>None</td>\n",
       "      <td>[]</td>\n",
       "      <td>False</td>\n",
       "      <td>...</td>\n",
       "      <td>NaN</td>\n",
       "      <td>NaN</td>\n",
       "      <td>NaN</td>\n",
       "      <td>NaN</td>\n",
       "      <td>NaN</td>\n",
       "      <td>NaN</td>\n",
       "      <td>NaN</td>\n",
       "      <td>NaN</td>\n",
       "      <td>NaN</td>\n",
       "      <td>NaN</td>\n",
       "    </tr>\n",
       "    <tr>\n",
       "      <th>1</th>\n",
       "      <td>1330137020711235586</td>\n",
       "      <td>337419307</td>\n",
       "      <td>337419307</td>\n",
       "      <td>Glenny Rodgers</td>\n",
       "      <td>HenryForthwith</td>\n",
       "      <td>Not telling</td>\n",
       "      <td>I’m so sorry, it seemed like a good idea at th...</td>\n",
       "      <td>None</td>\n",
       "      <td>[]</td>\n",
       "      <td>False</td>\n",
       "      <td>...</td>\n",
       "      <td>NaN</td>\n",
       "      <td>NaN</td>\n",
       "      <td>NaN</td>\n",
       "      <td>NaN</td>\n",
       "      <td>NaN</td>\n",
       "      <td>NaN</td>\n",
       "      <td>NaN</td>\n",
       "      <td>NaN</td>\n",
       "      <td>NaN</td>\n",
       "      <td>NaN</td>\n",
       "    </tr>\n",
       "    <tr>\n",
       "      <th>2</th>\n",
       "      <td>1330137019679432707</td>\n",
       "      <td>890878937487876096</td>\n",
       "      <td>890878937487876096</td>\n",
       "      <td>F355</td>\n",
       "      <td>F35514</td>\n",
       "      <td></td>\n",
       "      <td></td>\n",
       "      <td>None</td>\n",
       "      <td>[]</td>\n",
       "      <td>False</td>\n",
       "      <td>...</td>\n",
       "      <td>NaN</td>\n",
       "      <td>NaN</td>\n",
       "      <td>NaN</td>\n",
       "      <td>NaN</td>\n",
       "      <td>NaN</td>\n",
       "      <td>NaN</td>\n",
       "      <td>NaN</td>\n",
       "      <td>NaN</td>\n",
       "      <td>NaN</td>\n",
       "      <td>NaN</td>\n",
       "    </tr>\n",
       "    <tr>\n",
       "      <th>3</th>\n",
       "      <td>1330137016881860610</td>\n",
       "      <td>488028839</td>\n",
       "      <td>488028839</td>\n",
       "      <td>Mukul Chawla QC</td>\n",
       "      <td>MChawlaQC</td>\n",
       "      <td>London, England</td>\n",
       "      <td>Partner in the Investigations team at Bryan Ca...</td>\n",
       "      <td>None</td>\n",
       "      <td>[]</td>\n",
       "      <td>False</td>\n",
       "      <td>...</td>\n",
       "      <td>NaN</td>\n",
       "      <td>NaN</td>\n",
       "      <td>NaN</td>\n",
       "      <td>NaN</td>\n",
       "      <td>NaN</td>\n",
       "      <td>NaN</td>\n",
       "      <td>NaN</td>\n",
       "      <td>NaN</td>\n",
       "      <td>NaN</td>\n",
       "      <td>NaN</td>\n",
       "    </tr>\n",
       "    <tr>\n",
       "      <th>4</th>\n",
       "      <td>1330137014180737025</td>\n",
       "      <td>244243442</td>\n",
       "      <td>244243442</td>\n",
       "      <td>ᖇIᑕᕼᗩᖇᗪ ᕮᒪᒪIOTT</td>\n",
       "      <td>R1chardEll10tt</td>\n",
       "      <td>The North East</td>\n",
       "      <td>I do stuff at work but don’t ask me what it is...</td>\n",
       "      <td>None</td>\n",
       "      <td>[]</td>\n",
       "      <td>False</td>\n",
       "      <td>...</td>\n",
       "      <td>NaN</td>\n",
       "      <td>NaN</td>\n",
       "      <td>NaN</td>\n",
       "      <td>NaN</td>\n",
       "      <td>NaN</td>\n",
       "      <td>NaN</td>\n",
       "      <td>NaN</td>\n",
       "      <td>NaN</td>\n",
       "      <td>NaN</td>\n",
       "      <td>NaN</td>\n",
       "    </tr>\n",
       "  </tbody>\n",
       "</table>\n",
       "<p>5 rows × 217 columns</p>\n",
       "</div>"
      ],
      "text/plain": [
       "                    id              user.id          user.id_str  \\\n",
       "0  1330137025148817408  1027183102886662144  1027183102886662144   \n",
       "1  1330137020711235586            337419307            337419307   \n",
       "2  1330137019679432707   890878937487876096   890878937487876096   \n",
       "3  1330137016881860610            488028839            488028839   \n",
       "4  1330137014180737025            244243442            244243442   \n",
       "\n",
       "                                 user.name user.screen_name    user.location  \\\n",
       "0  Nanna #BackTo60 🕷 #50sWomen #ExcludedUK    nanna39076633                    \n",
       "1                           Glenny Rodgers   HenryForthwith      Not telling   \n",
       "2                                     F355           F35514                    \n",
       "3                          Mukul Chawla QC        MChawlaQC  London, England   \n",
       "4                          ᖇIᑕᕼᗩᖇᗪ ᕮᒪᒪIOTT   R1chardEll10tt   The North East   \n",
       "\n",
       "                                    user.description user.url  \\\n",
       "0  #IStandWithJoanne\\n                    \\n\\n\\n\\...     None   \n",
       "1  I’m so sorry, it seemed like a good idea at th...     None   \n",
       "2                                                        None   \n",
       "3  Partner in the Investigations team at Bryan Ca...     None   \n",
       "4  I do stuff at work but don’t ask me what it is...     None   \n",
       "\n",
       "  user.entities.description.urls  user.protected  ...  \\\n",
       "0                             []           False  ...   \n",
       "1                             []           False  ...   \n",
       "2                             []           False  ...   \n",
       "3                             []           False  ...   \n",
       "4                             []           False  ...   \n",
       "\n",
       "   retweeted_status.quoted_status.place.id  \\\n",
       "0                                      NaN   \n",
       "1                                      NaN   \n",
       "2                                      NaN   \n",
       "3                                      NaN   \n",
       "4                                      NaN   \n",
       "\n",
       "   retweeted_status.quoted_status.place.url  \\\n",
       "0                                       NaN   \n",
       "1                                       NaN   \n",
       "2                                       NaN   \n",
       "3                                       NaN   \n",
       "4                                       NaN   \n",
       "\n",
       "   retweeted_status.quoted_status.place.place_type  \\\n",
       "0                                              NaN   \n",
       "1                                              NaN   \n",
       "2                                              NaN   \n",
       "3                                              NaN   \n",
       "4                                              NaN   \n",
       "\n",
       "  retweeted_status.quoted_status.place.name  \\\n",
       "0                                       NaN   \n",
       "1                                       NaN   \n",
       "2                                       NaN   \n",
       "3                                       NaN   \n",
       "4                                       NaN   \n",
       "\n",
       "   retweeted_status.quoted_status.place.full_name  \\\n",
       "0                                             NaN   \n",
       "1                                             NaN   \n",
       "2                                             NaN   \n",
       "3                                             NaN   \n",
       "4                                             NaN   \n",
       "\n",
       "  retweeted_status.quoted_status.place.country_code  \\\n",
       "0                                               NaN   \n",
       "1                                               NaN   \n",
       "2                                               NaN   \n",
       "3                                               NaN   \n",
       "4                                               NaN   \n",
       "\n",
       "  retweeted_status.quoted_status.place.country  \\\n",
       "0                                          NaN   \n",
       "1                                          NaN   \n",
       "2                                          NaN   \n",
       "3                                          NaN   \n",
       "4                                          NaN   \n",
       "\n",
       "   retweeted_status.quoted_status.place.contained_within  \\\n",
       "0                                                NaN       \n",
       "1                                                NaN       \n",
       "2                                                NaN       \n",
       "3                                                NaN       \n",
       "4                                                NaN       \n",
       "\n",
       "   retweeted_status.quoted_status.place.bounding_box.type  \\\n",
       "0                                                NaN        \n",
       "1                                                NaN        \n",
       "2                                                NaN        \n",
       "3                                                NaN        \n",
       "4                                                NaN        \n",
       "\n",
       "   retweeted_status.quoted_status.place.bounding_box.coordinates  \n",
       "0                                                NaN              \n",
       "1                                                NaN              \n",
       "2                                                NaN              \n",
       "3                                                NaN              \n",
       "4                                                NaN              \n",
       "\n",
       "[5 rows x 217 columns]"
      ]
     },
     "execution_count": 6,
     "metadata": {},
     "output_type": "execute_result"
    }
   ],
   "source": [
    "# and then we unpack...may take a few seconds...\n",
    "\n",
    "tweet_network_data = flatten_nested_dicts(tweet_network_data)\n",
    "tweet_network_data.head()"
   ]
  },
  {
   "cell_type": "markdown",
   "metadata": {
    "pycharm": {
     "name": "#%% md\n"
    }
   },
   "source": [
    "Next we create our edge list, which represents who retweets who.\n",
    "\n",
    "`user.screen_name` is the user that initated the retweet, whilst `retweeted_status.user.screen_name` is the original author of the tweet being retweeted.\n",
    "\n",
    "We can think of this edge like so...\n",
    "\n",
    "\n",
    "(`user.screen_name`) -[RETWEETED]-> (`retweeted_status.user.screen_name`)"
   ]
  },
  {
   "cell_type": "code",
   "execution_count": 7,
   "metadata": {
    "pycharm": {
     "name": "#%%\n"
    }
   },
   "outputs": [
    {
     "data": {
      "text/html": [
       "<div>\n",
       "<style scoped>\n",
       "    .dataframe tbody tr th:only-of-type {\n",
       "        vertical-align: middle;\n",
       "    }\n",
       "\n",
       "    .dataframe tbody tr th {\n",
       "        vertical-align: top;\n",
       "    }\n",
       "\n",
       "    .dataframe thead th {\n",
       "        text-align: right;\n",
       "    }\n",
       "</style>\n",
       "<table border=\"1\" class=\"dataframe\">\n",
       "  <thead>\n",
       "    <tr style=\"text-align: right;\">\n",
       "      <th></th>\n",
       "      <th>user.screen_name</th>\n",
       "      <th>retweeted_status.user.screen_name</th>\n",
       "    </tr>\n",
       "  </thead>\n",
       "  <tbody>\n",
       "    <tr>\n",
       "      <th>0</th>\n",
       "      <td>nanna39076633</td>\n",
       "      <td>Keir_Starmer</td>\n",
       "    </tr>\n",
       "    <tr>\n",
       "      <th>1</th>\n",
       "      <td>HenryForthwith</td>\n",
       "      <td>mrjamesob</td>\n",
       "    </tr>\n",
       "    <tr>\n",
       "      <th>2</th>\n",
       "      <td>F35514</td>\n",
       "      <td>NaN</td>\n",
       "    </tr>\n",
       "    <tr>\n",
       "      <th>3</th>\n",
       "      <td>MChawlaQC</td>\n",
       "      <td>NaN</td>\n",
       "    </tr>\n",
       "    <tr>\n",
       "      <th>4</th>\n",
       "      <td>R1chardEll10tt</td>\n",
       "      <td>MarinaHyde</td>\n",
       "    </tr>\n",
       "  </tbody>\n",
       "</table>\n",
       "</div>"
      ],
      "text/plain": [
       "  user.screen_name retweeted_status.user.screen_name\n",
       "0    nanna39076633                      Keir_Starmer\n",
       "1   HenryForthwith                         mrjamesob\n",
       "2           F35514                               NaN\n",
       "3        MChawlaQC                               NaN\n",
       "4   R1chardEll10tt                        MarinaHyde"
      ]
     },
     "execution_count": 7,
     "metadata": {},
     "output_type": "execute_result"
    }
   ],
   "source": [
    "edges = tweet_network_data[['user.screen_name', 'retweeted_status.user.screen_name']]\n",
    "edges.head()"
   ]
  },
  {
   "cell_type": "markdown",
   "metadata": {
    "pycharm": {
     "name": "#%% md\n"
    }
   },
   "source": [
    "Some of these tweets will not be Retweets, and so will have a `NaN` value in the `retweeted_status.user.screen_name` column. We can check with `edges.info()`"
   ]
  },
  {
   "cell_type": "code",
   "execution_count": 8,
   "metadata": {
    "pycharm": {
     "name": "#%%\n"
    }
   },
   "outputs": [
    {
     "name": "stdout",
     "output_type": "stream",
     "text": [
      "<class 'pandas.core.frame.DataFrame'>\n",
      "RangeIndex: 22989 entries, 0 to 22988\n",
      "Data columns (total 2 columns):\n",
      " #   Column                             Non-Null Count  Dtype \n",
      "---  ------                             --------------  ----- \n",
      " 0   user.screen_name                   22989 non-null  object\n",
      " 1   retweeted_status.user.screen_name  19556 non-null  object\n",
      "dtypes: object(2)\n",
      "memory usage: 359.3+ KB\n"
     ]
    }
   ],
   "source": [
    "#check the info\n",
    "edges.info()"
   ]
  },
  {
   "cell_type": "markdown",
   "metadata": {
    "pycharm": {
     "name": "#%% md\n"
    }
   },
   "source": [
    "Let's drop any rows that don't have a value under `retweeted_status.user.screen_name`"
   ]
  },
  {
   "cell_type": "code",
   "execution_count": 9,
   "metadata": {
    "pycharm": {
     "name": "#%%\n"
    }
   },
   "outputs": [
    {
     "name": "stdout",
     "output_type": "stream",
     "text": [
      "<class 'pandas.core.frame.DataFrame'>\n",
      "Int64Index: 19556 entries, 0 to 22988\n",
      "Data columns (total 2 columns):\n",
      " #   Column                             Non-Null Count  Dtype \n",
      "---  ------                             --------------  ----- \n",
      " 0   user.screen_name                   19556 non-null  object\n",
      " 1   retweeted_status.user.screen_name  19556 non-null  object\n",
      "dtypes: object(2)\n",
      "memory usage: 458.3+ KB\n"
     ]
    }
   ],
   "source": [
    "# we could be specific with a filter but we can also use .dropna as a shortcut\n",
    "\n",
    "edges = edges.dropna()\n",
    "edges.info()"
   ]
  },
  {
   "cell_type": "code",
   "execution_count": 10,
   "metadata": {
    "pycharm": {
     "name": "#%%\n"
    }
   },
   "outputs": [],
   "source": [
    "# Rename the columns so that it is clear which is source and which is target\n",
    "renaming = {'user.screen_name': 'source', 'retweeted_status.user.screen_name': 'target'}\n",
    "\n",
    "edges = edges.rename(columns=renaming)"
   ]
  },
  {
   "cell_type": "code",
   "execution_count": 11,
   "metadata": {
    "pycharm": {
     "name": "#%%\n"
    }
   },
   "outputs": [
    {
     "data": {
      "text/html": [
       "<div>\n",
       "<style scoped>\n",
       "    .dataframe tbody tr th:only-of-type {\n",
       "        vertical-align: middle;\n",
       "    }\n",
       "\n",
       "    .dataframe tbody tr th {\n",
       "        vertical-align: top;\n",
       "    }\n",
       "\n",
       "    .dataframe thead th {\n",
       "        text-align: right;\n",
       "    }\n",
       "</style>\n",
       "<table border=\"1\" class=\"dataframe\">\n",
       "  <thead>\n",
       "    <tr style=\"text-align: right;\">\n",
       "      <th></th>\n",
       "      <th>source</th>\n",
       "      <th>target</th>\n",
       "    </tr>\n",
       "  </thead>\n",
       "  <tbody>\n",
       "    <tr>\n",
       "      <th>0</th>\n",
       "      <td>nanna39076633</td>\n",
       "      <td>Keir_Starmer</td>\n",
       "    </tr>\n",
       "    <tr>\n",
       "      <th>1</th>\n",
       "      <td>HenryForthwith</td>\n",
       "      <td>mrjamesob</td>\n",
       "    </tr>\n",
       "    <tr>\n",
       "      <th>4</th>\n",
       "      <td>R1chardEll10tt</td>\n",
       "      <td>MarinaHyde</td>\n",
       "    </tr>\n",
       "    <tr>\n",
       "      <th>5</th>\n",
       "      <td>NNour50695694</td>\n",
       "      <td>LBC</td>\n",
       "    </tr>\n",
       "    <tr>\n",
       "      <th>6</th>\n",
       "      <td>Astraia18</td>\n",
       "      <td>meenalsworld</td>\n",
       "    </tr>\n",
       "  </tbody>\n",
       "</table>\n",
       "</div>"
      ],
      "text/plain": [
       "           source        target\n",
       "0   nanna39076633  Keir_Starmer\n",
       "1  HenryForthwith     mrjamesob\n",
       "4  R1chardEll10tt    MarinaHyde\n",
       "5   NNour50695694           LBC\n",
       "6       Astraia18  meenalsworld"
      ]
     },
     "execution_count": 11,
     "metadata": {},
     "output_type": "execute_result"
    }
   ],
   "source": [
    "edges.head()"
   ]
  },
  {
   "cell_type": "markdown",
   "metadata": {
    "pycharm": {
     "name": "#%% md\n"
    }
   },
   "source": [
    "We also said we were going to make sure we had just one edge between each pair, but assign the edge a 'weight' score that indicated how many times that retweeting had happened. We can do this quickly using Pandas Groupby"
   ]
  },
  {
   "cell_type": "code",
   "execution_count": 12,
   "metadata": {
    "pycharm": {
     "name": "#%%\n"
    }
   },
   "outputs": [
    {
     "data": {
      "text/html": [
       "<div>\n",
       "<style scoped>\n",
       "    .dataframe tbody tr th:only-of-type {\n",
       "        vertical-align: middle;\n",
       "    }\n",
       "\n",
       "    .dataframe tbody tr th {\n",
       "        vertical-align: top;\n",
       "    }\n",
       "\n",
       "    .dataframe thead th {\n",
       "        text-align: right;\n",
       "    }\n",
       "</style>\n",
       "<table border=\"1\" class=\"dataframe\">\n",
       "  <thead>\n",
       "    <tr style=\"text-align: right;\">\n",
       "      <th></th>\n",
       "      <th>source</th>\n",
       "      <th>target</th>\n",
       "      <th>weight</th>\n",
       "    </tr>\n",
       "  </thead>\n",
       "  <tbody>\n",
       "    <tr>\n",
       "      <th>0</th>\n",
       "      <td>nanna39076633</td>\n",
       "      <td>Keir_Starmer</td>\n",
       "      <td>1</td>\n",
       "    </tr>\n",
       "    <tr>\n",
       "      <th>1</th>\n",
       "      <td>HenryForthwith</td>\n",
       "      <td>mrjamesob</td>\n",
       "      <td>1</td>\n",
       "    </tr>\n",
       "    <tr>\n",
       "      <th>4</th>\n",
       "      <td>R1chardEll10tt</td>\n",
       "      <td>MarinaHyde</td>\n",
       "      <td>1</td>\n",
       "    </tr>\n",
       "    <tr>\n",
       "      <th>5</th>\n",
       "      <td>NNour50695694</td>\n",
       "      <td>LBC</td>\n",
       "      <td>1</td>\n",
       "    </tr>\n",
       "    <tr>\n",
       "      <th>6</th>\n",
       "      <td>Astraia18</td>\n",
       "      <td>meenalsworld</td>\n",
       "      <td>1</td>\n",
       "    </tr>\n",
       "    <tr>\n",
       "      <th>...</th>\n",
       "      <td>...</td>\n",
       "      <td>...</td>\n",
       "      <td>...</td>\n",
       "    </tr>\n",
       "    <tr>\n",
       "      <th>22983</th>\n",
       "      <td>brewdog1950</td>\n",
       "      <td>Bbmorg</td>\n",
       "      <td>1</td>\n",
       "    </tr>\n",
       "    <tr>\n",
       "      <th>22984</th>\n",
       "      <td>hausofrushdi</td>\n",
       "      <td>coaimpaul</td>\n",
       "      <td>1</td>\n",
       "    </tr>\n",
       "    <tr>\n",
       "      <th>22985</th>\n",
       "      <td>raywilson50</td>\n",
       "      <td>BorisJohnson_MP</td>\n",
       "      <td>1</td>\n",
       "    </tr>\n",
       "    <tr>\n",
       "      <th>22986</th>\n",
       "      <td>OLDMART01</td>\n",
       "      <td>GetBrexit_Done</td>\n",
       "      <td>1</td>\n",
       "    </tr>\n",
       "    <tr>\n",
       "      <th>22988</th>\n",
       "      <td>TangleScratch</td>\n",
       "      <td>JonathanPieNews</td>\n",
       "      <td>1</td>\n",
       "    </tr>\n",
       "  </tbody>\n",
       "</table>\n",
       "<p>19556 rows × 3 columns</p>\n",
       "</div>"
      ],
      "text/plain": [
       "               source           target  weight\n",
       "0       nanna39076633     Keir_Starmer       1\n",
       "1      HenryForthwith        mrjamesob       1\n",
       "4      R1chardEll10tt       MarinaHyde       1\n",
       "5       NNour50695694              LBC       1\n",
       "6           Astraia18     meenalsworld       1\n",
       "...               ...              ...     ...\n",
       "22983     brewdog1950           Bbmorg       1\n",
       "22984    hausofrushdi        coaimpaul       1\n",
       "22985     raywilson50  BorisJohnson_MP       1\n",
       "22986       OLDMART01   GetBrexit_Done       1\n",
       "22988   TangleScratch  JonathanPieNews       1\n",
       "\n",
       "[19556 rows x 3 columns]"
      ]
     },
     "execution_count": 12,
     "metadata": {},
     "output_type": "execute_result"
    }
   ],
   "source": [
    "# first we give every edge a weight of 1\n",
    "edges['weight'] = 1\n",
    "# Add weight\n",
    "edges"
   ]
  },
  {
   "cell_type": "code",
   "execution_count": 15,
   "metadata": {
    "pycharm": {
     "name": "#%%\n"
    }
   },
   "outputs": [
    {
     "data": {
      "text/html": [
       "<div>\n",
       "<style scoped>\n",
       "    .dataframe tbody tr th:only-of-type {\n",
       "        vertical-align: middle;\n",
       "    }\n",
       "\n",
       "    .dataframe tbody tr th {\n",
       "        vertical-align: top;\n",
       "    }\n",
       "\n",
       "    .dataframe thead th {\n",
       "        text-align: right;\n",
       "    }\n",
       "</style>\n",
       "<table border=\"1\" class=\"dataframe\">\n",
       "  <thead>\n",
       "    <tr style=\"text-align: right;\">\n",
       "      <th></th>\n",
       "      <th>source</th>\n",
       "      <th>target</th>\n",
       "      <th>weight</th>\n",
       "    </tr>\n",
       "  </thead>\n",
       "  <tbody>\n",
       "    <tr>\n",
       "      <th>6113</th>\n",
       "      <td>MarySchmoller</td>\n",
       "      <td>MarieAnnUK</td>\n",
       "      <td>6</td>\n",
       "    </tr>\n",
       "    <tr>\n",
       "      <th>1333</th>\n",
       "      <td>BrexitBuster</td>\n",
       "      <td>BrexitBuster</td>\n",
       "      <td>5</td>\n",
       "    </tr>\n",
       "    <tr>\n",
       "      <th>1414</th>\n",
       "      <td>BurtsBikeBits</td>\n",
       "      <td>StrongerStabler</td>\n",
       "      <td>5</td>\n",
       "    </tr>\n",
       "    <tr>\n",
       "      <th>18189</th>\n",
       "      <td>terriesinglet14</td>\n",
       "      <td>StrongerStabler</td>\n",
       "      <td>5</td>\n",
       "    </tr>\n",
       "    <tr>\n",
       "      <th>5845</th>\n",
       "      <td>M_Haynes01</td>\n",
       "      <td>mrjamesob</td>\n",
       "      <td>4</td>\n",
       "    </tr>\n",
       "    <tr>\n",
       "      <th>...</th>\n",
       "      <td>...</td>\n",
       "      <td>...</td>\n",
       "      <td>...</td>\n",
       "    </tr>\n",
       "    <tr>\n",
       "      <th>6427</th>\n",
       "      <td>MikeeeeV</td>\n",
       "      <td>OxfordDiplomat</td>\n",
       "      <td>1</td>\n",
       "    </tr>\n",
       "    <tr>\n",
       "      <th>6426</th>\n",
       "      <td>Mikecryer3</td>\n",
       "      <td>cue_bono</td>\n",
       "      <td>1</td>\n",
       "    </tr>\n",
       "    <tr>\n",
       "      <th>6424</th>\n",
       "      <td>Mikecryer3</td>\n",
       "      <td>Patricia344130</td>\n",
       "      <td>1</td>\n",
       "    </tr>\n",
       "    <tr>\n",
       "      <th>6423</th>\n",
       "      <td>Mikecryer3</td>\n",
       "      <td>GrahamJ18821678</td>\n",
       "      <td>1</td>\n",
       "    </tr>\n",
       "    <tr>\n",
       "      <th>9522</th>\n",
       "      <td>ThereWasACoo</td>\n",
       "      <td>Bill_Esterson</td>\n",
       "      <td>1</td>\n",
       "    </tr>\n",
       "  </tbody>\n",
       "</table>\n",
       "<p>19044 rows × 3 columns</p>\n",
       "</div>"
      ],
      "text/plain": [
       "                source           target  weight\n",
       "6113     MarySchmoller       MarieAnnUK       6\n",
       "1333      BrexitBuster     BrexitBuster       5\n",
       "1414     BurtsBikeBits  StrongerStabler       5\n",
       "18189  terriesinglet14  StrongerStabler       5\n",
       "5845        M_Haynes01        mrjamesob       4\n",
       "...                ...              ...     ...\n",
       "6427          MikeeeeV   OxfordDiplomat       1\n",
       "6426        Mikecryer3         cue_bono       1\n",
       "6424        Mikecryer3   Patricia344130       1\n",
       "6423        Mikecryer3  GrahamJ18821678       1\n",
       "9522      ThereWasACoo    Bill_Esterson       1\n",
       "\n",
       "[19044 rows x 3 columns]"
      ]
     },
     "execution_count": 15,
     "metadata": {},
     "output_type": "execute_result"
    }
   ],
   "source": [
    "# Then we group by both the source and the target columns and sum together the weights\n",
    "\n",
    "edges.groupby(['source', 'target'], as_index=False).sum().sort_values('weight', ascending=False)\n",
    "# Build the groupby to examine the weighting"
   ]
  },
  {
   "cell_type": "code",
   "execution_count": 17,
   "metadata": {
    "pycharm": {
     "name": "#%%\n"
    }
   },
   "outputs": [],
   "source": [
    "# Looks good, lets finalise that by overwriting our edges variable- no need to sort it\n",
    "edges = edges.groupby(['source', 'target'], as_index=False).sum().reset_index(drop=True)\n",
    "# Set the edge type\n",
    "edges['edge_type'] = 'retweeted'\n",
    "edges"
   ]
  },
  {
   "cell_type": "code",
   "execution_count": 18,
   "metadata": {
    "tags": [],
    "pycharm": {
     "name": "#%%\n"
    }
   },
   "outputs": [],
   "source": [
    "del edges['index']"
   ]
  },
  {
   "cell_type": "code",
   "execution_count": 19,
   "metadata": {
    "pycharm": {
     "name": "#%%\n"
    }
   },
   "outputs": [
    {
     "data": {
      "text/html": [
       "<div>\n",
       "<style scoped>\n",
       "    .dataframe tbody tr th:only-of-type {\n",
       "        vertical-align: middle;\n",
       "    }\n",
       "\n",
       "    .dataframe tbody tr th {\n",
       "        vertical-align: top;\n",
       "    }\n",
       "\n",
       "    .dataframe thead th {\n",
       "        text-align: right;\n",
       "    }\n",
       "</style>\n",
       "<table border=\"1\" class=\"dataframe\">\n",
       "  <thead>\n",
       "    <tr style=\"text-align: right;\">\n",
       "      <th></th>\n",
       "      <th>source</th>\n",
       "      <th>target</th>\n",
       "      <th>weight</th>\n",
       "      <th>edge_type</th>\n",
       "    </tr>\n",
       "  </thead>\n",
       "  <tbody>\n",
       "    <tr>\n",
       "      <th>0</th>\n",
       "      <td>0606Green</td>\n",
       "      <td>MarcherLord1</td>\n",
       "      <td>1</td>\n",
       "      <td>retweeted</td>\n",
       "    </tr>\n",
       "    <tr>\n",
       "      <th>1</th>\n",
       "      <td>0606Green</td>\n",
       "      <td>SocialM85897394</td>\n",
       "      <td>1</td>\n",
       "      <td>retweeted</td>\n",
       "    </tr>\n",
       "    <tr>\n",
       "      <th>2</th>\n",
       "      <td>0ctavia</td>\n",
       "      <td>mrjamesob</td>\n",
       "      <td>1</td>\n",
       "      <td>retweeted</td>\n",
       "    </tr>\n",
       "    <tr>\n",
       "      <th>3</th>\n",
       "      <td>100glitterstars</td>\n",
       "      <td>RoddyQC</td>\n",
       "      <td>1</td>\n",
       "      <td>retweeted</td>\n",
       "    </tr>\n",
       "    <tr>\n",
       "      <th>4</th>\n",
       "      <td>101Cognitive</td>\n",
       "      <td>MattChorley</td>\n",
       "      <td>1</td>\n",
       "      <td>retweeted</td>\n",
       "    </tr>\n",
       "  </tbody>\n",
       "</table>\n",
       "</div>"
      ],
      "text/plain": [
       "            source           target  weight  edge_type\n",
       "0        0606Green     MarcherLord1       1  retweeted\n",
       "1        0606Green  SocialM85897394       1  retweeted\n",
       "2          0ctavia        mrjamesob       1  retweeted\n",
       "3  100glitterstars          RoddyQC       1  retweeted\n",
       "4     101Cognitive      MattChorley       1  retweeted"
      ]
     },
     "execution_count": 19,
     "metadata": {},
     "output_type": "execute_result"
    }
   ],
   "source": [
    "edges.head()"
   ]
  },
  {
   "cell_type": "markdown",
   "metadata": {
    "pycharm": {
     "name": "#%% md\n"
    }
   },
   "source": [
    "# Nodes\n",
    "This dataframe will be a list of unique nodes and we will assign some attributes to the nodes that we can use in Gephi later on.\n",
    "\n",
    "First we take both the source and target columns, and append one to the other to make a long list of every user in the edges.\n",
    "\n",
    "We drop duplicates as users may be mentioned multiple times, and then convert to a dataframe using `.to_frame` rather than a single column, specifying the dataframe's one column name to be `id`."
   ]
  },
  {
   "cell_type": "code",
   "execution_count": 20,
   "metadata": {
    "pycharm": {
     "name": "#%%\n"
    }
   },
   "outputs": [
    {
     "data": {
      "text/plain": [
       "0              0606Green\n",
       "1              0606Green\n",
       "2                0ctavia\n",
       "3        100glitterstars\n",
       "4           101Cognitive\n",
       "              ...       \n",
       "19039    alfonslopeztena\n",
       "19040          SueSuezep\n",
       "19041        I_am_Dan___\n",
       "19042      Bill_Esterson\n",
       "19043       redhistorian\n",
       "Length: 38088, dtype: object"
      ]
     },
     "execution_count": 20,
     "metadata": {},
     "output_type": "execute_result"
    }
   ],
   "source": [
    "# first we take our source and target column, and stack them on top of each other\n",
    "# This will create a list of every user in our edge list\n",
    "\n",
    "node_names = edges['source'].append(edges['target'])\n",
    "node_names"
   ]
  },
  {
   "cell_type": "code",
   "execution_count": 22,
   "metadata": {
    "pycharm": {
     "name": "#%%\n"
    }
   },
   "outputs": [
    {
     "data": {
      "text/html": [
       "<div>\n",
       "<style scoped>\n",
       "    .dataframe tbody tr th:only-of-type {\n",
       "        vertical-align: middle;\n",
       "    }\n",
       "\n",
       "    .dataframe tbody tr th {\n",
       "        vertical-align: top;\n",
       "    }\n",
       "\n",
       "    .dataframe thead th {\n",
       "        text-align: right;\n",
       "    }\n",
       "</style>\n",
       "<table border=\"1\" class=\"dataframe\">\n",
       "  <thead>\n",
       "    <tr style=\"text-align: right;\">\n",
       "      <th></th>\n",
       "      <th>id</th>\n",
       "    </tr>\n",
       "  </thead>\n",
       "  <tbody>\n",
       "    <tr>\n",
       "      <th>0</th>\n",
       "      <td>0606Green</td>\n",
       "    </tr>\n",
       "    <tr>\n",
       "      <th>1</th>\n",
       "      <td>0ctavia</td>\n",
       "    </tr>\n",
       "    <tr>\n",
       "      <th>2</th>\n",
       "      <td>100glitterstars</td>\n",
       "    </tr>\n",
       "    <tr>\n",
       "      <th>3</th>\n",
       "      <td>101Cognitive</td>\n",
       "    </tr>\n",
       "    <tr>\n",
       "      <th>4</th>\n",
       "      <td>10dam</td>\n",
       "    </tr>\n",
       "    <tr>\n",
       "      <th>...</th>\n",
       "      <td>...</td>\n",
       "    </tr>\n",
       "    <tr>\n",
       "      <th>12883</th>\n",
       "      <td>shane_r</td>\n",
       "    </tr>\n",
       "    <tr>\n",
       "      <th>12884</th>\n",
       "      <td>UKfollowgain</td>\n",
       "    </tr>\n",
       "    <tr>\n",
       "      <th>12885</th>\n",
       "      <td>jonnybid</td>\n",
       "    </tr>\n",
       "    <tr>\n",
       "      <th>12886</th>\n",
       "      <td>paulmotty</td>\n",
       "    </tr>\n",
       "    <tr>\n",
       "      <th>12887</th>\n",
       "      <td>I_am_Dan___</td>\n",
       "    </tr>\n",
       "  </tbody>\n",
       "</table>\n",
       "<p>12888 rows × 1 columns</p>\n",
       "</div>"
      ],
      "text/plain": [
       "                    id\n",
       "0            0606Green\n",
       "1              0ctavia\n",
       "2      100glitterstars\n",
       "3         101Cognitive\n",
       "4                10dam\n",
       "...                ...\n",
       "12883          shane_r\n",
       "12884     UKfollowgain\n",
       "12885         jonnybid\n",
       "12886        paulmotty\n",
       "12887      I_am_Dan___\n",
       "\n",
       "[12888 rows x 1 columns]"
      ]
     },
     "execution_count": 22,
     "metadata": {},
     "output_type": "execute_result"
    }
   ],
   "source": [
    "# We have duplicates because our edge list relies on duplicating names to properly represent\n",
    "# how one user may have formed edges between multiple other nodes.\n",
    "\n",
    "# A node list should be a list of unique nodes and their attributes, \n",
    "# so we will drop the duplicates and turn the Series into a DataFrame\n",
    "unique_nodes = node_names.drop_duplicates().to_frame(name='id').reset_index(drop=True)\n",
    "\n",
    "unique_nodes"
   ]
  },
  {
   "cell_type": "markdown",
   "metadata": {
    "pycharm": {
     "name": "#%% md\n"
    }
   },
   "source": [
    "Gephi will use the `id` column to match nodes in the nodes list to the nodes mentioned in the edge list. Finally we provide a `Label` column, which is the same as the `id` column but Gephi likes to have a label column which is what is displayed if node labels are on."
   ]
  },
  {
   "cell_type": "code",
   "execution_count": 23,
   "metadata": {
    "pycharm": {
     "name": "#%%\n"
    }
   },
   "outputs": [
    {
     "data": {
      "text/html": [
       "<div>\n",
       "<style scoped>\n",
       "    .dataframe tbody tr th:only-of-type {\n",
       "        vertical-align: middle;\n",
       "    }\n",
       "\n",
       "    .dataframe tbody tr th {\n",
       "        vertical-align: top;\n",
       "    }\n",
       "\n",
       "    .dataframe thead th {\n",
       "        text-align: right;\n",
       "    }\n",
       "</style>\n",
       "<table border=\"1\" class=\"dataframe\">\n",
       "  <thead>\n",
       "    <tr style=\"text-align: right;\">\n",
       "      <th></th>\n",
       "      <th>id</th>\n",
       "      <th>Label</th>\n",
       "    </tr>\n",
       "  </thead>\n",
       "  <tbody>\n",
       "    <tr>\n",
       "      <th>0</th>\n",
       "      <td>0606Green</td>\n",
       "      <td>0606Green</td>\n",
       "    </tr>\n",
       "    <tr>\n",
       "      <th>1</th>\n",
       "      <td>0ctavia</td>\n",
       "      <td>0ctavia</td>\n",
       "    </tr>\n",
       "    <tr>\n",
       "      <th>2</th>\n",
       "      <td>100glitterstars</td>\n",
       "      <td>100glitterstars</td>\n",
       "    </tr>\n",
       "    <tr>\n",
       "      <th>3</th>\n",
       "      <td>101Cognitive</td>\n",
       "      <td>101Cognitive</td>\n",
       "    </tr>\n",
       "    <tr>\n",
       "      <th>4</th>\n",
       "      <td>10dam</td>\n",
       "      <td>10dam</td>\n",
       "    </tr>\n",
       "  </tbody>\n",
       "</table>\n",
       "</div>"
      ],
      "text/plain": [
       "                id            Label\n",
       "0        0606Green        0606Green\n",
       "1          0ctavia          0ctavia\n",
       "2  100glitterstars  100glitterstars\n",
       "3     101Cognitive     101Cognitive\n",
       "4            10dam            10dam"
      ]
     },
     "execution_count": 23,
     "metadata": {},
     "output_type": "execute_result"
    }
   ],
   "source": [
    "\n",
    "# Set the label\n",
    "unique_nodes['Label'] = unique_nodes['id']\n",
    "unique_nodes.head()"
   ]
  },
  {
   "cell_type": "markdown",
   "metadata": {
    "pycharm": {
     "name": "#%% md\n"
    }
   },
   "source": [
    "We want to ensure each user node has its `user.statuses_count` and `user.followers_count` associated. We will need to get these from our original dataframe."
   ]
  },
  {
   "cell_type": "code",
   "execution_count": 24,
   "metadata": {
    "pycharm": {
     "name": "#%%\n"
    }
   },
   "outputs": [
    {
     "data": {
      "text/html": [
       "<div>\n",
       "<style scoped>\n",
       "    .dataframe tbody tr th:only-of-type {\n",
       "        vertical-align: middle;\n",
       "    }\n",
       "\n",
       "    .dataframe tbody tr th {\n",
       "        vertical-align: top;\n",
       "    }\n",
       "\n",
       "    .dataframe thead th {\n",
       "        text-align: right;\n",
       "    }\n",
       "</style>\n",
       "<table border=\"1\" class=\"dataframe\">\n",
       "  <thead>\n",
       "    <tr style=\"text-align: right;\">\n",
       "      <th></th>\n",
       "      <th>user.screen_name</th>\n",
       "      <th>user.followers_count</th>\n",
       "      <th>user.statuses_count</th>\n",
       "    </tr>\n",
       "  </thead>\n",
       "  <tbody>\n",
       "    <tr>\n",
       "      <th>0</th>\n",
       "      <td>nanna39076633</td>\n",
       "      <td>751</td>\n",
       "      <td>35166</td>\n",
       "    </tr>\n",
       "    <tr>\n",
       "      <th>1</th>\n",
       "      <td>HenryForthwith</td>\n",
       "      <td>420</td>\n",
       "      <td>21602</td>\n",
       "    </tr>\n",
       "    <tr>\n",
       "      <th>2</th>\n",
       "      <td>F35514</td>\n",
       "      <td>10</td>\n",
       "      <td>1715</td>\n",
       "    </tr>\n",
       "    <tr>\n",
       "      <th>3</th>\n",
       "      <td>MChawlaQC</td>\n",
       "      <td>9265</td>\n",
       "      <td>540</td>\n",
       "    </tr>\n",
       "    <tr>\n",
       "      <th>4</th>\n",
       "      <td>R1chardEll10tt</td>\n",
       "      <td>114</td>\n",
       "      <td>477</td>\n",
       "    </tr>\n",
       "  </tbody>\n",
       "</table>\n",
       "</div>"
      ],
      "text/plain": [
       "  user.screen_name  user.followers_count  user.statuses_count\n",
       "0    nanna39076633                   751                35166\n",
       "1   HenryForthwith                   420                21602\n",
       "2           F35514                    10                 1715\n",
       "3        MChawlaQC                  9265                  540\n",
       "4   R1chardEll10tt                   114                  477"
      ]
     },
     "execution_count": 24,
     "metadata": {},
     "output_type": "execute_result"
    }
   ],
   "source": [
    "attribute_columns = ['user.screen_name','user.followers_count','user.statuses_count']\n",
    "user_data = tweet_network_data[attribute_columns]\n",
    "user_data.head()"
   ]
  },
  {
   "cell_type": "markdown",
   "metadata": {
    "pycharm": {
     "name": "#%% md\n"
    }
   },
   "source": [
    "Currently user_data is essentially a list of tweets showing just the username, and then the status count and follower count of the user at the point they tweeted. This means that a user may occur more than once in the list, with different values. \n",
    "\n",
    "The solution is to ask Pandas to find all the tweets in the dataset for each user, and then choose the highest values it can find in those tweets for each user. We do this with `.groupby` and `.max` to aggregate the data."
   ]
  },
  {
   "cell_type": "code",
   "execution_count": 26,
   "metadata": {
    "pycharm": {
     "name": "#%%\n"
    }
   },
   "outputs": [
    {
     "data": {
      "text/html": [
       "<div>\n",
       "<style scoped>\n",
       "    .dataframe tbody tr th:only-of-type {\n",
       "        vertical-align: middle;\n",
       "    }\n",
       "\n",
       "    .dataframe tbody tr th {\n",
       "        vertical-align: top;\n",
       "    }\n",
       "\n",
       "    .dataframe thead th {\n",
       "        text-align: right;\n",
       "    }\n",
       "</style>\n",
       "<table border=\"1\" class=\"dataframe\">\n",
       "  <thead>\n",
       "    <tr style=\"text-align: right;\">\n",
       "      <th></th>\n",
       "      <th>user.screen_name</th>\n",
       "      <th>user.followers_count</th>\n",
       "      <th>user.statuses_count</th>\n",
       "    </tr>\n",
       "  </thead>\n",
       "  <tbody>\n",
       "    <tr>\n",
       "      <th>0</th>\n",
       "      <td>001Gunner</td>\n",
       "      <td>24</td>\n",
       "      <td>1127</td>\n",
       "    </tr>\n",
       "    <tr>\n",
       "      <th>1</th>\n",
       "      <td>0606Green</td>\n",
       "      <td>815</td>\n",
       "      <td>181116</td>\n",
       "    </tr>\n",
       "    <tr>\n",
       "      <th>2</th>\n",
       "      <td>0_ayanna</td>\n",
       "      <td>97</td>\n",
       "      <td>9508</td>\n",
       "    </tr>\n",
       "    <tr>\n",
       "      <th>3</th>\n",
       "      <td>0ctavia</td>\n",
       "      <td>2115</td>\n",
       "      <td>210311</td>\n",
       "    </tr>\n",
       "    <tr>\n",
       "      <th>4</th>\n",
       "      <td>100glitterstars</td>\n",
       "      <td>205</td>\n",
       "      <td>46651</td>\n",
       "    </tr>\n",
       "    <tr>\n",
       "      <th>...</th>\n",
       "      <td>...</td>\n",
       "      <td>...</td>\n",
       "      <td>...</td>\n",
       "    </tr>\n",
       "    <tr>\n",
       "      <th>14200</th>\n",
       "      <td>zippydazipster</td>\n",
       "      <td>2474</td>\n",
       "      <td>323594</td>\n",
       "    </tr>\n",
       "    <tr>\n",
       "      <th>14201</th>\n",
       "      <td>zithertilldawn</td>\n",
       "      <td>457</td>\n",
       "      <td>11477</td>\n",
       "    </tr>\n",
       "    <tr>\n",
       "      <th>14202</th>\n",
       "      <td>zodiacbanana</td>\n",
       "      <td>222</td>\n",
       "      <td>2542</td>\n",
       "    </tr>\n",
       "    <tr>\n",
       "      <th>14203</th>\n",
       "      <td>zort70</td>\n",
       "      <td>1030</td>\n",
       "      <td>48651</td>\n",
       "    </tr>\n",
       "    <tr>\n",
       "      <th>14204</th>\n",
       "      <td>zuluzim909</td>\n",
       "      <td>534</td>\n",
       "      <td>210507</td>\n",
       "    </tr>\n",
       "  </tbody>\n",
       "</table>\n",
       "<p>14205 rows × 3 columns</p>\n",
       "</div>"
      ],
      "text/plain": [
       "      user.screen_name  user.followers_count  user.statuses_count\n",
       "0            001Gunner                    24                 1127\n",
       "1            0606Green                   815               181116\n",
       "2             0_ayanna                    97                 9508\n",
       "3              0ctavia                  2115               210311\n",
       "4      100glitterstars                   205                46651\n",
       "...                ...                   ...                  ...\n",
       "14200   zippydazipster                  2474               323594\n",
       "14201   zithertilldawn                   457                11477\n",
       "14202     zodiacbanana                   222                 2542\n",
       "14203           zort70                  1030                48651\n",
       "14204       zuluzim909                   534               210507\n",
       "\n",
       "[14205 rows x 3 columns]"
      ]
     },
     "execution_count": 26,
     "metadata": {},
     "output_type": "execute_result"
    }
   ],
   "source": [
    "user_data = user_data.groupby('user.screen_name').max().reset_index()    #group by screen name and get the max values\n",
    "user_data "
   ]
  },
  {
   "cell_type": "markdown",
   "metadata": {
    "pycharm": {
     "name": "#%% md\n"
    }
   },
   "source": [
    "For our list of nodes, we now want to find the corresponding data in our `user_data` variable, for each user and include it in our `unique_nodes` list.\n",
    "\n",
    "We can do this with a \"left `.merge`\" which matches the two dataframes on a specified column and then copies the data from the \"right\" dataframe to the corresponding rows in the \"left\" dataframe."
   ]
  },
  {
   "cell_type": "code",
   "execution_count": 27,
   "metadata": {
    "pycharm": {
     "name": "#%%\n"
    }
   },
   "outputs": [],
   "source": [
    "# nodes is on the left, user_data is on the right\n",
    "\n",
    "nodes = unique_nodes.merge(user_data, left_on='id', right_on='user.screen_name', how='left')      #merge the two dataframes"
   ]
  },
  {
   "cell_type": "code",
   "execution_count": 28,
   "metadata": {
    "pycharm": {
     "name": "#%%\n"
    }
   },
   "outputs": [
    {
     "data": {
      "text/html": [
       "<div>\n",
       "<style scoped>\n",
       "    .dataframe tbody tr th:only-of-type {\n",
       "        vertical-align: middle;\n",
       "    }\n",
       "\n",
       "    .dataframe tbody tr th {\n",
       "        vertical-align: top;\n",
       "    }\n",
       "\n",
       "    .dataframe thead th {\n",
       "        text-align: right;\n",
       "    }\n",
       "</style>\n",
       "<table border=\"1\" class=\"dataframe\">\n",
       "  <thead>\n",
       "    <tr style=\"text-align: right;\">\n",
       "      <th></th>\n",
       "      <th>id</th>\n",
       "      <th>Label</th>\n",
       "      <th>user.screen_name</th>\n",
       "      <th>user.followers_count</th>\n",
       "      <th>user.statuses_count</th>\n",
       "    </tr>\n",
       "  </thead>\n",
       "  <tbody>\n",
       "    <tr>\n",
       "      <th>0</th>\n",
       "      <td>0606Green</td>\n",
       "      <td>0606Green</td>\n",
       "      <td>0606Green</td>\n",
       "      <td>815.0</td>\n",
       "      <td>181116.0</td>\n",
       "    </tr>\n",
       "    <tr>\n",
       "      <th>1</th>\n",
       "      <td>0ctavia</td>\n",
       "      <td>0ctavia</td>\n",
       "      <td>0ctavia</td>\n",
       "      <td>2115.0</td>\n",
       "      <td>210311.0</td>\n",
       "    </tr>\n",
       "    <tr>\n",
       "      <th>2</th>\n",
       "      <td>100glitterstars</td>\n",
       "      <td>100glitterstars</td>\n",
       "      <td>100glitterstars</td>\n",
       "      <td>205.0</td>\n",
       "      <td>46651.0</td>\n",
       "    </tr>\n",
       "    <tr>\n",
       "      <th>3</th>\n",
       "      <td>101Cognitive</td>\n",
       "      <td>101Cognitive</td>\n",
       "      <td>101Cognitive</td>\n",
       "      <td>207.0</td>\n",
       "      <td>7334.0</td>\n",
       "    </tr>\n",
       "    <tr>\n",
       "      <th>4</th>\n",
       "      <td>10dam</td>\n",
       "      <td>10dam</td>\n",
       "      <td>10dam</td>\n",
       "      <td>50.0</td>\n",
       "      <td>12432.0</td>\n",
       "    </tr>\n",
       "    <tr>\n",
       "      <th>...</th>\n",
       "      <td>...</td>\n",
       "      <td>...</td>\n",
       "      <td>...</td>\n",
       "      <td>...</td>\n",
       "      <td>...</td>\n",
       "    </tr>\n",
       "    <tr>\n",
       "      <th>12883</th>\n",
       "      <td>shane_r</td>\n",
       "      <td>shane_r</td>\n",
       "      <td>shane_r</td>\n",
       "      <td>2063.0</td>\n",
       "      <td>10916.0</td>\n",
       "    </tr>\n",
       "    <tr>\n",
       "      <th>12884</th>\n",
       "      <td>UKfollowgain</td>\n",
       "      <td>UKfollowgain</td>\n",
       "      <td>UKfollowgain</td>\n",
       "      <td>10023.0</td>\n",
       "      <td>58686.0</td>\n",
       "    </tr>\n",
       "    <tr>\n",
       "      <th>12885</th>\n",
       "      <td>jonnybid</td>\n",
       "      <td>jonnybid</td>\n",
       "      <td>NaN</td>\n",
       "      <td>NaN</td>\n",
       "      <td>NaN</td>\n",
       "    </tr>\n",
       "    <tr>\n",
       "      <th>12886</th>\n",
       "      <td>paulmotty</td>\n",
       "      <td>paulmotty</td>\n",
       "      <td>paulmotty</td>\n",
       "      <td>9652.0</td>\n",
       "      <td>36952.0</td>\n",
       "    </tr>\n",
       "    <tr>\n",
       "      <th>12887</th>\n",
       "      <td>I_am_Dan___</td>\n",
       "      <td>I_am_Dan___</td>\n",
       "      <td>I_am_Dan___</td>\n",
       "      <td>67.0</td>\n",
       "      <td>333.0</td>\n",
       "    </tr>\n",
       "  </tbody>\n",
       "</table>\n",
       "<p>12888 rows × 5 columns</p>\n",
       "</div>"
      ],
      "text/plain": [
       "                    id            Label user.screen_name  \\\n",
       "0            0606Green        0606Green        0606Green   \n",
       "1              0ctavia          0ctavia          0ctavia   \n",
       "2      100glitterstars  100glitterstars  100glitterstars   \n",
       "3         101Cognitive     101Cognitive     101Cognitive   \n",
       "4                10dam            10dam            10dam   \n",
       "...                ...              ...              ...   \n",
       "12883          shane_r          shane_r          shane_r   \n",
       "12884     UKfollowgain     UKfollowgain     UKfollowgain   \n",
       "12885         jonnybid         jonnybid              NaN   \n",
       "12886        paulmotty        paulmotty        paulmotty   \n",
       "12887      I_am_Dan___      I_am_Dan___      I_am_Dan___   \n",
       "\n",
       "       user.followers_count  user.statuses_count  \n",
       "0                     815.0             181116.0  \n",
       "1                    2115.0             210311.0  \n",
       "2                     205.0              46651.0  \n",
       "3                     207.0               7334.0  \n",
       "4                      50.0              12432.0  \n",
       "...                     ...                  ...  \n",
       "12883                2063.0              10916.0  \n",
       "12884               10023.0              58686.0  \n",
       "12885                   NaN                  NaN  \n",
       "12886                9652.0              36952.0  \n",
       "12887                  67.0                333.0  \n",
       "\n",
       "[12888 rows x 5 columns]"
      ]
     },
     "execution_count": 28,
     "metadata": {},
     "output_type": "execute_result"
    }
   ],
   "source": [
    "nodes"
   ]
  },
  {
   "cell_type": "code",
   "execution_count": 29,
   "metadata": {
    "pycharm": {
     "name": "#%%\n"
    }
   },
   "outputs": [
    {
     "data": {
      "text/html": [
       "<div>\n",
       "<style scoped>\n",
       "    .dataframe tbody tr th:only-of-type {\n",
       "        vertical-align: middle;\n",
       "    }\n",
       "\n",
       "    .dataframe tbody tr th {\n",
       "        vertical-align: top;\n",
       "    }\n",
       "\n",
       "    .dataframe thead th {\n",
       "        text-align: right;\n",
       "    }\n",
       "</style>\n",
       "<table border=\"1\" class=\"dataframe\">\n",
       "  <thead>\n",
       "    <tr style=\"text-align: right;\">\n",
       "      <th></th>\n",
       "      <th>id</th>\n",
       "      <th>Label</th>\n",
       "      <th>user.followers_count</th>\n",
       "      <th>user.statuses_count</th>\n",
       "    </tr>\n",
       "  </thead>\n",
       "  <tbody>\n",
       "    <tr>\n",
       "      <th>0</th>\n",
       "      <td>0606Green</td>\n",
       "      <td>0606Green</td>\n",
       "      <td>815.0</td>\n",
       "      <td>181116.0</td>\n",
       "    </tr>\n",
       "    <tr>\n",
       "      <th>1</th>\n",
       "      <td>0ctavia</td>\n",
       "      <td>0ctavia</td>\n",
       "      <td>2115.0</td>\n",
       "      <td>210311.0</td>\n",
       "    </tr>\n",
       "    <tr>\n",
       "      <th>2</th>\n",
       "      <td>100glitterstars</td>\n",
       "      <td>100glitterstars</td>\n",
       "      <td>205.0</td>\n",
       "      <td>46651.0</td>\n",
       "    </tr>\n",
       "    <tr>\n",
       "      <th>3</th>\n",
       "      <td>101Cognitive</td>\n",
       "      <td>101Cognitive</td>\n",
       "      <td>207.0</td>\n",
       "      <td>7334.0</td>\n",
       "    </tr>\n",
       "    <tr>\n",
       "      <th>4</th>\n",
       "      <td>10dam</td>\n",
       "      <td>10dam</td>\n",
       "      <td>50.0</td>\n",
       "      <td>12432.0</td>\n",
       "    </tr>\n",
       "    <tr>\n",
       "      <th>...</th>\n",
       "      <td>...</td>\n",
       "      <td>...</td>\n",
       "      <td>...</td>\n",
       "      <td>...</td>\n",
       "    </tr>\n",
       "    <tr>\n",
       "      <th>12883</th>\n",
       "      <td>shane_r</td>\n",
       "      <td>shane_r</td>\n",
       "      <td>2063.0</td>\n",
       "      <td>10916.0</td>\n",
       "    </tr>\n",
       "    <tr>\n",
       "      <th>12884</th>\n",
       "      <td>UKfollowgain</td>\n",
       "      <td>UKfollowgain</td>\n",
       "      <td>10023.0</td>\n",
       "      <td>58686.0</td>\n",
       "    </tr>\n",
       "    <tr>\n",
       "      <th>12885</th>\n",
       "      <td>jonnybid</td>\n",
       "      <td>jonnybid</td>\n",
       "      <td>NaN</td>\n",
       "      <td>NaN</td>\n",
       "    </tr>\n",
       "    <tr>\n",
       "      <th>12886</th>\n",
       "      <td>paulmotty</td>\n",
       "      <td>paulmotty</td>\n",
       "      <td>9652.0</td>\n",
       "      <td>36952.0</td>\n",
       "    </tr>\n",
       "    <tr>\n",
       "      <th>12887</th>\n",
       "      <td>I_am_Dan___</td>\n",
       "      <td>I_am_Dan___</td>\n",
       "      <td>67.0</td>\n",
       "      <td>333.0</td>\n",
       "    </tr>\n",
       "  </tbody>\n",
       "</table>\n",
       "<p>12888 rows × 4 columns</p>\n",
       "</div>"
      ],
      "text/plain": [
       "                    id            Label  user.followers_count  \\\n",
       "0            0606Green        0606Green                 815.0   \n",
       "1              0ctavia          0ctavia                2115.0   \n",
       "2      100glitterstars  100glitterstars                 205.0   \n",
       "3         101Cognitive     101Cognitive                 207.0   \n",
       "4                10dam            10dam                  50.0   \n",
       "...                ...              ...                   ...   \n",
       "12883          shane_r          shane_r                2063.0   \n",
       "12884     UKfollowgain     UKfollowgain               10023.0   \n",
       "12885         jonnybid         jonnybid                   NaN   \n",
       "12886        paulmotty        paulmotty                9652.0   \n",
       "12887      I_am_Dan___      I_am_Dan___                  67.0   \n",
       "\n",
       "       user.statuses_count  \n",
       "0                 181116.0  \n",
       "1                 210311.0  \n",
       "2                  46651.0  \n",
       "3                   7334.0  \n",
       "4                  12432.0  \n",
       "...                    ...  \n",
       "12883              10916.0  \n",
       "12884              58686.0  \n",
       "12885                  NaN  \n",
       "12886              36952.0  \n",
       "12887                333.0  \n",
       "\n",
       "[12888 rows x 4 columns]"
      ]
     },
     "execution_count": 29,
     "metadata": {},
     "output_type": "execute_result"
    }
   ],
   "source": [
    "# no need for the extra user.screen_name column\n",
    "nodes = nodes.drop(columns=['user.screen_name'])    #drop the screen name column\n",
    "nodes"
   ]
  },
  {
   "cell_type": "code",
   "execution_count": 30,
   "metadata": {
    "pycharm": {
     "name": "#%%\n"
    }
   },
   "outputs": [
    {
     "data": {
      "text/html": [
       "<div>\n",
       "<style scoped>\n",
       "    .dataframe tbody tr th:only-of-type {\n",
       "        vertical-align: middle;\n",
       "    }\n",
       "\n",
       "    .dataframe tbody tr th {\n",
       "        vertical-align: top;\n",
       "    }\n",
       "\n",
       "    .dataframe thead th {\n",
       "        text-align: right;\n",
       "    }\n",
       "</style>\n",
       "<table border=\"1\" class=\"dataframe\">\n",
       "  <thead>\n",
       "    <tr style=\"text-align: right;\">\n",
       "      <th></th>\n",
       "      <th>source</th>\n",
       "      <th>target</th>\n",
       "      <th>weight</th>\n",
       "      <th>edge_type</th>\n",
       "    </tr>\n",
       "  </thead>\n",
       "  <tbody>\n",
       "    <tr>\n",
       "      <th>0</th>\n",
       "      <td>0606Green</td>\n",
       "      <td>MarcherLord1</td>\n",
       "      <td>1</td>\n",
       "      <td>retweeted</td>\n",
       "    </tr>\n",
       "    <tr>\n",
       "      <th>1</th>\n",
       "      <td>0606Green</td>\n",
       "      <td>SocialM85897394</td>\n",
       "      <td>1</td>\n",
       "      <td>retweeted</td>\n",
       "    </tr>\n",
       "    <tr>\n",
       "      <th>2</th>\n",
       "      <td>0ctavia</td>\n",
       "      <td>mrjamesob</td>\n",
       "      <td>1</td>\n",
       "      <td>retweeted</td>\n",
       "    </tr>\n",
       "    <tr>\n",
       "      <th>3</th>\n",
       "      <td>100glitterstars</td>\n",
       "      <td>RoddyQC</td>\n",
       "      <td>1</td>\n",
       "      <td>retweeted</td>\n",
       "    </tr>\n",
       "    <tr>\n",
       "      <th>4</th>\n",
       "      <td>101Cognitive</td>\n",
       "      <td>MattChorley</td>\n",
       "      <td>1</td>\n",
       "      <td>retweeted</td>\n",
       "    </tr>\n",
       "    <tr>\n",
       "      <th>...</th>\n",
       "      <td>...</td>\n",
       "      <td>...</td>\n",
       "      <td>...</td>\n",
       "      <td>...</td>\n",
       "    </tr>\n",
       "    <tr>\n",
       "      <th>19039</th>\n",
       "      <td>zippydazipster</td>\n",
       "      <td>alfonslopeztena</td>\n",
       "      <td>1</td>\n",
       "      <td>retweeted</td>\n",
       "    </tr>\n",
       "    <tr>\n",
       "      <th>19040</th>\n",
       "      <td>zodiacbanana</td>\n",
       "      <td>SueSuezep</td>\n",
       "      <td>1</td>\n",
       "      <td>retweeted</td>\n",
       "    </tr>\n",
       "    <tr>\n",
       "      <th>19041</th>\n",
       "      <td>zort70</td>\n",
       "      <td>I_am_Dan___</td>\n",
       "      <td>1</td>\n",
       "      <td>retweeted</td>\n",
       "    </tr>\n",
       "    <tr>\n",
       "      <th>19042</th>\n",
       "      <td>zuluzim909</td>\n",
       "      <td>Bill_Esterson</td>\n",
       "      <td>1</td>\n",
       "      <td>retweeted</td>\n",
       "    </tr>\n",
       "    <tr>\n",
       "      <th>19043</th>\n",
       "      <td>zuluzim909</td>\n",
       "      <td>redhistorian</td>\n",
       "      <td>2</td>\n",
       "      <td>retweeted</td>\n",
       "    </tr>\n",
       "  </tbody>\n",
       "</table>\n",
       "<p>19044 rows × 4 columns</p>\n",
       "</div>"
      ],
      "text/plain": [
       "                source           target  weight  edge_type\n",
       "0            0606Green     MarcherLord1       1  retweeted\n",
       "1            0606Green  SocialM85897394       1  retweeted\n",
       "2              0ctavia        mrjamesob       1  retweeted\n",
       "3      100glitterstars          RoddyQC       1  retweeted\n",
       "4         101Cognitive      MattChorley       1  retweeted\n",
       "...                ...              ...     ...        ...\n",
       "19039   zippydazipster  alfonslopeztena       1  retweeted\n",
       "19040     zodiacbanana        SueSuezep       1  retweeted\n",
       "19041           zort70      I_am_Dan___       1  retweeted\n",
       "19042       zuluzim909    Bill_Esterson       1  retweeted\n",
       "19043       zuluzim909     redhistorian       2  retweeted\n",
       "\n",
       "[19044 rows x 4 columns]"
      ]
     },
     "execution_count": 30,
     "metadata": {},
     "output_type": "execute_result"
    }
   ],
   "source": [
    "edges"
   ]
  },
  {
   "cell_type": "code",
   "execution_count": 31,
   "metadata": {
    "pycharm": {
     "name": "#%%\n"
    }
   },
   "outputs": [],
   "source": [
    "nodes.to_csv('retweet_node_list.csv',index=False)\n",
    "edges.to_csv('retweet_edge_list.csv',index=False)"
   ]
  },
  {
   "cell_type": "markdown",
   "metadata": {
    "pycharm": {
     "name": "#%% md\n"
    }
   },
   "source": [
    "Now we go to...\n",
    "\n",
    "<img src=\"https://github.com/Minyall/sc207_materials/blob/master/images/gephi-logo-2010-transparent.png?raw=true\" align=\"left\" width=\"150\">"
   ]
  }
 ],
 "metadata": {
  "kernelspec": {
   "display_name": "Python 3 (ipykernel)",
   "language": "python",
   "name": "python3"
  },
  "language_info": {
   "codemirror_mode": {
    "name": "ipython",
    "version": 3
   },
   "file_extension": ".py",
   "mimetype": "text/x-python",
   "name": "python",
   "nbconvert_exporter": "python",
   "pygments_lexer": "ipython3",
   "version": "3.8.12"
  }
 },
 "nbformat": 4,
 "nbformat_minor": 4
}