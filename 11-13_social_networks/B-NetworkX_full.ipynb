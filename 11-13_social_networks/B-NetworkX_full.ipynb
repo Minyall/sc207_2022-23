{
 "cells": [
  {
   "cell_type": "markdown",
   "source": [
    "# Network Analysis with NetworkX\n",
    "One key progression when working with network data is to shift your understanding beyond simply thinking of them as visualisations that we can qualitatively interpret, but also as models for structuring data in a relational way that allows us to ask different kinds of questions.\n",
    "\n",
    "Furthermore, network analysis can be in and of itself a method of analysis, but it can also form a part of a larger analysis. For example by using network analysis to identify community partitions you can create a categorical variable to then subdivide your data during exploratory analysis.\n",
    "\n",
    "Rather than turn to Gephi, we can use NetworkX for this relational modelling and analysis."
   ],
   "metadata": {
    "collapsed": false,
    "pycharm": {
     "name": "#%% md\n"
    }
   }
  },
  {
   "cell_type": "markdown",
   "source": [
    "#### [NetworkX](https://networkx.org) is a Python library for creating, analysing, and visualising networks\n",
    "* written in pure Python\n",
    "* flexible and easy to install\n",
    "* relatively scalable"
   ],
   "metadata": {
    "collapsed": false,
    "pycharm": {
     "name": "#%% md\n"
    }
   }
  },
  {
   "cell_type": "code",
   "execution_count": null,
   "outputs": [],
   "source": [
    "# install netwulf for visualisation\n",
    "! pip install netwulf"
   ],
   "metadata": {
    "collapsed": false,
    "pycharm": {
     "name": "#%%\n"
    }
   }
  },
  {
   "cell_type": "code",
   "execution_count": null,
   "outputs": [],
   "source": [
    "# Import networkx and other packages we will use\n",
    "import networkx as nx\n",
    "import matplotlib.pyplot as plt\n",
    "import pandas as pd"
   ],
   "metadata": {
    "collapsed": false,
    "pycharm": {
     "name": "#%%\n"
    }
   }
  },
  {
   "cell_type": "markdown",
   "source": [
    "### Create a network\n",
    "We'll create a small toy network directly using NetworkX to show how it is possible to structure data into a relational model straight from Python."
   ],
   "metadata": {
    "collapsed": false,
    "pycharm": {
     "name": "#%% md\n"
    }
   }
  },
  {
   "cell_type": "code",
   "execution_count": null,
   "outputs": [],
   "source": [
    "# Create an empty network\n",
    "G = nx.Graph()\n",
    "# G = nx.DiGraph() # Creates a directed network\n",
    "\n",
    "# Add nodes\n",
    "G.add_node(1)\n",
    "\n",
    "# Or add a set of nodes from a list\n",
    "G.add_nodes_from([2, 3, 4, 5, 6])\n",
    "G.nodes()"
   ],
   "metadata": {
    "collapsed": false,
    "pycharm": {
     "name": "#%%\n"
    }
   }
  },
  {
   "cell_type": "code",
   "execution_count": null,
   "outputs": [],
   "source": [
    "# Add edges\n",
    "G.add_edge(1, 2)\n",
    "G.add_edge(2, 4)\n",
    "\n",
    "# Or add a set of edges from a list\n",
    "\n",
    "node_list = [(1, 4), (3, 4), (1, 5), (2, 6), (5,6)]\n",
    "\n",
    "G.add_edges_from(node_list)"
   ],
   "metadata": {
    "collapsed": false,
    "pycharm": {
     "name": "#%%\n"
    }
   }
  },
  {
   "cell_type": "code",
   "execution_count": null,
   "outputs": [],
   "source": [
    "# Check the created edges\n",
    "G.edges()"
   ],
   "metadata": {
    "collapsed": false,
    "pycharm": {
     "name": "#%%\n"
    }
   }
  },
  {
   "cell_type": "code",
   "execution_count": null,
   "outputs": [],
   "source": [
    "# Check basic properties of the graph\n",
    "\n",
    "print(f'Number of nodes: {G.number_of_nodes()}')\n",
    "print(f'Number of edges: {G.number_of_edges()}')"
   ],
   "metadata": {
    "collapsed": false,
    "pycharm": {
     "name": "#%%\n"
    }
   }
  },
  {
   "cell_type": "markdown",
   "source": [
    "NetworkX has some visualisation features, based on Matplotlib. Note that it will struggle to provide coherent visuals of very large networks, such as Twitter networks (more on this later)."
   ],
   "metadata": {
    "collapsed": false,
    "pycharm": {
     "name": "#%% md\n"
    }
   }
  },
  {
   "cell_type": "code",
   "execution_count": null,
   "outputs": [],
   "source": [
    "\n",
    "# Draw a network\n",
    "\n",
    "nx.draw(G, with_labels=True,node_size=400)\n",
    "\n",
    "# Note that without a provided layout, the network visual will change each run."
   ],
   "metadata": {
    "collapsed": false,
    "pycharm": {
     "name": "#%%\n"
    }
   }
  },
  {
   "cell_type": "code",
   "execution_count": null,
   "outputs": [],
   "source": [
    "layout = nx.fruchterman_reingold_layout(G, seed=1) # seed ensures we all get the same graph rather than it being random.\n",
    "\n",
    "nx.draw(G, pos=layout, with_labels=True,node_size=400)\n"
   ],
   "metadata": {
    "collapsed": false,
    "pycharm": {
     "name": "#%%\n"
    }
   }
  },
  {
   "cell_type": "markdown",
   "source": [],
   "metadata": {
    "collapsed": false,
    "pycharm": {
     "name": "#%% md\n"
    }
   }
  },
  {
   "cell_type": "markdown",
   "source": [
    "### Add node attributes"
   ],
   "metadata": {
    "collapsed": false,
    "pycharm": {
     "name": "#%% md\n"
    }
   }
  },
  {
   "cell_type": "code",
   "execution_count": null,
   "outputs": [],
   "source": [
    "# Add attributes to existing nodes\n",
    "\n",
    "G.nodes[1]['team'] = \"A\"\n",
    "G.nodes[2]['team'] = \"A\"\n",
    "G.nodes[3]['team'] = \"B\"\n",
    "G.nodes[4]['team'] = \"B\"\n",
    "G.nodes[5]['team'] = \"A\"\n",
    "G.nodes[6]['team'] = \"A\""
   ],
   "metadata": {
    "collapsed": false,
    "pycharm": {
     "name": "#%%\n"
    }
   }
  },
  {
   "cell_type": "code",
   "execution_count": null,
   "outputs": [],
   "source": [
    "# You can examine the attributes with a keyword to G.nodes\n",
    "G.nodes(data=True)"
   ],
   "metadata": {
    "collapsed": false,
    "pycharm": {
     "name": "#%%\n"
    }
   }
  },
  {
   "cell_type": "code",
   "execution_count": null,
   "outputs": [],
   "source": [
    "# Assign different colour to nodes with different attributes\n",
    "node_color = []\n",
    "\n",
    "for node_id, data in G.nodes(data=True):\n",
    "    if data['team'] == 'A':\n",
    "        color = '#a5b41f'\n",
    "    else:\n",
    "        color = '#1fb4a5'\n",
    "    node_color.append(color)\n",
    "node_color"
   ],
   "metadata": {
    "collapsed": false,
    "pycharm": {
     "name": "#%%\n"
    }
   }
  },
  {
   "cell_type": "code",
   "execution_count": null,
   "outputs": [],
   "source": [
    "# Plot the network with node colours representing team categories\n",
    "\n",
    "nx.draw_networkx(G, with_labels=True, node_color=node_color,node_size=400)\n",
    "\n",
    "plt.axis('off')\n",
    "plt.show()"
   ],
   "metadata": {
    "collapsed": false,
    "pycharm": {
     "name": "#%%\n"
    }
   }
  },
  {
   "cell_type": "markdown",
   "source": [
    "Above we used something called Hex color codes to specify the colors to be used. This is one of many ways in which colors are identified and represented by computers. If you'd like to select custom colors for your own visualisations you can use websites such as [https://www.color-hex.com/](https://www.color-hex.com/) to select your colours and get the appropriate code. Often when we use packages like Seaborn they come with built in color options that we can select which saves us the trouble of working out the codes and what colors work best together."
   ],
   "metadata": {
    "collapsed": false,
    "pycharm": {
     "name": "#%% md\n"
    }
   }
  },
  {
   "cell_type": "markdown",
   "source": [
    "### Directed network\n",
    "Whether you use a directed or undirected network is a decision based on what the network represents. Is there some directionality to the relations between nodes, or does that not matter?\n",
    "- Friendships\n",
    "- Communication\n",
    "- Word co-occurence\n",
    "- Cash/wealth flows between people."
   ],
   "metadata": {
    "collapsed": false,
    "pycharm": {
     "name": "#%% md\n"
    }
   }
  },
  {
   "cell_type": "code",
   "execution_count": null,
   "outputs": [],
   "source": [
    "# Create an empty directed network\n",
    "DG = nx.DiGraph()\n",
    "\n",
    "# Add nodes\n",
    "DG.add_nodes_from([1, 2, 3, 4, 5, 6])\n",
    "\n",
    "# Add edges\n",
    "DG.add_edges_from([(1, 2),(2, 4),(1, 4), (3, 4), (1, 5), (2, 6), (5,6)])"
   ],
   "metadata": {
    "collapsed": false,
    "pycharm": {
     "name": "#%%\n"
    }
   }
  },
  {
   "cell_type": "code",
   "execution_count": null,
   "outputs": [],
   "source": [
    "# Draw the directed network\n",
    "\n",
    "nx.draw(DG, with_labels=True,node_size=400)"
   ],
   "metadata": {
    "collapsed": false,
    "pycharm": {
     "name": "#%%\n"
    }
   }
  },
  {
   "cell_type": "code",
   "execution_count": null,
   "outputs": [],
   "source": [
    "# You can also determine if a graph is directed like so...\n",
    "\n",
    "print( G.is_directed() )\n",
    "print( DG.is_directed() )"
   ],
   "metadata": {
    "collapsed": false,
    "pycharm": {
     "name": "#%%\n"
    }
   }
  },
  {
   "cell_type": "markdown",
   "source": [
    "# Exercise 1\n",
    "Below we will load in a new example graph called the Karate club graph. Can you answer the following questions?\n",
    "1. How many nodes and edges in the graph?\n",
    "2. Which node has the most connections? (Use Pandas to help you)\n",
    "3. Is the karate club graph directed or undirected?\n",
    "4. Draw the karate club network with labels.\n",
    "\n",
    "The karate club graph was produced by Anthropologist Wayne Zachary as part of his ethnographic work observing the interactions between members outside of the club setting such as classes, bars, other sports clubs etc.\n",
    "\n",
    "Each node represents a club member, each edge represents association outside of the club.\n",
    "\n",
    "\n",
    "*Zachary, W.W. (1977) ‘An Information Flow Model for Conflict and Fission in Small Groups’, Journal of Anthropological Research, 33(4), pp. 452–473.*"
   ],
   "metadata": {
    "collapsed": false,
    "pycharm": {
     "name": "#%% md\n"
    }
   }
  },
  {
   "cell_type": "code",
   "execution_count": null,
   "outputs": [],
   "source": [
    "karate = nx.karate_club_graph()"
   ],
   "metadata": {
    "collapsed": false,
    "pycharm": {
     "name": "#%%\n"
    }
   }
  },
  {
   "cell_type": "code",
   "execution_count": null,
   "outputs": [],
   "source": [
    "# Write you code for exercise 1 below\n",
    "\n",
    "\n"
   ],
   "metadata": {
    "collapsed": false,
    "pycharm": {
     "name": "#%%\n"
    }
   }
  },
  {
   "cell_type": "code",
   "execution_count": null,
   "outputs": [],
   "source": [
    "print(f'The graph has {karate.number_of_nodes()} nodes and {karate.number_of_edges()} edges.')\n",
    "print(f'The graph is directed, true or false?: {karate.is_directed()}')\n",
    "\n",
    "karate = nx.karate_club_graph()\n",
    "nx.draw(karate, with_labels=True)"
   ],
   "metadata": {
    "collapsed": false,
    "pycharm": {
     "name": "#%%\n"
    }
   }
  },
  {
   "cell_type": "markdown",
   "source": [
    "# Graph Metrics\n",
    "In this section we use the full [Star Wars Social Network](https://www.kaggle.com/datasets/ruchi798/star-wars). Each node represents a character and each edge represents the number of times a pair of characters appeared together in a scene of the movie. Edges are undirected and weighted, and we also have the total number of scenes a character appeared in."
   ],
   "metadata": {
    "collapsed": false,
    "pycharm": {
     "name": "#%% md\n"
    }
   }
  },
  {
   "cell_type": "code",
   "execution_count": null,
   "outputs": [],
   "source": [
    "## CODE USED TO CONVERT THE ORIGINAL DATASET TO OUR CSV FILES\n",
    "\n",
    "# import json\n",
    "# with open('star_wars/starwars-full-interactions-allCharacters.json','r') as f:\n",
    "#     file = json.load(f)\n",
    "#\n",
    "# node_list = pd.DataFrame(file['nodes'])[['name','value']].rename(columns={'value':'n_scenes'})\n",
    "#\n",
    "#\n",
    "# edge_list = pd.DataFrame(file['links']).rename(columns={'value':'weight'})\n",
    "# edge_list['source'] = edge_list['source'].map(node_list['name'].to_dict())\n",
    "# edge_list['target'] = edge_list['target'].map(node_list['name'].to_dict())\n",
    "#\n",
    "# node_list.to_csv('star_wars_node_list.csv', index=False)\n",
    "# edge_list.to_csv('star_wars_edge_list.csv', index=False)"
   ],
   "metadata": {
    "collapsed": false,
    "pycharm": {
     "name": "#%%\n"
    }
   }
  },
  {
   "cell_type": "code",
   "execution_count": null,
   "outputs": [],
   "source": [
    "node_list = pd.read_csv('star_wars_node_list.csv')\n",
    "edge_list = pd.read_csv('star_wars_edge_list.csv')"
   ],
   "metadata": {
    "collapsed": false,
    "pycharm": {
     "name": "#%%\n"
    }
   }
  },
  {
   "cell_type": "code",
   "execution_count": null,
   "outputs": [],
   "source": [
    "node_list.head()"
   ],
   "metadata": {
    "collapsed": false,
    "pycharm": {
     "name": "#%%\n"
    }
   }
  },
  {
   "cell_type": "code",
   "execution_count": null,
   "outputs": [],
   "source": [
    "edge_list.head()"
   ],
   "metadata": {
    "collapsed": false,
    "pycharm": {
     "name": "#%%\n"
    }
   }
  },
  {
   "cell_type": "code",
   "execution_count": null,
   "outputs": [],
   "source": [
    "# Create a graph object using the from_pandas_edgelist function\n",
    "\n",
    "sw_G = nx.from_pandas_edgelist(edge_list, source=\"source\", target=\"target\", edge_attr='weight')"
   ],
   "metadata": {
    "collapsed": false,
    "pycharm": {
     "name": "#%%\n"
    }
   }
  },
  {
   "cell_type": "code",
   "execution_count": null,
   "outputs": [],
   "source": [
    "sw_G.number_of_nodes()"
   ],
   "metadata": {
    "collapsed": false,
    "pycharm": {
     "name": "#%%\n"
    }
   }
  },
  {
   "cell_type": "code",
   "execution_count": null,
   "outputs": [],
   "source": [
    "sw_G.number_of_edges()"
   ],
   "metadata": {
    "collapsed": false,
    "pycharm": {
     "name": "#%%\n"
    }
   }
  },
  {
   "cell_type": "code",
   "execution_count": null,
   "outputs": [],
   "source": [
    "plt.figure(figsize=(15,15))\n",
    "\n",
    "layout = nx.spring_layout(sw_G)\n",
    "nx.draw(sw_G, layout, with_labels=True)\n",
    "\n",
    "plt.show()"
   ],
   "metadata": {
    "collapsed": false,
    "pycharm": {
     "name": "#%%\n"
    }
   }
  },
  {
   "cell_type": "markdown",
   "source": [
    "# Better Visualisation"
   ],
   "metadata": {
    "collapsed": false,
    "pycharm": {
     "name": "#%% md\n"
    }
   }
  },
  {
   "cell_type": "markdown",
   "source": [
    "### [netwulf: simple and interactive network visualization in Python](https://netwulf.readthedocs.io/en/latest/index.html)\n",
    "<img src='https://raw.githubusercontent.com/benmaier/netwulf/master/img/logo_small.png' align=\"right\" height=\"200\">\n",
    "\n",
    "Visualising networks using NetworkX can get complicated. But you can always pass a networkx Graph-objects to other tools to easily create beautifully looking network visualizations. Netwulf is such an interactive visualization tool for networkx Graph-objects."
   ],
   "metadata": {
    "collapsed": false,
    "pycharm": {
     "name": "#%% md\n"
    }
   }
  },
  {
   "cell_type": "code",
   "execution_count": null,
   "outputs": [],
   "source": [
    "from netwulf import visualize"
   ],
   "metadata": {
    "collapsed": false,
    "pycharm": {
     "name": "#%%\n"
    }
   }
  },
  {
   "cell_type": "code",
   "execution_count": null,
   "outputs": [],
   "source": [
    "visualize(sw_G)"
   ],
   "metadata": {
    "collapsed": false,
    "pycharm": {
     "name": "#%%\n"
    }
   }
  },
  {
   "cell_type": "markdown",
   "source": [
    "# Network Metrics\n",
    "Like in Gephi, metrics can be used to leverage the network model of relational data to learn more about our dataset. Exactly what a metric means depends on what the model represents.\n"
   ],
   "metadata": {
    "collapsed": false,
    "pycharm": {
     "name": "#%% md\n"
    }
   }
  },
  {
   "cell_type": "code",
   "execution_count": null,
   "outputs": [],
   "source": [
    "# Some helpful functions\n",
    "\n",
    "# Sets the size attribute of our graph to whatever scores are passed in - netwulf uses the size attribute to determine node size.\n",
    "def size_by(G,scores):\n",
    "    nx.set_node_attributes(G,scores, name='size')\n",
    "    return G\n",
    "\n",
    "# netwulf uses the group attribute to determine node color.\n",
    "def color_by(G, assignment):\n",
    "    nx.set_node_attributes(G, assignment, name='group')\n",
    "    return G\n",
    "\n",
    "def top_n(scores, n=10):\n",
    "    return pd.Series(scores).sort_values(ascending=False).head(n)"
   ],
   "metadata": {
    "collapsed": false,
    "pycharm": {
     "name": "#%%\n"
    }
   }
  },
  {
   "cell_type": "markdown",
   "source": [
    "### Degree Centrality\n",
    "Indicates how many other nodes a single node is connected to. We would consider a node that is connected to the majority of other nodes in the network to be a fairly important node, particularly if other nodes are *not* so connected. Degree is the raw frequency of connections each node has and it can be accessed using the `.degree` attribute.\n"
   ],
   "metadata": {
    "collapsed": false,
    "pycharm": {
     "name": "#%% md\n"
    }
   }
  },
  {
   "cell_type": "code",
   "execution_count": null,
   "outputs": [],
   "source": [
    "sw_G.degree"
   ],
   "metadata": {
    "collapsed": false,
    "pycharm": {
     "name": "#%%\n"
    }
   }
  },
  {
   "cell_type": "code",
   "execution_count": null,
   "outputs": [],
   "source": [
    "# and for a specific node by providing the node identifier as a key\n",
    "\n",
    "sw_G.degree['ANAKIN']"
   ],
   "metadata": {
    "collapsed": false,
    "pycharm": {
     "name": "#%%\n"
    }
   }
  },
  {
   "cell_type": "markdown",
   "source": [
    "However, *Degree Centrality* is a slightly adjusted version of this to make the score comparable across any graph, and rather than telling us the frequency of connections, it tells us the proportion of other nodes in the graph it is connected to. This means you can more easily compare the degree centrality of two nodes in two different graphs even if those graphs are very different in scale."
   ],
   "metadata": {
    "collapsed": false,
    "pycharm": {
     "name": "#%% md\n"
    }
   }
  },
  {
   "cell_type": "code",
   "execution_count": null,
   "outputs": [],
   "source": [
    "# Node degree - number of edges adjacent to that node\n",
    "sw_G_degree_centrality = nx.degree_centrality(sw_G)\n",
    "top_n(sw_G_degree_centrality)"
   ],
   "metadata": {
    "collapsed": false,
    "pycharm": {
     "name": "#%%\n"
    }
   }
  },
  {
   "cell_type": "code",
   "execution_count": null,
   "outputs": [],
   "source": [
    "# The degree centrality is simply a node's degree frequency, divided by the total number of possible connections it could have.\n",
    "sw_G.degree['ANAKIN'] / (sw_G.number_of_nodes() -1) # -1 because the total number of possible connections doesn't include the node itself."
   ],
   "metadata": {
    "collapsed": false,
    "pycharm": {
     "name": "#%%\n"
    }
   }
  },
  {
   "cell_type": "code",
   "execution_count": null,
   "outputs": [],
   "source": [
    "visualize(size_by(sw_G, sw_G_degree_centrality))"
   ],
   "metadata": {
    "collapsed": false,
    "pycharm": {
     "name": "#%%\n"
    }
   }
  },
  {
   "cell_type": "markdown",
   "source": [
    "### Betweenness Centrality\n",
    "Indicates the extent to which a node stands between two others. In our data this could indicate the characters most central to the progression of the story. Generally in films side characters only have relevance to the degree to which they interact with a core of characters. Higher betweeness indicates these characters tie in the side characters to the larger network.\n",
    "\n",
    "Unweighted indicates the extent to which they draw in side characters regardless of how many interactions they have with that character. Weighted will factor in the number of interactions."
   ],
   "metadata": {
    "collapsed": false,
    "pycharm": {
     "name": "#%% md\n"
    }
   }
  },
  {
   "cell_type": "code",
   "execution_count": null,
   "outputs": [],
   "source": [
    "# Compute betweenness centrality — unweighted\n",
    "\n",
    "betweenness = nx.betweenness_centrality(sw_G, normalized=False)\n",
    "top_n(betweenness)"
   ],
   "metadata": {
    "collapsed": false,
    "pycharm": {
     "name": "#%%\n"
    }
   }
  },
  {
   "cell_type": "code",
   "execution_count": null,
   "outputs": [],
   "source": [
    "# Compute betweenness centrality — weighted\n",
    "\n",
    "betweenness = nx.betweenness_centrality(sw_G, weight='weight', normalized=False)\n",
    "top_n(betweenness)"
   ],
   "metadata": {
    "collapsed": false,
    "pycharm": {
     "name": "#%%\n"
    }
   }
  },
  {
   "cell_type": "code",
   "execution_count": null,
   "outputs": [],
   "source": [
    "visualize(size_by(sw_G,betweenness))\n"
   ],
   "metadata": {
    "collapsed": false,
    "pycharm": {
     "name": "#%%\n"
    }
   }
  },
  {
   "cell_type": "markdown",
   "source": [
    "### Eigenvector Centrality\n",
    "Indicates the importance of a node based on the importance of the nodes it is connected to. For us this could indicate our core characters. A character that interacts with all the main cast would have a higher eigenvector score."
   ],
   "metadata": {
    "collapsed": false,
    "pycharm": {
     "name": "#%% md\n"
    }
   }
  },
  {
   "cell_type": "code",
   "execution_count": null,
   "outputs": [],
   "source": [
    "# Compute eigenvector centrality\n",
    "\n",
    "eigenvector = nx.eigenvector_centrality(sw_G)\n",
    "top_n(eigenvector)"
   ],
   "metadata": {
    "collapsed": false,
    "pycharm": {
     "name": "#%%\n"
    }
   }
  },
  {
   "cell_type": "code",
   "execution_count": null,
   "outputs": [],
   "source": [
    "visualize(size_by(sw_G,eigenvector))\n"
   ],
   "metadata": {
    "collapsed": false,
    "pycharm": {
     "name": "#%%\n"
    }
   }
  },
  {
   "cell_type": "markdown",
   "source": [
    "### Closeness Centrality\n",
    "How close is a node to the rest of the network? On average how many steps would it take to get from a node to any other node in the network. A high closeness centrality indicates that a node is closer to all other nodes. It is often used to indicate access to other nodes, or information flow in a network. How easy would it be for you to be introduced to any other person in the university?\n",
    "\n",
    "In our graph this indicates how easy it would be for us to link a character to any other character based on the character's interactions. Again it is a centrality measure so it indicates importance. In well connected graphs closeness centrality has less variance."
   ],
   "metadata": {
    "collapsed": false,
    "pycharm": {
     "name": "#%% md\n"
    }
   }
  },
  {
   "cell_type": "code",
   "execution_count": null,
   "outputs": [],
   "source": [
    "# Compute closeness centrality\n",
    "\n",
    "closeness = nx.closeness_centrality(sw_G)\n",
    "top_n(closeness)"
   ],
   "metadata": {
    "collapsed": false,
    "pycharm": {
     "name": "#%%\n"
    }
   }
  },
  {
   "cell_type": "code",
   "execution_count": null,
   "outputs": [],
   "source": [
    "visualize(size_by(sw_G,closeness))\n"
   ],
   "metadata": {
    "collapsed": false,
    "pycharm": {
     "name": "#%%\n"
    }
   }
  },
  {
   "cell_type": "markdown",
   "source": [
    "#### Shortest Path\n",
    "Related to closeness centrality, average shortest path can be used to get a sense of how close a network is overall and we can also examine the shortest path between characters."
   ],
   "metadata": {
    "collapsed": false,
    "pycharm": {
     "name": "#%% md\n"
    }
   }
  },
  {
   "cell_type": "code",
   "execution_count": null,
   "outputs": [],
   "source": [
    "# Compute the average shortest path for the network\n",
    "\n",
    "nx.average_shortest_path_length(sw_G)"
   ],
   "metadata": {
    "collapsed": false,
    "pycharm": {
     "name": "#%%\n"
    }
   }
  },
  {
   "cell_type": "code",
   "execution_count": null,
   "outputs": [],
   "source": [
    "# Get the distance from Luke to any other character\n",
    "\n",
    "nx.shortest_path_length(sw_G, 'LUKE')"
   ],
   "metadata": {
    "collapsed": false,
    "pycharm": {
     "name": "#%%\n"
    }
   }
  },
  {
   "cell_type": "code",
   "execution_count": null,
   "outputs": [],
   "source": [
    "# Get the shortest path between any two characters\n",
    "\n",
    "nx.shortest_path(sw_G, 'LUKE','DARTH MAUL')"
   ],
   "metadata": {
    "collapsed": false,
    "pycharm": {
     "name": "#%%\n"
    }
   }
  },
  {
   "cell_type": "markdown",
   "source": [
    "## Community Detection\n",
    "Like in Gephi, we can detect distinct communities in the graph. This can be useful when you want to identify clusters in the graph as part of another workflow without having to export everything to Gephi. We'll use this technique later during our text mining sessions."
   ],
   "metadata": {
    "collapsed": false,
    "pycharm": {
     "name": "#%% md\n"
    }
   }
  },
  {
   "cell_type": "code",
   "execution_count": null,
   "outputs": [],
   "source": [
    "communities = nx.algorithms.community.louvain_communities(sw_G, weight='weight')\n",
    "communities"
   ],
   "metadata": {
    "collapsed": false,
    "pycharm": {
     "name": "#%%\n"
    }
   }
  },
  {
   "cell_type": "code",
   "execution_count": null,
   "outputs": [],
   "source": [
    "len(communities)"
   ],
   "metadata": {
    "collapsed": false,
    "pycharm": {
     "name": "#%%\n"
    }
   }
  },
  {
   "cell_type": "code",
   "execution_count": null,
   "outputs": [],
   "source": [
    "nx.algorithms.community.modularity(sw_G, communities,weight='weight')"
   ],
   "metadata": {
    "collapsed": false,
    "pycharm": {
     "name": "#%%\n"
    }
   }
  },
  {
   "cell_type": "markdown",
   "source": [
    "If we wanted to use this to colour our graph we could do this..."
   ],
   "metadata": {
    "collapsed": false,
    "pycharm": {
     "name": "#%% md\n"
    }
   }
  },
  {
   "cell_type": "code",
   "execution_count": null,
   "outputs": [],
   "source": [
    "\n",
    "\n",
    "assignment = {}\n",
    "for community_id, community_set in enumerate(communities):\n",
    "    for node in community_set:\n",
    "        assignment[node] = community_id\n",
    "\n",
    "assignment"
   ],
   "metadata": {
    "collapsed": false,
    "pycharm": {
     "name": "#%%\n"
    }
   }
  },
  {
   "cell_type": "code",
   "execution_count": null,
   "outputs": [],
   "source": [
    "sw_G = color_by(sw_G,assignment)\n",
    "sw_G = size_by(sw_G,betweenness)\n",
    "\n",
    "visualize(sw_G)"
   ],
   "metadata": {
    "collapsed": false,
    "pycharm": {
     "name": "#%%\n"
    }
   }
  },
  {
   "cell_type": "code",
   "execution_count": null,
   "outputs": [],
   "source": [
    "# Let's standardise how we generate community labels and measure modularity\n",
    "\n",
    "def find_communities(G, weight='weight'):\n",
    "    comms = nx.algorithms.community.louvain_communities(G,weight=weight)\n",
    "    n_communities = len(comms)\n",
    "    modularity = nx.algorithms.community.modularity(G,comms,weight='weight')\n",
    "    assignments = {}\n",
    "    for com_id, members in enumerate(comms):\n",
    "        for node in members:\n",
    "            assignments[node] = com_id\n",
    "    return assignments, n_communities, modularity"
   ],
   "metadata": {
    "collapsed": false,
    "pycharm": {
     "name": "#%%\n"
    }
   }
  },
  {
   "cell_type": "markdown",
   "source": [
    "# Exercise 2\n",
    "- Calculate the betweeness centrality of the karate club members. Which members are the top scoring?\n",
    "- Size the graph by betweeness centrality.\n",
    "- Detect the communities in the karate club. What is the modularity of the communities detected? Use `find_communities`\n",
    "- Using `set_node_attributes` assign the community assignments to the nodes in the karate graph. Make sure you name the attribute `group`\n",
    "- Visualise the graph using Netwulf"
   ],
   "metadata": {
    "collapsed": false,
    "pycharm": {
     "name": "#%% md\n"
    }
   }
  },
  {
   "cell_type": "code",
   "execution_count": null,
   "outputs": [],
   "source": [
    "karate = nx.karate_club_graph()"
   ],
   "metadata": {
    "collapsed": false,
    "pycharm": {
     "name": "#%%\n"
    }
   }
  },
  {
   "cell_type": "code",
   "execution_count": null,
   "outputs": [],
   "source": [
    "bc = nx.betweenness_centrality(karate, weight='weight')"
   ],
   "metadata": {
    "collapsed": false,
    "pycharm": {
     "name": "#%%\n"
    }
   }
  },
  {
   "cell_type": "code",
   "execution_count": null,
   "outputs": [],
   "source": [
    "top_n(bc)"
   ],
   "metadata": {
    "collapsed": false,
    "pycharm": {
     "name": "#%%\n"
    }
   }
  },
  {
   "cell_type": "code",
   "execution_count": null,
   "outputs": [],
   "source": [
    "size_by(karate,bc)\n",
    "comms, n_communities, modularity = find_communities(karate, weight=None)"
   ],
   "metadata": {
    "collapsed": false,
    "pycharm": {
     "name": "#%%\n"
    }
   }
  },
  {
   "cell_type": "code",
   "execution_count": null,
   "outputs": [],
   "source": [
    "karate = color_by(karate,comms)"
   ],
   "metadata": {
    "collapsed": false,
    "pycharm": {
     "name": "#%%\n"
    }
   }
  },
  {
   "cell_type": "code",
   "execution_count": null,
   "outputs": [],
   "source": [
    "visualize(karate)"
   ],
   "metadata": {
    "collapsed": false,
    "pycharm": {
     "name": "#%%\n"
    }
   }
  },
  {
   "cell_type": "markdown",
   "source": [
    "## Following up on the Karate Club\n",
    "Zachary found that during his ethnographic work, the club got into an internal dispute over whether to raise the membership prices. Two key figures, Mr. Hi and the club officer were in disagreement. Eventually the club split into two with a new club opening up.\n",
    "\n",
    "After clustering the interaction data into two distinct groups Zachary found that his model of member interaction accurately predicted which of the two factions each member would join, making 33 out of 34 correct guesses."
   ],
   "metadata": {
    "collapsed": false,
    "pycharm": {
     "name": "#%% md\n"
    }
   }
  },
  {
   "cell_type": "code",
   "execution_count": null,
   "outputs": [],
   "source": [
    "karate = nx.karate_club_graph()"
   ],
   "metadata": {
    "collapsed": false,
    "pycharm": {
     "name": "#%%\n"
    }
   }
  },
  {
   "cell_type": "code",
   "execution_count": null,
   "outputs": [],
   "source": [
    "# Girvan Newman algorithm attempts to split a network into two distinct groups\n",
    "community_1, community_2 = list(nx.algorithms.community.girvan_newman(karate))[0]\n",
    "community_1"
   ],
   "metadata": {
    "collapsed": false,
    "pycharm": {
     "name": "#%%\n"
    }
   }
  },
  {
   "cell_type": "code",
   "execution_count": null,
   "outputs": [],
   "source": [
    "community_2"
   ],
   "metadata": {
    "collapsed": false,
    "pycharm": {
     "name": "#%%\n"
    }
   }
  },
  {
   "cell_type": "code",
   "execution_count": null,
   "outputs": [],
   "source": [
    "predictions = {}\n",
    "for node in community_1:\n",
    "    predictions[node] = 'community 1'\n",
    "for node in community_2:\n",
    "    predictions[node] = 'community 2'\n",
    "\n",
    "predictions"
   ],
   "metadata": {
    "collapsed": false,
    "pycharm": {
     "name": "#%%\n"
    }
   }
  },
  {
   "cell_type": "code",
   "execution_count": null,
   "outputs": [],
   "source": [
    "actual_factions = {v: data['club'] for v, data in karate.nodes(data=True)}\n",
    "actual_factions"
   ],
   "metadata": {
    "collapsed": false,
    "pycharm": {
     "name": "#%%\n"
    }
   }
  },
  {
   "cell_type": "code",
   "execution_count": null,
   "outputs": [],
   "source": [
    "pd.crosstab(index=actual_factions,columns=predictions)"
   ],
   "metadata": {
    "collapsed": false,
    "pycharm": {
     "name": "#%%\n"
    }
   }
  },
  {
   "cell_type": "code",
   "execution_count": null,
   "outputs": [],
   "source": [
    "karate = color_by(karate, predictions)\n",
    "new_labels = {node: f\"{node}_{faction}\" for node,faction in actual_factions.items()}\n",
    "karate = nx.relabel_nodes(karate,new_labels)"
   ],
   "metadata": {
    "collapsed": false,
    "pycharm": {
     "name": "#%%\n"
    }
   }
  },
  {
   "cell_type": "code",
   "execution_count": null,
   "outputs": [],
   "source": [
    "visualize(karate)"
   ],
   "metadata": {
    "collapsed": false,
    "pycharm": {
     "name": "#%%\n"
    }
   }
  },
  {
   "cell_type": "markdown",
   "source": [
    "## Graph Filtering\n",
    "When we used Gephi, we filtered away some edges and nodes based on degree, and then cleared away any nodes that weren't part of the giant component. We can also do this in NetworkX as a form of pre-processing before we try community detection on particularly noisy graphs, like Twitter data."
   ],
   "metadata": {
    "collapsed": false,
    "pycharm": {
     "name": "#%% md\n"
    }
   }
  },
  {
   "cell_type": "code",
   "execution_count": null,
   "outputs": [],
   "source": [
    "sw_G = nx.from_pandas_edgelist(edge_list, source=\"source\", target=\"target\", edge_attr='weight')"
   ],
   "metadata": {
    "collapsed": false,
    "pycharm": {
     "name": "#%%\n"
    }
   }
  },
  {
   "cell_type": "code",
   "execution_count": null,
   "outputs": [],
   "source": [
    "visualize(nx.k_core(sw_G,k=6))"
   ],
   "metadata": {
    "collapsed": false,
    "pycharm": {
     "name": "#%%\n"
    }
   }
  },
  {
   "cell_type": "code",
   "execution_count": null,
   "outputs": [],
   "source": [
    "# Some filtering functions\n",
    "\n",
    "def filter_by_k_core(G, k):\n",
    "     return nx.k_core(G, k=k)\n",
    "\n",
    "def filter_by_degree(G, minimum_degree):\n",
    "    scores = G.degree()\n",
    "    to_keep = [node for node,degree in scores if degree >= minimum_degree]\n",
    "    return G.subgraph(to_keep)\n",
    "\n",
    "def filter_by_giant_component(G):\n",
    "    components = sorted(nx.connected_components(G), key=len, reverse=True)\n",
    "    return G.subgraph(components[0])"
   ],
   "metadata": {
    "collapsed": false,
    "pycharm": {
     "name": "#%%\n"
    }
   }
  },
  {
   "cell_type": "code",
   "execution_count": null,
   "outputs": [],
   "source": [
    "filtered = filter_by_degree(sw_G, 2)\n",
    "visualize(filtered)"
   ],
   "metadata": {
    "collapsed": false,
    "pycharm": {
     "name": "#%%\n"
    }
   }
  },
  {
   "cell_type": "markdown",
   "source": [
    "## Network Filtering and analysis on Tweet Data"
   ],
   "metadata": {
    "collapsed": false,
    "pycharm": {
     "name": "#%% md\n"
    }
   }
  },
  {
   "cell_type": "markdown",
   "source": [
    "## Network Filtering and analysis on Tweet Data"
   ],
   "metadata": {
    "collapsed": false,
    "pycharm": {
     "name": "#%% md\n"
    }
   }
  },
  {
   "cell_type": "code",
   "execution_count": null,
   "outputs": [],
   "source": [
    "tweet_G = nx.from_pandas_edgelist(pd.read_csv('edge_list.csv'), create_using=nx.Graph, source='Source',target='Target')\n",
    "\n",
    "comms, n_communities, modularity = find_communities(tweet_G)\n",
    "print(f'Our network has {n_communities} communities, with a modularity score of {modularity}')"
   ],
   "metadata": {
    "collapsed": false,
    "pycharm": {
     "name": "#%%\n"
    }
   }
  },
  {
   "cell_type": "code",
   "execution_count": null,
   "outputs": [],
   "source": [
    "filtered = filter_by_degree(tweet_G, 2)\n",
    "filtered = filter_by_giant_component(filtered)\n",
    "\n",
    "comms, n_communities, modularity = find_communities(filtered, weight='weight')\n",
    "print(f'Our network has {n_communities} communities, with a modularity score of {modularity}')"
   ],
   "metadata": {
    "collapsed": false,
    "pycharm": {
     "name": "#%%\n"
    }
   }
  },
  {
   "cell_type": "code",
   "execution_count": null,
   "outputs": [],
   "source": [
    "node_data = pd.read_csv('node_list.csv')\n",
    "node_data"
   ],
   "metadata": {
    "collapsed": false,
    "pycharm": {
     "name": "#%%\n"
    }
   }
  },
  {
   "cell_type": "code",
   "execution_count": null,
   "outputs": [],
   "source": [
    "labels = node_data.set_index('ID')['Label'].to_dict()\n",
    "labels"
   ],
   "metadata": {
    "collapsed": false,
    "pycharm": {
     "name": "#%%\n"
    }
   }
  },
  {
   "cell_type": "code",
   "execution_count": null,
   "outputs": [],
   "source": [
    "filtered = color_by(filtered,comms)\n",
    "relabelled = nx.relabel_nodes(filtered, labels)\n",
    "visualize(size_by(filtered,nx.degree_centrality(filtered)))"
   ],
   "metadata": {
    "collapsed": false,
    "pycharm": {
     "name": "#%%\n"
    }
   }
  },
  {
   "cell_type": "code",
   "execution_count": null,
   "outputs": [],
   "source": [
    "visualize(filtered)"
   ],
   "metadata": {
    "collapsed": false,
    "pycharm": {
     "name": "#%%\n"
    }
   }
  },
  {
   "cell_type": "markdown",
   "source": [
    "# Exporting Assignments"
   ],
   "metadata": {
    "collapsed": false,
    "pycharm": {
     "name": "#%% md\n"
    }
   }
  },
  {
   "cell_type": "code",
   "execution_count": null,
   "outputs": [],
   "source": [
    "comms_data = pd.Series(comms, name='community')\n",
    "comms_data"
   ],
   "metadata": {
    "collapsed": false,
    "pycharm": {
     "name": "#%%\n"
    }
   }
  },
  {
   "cell_type": "code",
   "execution_count": null,
   "outputs": [],
   "source": [
    "comms_data.to_csv('communities.csv')"
   ],
   "metadata": {
    "collapsed": false,
    "pycharm": {
     "name": "#%%\n"
    }
   }
  },
  {
   "cell_type": "markdown",
   "source": [
    "### Acknowledgements\n",
    "* Notebook adapted from original teaching materials by Dr. Valentin Danchev.\n",
    "* Menczer, F., Fortunato, S., Davis, C. 2020. A first course in network science. Cambridge University Press.\n",
    "* Rob Chew’s and Peter Baumgartner’s tutorial “Connected: A Social Network Analysis Tutorial with NetworkX”. PyData 2016.\n",
    "* Edward L. Platt. 2020. Network Science with Python and NetworkX Quick Start Guide: Explore and visualize network data effectively. Packt Publishing."
   ],
   "metadata": {
    "collapsed": false,
    "pycharm": {
     "name": "#%% md\n"
    }
   }
  }
 ],
 "metadata": {
  "kernelspec": {
   "name": "python3",
   "language": "python",
   "display_name": "Python 3 (ipykernel)"
  },
  "language_info": {
   "codemirror_mode": {
    "name": "ipython",
    "version": 3
   },
   "file_extension": ".py",
   "mimetype": "text/x-python",
   "name": "python",
   "nbconvert_exporter": "python",
   "pygments_lexer": "ipython3",
   "version": "3.7.8"
  }
 },
 "nbformat": 4,
 "nbformat_minor": 4
}