{
 "cells": [
  {
   "cell_type": "markdown",
   "source": [
    "# Quick Twitter to Gephi Conversion Notebook\n",
    "Below are a number of functions that can speed up your conversion of a Twitter dataset generated using our earlier notebooks, into a Gephi compatible Retweet network.\n",
    "\n",
    "## Usage\n",
    "Run the cell below to load in `pandas` and the pre-written functions, then follow the steps below."
   ],
   "metadata": {
    "collapsed": false,
    "pycharm": {
     "name": "#%% md\n"
    }
   }
  },
  {
   "cell_type": "code",
   "execution_count": null,
   "outputs": [],
   "source": [
    "import pandas as pd\n",
    "\n",
    "def flatten_nested_dicts(df):\n",
    "    dicts = df.to_dict(orient='records')\n",
    "    flattened = pd.json_normalize(dicts)\n",
    "    return flattened\n",
    "\n",
    "def create_rt_edge_list(tweet_df):\n",
    "    \"\"\"\"Creates an edge list where the Source is the retweeter, and the Target is the original tweet author. (Source)-[RETWEETED]-(Target)\"\"\"\n",
    "\n",
    "    subset = tweet_df[['author_id','referenced_tweets']].dropna()\n",
    "    edge_data = subset.explode('referenced_tweets').copy()\n",
    "    edge_data = flatten_nested_dicts(edge_data)\n",
    "    edge_data = edge_data[['author_id','referenced_tweets.id', 'referenced_tweets.type']]\n",
    "    edge_data = edge_data[edge_data['referenced_tweets.type'] == 'retweeted']\n",
    "\n",
    "    user_data = tweet_df[['id','author_id']]\n",
    "    edge_data = edge_data.merge(user_data, how='left',left_on='referenced_tweets.id', right_on='id')\n",
    "    edge_data = edge_data.drop(columns=['referenced_tweets.id','id','referenced_tweets.type'])\n",
    "\n",
    "    edge_data['weight'] = 1\n",
    "    edge_data = edge_data.groupby(['author_id_x','author_id_y'], as_index=False).sum()\n",
    "    edge_data = edge_data.rename(columns= {'author_id_x':'Source','author_id_y':'Target'})\n",
    "    return edge_data\n",
    "\n",
    "def create_node_list(tweet_df, edges):\n",
    "    \"\"\"\"Creates node list. Requires you pass in both the original tweets dataframe, and your newly created edge list\"\"\"\n",
    "\n",
    "    node_data = tweet_df[['user_id','user_username','user_public_metrics']].drop_duplicates('user_id')\n",
    "    nodes_in_network = pd.concat([edges['Source'],edges['Target']], axis=0).drop_duplicates()\n",
    "\n",
    "    node_data = node_data[node_data['user_id'].isin(nodes_in_network)].copy()\n",
    "    node_data = flatten_nested_dicts(node_data)\n",
    "    gephi_node_labels = {'user_id':'ID','user_username':'Label',\n",
    "                         'user_public_metrics.followers_count':'followers_count',\n",
    "                         'user_public_metrics.following_count':'following_count',\n",
    "                         'user_public_metrics.tweet_count':'tweet_count',\n",
    "                         'user_public_metrics.listed_count':'listed_count'}\n",
    "    node_data = node_data.rename(columns=gephi_node_labels)\n",
    "    return node_data\n",
    "\n",
    "def save_to_disk(edge_list, node_list):\n",
    "    \"\"\"\"Saves node and edge lists to disk in Gephi friendly format\"\"\"\n",
    "    edge_list.to_csv('my_edge_list.csv', index=False)\n",
    "    node_list.to_csv('my_node_list.csv', index=False)\n"
   ],
   "metadata": {
    "collapsed": false,
    "pycharm": {
     "name": "#%%\n"
    }
   }
  },
  {
   "cell_type": "markdown",
   "source": [
    "Change the filename to your tweet dataset filename, and make sure it is in the same folder as this notebook.\n",
    "Run the cells below to create a Pandas dataframe edge list and a Pandas dataframe node list."
   ],
   "metadata": {
    "collapsed": false,
    "pycharm": {
     "name": "#%% md\n"
    }
   }
  },
  {
   "cell_type": "code",
   "execution_count": null,
   "outputs": [],
   "source": [
    "FILENAME = 'trhr.json'\n",
    "\n",
    "tweets = pd.read_json(FILENAME)\n",
    "tweets.info()"
   ],
   "metadata": {
    "collapsed": false,
    "pycharm": {
     "name": "#%%\n"
    }
   }
  },
  {
   "cell_type": "code",
   "execution_count": null,
   "outputs": [],
   "source": [
    "edge_list = create_rt_edge_list(tweets)\n",
    "edge_list"
   ],
   "metadata": {
    "collapsed": false,
    "pycharm": {
     "name": "#%%\n"
    }
   }
  },
  {
   "cell_type": "code",
   "execution_count": null,
   "outputs": [],
   "source": [
    "node_list = create_node_list(tweets,edge_list)\n",
    "node_list"
   ],
   "metadata": {
    "collapsed": false,
    "pycharm": {
     "name": "#%%\n"
    }
   }
  },
  {
   "cell_type": "markdown",
   "source": [
    "If you are happy with your two lists, run the cell below to save to disk. You should have two new files, `my_edge_list.csv` and `my_node_list.csv` which can be used in Gephi."
   ],
   "metadata": {
    "collapsed": false,
    "pycharm": {
     "name": "#%% md\n"
    }
   }
  },
  {
   "cell_type": "code",
   "execution_count": null,
   "outputs": [],
   "source": [
    "save_to_disk(edge_list,node_list)"
   ],
   "metadata": {
    "collapsed": false,
    "pycharm": {
     "name": "#%%\n"
    }
   }
  },
  {
   "cell_type": "code",
   "execution_count": null,
   "outputs": [],
   "source": [],
   "metadata": {
    "collapsed": false,
    "pycharm": {
     "name": "#%%\n"
    }
   }
  }
 ],
 "metadata": {
  "kernelspec": {
   "display_name": "Python 3",
   "language": "python",
   "name": "python3"
  },
  "language_info": {
   "codemirror_mode": {
    "name": "ipython",
    "version": 2
   },
   "file_extension": ".py",
   "mimetype": "text/x-python",
   "name": "python",
   "nbconvert_exporter": "python",
   "pygments_lexer": "ipython2",
   "version": "2.7.6"
  }
 },
 "nbformat": 4,
 "nbformat_minor": 0
}