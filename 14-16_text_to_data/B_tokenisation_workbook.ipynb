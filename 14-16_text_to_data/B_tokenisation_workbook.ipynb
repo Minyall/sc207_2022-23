{
 "cells": [
  {
   "cell_type": "markdown",
   "source": [
    "# SC207 Text Mining\n",
    "## Preprocessing and Tokenisation\n",
    "### Preparing text to be used as data\n",
    "\n",
    "- We broadly understand how text might be used as data for qualitative analysis.\n",
    "- Words are not treated simply as individual units of data, but we recognise context, structure, pattern.\n",
    "- How then can text be analysed quantitatively, and how can it be interpreted by a computer to aide that analysis?\n",
    "- The tools we've already used for sentiment analysis and entity recognition performed this process for us in the background, but this won't always be the case.\n",
    "- Usually text analysis techniques require text to be prepared for analysis through two stages\n",
    "\n",
    "### 1. Tokenizing\n",
    "\n",
    "- Computers break down text into units of analysis known as *Tokens*. Tokens are often individual words, but they can also be parts of words, common phrases etc.\n",
    "- Tokenizing is the first fundamental step in any text analysis.\n",
    "- How exactly you split up text is not necessarily straight forward.\n",
    "- There are a range of different strategies which you can see at the [Python NLTK Demo Page](https://text-processing.com/demo/tokenize/).\n",
    "\n",
    "### 2. Pre-Processing\n",
    "- Exactly what happens in pre-processing tends to depend on the type of analysis you are doing.\n",
    "- In general it tends to involve...\n",
    "        - Filtering out of common words and punctuation\n",
    "        - Standardising the text to make it less complex for the computer.\n"
   ],
   "metadata": {
    "collapsed": false,
    "pycharm": {
     "name": "#%% md\n"
    }
   }
  },
  {
   "cell_type": "markdown",
   "metadata": {
    "pycharm": {
     "name": "#%% md\n"
    }
   },
   "source": [
    "## Step 1: Tokenizing"
   ]
  },
  {
   "cell_type": "markdown",
   "metadata": {
    "pycharm": {
     "name": "#%% md\n"
    }
   },
   "source": [
    "#### Example of the problem\n",
    "We already know how to split up a string into a series of items in a list. It's pretty simple using `.split()`"
   ]
  },
  {
   "cell_type": "code",
   "execution_count": null,
   "metadata": {
    "pycharm": {
     "name": "#%%\n"
    }
   },
   "outputs": [],
   "source": [
    "test_phrase = \"I don't see my cat. He has a long tail, fluffy ears and big eyes!\"\\\n",
    "\" He also subscribes to Marxist historical materialism. It's just his way.\""
   ]
  },
  {
   "cell_type": "code",
   "execution_count": null,
   "metadata": {
    "pycharm": {
     "name": "#%%\n"
    }
   },
   "outputs": [],
   "source": [
    "test_tokens =\n",
    "print(test_tokens)"
   ]
  },
  {
   "cell_type": "code",
   "execution_count": null,
   "metadata": {
    "pycharm": {
     "name": "#%%\n"
    }
   },
   "outputs": [],
   "source": [
    "# first we check if the string 'ears' is in the list\n"
   ]
  },
  {
   "cell_type": "code",
   "execution_count": null,
   "metadata": {
    "pycharm": {
     "name": "#%%\n"
    }
   },
   "outputs": [],
   "source": [
    "# so we would imagine that 'eyes' is also in the list?\n"
   ]
  },
  {
   "cell_type": "markdown",
   "metadata": {
    "pycharm": {
     "name": "#%% md\n"
    }
   },
   "source": [
    "Having punctuation atached to words like this can cause us problems because the tokens `eyes` and `eyes!` would be considered two seperate things. This messes with a lot of analysis further down the line."
   ]
  },
  {
   "cell_type": "markdown",
   "metadata": {
    "pycharm": {
     "name": "#%% md\n"
    }
   },
   "source": [
    "### Using Tokenizers\n",
    "- Tokenizers are functions that split up text for us. \n",
    "- Some of them are based on complex sets of rules, others are based on training computers using lots of examples of text.\n",
    "- There are many (many!) packages available for handling text data. See Moodle for a list of common ones.\n",
    "\n",
    "#### SpaCy\n",
    "\n",
    "We met SpaCy when we used it for named entity recognition. Today we'll also make use of its trained model to perform our tokenisation.\n",
    "\n",
    "We're going to use `en_core_web_md` which means is trained on [petabytes of data from the contemporary internet](https://commoncrawl.org/big-picture/) and so is very up to date in how it understands contemporary language use."
   ]
  },
  {
   "cell_type": "code",
   "execution_count": null,
   "metadata": {
    "pycharm": {
     "name": "#%%\n"
    }
   },
   "outputs": [],
   "source": [
    "# imports"
   ]
  },
  {
   "cell_type": "code",
   "execution_count": null,
   "metadata": {
    "pycharm": {
     "name": "#%%\n"
    }
   },
   "outputs": [],
   "source": [
    "# nlp represents the trained language model provided by Spacy...\n",
    "nlp ="
   ]
  },
  {
   "cell_type": "code",
   "execution_count": null,
   "metadata": {
    "pycharm": {
     "name": "#%%\n"
    }
   },
   "outputs": [],
   "source": [
    "# In SpaCy tokenization happens the moment you wrap a string in your language model object nlp()\n",
    "\n",
    "doc =\n",
    "\n",
    "doc"
   ]
  },
  {
   "cell_type": "code",
   "execution_count": null,
   "metadata": {
    "pycharm": {
     "name": "#%%\n"
    }
   },
   "outputs": [],
   "source": [
    "# if we iterate over the doc we can see the tokens.\n",
    "tokens_a = []\n",
    "\n",
    "\n",
    "\n",
    "print(tokens_a)"
   ]
  },
  {
   "cell_type": "markdown",
   "metadata": {
    "pycharm": {
     "name": "#%% md\n"
    }
   },
   "source": [
    "\n",
    "\n",
    "**List comprehensions** allow us to do in 1 line what would normally take 3. They are much more efficient than using a `for` loop. We'll see how they can be used more later."
   ]
  },
  {
   "cell_type": "code",
   "execution_count": null,
   "metadata": {
    "pycharm": {
     "name": "#%%\n"
    }
   },
   "outputs": [],
   "source": [
    "tokens_b =\n",
    "print(tokens_b)"
   ]
  },
  {
   "cell_type": "markdown",
   "metadata": {
    "pycharm": {
     "name": "#%% md\n"
    }
   },
   "source": [
    "A number of things have been done by the tokenizer.\n",
    "- Punctuation has been seperated from words into their own tokens.\n",
    "- Words that are contractions of two words (It's > It is / Don't > Do not) have been split into two.\n",
    "- This becomes more useful in a minute and is all part of the process of reducing the nuance of language to make documents more comparable."
   ]
  },
  {
   "cell_type": "markdown",
   "metadata": {
    "pycharm": {
     "name": "#%% md\n"
    }
   },
   "source": [
    "## Step 2: Pre-Processing\n",
    "- Whilst the above looks just like the strings again it is actually a SpaCy **Document**.\n",
    "- Once a string is processed by SpaCy it becomes a SpaCy [Document object](https://spacy.io/api/doc). \n",
    "- The SpaCy document object itself is made up of SpaCy [Token objects](https://spacy.io/api/token).\n",
    "\n",
    "This means that Documents and Tokens have a range of associated methods and attributes based on SpaCy's analysis."
   ]
  },
  {
   "cell_type": "code",
   "execution_count": null,
   "metadata": {
    "pycharm": {
     "name": "#%%\n"
    }
   },
   "outputs": [],
   "source": [
    "# Let's do that again\n",
    "test_phrase = \"I don't see my cat. He has a long tail, fluffy ears and big eyes!\"\\\n",
    "\" He also subscribes to Marxist historical materialism. It's just his way.\"\n",
    "doc ="
   ]
  },
  {
   "cell_type": "code",
   "execution_count": null,
   "metadata": {
    "pycharm": {
     "name": "#%%\n"
    }
   },
   "outputs": [],
   "source": [
    "type(doc)"
   ]
  },
  {
   "cell_type": "code",
   "execution_count": null,
   "metadata": {
    "pycharm": {
     "name": "#%%\n"
    }
   },
   "outputs": [],
   "source": [
    "#language"
   ]
  },
  {
   "cell_type": "code",
   "execution_count": null,
   "metadata": {
    "pycharm": {
     "name": "#%%\n"
    }
   },
   "outputs": [],
   "source": [
    "token =\n",
    "token"
   ]
  },
  {
   "cell_type": "code",
   "execution_count": null,
   "metadata": {
    "pycharm": {
     "name": "#%%\n"
    }
   },
   "outputs": [],
   "source": [
    "type(token)"
   ]
  },
  {
   "cell_type": "markdown",
   "metadata": {
    "pycharm": {
     "name": "#%% md\n"
    }
   },
   "source": [
    "#### Pre-Processing: Lemmatisation\n",
    "Language is very nuanced in real life, but part of the filtering process involves reducing that nuance to strip back to a piece of text's bare bones.\n",
    "\n",
    "```\n",
    "\"I don't like rabbits in space\"\n",
    "\"I do not like rabbits in space\"\n",
    "```\n",
    "- Semantically the same, computationally different.\n",
    "- Lemmatising using the token method `.lemma_` allows us to roll words back to a common 'root'."
   ]
  },
  {
   "cell_type": "code",
   "execution_count": null,
   "metadata": {
    "pycharm": {
     "name": "#%%\n"
    }
   },
   "outputs": [],
   "source": [
    "rabbit_1 = nlp(\"I don't like rabbits in space\")\n",
    "rabbit_2 = nlp(\"I do not like rabbits in space\")\n",
    "\n",
    "print( )\n",
    "print( )"
   ]
  },
  {
   "cell_type": "markdown",
   "metadata": {
    "pycharm": {
     "name": "#%% md\n"
    }
   },
   "source": [
    "These phrases below are semantically similar, but only share 1 word. Lemmatising brings them closer together computationally."
   ]
  },
  {
   "cell_type": "code",
   "execution_count": null,
   "metadata": {
    "pycharm": {
     "name": "#%%\n"
    }
   },
   "outputs": [],
   "source": [
    "rabbit_1 = nlp(\"I'm loving these rabbits\")\n",
    "rabbit_2 = nlp(\"I love this rabbit!\")\n",
    "\n"
   ]
  },
  {
   "cell_type": "code",
   "execution_count": null,
   "metadata": {
    "pycharm": {
     "name": "#%%\n"
    }
   },
   "outputs": [],
   "source": [
    "# Let's see what it does to our test phrase\n",
    "doc"
   ]
  },
  {
   "cell_type": "code",
   "execution_count": null,
   "metadata": {
    "pycharm": {
     "name": "#%%\n"
    }
   },
   "outputs": [],
   "source": [
    "print()"
   ]
  },
  {
   "cell_type": "markdown",
   "metadata": {
    "pycharm": {
     "name": "#%% md\n"
    }
   },
   "source": [
    "#### Pre-Processing: Punctuation\n",
    "Unless punctuation matters for your analysis (such as needing to break text down into sentences), we normally will clear out punctuation from text. We can use SpaCy's `.is_alpha` attribute to include only tokens that are alphabetical, and still just return the lemma."
   ]
  },
  {
   "cell_type": "code",
   "execution_count": null,
   "metadata": {
    "pycharm": {
     "name": "#%%\n"
    }
   },
   "outputs": [],
   "source": [
    "processed_doc =\n",
    "print(processed_doc)"
   ]
  },
  {
   "cell_type": "markdown",
   "metadata": {
    "pycharm": {
     "name": "#%% md\n"
    }
   },
   "source": [
    "#### Pre-Processing: Stop Words\n",
    "Stop words are common words that tend to be structurally useful in sentences, but are too common to provide much meaning alone. They are often stripped out before text analysis.\n",
    "Lets add this to our list comprehension."
   ]
  },
  {
   "cell_type": "code",
   "execution_count": null,
   "metadata": {
    "pycharm": {
     "name": "#%%\n"
    }
   },
   "outputs": [],
   "source": [
    "stop_words =\n",
    "stop_words"
   ]
  },
  {
   "cell_type": "code",
   "execution_count": null,
   "metadata": {
    "pycharm": {
     "name": "#%%\n"
    }
   },
   "outputs": [],
   "source": [
    "# show stopword filtering"
   ]
  },
  {
   "cell_type": "code",
   "execution_count": null,
   "metadata": {
    "pycharm": {
     "name": "#%%\n"
    }
   },
   "outputs": [],
   "source": [
    "# we'll add .lower() to our result to ensure that we \n",
    "# get rid of any distinction when it comes to capitalisation as well\n",
    "\n",
    "def process_text(doc):\n",
    "\n",
    "    \n",
    "def filter_stops(tokens, stop_words):\n"
   ]
  },
  {
   "cell_type": "code",
   "execution_count": null,
   "metadata": {
    "pycharm": {
     "name": "#%%\n"
    }
   },
   "outputs": [],
   "source": [
    "test_phrase = \"I don't see my cat. He has a long tail, fluffy ears and big eyes!\"\\\n",
    "\" He also subscribes to Marxist historical materialism. It's just his way.\"\n",
    "doc =\n",
    "\n",
    "print(process_text(doc))\n",
    "print()\n",
    "print(filter_stops(process_text(doc), stop_words))"
   ]
  },
  {
   "cell_type": "markdown",
   "metadata": {
    "pycharm": {
     "name": "#%% md\n"
    }
   },
   "source": [
    "## Processing a Corpus\n",
    "A \"Corpus\" is a collection of textual documents. Often in computational textual analysis a corpus size will run into the hundreds, thousands or even hundreds of thousands. Whilst we could process each document seperately with a `for` loop, it is much more efficient to use Spacy's `pipe` which can process multiple documents in parallel and is memory efficient.\n"
   ]
  },
  {
   "cell_type": "code",
   "execution_count": null,
   "metadata": {
    "pycharm": {
     "name": "#%%\n"
    }
   },
   "outputs": [],
   "source": [
    "corpus = [\"I don't like rabbits in space\",\n",
    "         \"I do not like rabbits in space\",\n",
    "         \"I'm loving these rabbits\",\n",
    "         \"I love this rabbit!\"]"
   ]
  },
  {
   "cell_type": "code",
   "execution_count": null,
   "metadata": {
    "pycharm": {
     "name": "#%%\n"
    }
   },
   "outputs": [],
   "source": [
    "docs = #pipe it\n",
    "docs"
   ]
  },
  {
   "cell_type": "markdown",
   "metadata": {
    "pycharm": {
     "name": "#%% md\n"
    }
   },
   "source": [
    "Spacy has created a generator object. This means that at the moment, no processing has been done. Each document is only processed when we iterate over the generator object as if it were a list."
   ]
  },
  {
   "cell_type": "code",
   "execution_count": null,
   "metadata": {
    "pycharm": {
     "name": "#%%\n"
    }
   },
   "outputs": [],
   "source": [
    "# We can force the generator to produce the results by iterating over it in a list comprehension.\n",
    "docs =\n",
    "docs"
   ]
  },
  {
   "cell_type": "markdown",
   "metadata": {
    "pycharm": {
     "name": "#%% md\n"
    }
   },
   "source": [
    "For peace of mind we can check and see that yes the objects are spacy documents"
   ]
  },
  {
   "cell_type": "code",
   "execution_count": null,
   "metadata": {
    "pycharm": {
     "name": "#%%\n"
    }
   },
   "outputs": [],
   "source": [
    "for doc in docs:\n",
    "    print(type(doc))"
   ]
  },
  {
   "cell_type": "markdown",
   "metadata": {
    "pycharm": {
     "name": "#%% md\n"
    }
   },
   "source": [
    "Which means we can run our processor on each Spacy doc as it is spat out and retain the result."
   ]
  },
  {
   "cell_type": "code",
   "execution_count": null,
   "metadata": {
    "pycharm": {
     "name": "#%%\n"
    }
   },
   "outputs": [],
   "source": []
  },
  {
   "cell_type": "code",
   "execution_count": null,
   "metadata": {
    "pycharm": {
     "name": "#%%\n"
    }
   },
   "outputs": [],
   "source": [
    "def process_documents(corpus, stop_words=None):\n"
   ]
  },
  {
   "cell_type": "code",
   "execution_count": null,
   "metadata": {
    "pycharm": {
     "name": "#%%\n"
    }
   },
   "outputs": [],
   "source": [
    "stop_words = nlp.Defaults.stop_words\n",
    "\n",
    "print( process_documents(corpus) )\n",
    "print()\n",
    "print( process_documents(corpus, stop_words) )"
   ]
  },
  {
   "cell_type": "markdown",
   "metadata": {
    "pycharm": {
     "name": "#%% md\n"
    }
   },
   "source": [
    "## Real Data Test\n",
    "So far we've been working on a toy dataset. Lets see what happens with a real dataset."
   ]
  },
  {
   "cell_type": "code",
   "execution_count": null,
   "metadata": {
    "pycharm": {
     "name": "#%%\n"
    }
   },
   "outputs": [],
   "source": [
    "import pandas as pd"
   ]
  },
  {
   "cell_type": "code",
   "execution_count": null,
   "metadata": {
    "pycharm": {
     "name": "#%%\n"
    }
   },
   "outputs": [],
   "source": [
    "df ="
   ]
  },
  {
   "cell_type": "code",
   "execution_count": null,
   "metadata": {
    "pycharm": {
     "name": "#%%\n"
    }
   },
   "outputs": [],
   "source": [
    "# check info"
   ]
  },
  {
   "cell_type": "code",
   "execution_count": null,
   "metadata": {
    "pycharm": {
     "name": "#%%\n"
    }
   },
   "outputs": [],
   "source": [
    "stop_words = nlp.Defaults.stop_words\n",
    "\n",
    "result = #process corpus"
   ]
  },
  {
   "cell_type": "code",
   "execution_count": null,
   "metadata": {
    "pycharm": {
     "name": "#%%\n"
    }
   },
   "outputs": [],
   "source": [
    "print(df.loc[0,'text'])"
   ]
  },
  {
   "cell_type": "code",
   "execution_count": null,
   "metadata": {
    "pycharm": {
     "name": "#%%\n"
    }
   },
   "outputs": [],
   "source": [
    "print(result[0])"
   ]
  },
  {
   "cell_type": "markdown",
   "source": [
    "# Phrasing\n",
    "Looks for common co-occurences of tokens in the text and joins them together into single tokens.\n",
    "<img src=\"https://github.com/Minyall/sc207_materials/blob/master/images/Archer-phrasing.jpg?raw=true\" align=\"right\" width=\"300\">\n"
   ],
   "metadata": {
    "collapsed": false,
    "pycharm": {
     "name": "#%% md\n"
    }
   }
  },
  {
   "cell_type": "code",
   "execution_count": null,
   "outputs": [],
   "source": [
    "! pip install gensim"
   ],
   "metadata": {
    "collapsed": false,
    "pycharm": {
     "name": "#%%\n"
    }
   }
  },
  {
   "cell_type": "code",
   "execution_count": 80,
   "outputs": [],
   "source": [
    "from gensim.models.phrases import Phrases, ENGLISH_CONNECTOR_WORDS"
   ],
   "metadata": {
    "collapsed": false,
    "pycharm": {
     "name": "#%%\n"
    }
   }
  },
  {
   "cell_type": "code",
   "execution_count": 81,
   "outputs": [],
   "source": [
    "phraser =\n",
    "phrased ="
   ],
   "metadata": {
    "collapsed": false,
    "pycharm": {
     "name": "#%%\n"
    }
   }
  },
  {
   "cell_type": "code",
   "execution_count": 84,
   "outputs": [
    {
     "name": "stdout",
     "output_type": "stream",
     "text": [
      "climate_change\n",
      "look_like\n",
      "social_medium\n",
      "hong_kong\n",
      "worth_billion\n",
      "chief_executive\n",
      "set_fire\n",
      "hong_kong\n",
      "carrie_lam\n",
      "protester_shoot\n",
      "set_fire\n",
      "hong_kong\n",
      "science_technology\n",
      "chow_tsz\n",
      "tear_gas\n",
      "hong_kong\n",
      "year_old\n",
      "world_large\n",
      "world_large\n",
      "revenue_billion\n",
      "president_donald\n",
      "false_claim\n",
      "false_claim\n",
      "false_claim\n",
      "cabinet_meeting\n",
      "interview_fox\n",
      "news_sean\n",
      "false_claim\n",
      "false_claim\n",
      "false_claim\n",
      "impeachment_inquiry\n",
      "falsely_claim\n",
      "ukrainian_president\n",
      "falsely_claim\n",
      "falsely_claim\n",
      "falsely_claim\n",
      "falsely_claim\n",
      "quid_pro\n",
      "falsely_claim\n",
      "falsely_claim\n",
      "adam_schiff\n",
      "falsely_claim\n",
      "committee_hearing\n",
      "falsely_claim\n",
      "falsely_claim\n",
      "ask_question\n",
      "impeachment_inquiry\n",
      "falsely_claim\n",
      "false_claim\n",
      "bin_laden\n",
      "bin_laden\n",
      "bin_laden\n",
      "bin_laden\n",
      "bin_laden\n",
      "bin_laden\n",
      "fact_check\n",
      "false_claim\n",
      "president_trump\n",
      "impeachment_inquiry\n",
      "false_claim\n",
      "george_washington\n",
      "george_washington\n",
      "fact_check\n",
      "fact_check\n",
      "october_exchange\n",
      "reporter_cabinet\n",
      "october_interview\n",
      "fox_news\n",
      "sean_hannity\n",
      "united_states\n",
      "october_speech\n",
      "shale_insight\n",
      "conference_fact\n",
      "household_income\n",
      "fox_news\n",
      "median_household\n",
      "middle_class\n",
      "median_household\n",
      "october_speech\n",
      "median_household\n",
      "household_income\n",
      "median_household\n",
      "median_household\n",
      "october_speech\n",
      "shale_insight\n",
      "conference_fact\n",
      "washington_post\n",
      "median_household\n",
      "october_speech\n",
      "shale_insight\n",
      "conference_fact\n",
      "october_speech\n",
      "shale_insight\n",
      "conference_fact\n",
      "white_house\n",
      "october_interview\n",
      "fox_news\n",
      "sean_hannity\n",
      "october_speech\n",
      "shale_insight\n",
      "conference_fact\n",
      "october_tweet\n",
      "fox_news\n",
      "donald_trump\n",
      "fox_friends\n",
      "president_trump\n",
      "october_tweet\n",
      "house_democrats\n",
      "impeachment_inquiry\n",
      "fox_friends\n",
      "president_trump\n",
      "impeachment_inquiry\n",
      "impeachment_inquiry\n",
      "october_interview\n",
      "fox_news\n",
      "sean_hannity\n",
      "white_house\n",
      "october_interview\n",
      "house_democrats\n",
      "impeachment_inquiry\n",
      "october_exchange\n",
      "reporter_cabinet\n",
      "meeting_fact\n",
      "obama_administration\n",
      "secretary_state\n",
      "fact_check\n",
      "october_exchange\n",
      "reporter_cabinet\n",
      "meeting_fact\n",
      "fact_check\n",
      "look_like\n",
      "october_speech\n",
      "shale_insight\n",
      "falsely_claim\n",
      "october_speech\n",
      "shale_insight\n",
      "conference_fact\n",
      "mass_shooting\n",
      "october_interview\n",
      "fox_news\n",
      "sean_hannity\n",
      "san_francisco\n",
      "nancy_pelosi\n",
      "san_francisco\n",
      "federal_government\n",
      "billion_dollar\n",
      "october_tweet\n",
      "san_francisco\n",
      "federal_government\n",
      "billion_dollar\n",
      "san_francisco\n",
      "send_letter\n",
      "trump_administration\n",
      "san_francisco\n",
      "federal_government\n",
      "san_francisco\n",
      "billion_dollar\n",
      "los_angeles\n",
      "climate_change\n",
      "san_francisco\n",
      "false_claim\n",
      "san_francisco\n",
      "george_washington\n",
      "george_washington\n",
      "october_remark\n",
      "cabinet_meeting\n",
      "george_washington\n",
      "george_washington\n",
      "george_washington\n",
      "october_exchange\n",
      "reporter_cabinet\n",
      "meeting_fact\n",
      "united_kingdom\n",
      "read_long\n",
      "fact_check\n",
      "october_speech\n",
      "facts_trump\n",
      "testify_congress\n",
      "press_conference\n",
      "white_house\n",
      "respond_request\n",
      "united_states\n",
      "read_long\n",
      "fact_check\n",
      "bin_laden\n",
      "bin_laden\n",
      "bin_laden\n",
      "press_conference\n",
      "facts_trump\n",
      "bin_laden\n",
      "bin_laden\n",
      "bin_laden\n",
      "read_long\n",
      "fact_check\n",
      "october_remark\n",
      "cabinet_meeting\n",
      "october_exchange\n",
      "october_remark\n",
      "cabinet_meeting\n",
      "october_interview\n",
      "fox_news\n",
      "sean_hannity\n",
      "hillary_clinton\n",
      "south_korea\n",
      "south_korea\n",
      "hillary_clinton\n",
      "south_korea\n",
      "october_speech\n",
      "shale_insight\n",
      "conference_fact\n",
      "secretary_state\n",
      "trade_deal\n",
      "south_korea\n",
      "hillary_clinton\n",
      "obama_administration\n",
      "october_exchange\n",
      "reporter_cabinet\n",
      "meeting_fact\n",
      "hong_kong\n",
      "united_states\n",
      "october_exchange\n",
      "reporter_cabinet\n",
      "meeting_fact\n",
      "united_states\n",
      "fox_friends\n",
      "tell_reporter\n",
      "tulsi_gabbard\n",
      "white_house\n",
      "october_tweet\n",
      "fox_friends\n",
      "tulsi_gabbard\n",
      "united_states\n",
      "united_states\n",
      "october_speech\n",
      "shale_insight\n",
      "conference_fact\n",
      "federal_government\n",
      "united_states\n",
      "new_york\n",
      "new_york\n",
      "new_york\n",
      "october_interview\n",
      "fox_news\n",
      "sean_hannity\n",
      "donald_trump\n",
      "news_outlet\n",
      "fact_check\n",
      "october_remark\n",
      "cabinet_meeting\n",
      "vice_president\n",
      "joe_biden\n",
      "conspiracy_theory\n",
      "attorney_general\n",
      "fact_check\n",
      "october_remark\n",
      "cabinet_meeting\n",
      "october_interview\n",
      "fox_news\n",
      "sean_hannity\n",
      "white_house\n",
      "source_tell\n",
      "october_exchange\n",
      "reporter_cabinet\n",
      "october_interview\n",
      "fox_news\n",
      "sean_hannity\n",
      "ukrainian_president\n",
      "october_tweet\n",
      "october_tweet\n",
      "fact_check\n",
      "adam_schiff\n",
      "october_exchange\n",
      "reporter_cabinet\n",
      "adam_schiff\n",
      "october_interview\n",
      "fox_news\n",
      "sean_hannity\n",
      "october_tweet\n",
      "white_house\n",
      "white_house\n",
      "october_remark\n",
      "cabinet_meeting\n",
      "adam_schiff\n",
      "october_interview\n",
      "fox_news\n",
      "sean_hannity\n",
      "october_interview\n",
      "sean_hannity\n",
      "october_interview\n",
      "october_exchange\n",
      "reporter_cabinet\n",
      "meeting_fact\n",
      "quid_pro\n",
      "quid_pro\n",
      "october_interview\n",
      "fox_news\n",
      "sean_hannity\n",
      "quid_pro\n",
      "october_interview\n",
      "fox_news\n",
      "sean_hannity\n",
      "impeachment_inquiry\n",
      "october_exchange\n",
      "reporter_cabinet\n",
      "meeting_fact\n",
      "october_remark\n",
      "cabinet_meeting\n",
      "united_states\n",
      "cabinet_meeting\n",
      "october_remark\n",
      "cabinet_meeting\n",
      "october_interview\n",
      "fox_news\n",
      "sean_hannity\n",
      "year_ago\n",
      "october_speech\n",
      "year_ago\n",
      "october_tweet\n",
      "year_ago\n",
      "year_ago\n",
      "year_ago\n",
      "october_speech\n",
      "october_exchange\n",
      "reporter_cabinet\n",
      "united_states\n",
      "october_speech\n",
      "facts_trump\n",
      "read_long\n",
      "fact_check\n",
      "october_remark\n",
      "cabinet_meeting\n",
      "donald_trump\n",
      "press_conference\n",
      "facts_trump\n",
      "look_like\n",
      "fox_news\n",
      "read_long\n",
      "fact_check\n",
      "trade_deal\n",
      "october_interview\n",
      "fox_news\n",
      "sean_hannity\n",
      "chinese_government\n",
      "october_speech\n",
      "white_house\n",
      "october_speech\n",
      "shale_insight\n",
      "conference_fact\n",
      "obama_administration\n",
      "october_interview\n",
      "fox_news\n",
      "sean_hannity\n",
      "october_speech\n",
      "shale_insight\n",
      "conference_fact\n",
      "read_long\n",
      "fact_check\n",
      "unemployment_rate\n",
      "october_speech\n",
      "shale_insight\n",
      "conference_fact\n",
      "year_ago\n",
      "october_remark\n",
      "cabinet_meeting\n",
      "october_remark\n",
      "cabinet_meeting\n",
      "price_index\n",
      "washington_post\n",
      "fact_check\n",
      "price_index\n",
      "united_states\n",
      "october_remark\n",
      "cabinet_meeting\n",
      "october_interview\n",
      "fox_news\n",
      "sean_hannity\n",
      "year_ago\n",
      "october_remark\n",
      "cabinet_meeting\n",
      "billion_billion\n",
      "october_remark\n",
      "cabinet_meeting\n",
      "billion_dollar\n",
      "october_interview\n",
      "fox_news\n",
      "sean_hannity\n",
      "nancy_pelosi\n",
      "october_remark\n",
      "cabinet_meeting\n",
      "nancy_pelosi\n",
      "october_speech\n",
      "shale_insight\n",
      "year_old\n",
      "october_interview\n",
      "fox_news\n",
      "sean_hannity\n",
      "october_remark\n",
      "cabinet_meeting\n",
      "october_exchange\n",
      "reporter_cabinet\n",
      "meeting_fact\n",
      "october_remark\n",
      "cabinet_meeting\n",
      "police_department\n",
      "october_exchange\n",
      "reporter_cabinet\n",
      "meeting_fact\n",
      "north_carolina\n",
      "october_speech\n",
      "shale_insight\n",
      "facts_trump\n",
      "north_carolina\n",
      "north_carolina\n",
      "october_interview\n",
      "fox_news\n",
      "sean_hannity\n",
      "north_carolina\n",
      "october_remark\n",
      "cabinet_meeting\n",
      "north_carolina\n",
      "october_interview\n",
      "fox_news\n",
      "sean_hannity\n",
      "october_speech\n",
      "shale_insight\n",
      "nancy_pelosi\n",
      "october_tweet\n",
      "democratic_presidential\n",
      "elizabeth_warren\n",
      "washington_post\n",
      "washington_post\n",
      "october_tweet\n",
      "impeachment_inquiry\n",
      "president_trump\n",
      "testify_congress\n",
      "spend_million\n",
      "october_interview\n",
      "fox_news\n",
      "sean_hannity\n",
      "spend_million\n",
      "october_interview\n",
      "october_exchange\n",
      "spend_million\n",
      "october_speech\n",
      "justice_department\n",
      "trump_campaign\n",
      "afp_getty\n",
      "wheat_dough\n",
      "related_content\n",
      "related_content\n",
      "getty_images\n",
      "getty_images\n",
      "hong_kong\n",
      "hong_kong\n",
      "wheat_dough\n",
      "getty_images\n",
      "afp_getty\n",
      "wheat_dough\n",
      "united_states\n",
      "getty_images\n",
      "wheat_dough\n",
      "wheat_dough\n",
      "washington_post\n",
      "getty_images\n",
      "getty_images\n",
      "wheat_dough\n",
      "afp_getty\n",
      "san_francisco\n",
      "new_zealand\n",
      "new_zealand\n",
      "south_korea\n",
      "south_korea\n",
      "getty_image\n",
      "united_kingdom\n",
      "united_states\n",
      "washington_post\n",
      "getty_image\n",
      "united_states\n",
      "wheat_dough\n"
     ]
    }
   ],
   "source": [
    "for doc in phrased[:5]:\n",
    "    for token in doc:\n",
    "        if '_' in token:\n",
    "            print(token)"
   ],
   "metadata": {
    "collapsed": false,
    "pycharm": {
     "name": "#%%\n"
    }
   }
  },
  {
   "cell_type": "markdown",
   "source": [
    "Currently we have a list of lists of strings....\n",
    "\n",
    "\n",
    "````\n",
    "Results List\n",
    "    - Document List\n",
    "        - String Token\n",
    "        - String Token\n",
    "        ...\n",
    "    - Document List\n",
    "        - String Token\n",
    "        ....\n",
    "````\n",
    "\n",
    "A cleaner way to store this would be to convert each tokenised document into a string with spaces seperating each token. This can be easily reversed later and is more efficient to store.\n",
    "\n",
    "````\n",
    "Results List\n",
    "    - String of Tokens\n",
    "    - String of Tokens\n",
    "    - String of Tokens\n",
    "    ...\n",
    "````\n"
   ],
   "metadata": {
    "collapsed": false,
    "pycharm": {
     "name": "#%% md\n"
    }
   }
  },
  {
   "cell_type": "code",
   "execution_count": null,
   "outputs": [],
   "source": [
    "# Takes a list of tokenized documents and joins the tokens together, outputting a list of stringified tokens.\n",
    "def stringify_tokens(tokenized_documents):\n"
   ],
   "metadata": {
    "collapsed": false,
    "pycharm": {
     "name": "#%%\n"
    }
   }
  },
  {
   "cell_type": "code",
   "execution_count": null,
   "outputs": [],
   "source": [
    "result_strings =\n",
    "result_strings[0]"
   ],
   "metadata": {
    "collapsed": false,
    "pycharm": {
     "name": "#%%\n"
    }
   }
  },
  {
   "cell_type": "code",
   "execution_count": null,
   "metadata": {
    "pycharm": {
     "name": "#%%\n"
    }
   },
   "outputs": [],
   "source": [
    "# to create a new column of tokenized documents we simply assign the result like so...\n",
    "\n"
   ]
  },
  {
   "cell_type": "code",
   "execution_count": null,
   "metadata": {
    "pycharm": {
     "name": "#%%\n"
    }
   },
   "outputs": [],
   "source": [
    "df[['text','tokens']]"
   ]
  },
  {
   "cell_type": "code",
   "execution_count": null,
   "outputs": [],
   "source": [
    "df.to_csv('sample_news_large_with_tokens.csv', index=False)"
   ],
   "metadata": {
    "collapsed": false,
    "pycharm": {
     "name": "#%%\n"
    }
   }
  },
  {
   "cell_type": "code",
   "execution_count": null,
   "outputs": [],
   "source": [],
   "metadata": {
    "collapsed": false,
    "pycharm": {
     "name": "#%%\n"
    }
   }
  }
 ],
 "metadata": {
  "kernelspec": {
   "name": "python3",
   "language": "python",
   "display_name": "Python 3"
  },
  "language_info": {
   "codemirror_mode": {
    "name": "ipython",
    "version": 3
   },
   "file_extension": ".py",
   "mimetype": "text/x-python",
   "name": "python",
   "nbconvert_exporter": "python",
   "pygments_lexer": "ipython3",
   "version": "3.7.8"
  }
 },
 "nbformat": 4,
 "nbformat_minor": 4
}