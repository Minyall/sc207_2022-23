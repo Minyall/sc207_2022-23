{
 "cells": [
  {
   "cell_type": "markdown",
   "metadata": {
    "nbpresent": {
     "id": "f6a8500a-2aa8-4ba0-97eb-a497cf3274b4"
    },
    "slideshow": {
     "slide_type": "-"
    },
    "pycharm": {
     "name": "#%% md\n"
    }
   },
   "source": [
    "# SC207 Python Fundamentals\n",
    "\n",
    "<img src=\"https://raw.githubusercontent.com/Minyall/sc207_materials/master/images/python-logo.png\" align=\"right\">\n",
    "\n",
    "\n",
    "## Loops, Lists and Strings, oh my!\n",
    "\n",
    "- Our main priorities in this course will be to generate and analyse data. \n",
    "- When we can rely on a tried and trusted toolset, we will.\n",
    "- However, in order to do that we must understand the basics of how Python works.\n"
   ]
  },
  {
   "cell_type": "markdown",
   "metadata": {
    "slideshow": {
     "slide_type": "slide"
    },
    "pycharm": {
     "name": "#%% md\n"
    }
   },
   "source": [
    "# Basics\n",
    "## 1. Comments and Running Code"
   ]
  },
  {
   "cell_type": "code",
   "execution_count": null,
   "metadata": {
    "nbpresent": {
     "id": "270f4e18-bd03-4f96-b410-738708e2c95b"
    },
    "slideshow": {
     "slide_type": "subslide"
    },
    "pycharm": {
     "name": "#%%\n"
    }
   },
   "outputs": [],
   "source": [
    "#  This is a comment line. Any line preceeded by a # is ignored by the Python interpreter \n",
    "#  and is used as a way of writing notes in scripts and code that does not interefere with the code itself.\n",
    "\n",
    "print('This will print')\n",
    "# print ('This will not print')"
   ]
  },
  {
   "cell_type": "markdown",
   "source": [
    "## 2. Data Types\n",
    "\n",
    "- The fundamental types of data in python are strings and numbers.\n",
    "- Every value in Python has a single data type, and this determines how it is treated, and what you can do with it."
   ],
   "metadata": {
    "collapsed": false,
    "pycharm": {
     "name": "#%% md\n"
    }
   }
  },
  {
   "cell_type": "markdown",
   "source": [
    "### Strings\n",
    "\n",
    "- Text in Python is called a __String__ as it is a collection of characters 'strung' together.\n",
    "- Strings are defined by enclosing text in either 'single' or \"double\" quotes.\n",
    "- A string must always start and end with the same single or double quote character."
   ],
   "metadata": {
    "collapsed": false,
    "pycharm": {
     "name": "#%% md\n"
    }
   }
  },
  {
   "cell_type": "code",
   "execution_count": null,
   "outputs": [],
   "source": [
    "# Here is a string in single quotes\n",
    "\n",
    "'Hello, I am a string'"
   ],
   "metadata": {
    "collapsed": false,
    "pycharm": {
     "name": "#%%\n"
    }
   }
  },
  {
   "cell_type": "code",
   "execution_count": null,
   "outputs": [],
   "source": [
    "# Here is a string in double quotes\n",
    "\n",
    "\"Hello, I am a string\""
   ],
   "metadata": {
    "collapsed": false,
    "pycharm": {
     "name": "#%%\n"
    }
   }
  },
  {
   "cell_type": "code",
   "execution_count": null,
   "outputs": [],
   "source": [
    "# Here is an instance of mixing single and double quotes, for example when the text needs a quote!\n",
    "'She said \"Hello, I am a string\"'"
   ],
   "metadata": {
    "collapsed": false,
    "pycharm": {
     "name": "#%%\n"
    }
   }
  },
  {
   "cell_type": "code",
   "execution_count": null,
   "outputs": [],
   "source": [
    "# Or when you need to use apostrophes\n",
    "\n",
    "\"Don't you know about strings?\""
   ],
   "metadata": {
    "collapsed": false,
    "pycharm": {
     "name": "#%%\n"
    }
   }
  },
  {
   "cell_type": "code",
   "execution_count": null,
   "outputs": [],
   "source": [
    "# Sometimes this can go wrong if you don't think about whether to use single or double quotes.\n",
    "'Don't you know about strings?'"
   ],
   "metadata": {
    "collapsed": false,
    "pycharm": {
     "name": "#%%\n"
    }
   }
  },
  {
   "cell_type": "markdown",
   "source": [
    "These are all string data types. We can use one of Python's 'Built In' functions called `type` to check this.\n",
    "(We'll come back to functions later.)"
   ],
   "metadata": {
    "collapsed": false,
    "pycharm": {
     "name": "#%% md\n"
    }
   }
  },
  {
   "cell_type": "code",
   "execution_count": null,
   "outputs": [],
   "source": [
    "type('Hello I am a string')"
   ],
   "metadata": {
    "collapsed": false,
    "pycharm": {
     "name": "#%%\n"
    }
   }
  },
  {
   "cell_type": "markdown",
   "source": [
    "### Numbers\n",
    "Numbers come in two types...\n",
    "- Integers: Whole numbers\n",
    "- Floats: Fractional numbers, i.e. numbers with a decimal point.\n",
    "To Python these are *different* types of data and so are treated differently."
   ],
   "metadata": {
    "collapsed": false,
    "pycharm": {
     "name": "#%% md\n"
    }
   }
  },
  {
   "cell_type": "code",
   "execution_count": null,
   "outputs": [],
   "source": [
    "# We can use our type function to check the type of different numbers\n",
    "# First integer\n",
    "type(10)"
   ],
   "metadata": {
    "collapsed": false,
    "pycharm": {
     "name": "#%%\n"
    }
   }
  },
  {
   "cell_type": "code",
   "execution_count": null,
   "outputs": [],
   "source": [
    "# Then a float\n",
    "type(10.0)"
   ],
   "metadata": {
    "collapsed": false,
    "pycharm": {
     "name": "#%%\n"
    }
   }
  },
  {
   "cell_type": "markdown",
   "source": [
    "### Operators\n",
    "Python can combine values together in particular ways using 'operators'. Some of these will be very familiar to you. A combination of values and operations is called an *expression*."
   ],
   "metadata": {
    "collapsed": false,
    "pycharm": {
     "name": "#%% md\n"
    }
   }
  },
  {
   "cell_type": "code",
   "execution_count": null,
   "outputs": [],
   "source": [
    "# Addition\n",
    "2 + 2"
   ],
   "metadata": {
    "collapsed": false,
    "pycharm": {
     "name": "#%%\n"
    }
   }
  },
  {
   "cell_type": "code",
   "execution_count": null,
   "outputs": [],
   "source": [
    "# Multiplication\n",
    "2 * 10"
   ],
   "metadata": {
    "collapsed": false,
    "pycharm": {
     "name": "#%%\n"
    }
   }
  },
  {
   "cell_type": "code",
   "execution_count": null,
   "outputs": [],
   "source": [
    "# Division\n",
    "10 / 2"
   ],
   "metadata": {
    "collapsed": false,
    "pycharm": {
     "name": "#%%\n"
    }
   }
  },
  {
   "cell_type": "code",
   "execution_count": null,
   "outputs": [],
   "source": [
    "# And we can chain operations together\n",
    "\n",
    "10 + 10 + 10"
   ],
   "metadata": {
    "collapsed": false,
    "pycharm": {
     "name": "#%%\n"
    }
   }
  },
  {
   "cell_type": "code",
   "execution_count": null,
   "outputs": [],
   "source": [
    "# But we have to be careful sometimes about being clear what we want python to do...\n",
    "5 + 5 * 2"
   ],
   "metadata": {
    "collapsed": false,
    "pycharm": {
     "name": "#%%\n"
    }
   }
  },
  {
   "cell_type": "code",
   "execution_count": null,
   "outputs": [],
   "source": [
    "# Did we mean this....?\n",
    "(5 + 5) * 2"
   ],
   "metadata": {
    "collapsed": false,
    "pycharm": {
     "name": "#%%\n"
    }
   }
  },
  {
   "cell_type": "code",
   "execution_count": null,
   "outputs": [],
   "source": [
    "# Or did we mean this?\n",
    "5 + (5 *2)"
   ],
   "metadata": {
    "collapsed": false,
    "pycharm": {
     "name": "#%%\n"
    }
   }
  },
  {
   "cell_type": "markdown",
   "source": [
    "### Operators: Beyond Numbers\n",
    "- The behaviour of the operators above is fairly normal to us.\n",
    "- However, it is important to understand that operators can work on more than just numbers.\n",
    "- What an operator does is determined by the `type` of the value or 'object' you're working with."
   ],
   "metadata": {
    "collapsed": false,
    "pycharm": {
     "name": "#%% md\n"
    }
   }
  },
  {
   "cell_type": "code",
   "execution_count": null,
   "outputs": [],
   "source": [
    "# One operator that works on strings is multiplication if you provide a number in the operation\n",
    "\n",
    "'MONKEY! ' * 10"
   ],
   "metadata": {
    "collapsed": false,
    "pycharm": {
     "name": "#%%\n"
    }
   }
  },
  {
   "cell_type": "code",
   "execution_count": null,
   "outputs": [],
   "source": [
    "# We can also use the addition operator on strings to perform 'concatenation'\n",
    "\n",
    "'For now I am ' + 'whole again!' # note the need to add a space at the end of the first string"
   ],
   "metadata": {
    "collapsed": false,
    "pycharm": {
     "name": "#%%\n"
    }
   }
  },
  {
   "cell_type": "code",
   "execution_count": null,
   "outputs": [],
   "source": [
    "# And we can chain those operations too\n",
    "\n",
    "'h' + 'e' + 'l' + 'l' + 'o'"
   ],
   "metadata": {
    "collapsed": false,
    "pycharm": {
     "name": "#%%\n"
    }
   }
  },
  {
   "cell_type": "markdown",
   "source": [
    "You cannot necessarily concatenate different value types though..."
   ],
   "metadata": {
    "collapsed": false,
    "pycharm": {
     "name": "#%% md\n"
    }
   }
  },
  {
   "cell_type": "code",
   "execution_count": null,
   "outputs": [],
   "source": [
    "'This year I will be ' + 25"
   ],
   "metadata": {
    "collapsed": false,
    "pycharm": {
     "name": "#%%\n"
    }
   }
  },
  {
   "cell_type": "markdown",
   "source": [
    "You can sometimes transform the type of a value, but it has to make sense to do so."
   ],
   "metadata": {
    "collapsed": false,
    "pycharm": {
     "name": "#%% md\n"
    }
   }
  },
  {
   "cell_type": "code",
   "execution_count": null,
   "outputs": [],
   "source": [
    "# You can turn a number into a string...\n",
    "\n",
    "'This year I will be ' + str(25)"
   ],
   "metadata": {
    "collapsed": false,
    "pycharm": {
     "name": "#%%\n"
    }
   }
  },
  {
   "cell_type": "code",
   "execution_count": null,
   "outputs": [],
   "source": [
    "# and you can sometimes turn a string into a number\n",
    "\n",
    "int('25') + 25"
   ],
   "metadata": {
    "collapsed": false,
    "pycharm": {
     "name": "#%%\n"
    }
   }
  },
  {
   "cell_type": "code",
   "execution_count": null,
   "outputs": [],
   "source": [
    "# But not always...\n",
    "\n",
    "int('Hello')"
   ],
   "metadata": {
    "collapsed": false,
    "pycharm": {
     "name": "#%%\n"
    }
   }
  },
  {
   "cell_type": "markdown",
   "source": [
    "# Assigning Variables\n",
    "\n",
    "- Assigning variables allows us to create a label, and then assign a value to that label.\n",
    "- This then allows us to then use that value throughout our code.\n",
    "- It also allows us to store the results of our operations, which can then also be used throughout out code."
   ],
   "metadata": {
    "collapsed": false,
    "pycharm": {
     "name": "#%% md\n"
    }
   }
  },
  {
   "cell_type": "code",
   "execution_count": null,
   "outputs": [],
   "source": [
    "# Here we assign a number to a variable\n",
    "\n",
    "my_number = 10"
   ],
   "metadata": {
    "collapsed": false,
    "pycharm": {
     "name": "#%%\n"
    }
   }
  },
  {
   "cell_type": "code",
   "execution_count": null,
   "outputs": [],
   "source": [
    "# We can then use that in operations\n",
    "\n",
    "my_number * 5"
   ],
   "metadata": {
    "collapsed": false,
    "pycharm": {
     "name": "#%%\n"
    }
   }
  },
  {
   "cell_type": "code",
   "execution_count": null,
   "outputs": [],
   "source": [
    "my_number + my_number"
   ],
   "metadata": {
    "collapsed": false,
    "pycharm": {
     "name": "#%%\n"
    }
   }
  },
  {
   "cell_type": "code",
   "execution_count": null,
   "outputs": [],
   "source": [
    "# And we can save the result of operations as variables too\n",
    "\n",
    "my_result = my_number + my_number"
   ],
   "metadata": {
    "collapsed": false,
    "pycharm": {
     "name": "#%%\n"
    }
   }
  },
  {
   "cell_type": "code",
   "execution_count": null,
   "outputs": [],
   "source": [
    "# Jupyter lets us see the value\n",
    "my_result"
   ],
   "metadata": {
    "collapsed": false,
    "pycharm": {
     "name": "#%%\n"
    }
   }
  },
  {
   "cell_type": "code",
   "execution_count": null,
   "outputs": [],
   "source": [
    "# another example with strings\n",
    "\n",
    "name = 'Sue'\n",
    "place = 'London'\n",
    "\n",
    "my_sentence = 'Hello my name is ' + name + ' and I live in ' + place"
   ],
   "metadata": {
    "collapsed": false,
    "pycharm": {
     "name": "#%%\n"
    }
   }
  },
  {
   "cell_type": "code",
   "execution_count": null,
   "outputs": [],
   "source": [
    "my_sentence"
   ],
   "metadata": {
    "collapsed": false,
    "pycharm": {
     "name": "#%%\n"
    }
   }
  },
  {
   "cell_type": "code",
   "execution_count": null,
   "outputs": [],
   "source": [
    "# We can also see that our variable is not simply a label, it itself is now an object, and so has a particular associated type\n",
    "\n",
    "type(my_sentence)"
   ],
   "metadata": {
    "collapsed": false,
    "pycharm": {
     "name": "#%%\n"
    }
   }
  },
  {
   "cell_type": "markdown",
   "source": [
    "# Python Objects and their Methods\n",
    "Almost everything in Python is an object of some sort and every object has a particular type. We've seen the foundational types like strings and numbers, but there are many more. The type of object determines not only how it is treated by Python and other objects, but also the kinds of things that object can do. A special function that is built in to a type is called a *method*. We can use the string type as an example, as it has lots of built in methods.\n"
   ],
   "metadata": {
    "collapsed": false,
    "pycharm": {
     "name": "#%% md\n"
    }
   }
  },
  {
   "cell_type": "markdown",
   "source": [
    "## 1. Some Examples of String Methods"
   ],
   "metadata": {
    "collapsed": false,
    "pycharm": {
     "name": "#%% md\n"
    }
   }
  },
  {
   "cell_type": "code",
   "execution_count": null,
   "outputs": [],
   "source": [
    "# lets use our sentence variable\n",
    "\n",
    "my_sentence"
   ],
   "metadata": {
    "collapsed": false,
    "pycharm": {
     "name": "#%%\n"
    }
   }
  },
  {
   "cell_type": "code",
   "execution_count": null,
   "outputs": [],
   "source": [
    "# Change to uppercase\n",
    "my_sentence.upper()"
   ],
   "metadata": {
    "collapsed": false,
    "pycharm": {
     "name": "#%%\n"
    }
   }
  },
  {
   "cell_type": "code",
   "execution_count": null,
   "outputs": [],
   "source": [
    "# Change to lowercase\n",
    "my_sentence.lower()"
   ],
   "metadata": {
    "collapsed": false,
    "pycharm": {
     "name": "#%%\n"
    }
   }
  },
  {
   "cell_type": "code",
   "execution_count": null,
   "outputs": [],
   "source": [
    "# Capitalise\n",
    "my_sentence.capitalize()"
   ],
   "metadata": {
    "collapsed": false,
    "pycharm": {
     "name": "#%%\n"
    }
   }
  },
  {
   "cell_type": "code",
   "execution_count": null,
   "outputs": [],
   "source": [
    "# titlecase\n",
    "my_sentence.title()"
   ],
   "metadata": {
    "collapsed": false,
    "pycharm": {
     "name": "#%%\n"
    }
   }
  },
  {
   "cell_type": "code",
   "execution_count": null,
   "outputs": [],
   "source": [
    "# We can ask if a particular substring is in a string\n",
    "\n",
    "'Sue' in my_sentence"
   ],
   "metadata": {
    "collapsed": false,
    "pycharm": {
     "name": "#%%\n"
    }
   }
  },
  {
   "cell_type": "code",
   "execution_count": null,
   "outputs": [],
   "source": [
    "# Or if a string starts a particular way\n",
    "my_sentence.startswith('Hello')"
   ],
   "metadata": {
    "collapsed": false,
    "pycharm": {
     "name": "#%%\n"
    }
   }
  },
  {
   "cell_type": "code",
   "execution_count": null,
   "outputs": [],
   "source": [
    "# We can replace words\n",
    "my_sentence.replace('London', 'Colchester')"
   ],
   "metadata": {
    "collapsed": false,
    "pycharm": {
     "name": "#%%\n"
    }
   }
  },
  {
   "cell_type": "code",
   "execution_count": null,
   "outputs": [],
   "source": [
    "# and of course we can assign the result of these methods to a new variable\n",
    "\n",
    "my_new_sentence = my_sentence.replace('London', 'Colchester')\n",
    "my_new_sentence"
   ],
   "metadata": {
    "collapsed": false,
    "pycharm": {
     "name": "#%%\n"
    }
   }
  },
  {
   "cell_type": "markdown",
   "source": [
    "## 2. What methods are there?\n",
    "Every object has associated methods. For the built in Python types there is the [official documentation](https://docs.python.org/3/contents.html), but it can be a little bit intimidating. Thankfully many many people have also produced much nicer introductions to different types of objects and their methods in python, and [Googling](https://www.google.com/search?q=python+string+methods) is usually the most effective approach.\n",
    "\n",
    "In Jupyter we can also use some of its helpful features to see what kinds of methods a particular object contains.\n",
    "- Code completion using the TAB key shows us our options after the '.'\n",
    "- Using ? after a variable name shows us relevant documentation"
   ],
   "metadata": {
    "collapsed": false,
    "pycharm": {
     "name": "#%% md\n"
    }
   }
  },
  {
   "cell_type": "code",
   "execution_count": null,
   "outputs": [],
   "source": [
    "my_string = 'Hello'\n",
    "my_string."
   ],
   "metadata": {
    "collapsed": false,
    "pycharm": {
     "name": "#%%\n"
    }
   }
  },
  {
   "cell_type": "code",
   "execution_count": null,
   "outputs": [],
   "source": [
    "my_string.replace?"
   ],
   "metadata": {
    "collapsed": false,
    "pycharm": {
     "name": "#%%\n"
    }
   }
  },
  {
   "cell_type": "markdown",
   "source": [
    "# Data Structures\n",
    "Data structures...structure data. They provide us ways in which we can keep certain values together as a collection, and depending on the type of data structure, keep them ordered, or look up values quickly.\n",
    "\n",
    "Some basic data structures are\n",
    "- Lists - Key feature is maintaining ORDER.\n",
    "- Dictionaries - Key feature is quick lookup\n",
    "- Tuples - Key feature is immutability. If you never want it to change, use a Tuple."
   ],
   "metadata": {
    "collapsed": false,
    "pycharm": {
     "name": "#%% md\n"
    }
   }
  },
  {
   "cell_type": "markdown",
   "source": [
    "## Lists"
   ],
   "metadata": {
    "collapsed": false,
    "pycharm": {
     "name": "#%% md\n"
    }
   }
  },
  {
   "cell_type": "code",
   "execution_count": null,
   "outputs": [],
   "source": [
    "# Lists are designated using SQUARE BRACKETS\n",
    "\n",
    "list_of_numbers = [1,2,3]\n",
    "list_of_numbers"
   ],
   "metadata": {
    "collapsed": false,
    "pycharm": {
     "name": "#%%\n"
    }
   }
  },
  {
   "cell_type": "code",
   "execution_count": null,
   "outputs": [],
   "source": [
    "list_of_strings = ['Hello','Goodbye','Farewell']\n",
    "list_of_strings"
   ],
   "metadata": {
    "collapsed": false,
    "pycharm": {
     "name": "#%%\n"
    }
   }
  },
  {
   "cell_type": "code",
   "execution_count": null,
   "outputs": [],
   "source": [
    "list_of_mixed = ['Joe','Sociologist', 1997]\n",
    "list_of_mixed"
   ],
   "metadata": {
    "collapsed": false,
    "pycharm": {
     "name": "#%%\n"
    }
   }
  },
  {
   "cell_type": "code",
   "execution_count": null,
   "outputs": [],
   "source": [
    "a = 1\n",
    "b = 5.0\n",
    "c = 'HELLO!'\n",
    "\n",
    "list_of_variables = [a, b, c]\n",
    "list_of_variables"
   ],
   "metadata": {
    "collapsed": false,
    "pycharm": {
     "name": "#%%\n"
    }
   }
  },
  {
   "cell_type": "code",
   "execution_count": null,
   "outputs": [],
   "source": [
    "list_of_lists = [list_of_numbers, list_of_strings, list_of_mixed]\n",
    "list_of_lists"
   ],
   "metadata": {
    "collapsed": false,
    "pycharm": {
     "name": "#%%\n"
    }
   }
  },
  {
   "cell_type": "markdown",
   "source": [
    "\n",
    "List values can be accessed through indexes. Indexes start at 0, so the first item is at position 0 - because Python likes to be confusing.\n",
    "\n",
    "<img src=\"https://raw.githubusercontent.com/Minyall/sc207_materials/master/images/list_indexes.png\">\n",
    "\n",
    "There are also reverse indexes, these start at -1, because you can't have -0.\n"
   ],
   "metadata": {
    "collapsed": false,
    "pycharm": {
     "name": "#%% md\n"
    }
   }
  },
  {
   "cell_type": "code",
   "execution_count": null,
   "outputs": [],
   "source": [
    "simple_list = ['red','green','blue','yellow','black']"
   ],
   "metadata": {
    "collapsed": false,
    "pycharm": {
     "name": "#%%\n"
    }
   }
  },
  {
   "cell_type": "code",
   "execution_count": null,
   "outputs": [],
   "source": [
    "# We can access single items in a list by providing their index number in square brackets\n",
    "print(simple_list[0])\n",
    "print(simple_list[1])\n",
    "print(simple_list[2])\n",
    "print(simple_list[3])\n",
    "print(simple_list[4])\n",
    "print('*******')\n",
    "print(simple_list[-1])\n",
    "print(simple_list[-2])\n",
    "print(simple_list[-3])\n",
    "print(simple_list[-4])\n",
    "print(simple_list[-5])"
   ],
   "metadata": {
    "collapsed": false,
    "pycharm": {
     "name": "#%%\n"
    }
   }
  },
  {
   "cell_type": "markdown",
   "source": [
    "Lists have a number of built in functions as well, a few examples..."
   ],
   "metadata": {
    "collapsed": false,
    "pycharm": {
     "name": "#%% md\n"
    }
   }
  },
  {
   "cell_type": "code",
   "execution_count": null,
   "outputs": [],
   "source": [
    "our_list = [3,2,4,1,5]\n",
    "our_list.sort()\n",
    "print(our_list)"
   ],
   "metadata": {
    "collapsed": false,
    "pycharm": {
     "name": "#%%\n"
    }
   }
  },
  {
   "cell_type": "code",
   "execution_count": null,
   "outputs": [],
   "source": [
    "our_list = ['Harry','Sally','George','Jerry','Sally','Fred']\n",
    "\n",
    "our_list.count('Sally')"
   ],
   "metadata": {
    "collapsed": false,
    "pycharm": {
     "name": "#%%\n"
    }
   }
  },
  {
   "cell_type": "code",
   "execution_count": null,
   "outputs": [],
   "source": [
    "# You can create empty lists...\n",
    "new_list = []\n",
    "new_list"
   ],
   "metadata": {
    "collapsed": false,
    "pycharm": {
     "name": "#%%\n"
    }
   }
  },
  {
   "cell_type": "code",
   "execution_count": null,
   "outputs": [],
   "source": [
    "# so that you can then append to them later on...\n",
    "new_list.append('Sally')\n",
    "new_list"
   ],
   "metadata": {
    "collapsed": false,
    "pycharm": {
     "name": "#%%\n"
    }
   }
  },
  {
   "cell_type": "code",
   "execution_count": null,
   "outputs": [],
   "source": [
    "new_list.append('Bob')\n",
    "new_list"
   ],
   "metadata": {
    "collapsed": false,
    "pycharm": {
     "name": "#%%\n"
    }
   }
  },
  {
   "cell_type": "markdown",
   "source": [
    "## Dictionaries\n",
    "Used to quickly look up values by key rather than by position. Dictionaries are not guaranteed to stay in order (though since recent versions of Python they should do)."
   ],
   "metadata": {
    "collapsed": false,
    "pycharm": {
     "name": "#%% md\n"
    }
   }
  },
  {
   "cell_type": "code",
   "execution_count": null,
   "outputs": [],
   "source": [
    "# Dictionaries are defined using CURLY BRACKETS\n",
    "# They use the syntax of {key1:value1, key2:value2,...}\n",
    "\n",
    "our_dict = {'name':'Hester', 'age':26, 'occupation':'birthday cake repair officer'}\n",
    "our_dict"
   ],
   "metadata": {
    "collapsed": false,
    "pycharm": {
     "name": "#%%\n"
    }
   }
  },
  {
   "cell_type": "code",
   "execution_count": null,
   "outputs": [],
   "source": [
    "# Like list indexes we access values using square brackets, but provide the key rather than an index position\n",
    "\n",
    "print(our_dict['name'])\n",
    "print(our_dict['age'])\n",
    "print(our_dict['occupation'])"
   ],
   "metadata": {
    "collapsed": false,
    "pycharm": {
     "name": "#%%\n"
    }
   }
  },
  {
   "cell_type": "markdown",
   "source": [
    "## Tuples\n",
    "Tuples are simple collections of values that are immutable. Meaning once they are defined they cannot be changed."
   ],
   "metadata": {
    "collapsed": false,
    "pycharm": {
     "name": "#%% md\n"
    }
   }
  },
  {
   "cell_type": "code",
   "execution_count": null,
   "outputs": [],
   "source": [
    "# Tuples are defined using PARENTHESES\n",
    "our_tuple = (1,2,3)\n",
    "our_tuple"
   ],
   "metadata": {
    "collapsed": false,
    "pycharm": {
     "name": "#%%\n"
    }
   }
  },
  {
   "cell_type": "code",
   "execution_count": null,
   "outputs": [],
   "source": [
    "# Tuple values can also be accessed using positional indexes\n",
    "print(our_tuple[0])\n",
    "print(our_tuple[1])\n",
    "print(our_tuple[2])"
   ],
   "metadata": {
    "collapsed": false,
    "pycharm": {
     "name": "#%%\n"
    }
   }
  },
  {
   "cell_type": "code",
   "execution_count": null,
   "outputs": [],
   "source": [
    "# Tuples can also be unpacked into seperate variables like so\n",
    "\n",
    "first_value, second_value, third_value = our_tuple\n"
   ],
   "metadata": {
    "collapsed": false,
    "pycharm": {
     "name": "#%%\n"
    }
   }
  },
  {
   "cell_type": "code",
   "execution_count": null,
   "outputs": [],
   "source": [
    "print(first_value)\n",
    "print(second_value)\n",
    "print(third_value)"
   ],
   "metadata": {
    "collapsed": false,
    "pycharm": {
     "name": "#%%\n"
    }
   }
  },
  {
   "cell_type": "markdown",
   "source": [
    "# Boolean Comparison"
   ],
   "metadata": {
    "collapsed": false,
    "pycharm": {
     "name": "#%% md\n"
    }
   }
  },
  {
   "cell_type": "markdown",
   "source": [
    "- Python can 'test' whether particular statements are `True` or `False`.\n",
    "- Being able to compare and assess values is a key component of programming, automation and analysis.\n",
    "- 'Comparison' operators allow us to compare values, and Python will tell us if the statement is `True` or `False`\n",
    "    -   == Equal to  \n",
    "    -   != Not Equal to \n",
    "    -   \\> Greater than  \n",
    "    -   < Less than  \n",
    "    -   \\>= Greater or equal to  \n",
    "    -   <= Smaller or equal to\n",
    "- We also have the keywords\n",
    "    - `and` assesses if both statements are `True`\n",
    "    - ` or` assesses if either statements are `True`\n",
    "    - `is` assesses if two variables point to the same **object**, not necessarily if they are the same. In general, use `==` rather than `is`\n",
    "    - `in` assesses if a value is contained inside another value, such as a list or string.\n",
    "    - `not` inverts a conditional statement"
   ],
   "metadata": {
    "collapsed": false,
    "pycharm": {
     "name": "#%% md\n"
    }
   }
  },
  {
   "cell_type": "markdown",
   "source": [
    "### Some examples of conditionals"
   ],
   "metadata": {
    "collapsed": false,
    "pycharm": {
     "name": "#%% md\n"
    }
   }
  },
  {
   "cell_type": "code",
   "execution_count": null,
   "outputs": [],
   "source": [
    "3 * 5 == 15"
   ],
   "metadata": {
    "collapsed": false,
    "pycharm": {
     "name": "#%%\n"
    }
   }
  },
  {
   "cell_type": "code",
   "execution_count": null,
   "outputs": [],
   "source": [
    "\"Fred\" == \"George\""
   ],
   "metadata": {
    "collapsed": false,
    "pycharm": {
     "name": "#%%\n"
    }
   }
  },
  {
   "cell_type": "code",
   "execution_count": null,
   "outputs": [],
   "source": [
    "\"Fred\" != \"George\""
   ],
   "metadata": {
    "collapsed": false,
    "pycharm": {
     "name": "#%%\n"
    }
   }
  },
  {
   "cell_type": "code",
   "execution_count": null,
   "outputs": [],
   "source": [
    "(5+5 == 10) and (1 < 2)"
   ],
   "metadata": {
    "collapsed": false,
    "pycharm": {
     "name": "#%%\n"
    }
   }
  },
  {
   "cell_type": "code",
   "execution_count": null,
   "outputs": [],
   "source": [
    "(5+5 == 10) and (2 >= 100)"
   ],
   "metadata": {
    "collapsed": false,
    "pycharm": {
     "name": "#%%\n"
    }
   }
  },
  {
   "cell_type": "code",
   "execution_count": null,
   "outputs": [],
   "source": [
    "(5+5 == 10) or (2 >= 100)"
   ],
   "metadata": {
    "collapsed": false,
    "pycharm": {
     "name": "#%%\n"
    }
   }
  },
  {
   "cell_type": "code",
   "execution_count": null,
   "outputs": [],
   "source": [
    "# Strings can also use comparison methods and Boolean logic such as `in` or `not in`.\n",
    "\n",
    "print('Hello' in 'Hello my name is John')\n",
    "print('England' not in 'The EU')"
   ],
   "metadata": {
    "collapsed": false,
    "pycharm": {
     "name": "#%%\n"
    }
   }
  },
  {
   "cell_type": "code",
   "execution_count": null,
   "outputs": [],
   "source": [
    "# We can also check lists\n",
    "\n",
    "simpsons = ['Bart','Lisa','Homer','Marge']\n",
    "\n",
    "'Maggie' in simpsons"
   ],
   "metadata": {
    "collapsed": false,
    "pycharm": {
     "name": "#%%\n"
    }
   }
  },
  {
   "cell_type": "markdown",
   "source": [
    "# Flow Control\n",
    "- One key area where Boolean Conditionals are critical, is in controlling the flow of your code.\n",
    "- Flow control means that certain code is only run under certain conditions.\n",
    "- The main relevant keywords are...\n",
    "    - `if` If a statement evaluates to `True`... do something.\n",
    "    - `else` If your above statement evaluated to `False` do this instead.\n",
    "    - `elif` 'Else if' - If your above `if` statement evaluated to `False`, check this statement instead\n",
    "    \n",
    "Flow control works using **blocks**. Normally a block begins with a conditional statement, with indented code beneath it indicating what code should run if the conditional evaluates to `True`.\n",
    "\n",
    "A usual conditional block looks like this...\n",
    "````\n",
    "if True_statement:\n",
    "    Do something\n",
    "````"
   ],
   "metadata": {
    "collapsed": false,
    "pycharm": {
     "name": "#%% md\n"
    }
   }
  },
  {
   "cell_type": "code",
   "execution_count": null,
   "outputs": [],
   "source": [
    "# if statements execute if a condition is True and do nothing if False\n",
    "\n",
    "test_value = 'Hello!'\n",
    "\n",
    "if test_value == 'Hello!':\n",
    "    print(\"This string says 'Hello'\")\n",
    "    \n",
    "if test_value == 'Goodbye!':\n",
    "    print(\"This string says 'Goodbye'\")\n",
    "    \n",
    "if test_value.startswith('H'):\n",
    "    print(\"This string starts with 'H'\")"
   ],
   "metadata": {
    "collapsed": false,
    "pycharm": {
     "name": "#%%\n"
    }
   }
  },
  {
   "cell_type": "code",
   "execution_count": null,
   "outputs": [],
   "source": [
    "# Conditionals can be reversed by usng the keyword `not`\n",
    "\n",
    "\n",
    "keyword = 'Monkey'\n",
    "awesome_string = 'Monkey powered nuclear jetpack'\n",
    "boring_string = 'I have nothing to contribute here.'\n",
    "\n",
    "\n",
    "if keyword in boring_string:\n",
    "    print(\"Monkeys are in the boring string!\")\n",
    "\n",
    "if keyword not in boring_string:\n",
    "    print('No Monkeys are in the Boring String')"
   ],
   "metadata": {
    "collapsed": false,
    "pycharm": {
     "name": "#%%\n"
    }
   }
  },
  {
   "cell_type": "code",
   "execution_count": null,
   "outputs": [],
   "source": [
    "# else statements can define \n",
    "# what action to take if the condition is not True\n",
    "\n",
    "age = 35\n",
    "\n",
    "# projected retirement age in future UK dystopia\n",
    "retirement_age = 85\n",
    "\n",
    "if age >= retirement_age:\n",
    "    print('Time to RETIRE!')\n",
    "else:\n",
    "    print('Get back to work slacker!')"
   ],
   "metadata": {
    "collapsed": false,
    "pycharm": {
     "name": "#%%\n"
    }
   }
  },
  {
   "cell_type": "code",
   "execution_count": null,
   "outputs": [],
   "source": [
    "# Elif means `run` if the above statement was False.\n",
    "# Whilst having a list of if statements will check each one, \n",
    "# elif statements finish once one True condition is found\n",
    "\n",
    "age = 35\n",
    "school_age = 5\n",
    "uni_age = 18\n",
    "boring_age = 25\n",
    "cool_again_age = 60\n",
    "\n",
    "if age < school_age:\n",
    "    print('Awww, ickle baby')\n",
    "elif age < uni_age:\n",
    "    print('A simpler time at school')\n",
    "elif age < boring_age:\n",
    "    print('So much to learn, sooo little time!')\n",
    "elif age < cool_again_age:\n",
    "    print(\"I have become my parents and I don't like it...\")\n",
    "else:\n",
    "    print(\"Wooo I don't care anymore!\")\n",
    "\n",
    "\n"
   ],
   "metadata": {
    "collapsed": false,
    "pycharm": {
     "name": "#%%\n"
    }
   }
  },
  {
   "cell_type": "markdown",
   "source": [
    "# Loops\n",
    "Looping is a foundational concept in programming that allows your code to do a lot of useful things. The basic structure of a loop is...\n",
    "\n",
    "````\n",
    "for item in iterable:\n",
    "    do something with item\n",
    "````\n",
    "**Key Things**\n",
    "- An `iterable` is a variable that can be broken down into individual items, often a list, but you can also iterate over strings and other data structures.\n",
    "- In our example `item` refers to each individual object in our iterable. The word item could be anything, it is simply the name given to refer to the object in our code."
   ],
   "metadata": {
    "collapsed": false,
    "pycharm": {
     "name": "#%% md\n"
    }
   }
  },
  {
   "cell_type": "code",
   "execution_count": null,
   "outputs": [],
   "source": [
    "our_iterable_list = ['First','Second','Third','Last!']\n",
    "\n",
    "for amazing_item in our_iterable_list:\n",
    "    print(amazing_item)"
   ],
   "metadata": {
    "collapsed": false,
    "pycharm": {
     "name": "#%%\n"
    }
   }
  },
  {
   "cell_type": "code",
   "execution_count": null,
   "outputs": [],
   "source": [
    "# More importantly we can do things in the loop such as filter based on conditions\n",
    "for amazing_item in our_iterable_list:\n",
    "    if 'r' in amazing_item:\n",
    "        print(amazing_item)"
   ],
   "metadata": {
    "collapsed": false,
    "pycharm": {
     "name": "#%%\n"
    }
   }
  },
  {
   "cell_type": "code",
   "execution_count": null,
   "outputs": [],
   "source": [
    "# Or do some sort of transformation\n",
    "number_iterable = [1,2,3,4,5,6,7,8,9,10]\n",
    "\n",
    "for number in number_iterable:\n",
    "    print(number ** 2)"
   ],
   "metadata": {
    "collapsed": false,
    "pycharm": {
     "name": "#%%\n"
    }
   }
  },
  {
   "cell_type": "markdown",
   "source": [
    "A key use of loops is to iterate over a collection of data, process the data in some way, and then save the result. So far we have simply used `print` to show the results, but now we're going to retain them.\n"
   ],
   "metadata": {
    "collapsed": false,
    "pycharm": {
     "name": "#%% md\n"
    }
   }
  },
  {
   "cell_type": "code",
   "execution_count": null,
   "outputs": [],
   "source": [
    "# We can make this very simple but somewhat useless...\n",
    "\n",
    "new_list = []\n",
    "\n",
    "for num in number_iterable:\n",
    "    new_list.append(num)\n",
    "\n",
    "new_list"
   ],
   "metadata": {
    "collapsed": false,
    "pycharm": {
     "name": "#%%\n"
    }
   }
  },
  {
   "cell_type": "markdown",
   "source": [
    "Let's make this slightly more useful..."
   ],
   "metadata": {
    "collapsed": false,
    "pycharm": {
     "name": "#%% md\n"
    }
   }
  },
  {
   "cell_type": "code",
   "execution_count": null,
   "outputs": [],
   "source": [
    "# We can find out how many characters are in a string using the built-in Python function len()\n",
    "len('Hello')"
   ],
   "metadata": {
    "collapsed": false,
    "pycharm": {
     "name": "#%%\n"
    }
   }
  },
  {
   "cell_type": "code",
   "execution_count": null,
   "outputs": [],
   "source": [
    "animal_words = ['Pig','Cow','Horse','Dog','Sheep','Goat','Cat','Giraffe']\n",
    "\n",
    "long_animal_words = []\n",
    "\n",
    "for animal in animal_words:\n",
    "    if len(animal) >= 4:\n",
    "        long_animal_words.append(animal)\n",
    "\n",
    "# take a look at the list...\n",
    "long_animal_words"
   ],
   "metadata": {
    "collapsed": false,
    "pycharm": {
     "name": "#%%\n"
    }
   }
  },
  {
   "cell_type": "code",
   "execution_count": null,
   "outputs": [],
   "source": [
    "# Always keep your list outside the loop block. \n",
    "# Why? Follow the code step by step, what happens each loop?\n",
    "\n",
    "for animal in animal_words:\n",
    "    long_animal_words = []\n",
    "    if len(animal) >= 4:\n",
    "        long_animal_words.append(animal)\n",
    "        \n",
    "long_animal_words"
   ],
   "metadata": {
    "collapsed": false,
    "pycharm": {
     "name": "#%%\n"
    }
   }
  },
  {
   "cell_type": "markdown",
   "source": [
    "If you're feeling fancy, *list comprehensions* can do effectively the same job, more efficiently in one line. The general structure of a list comprehension is\n",
    "```\n",
    "[keep_value for keep_value in iterable]\n",
    "```\n",
    "If you want to add some sort of condition...\n",
    "\n",
    "```\n",
    "[keep_value for keep_value in iterable if statement_evaluates_to_true]\n",
    "\n",
    "```\n",
    "There is a very good [visual guide to list comprehensions](https://treyhunner.com/2015/12/python-list-comprehensions-now-in-color/) if you are interested."
   ],
   "metadata": {
    "collapsed": false,
    "pycharm": {
     "name": "#%% md\n"
    }
   }
  },
  {
   "cell_type": "code",
   "execution_count": null,
   "outputs": [],
   "source": [
    "# The first loop we did in a list comprehension\n",
    "\n",
    "[animal for animal in animal_words if len(animal) >= 4]"
   ],
   "metadata": {
    "collapsed": false,
    "pycharm": {
     "name": "#%%\n"
    }
   }
  },
  {
   "cell_type": "code",
   "execution_count": null,
   "outputs": [],
   "source": [
    "# you can also change the value you are keeping \n",
    "[animal.upper() for animal in animal_words if len(animal) >= 4]"
   ],
   "metadata": {
    "collapsed": false,
    "pycharm": {
     "name": "#%%\n"
    }
   }
  },
  {
   "cell_type": "markdown",
   "source": [
    "# A Useful Aside about F-Strings\n",
    "This didn't fit neatly anywhere above, but it is important to know..."
   ],
   "metadata": {
    "collapsed": false,
    "pycharm": {
     "name": "#%% md\n"
    }
   }
  },
  {
   "cell_type": "code",
   "execution_count": null,
   "outputs": [],
   "source": [
    "# Whilst you can concatenate strings like this\n",
    "\n",
    "name = 'Betty'\n",
    "age = 45\n",
    "\n",
    "'My name is ' + name + ' and I am ' + str(age) + ' years old.'\n",
    "\n",
    "# It is a little clunky and ugly and you have to consider spaces in all the different parts."
   ],
   "metadata": {
    "collapsed": false,
    "pycharm": {
     "name": "#%%\n"
    }
   }
  },
  {
   "cell_type": "code",
   "execution_count": null,
   "outputs": [],
   "source": [
    "# f-strings are better. They use curly brackets to designate when\n",
    "# some of the string should be filled in using variables\n",
    "\n",
    "f'My name is {name} and I am {age} years old.'"
   ],
   "metadata": {
    "collapsed": false,
    "pycharm": {
     "name": "#%%\n"
    }
   }
  },
  {
   "cell_type": "code",
   "execution_count": null,
   "outputs": [],
   "source": [
    "# You can even run functions and operations in the curly brackets\n",
    "\n",
    "name = 'Horatio'\n",
    "age = 45\n",
    "\n",
    "\n",
    "f'My name is {name} and I am {age} years old. My name has {len(name)} characters in it.'"
   ],
   "metadata": {
    "collapsed": false,
    "pycharm": {
     "name": "#%%\n"
    }
   }
  },
  {
   "cell_type": "code",
   "execution_count": null,
   "outputs": [],
   "source": [],
   "metadata": {
    "collapsed": false,
    "pycharm": {
     "name": "#%%\n"
    }
   }
  }
 ],
 "metadata": {
  "kernelspec": {
   "display_name": "Python 3 (ipykernel)",
   "language": "python",
   "name": "python3"
  },
  "language_info": {
   "codemirror_mode": {
    "name": "ipython",
    "version": 3
   },
   "file_extension": ".py",
   "mimetype": "text/x-python",
   "name": "python",
   "nbconvert_exporter": "python",
   "pygments_lexer": "ipython3",
   "version": "3.8.12"
  },
  "nbpresent": {
   "slides": {
    "05285381-3b54-495a-8546-23a128709ed5": {
     "id": "05285381-3b54-495a-8546-23a128709ed5",
     "prev": "6445a42d-fe82-4af9-b762-db69b840b753",
     "regions": {
      "aba58ff9-20ca-4237-a311-7d3cfc958b2e": {
       "attrs": {
        "height": 0.8,
        "width": 0.8,
        "x": 0.1,
        "y": 0.1
       },
       "content": {
        "cell": "7ca0452b-de48-4c93-a6d1-66e67098038c",
        "part": "whole"
       },
       "id": "aba58ff9-20ca-4237-a311-7d3cfc958b2e"
      }
     }
    },
    "086dc27d-5ab7-46af-a347-c0c9dc2ec721": {
     "id": "086dc27d-5ab7-46af-a347-c0c9dc2ec721",
     "prev": "8de544e1-ccba-4a00-9541-c18f1348dba3",
     "regions": {
      "52351d58-3d86-40d3-94bb-3abd9ab4ccdc": {
       "attrs": {
        "height": 0.8,
        "width": 0.8,
        "x": 0.1,
        "y": 0.1
       },
       "content": {
        "cell": "d8eeed2c-6497-4215-a6f0-086bea66fee0",
        "part": "whole"
       },
       "id": "52351d58-3d86-40d3-94bb-3abd9ab4ccdc"
      }
     }
    },
    "0c0174b0-71b6-4867-b914-7774af216e58": {
     "id": "0c0174b0-71b6-4867-b914-7774af216e58",
     "prev": "b576e575-f202-4591-87e4-098a2e89baf7",
     "regions": {
      "a4da7569-0e1d-4f1b-af0b-b2c789c86971": {
       "attrs": {
        "height": 0.8,
        "width": 0.8,
        "x": 0.1,
        "y": 0.1
       },
       "content": {
        "cell": "ea1d1983-e3f3-491c-938e-1228a4b41550",
        "part": "whole"
       },
       "id": "a4da7569-0e1d-4f1b-af0b-b2c789c86971"
      }
     }
    },
    "0ec54bf0-06c0-4f6a-ac78-e97dbc61df42": {
     "id": "0ec54bf0-06c0-4f6a-ac78-e97dbc61df42",
     "prev": "4b91ef6f-60db-4d8c-87ca-565e7e1dd607",
     "regions": {
      "6f2823ae-0e3b-41c6-9d72-2cacc6bdc498": {
       "attrs": {
        "height": 0.8,
        "width": 0.8,
        "x": 0.1,
        "y": 0.1
       },
       "content": {
        "cell": "e872828d-3ad1-46e4-b36a-85168bc3742a",
        "part": "whole"
       },
       "id": "6f2823ae-0e3b-41c6-9d72-2cacc6bdc498"
      }
     }
    },
    "10730469-2011-4bec-b998-d9e41fe28d53": {
     "id": "10730469-2011-4bec-b998-d9e41fe28d53",
     "prev": "5ae5305e-6b1c-4272-a45d-9d32feb89ec1",
     "regions": {
      "adb244ff-16e0-4e78-9679-edb72956ebc4": {
       "attrs": {
        "height": 0.8,
        "width": 0.8,
        "x": 0.1,
        "y": 0.1
       },
       "content": {
        "cell": "01433745-de66-4f4e-a2fc-a9e7e72e0472",
        "part": "whole"
       },
       "id": "adb244ff-16e0-4e78-9679-edb72956ebc4"
      }
     }
    },
    "12b8c728-db03-44b2-ae69-6341d8ced251": {
     "id": "12b8c728-db03-44b2-ae69-6341d8ced251",
     "prev": "efbc83bc-ed82-4b8b-a1da-87e085479436",
     "regions": {
      "b257af72-ea55-48f3-80a6-fd23123699d7": {
       "attrs": {
        "height": 0.8,
        "width": 0.8,
        "x": 0.1,
        "y": 0.1
       },
       "content": {
        "cell": "f9cf2519-1c95-41fc-972c-7f053f8ff901",
        "part": "whole"
       },
       "id": "b257af72-ea55-48f3-80a6-fd23123699d7"
      }
     }
    },
    "13b7785e-f73c-4ae7-bfeb-46de3dc382e0": {
     "id": "13b7785e-f73c-4ae7-bfeb-46de3dc382e0",
     "prev": "9694bcd0-48d3-4bf1-827b-863d55234d55",
     "regions": {
      "d379e6f6-b93d-41c2-babd-f1b96ea6f84b": {
       "attrs": {
        "height": 0.8,
        "width": 0.8,
        "x": 0.1,
        "y": 0.1
       },
       "content": {
        "cell": "bea049ad-23f6-4080-98c0-8ca5345f8e67",
        "part": "whole"
       },
       "id": "d379e6f6-b93d-41c2-babd-f1b96ea6f84b"
      }
     }
    },
    "187c5507-2d93-4213-8fbd-5c5f064978e8": {
     "id": "187c5507-2d93-4213-8fbd-5c5f064978e8",
     "prev": null,
     "regions": {
      "ada94adb-7f05-4ef4-a0d4-cdd7a434e089": {
       "attrs": {
        "height": 0.8,
        "width": 0.8,
        "x": 0.1,
        "y": 0.1
       },
       "content": {
        "cell": "e0d1e043-de8e-4961-b3c5-3cbcadd21c6c",
        "part": "whole"
       },
       "id": "ada94adb-7f05-4ef4-a0d4-cdd7a434e089"
      }
     }
    },
    "1fb702ef-86e2-4529-a810-90a8c27c3c35": {
     "id": "1fb702ef-86e2-4529-a810-90a8c27c3c35",
     "prev": "28774a2f-86b2-45a0-bacb-9a806548956d",
     "regions": {
      "975cd5b9-79c3-411d-8d93-2088233eef00": {
       "attrs": {
        "height": 0.8,
        "width": 0.8,
        "x": 0.1,
        "y": 0.1
       },
       "content": {
        "cell": "4f75f85e-fe3a-48ee-a5e8-bd50eec2df0e",
        "part": "whole"
       },
       "id": "975cd5b9-79c3-411d-8d93-2088233eef00"
      }
     }
    },
    "2548df91-4083-4ac5-8ef3-ab35472fd14a": {
     "id": "2548df91-4083-4ac5-8ef3-ab35472fd14a",
     "prev": "f668feae-4dbe-41bc-bbc5-ba736cb9fab0",
     "regions": {
      "1fea0c2b-4b4d-4240-a8e4-537618fc779c": {
       "attrs": {
        "height": 0.8,
        "width": 0.8,
        "x": 0.1,
        "y": 0.1
       },
       "content": {
        "cell": "a19ed1d4-6525-4d89-879e-d0048cd4435e",
        "part": "whole"
       },
       "id": "1fea0c2b-4b4d-4240-a8e4-537618fc779c"
      }
     }
    },
    "25be7e80-4656-49fc-a3e2-bcd7769d93ed": {
     "id": "25be7e80-4656-49fc-a3e2-bcd7769d93ed",
     "prev": "4096eb0d-3031-4e57-9ac7-21a528b31592",
     "regions": {
      "9c362f67-b74c-47cb-9294-166cccfbe061": {
       "attrs": {
        "height": 0.8,
        "width": 0.8,
        "x": 0.1,
        "y": 0.1
       },
       "content": {
        "cell": "fa2a0963-759c-46d5-b548-3d3e1521cbf1",
        "part": "whole"
       },
       "id": "9c362f67-b74c-47cb-9294-166cccfbe061"
      }
     }
    },
    "28774a2f-86b2-45a0-bacb-9a806548956d": {
     "id": "28774a2f-86b2-45a0-bacb-9a806548956d",
     "prev": "187c5507-2d93-4213-8fbd-5c5f064978e8",
     "regions": {
      "a7d1fdfc-f0a1-4af6-a320-7ac53b0fb070": {
       "attrs": {
        "height": 0.8,
        "width": 0.8,
        "x": 0.1,
        "y": 0.1
       },
       "content": {
        "cell": "7495a1eb-7ffe-4675-ba58-ed2accc527bb",
        "part": "whole"
       },
       "id": "a7d1fdfc-f0a1-4af6-a320-7ac53b0fb070"
      }
     }
    },
    "2eb95527-5446-4fbd-9306-f5951897bc04": {
     "id": "2eb95527-5446-4fbd-9306-f5951897bc04",
     "prev": "7c1b266e-aa28-4f2d-94c4-6aba9ee470c3",
     "regions": {
      "ecc2d240-2c45-4e52-b478-f90d0d6fb7d8": {
       "attrs": {
        "height": 0.8,
        "width": 0.8,
        "x": 0.1,
        "y": 0.1
       },
       "content": {
        "cell": "e9a07289-31a8-470b-a37e-80f1489e4ece",
        "part": "whole"
       },
       "id": "ecc2d240-2c45-4e52-b478-f90d0d6fb7d8"
      }
     }
    },
    "332ebadc-35ab-4b40-af3d-1e232ff68d9a": {
     "id": "332ebadc-35ab-4b40-af3d-1e232ff68d9a",
     "prev": "086dc27d-5ab7-46af-a347-c0c9dc2ec721",
     "regions": {
      "d8fa0974-5ef8-4b9d-a413-1fa94e102abe": {
       "attrs": {
        "height": 0.8,
        "width": 0.8,
        "x": 0.1,
        "y": 0.1
       },
       "content": {
        "cell": "90683fd3-6a63-4ffb-844e-7cebdccc9d7f",
        "part": "whole"
       },
       "id": "d8fa0974-5ef8-4b9d-a413-1fa94e102abe"
      }
     }
    },
    "4096eb0d-3031-4e57-9ac7-21a528b31592": {
     "id": "4096eb0d-3031-4e57-9ac7-21a528b31592",
     "prev": "2eb95527-5446-4fbd-9306-f5951897bc04",
     "regions": {
      "0249a6e0-33e6-45e7-9016-205650c921b6": {
       "attrs": {
        "height": 0.8,
        "width": 0.8,
        "x": 0.1,
        "y": 0.1
       },
       "content": {
        "cell": "3d8ef1c6-94ae-4596-ade2-8e3b7e9e7c18",
        "part": "whole"
       },
       "id": "0249a6e0-33e6-45e7-9016-205650c921b6"
      }
     }
    },
    "4178956f-07e7-4c05-8c25-0acb423f8ab8": {
     "id": "4178956f-07e7-4c05-8c25-0acb423f8ab8",
     "prev": "495ed9fd-5d3e-4f43-ae7e-1c1619b53375",
     "regions": {
      "6d717821-c6e7-49d9-9976-ae084ea20f3e": {
       "attrs": {
        "height": 0.8,
        "width": 0.8,
        "x": 0.1,
        "y": 0.1
       },
       "content": {
        "cell": "15c6f45f-3b9e-4620-895c-ba2ab61e5440",
        "part": "whole"
       },
       "id": "6d717821-c6e7-49d9-9976-ae084ea20f3e"
      }
     }
    },
    "481005a1-8dcc-4a01-96f0-5919101aedc9": {
     "id": "481005a1-8dcc-4a01-96f0-5919101aedc9",
     "prev": "7ef5df1d-93a7-4be7-b9cb-36c952feb9b8",
     "regions": {
      "e6afc8af-c9f0-4bc4-9f38-b69d139fca71": {
       "attrs": {
        "height": 0.8,
        "width": 0.8,
        "x": 0.1,
        "y": 0.1
       },
       "content": {
        "cell": "dbd59763-fc35-4c04-9660-aaa8cb2c1185",
        "part": "whole"
       },
       "id": "e6afc8af-c9f0-4bc4-9f38-b69d139fca71"
      }
     }
    },
    "495ed9fd-5d3e-4f43-ae7e-1c1619b53375": {
     "id": "495ed9fd-5d3e-4f43-ae7e-1c1619b53375",
     "prev": "2548df91-4083-4ac5-8ef3-ab35472fd14a",
     "regions": {
      "446acba3-dfef-4420-8e42-aeb82346c8ff": {
       "attrs": {
        "height": 0.8,
        "width": 0.8,
        "x": 0.1,
        "y": 0.1
       },
       "content": {
        "cell": "ec6af58d-7346-4763-b250-2d281440e176",
        "part": "whole"
       },
       "id": "446acba3-dfef-4420-8e42-aeb82346c8ff"
      }
     }
    },
    "4b91ef6f-60db-4d8c-87ca-565e7e1dd607": {
     "id": "4b91ef6f-60db-4d8c-87ca-565e7e1dd607",
     "prev": "8b0c0e01-ff5a-4ade-9260-867ad274087f",
     "regions": {
      "efa1c545-952f-455e-bedb-2efaae4a6ac2": {
       "attrs": {
        "height": 0.8,
        "width": 0.8,
        "x": 0.1,
        "y": 0.1
       },
       "content": {
        "cell": "270f4e18-bd03-4f96-b410-738708e2c95b",
        "part": "whole"
       },
       "id": "efa1c545-952f-455e-bedb-2efaae4a6ac2"
      }
     }
    },
    "58553226-6874-4c99-a20d-ff7453cc720b": {
     "id": "58553226-6874-4c99-a20d-ff7453cc720b",
     "prev": "d37eb51a-745f-4380-8ea8-0f0a35c0166a",
     "regions": {
      "9b56623e-5de3-44de-9a50-f0ebca005fe1": {
       "attrs": {
        "height": 0.8,
        "width": 0.8,
        "x": 0.1,
        "y": 0.1
       },
       "content": {
        "cell": "4b876e61-7fbb-48ef-8428-c836f970ef85",
        "part": "whole"
       },
       "id": "9b56623e-5de3-44de-9a50-f0ebca005fe1"
      }
     }
    },
    "5ae5305e-6b1c-4272-a45d-9d32feb89ec1": {
     "id": "5ae5305e-6b1c-4272-a45d-9d32feb89ec1",
     "prev": "58553226-6874-4c99-a20d-ff7453cc720b",
     "regions": {
      "c714c64c-356e-4878-8c6c-74491ca07996": {
       "attrs": {
        "height": 0.8,
        "width": 0.8,
        "x": 0.1,
        "y": 0.1
       },
       "content": {
        "cell": "637d64cf-48c1-46bf-af5b-d44a609409c2",
        "part": "whole"
       },
       "id": "c714c64c-356e-4878-8c6c-74491ca07996"
      }
     }
    },
    "618f7fe2-93f6-4598-a689-7e1d9071047d": {
     "id": "618f7fe2-93f6-4598-a689-7e1d9071047d",
     "prev": "0c0174b0-71b6-4867-b914-7774af216e58",
     "regions": {
      "76321cea-5d99-460c-94d6-5e454d3f5ce2": {
       "attrs": {
        "height": 0.8,
        "width": 0.8,
        "x": 0.1,
        "y": 0.1
       },
       "content": {
        "cell": "7638173b-bac2-4327-81ed-7942ba0197c2",
        "part": "whole"
       },
       "id": "76321cea-5d99-460c-94d6-5e454d3f5ce2"
      }
     }
    },
    "62639445-f879-460c-a496-c2e0d94ad16e": {
     "id": "62639445-f879-460c-a496-c2e0d94ad16e",
     "prev": "c492f2b8-b1f8-4af5-9163-7a694c727b75",
     "regions": {
      "af3803f7-a30d-4eac-8006-fe4481f9eb6b": {
       "attrs": {
        "height": 0.8,
        "width": 0.8,
        "x": 0.1,
        "y": 0.1
       },
       "content": {
        "cell": "d2209bbc-de55-45b0-942a-309c70ecb0f0",
        "part": "whole"
       },
       "id": "af3803f7-a30d-4eac-8006-fe4481f9eb6b"
      }
     }
    },
    "6445a42d-fe82-4af9-b762-db69b840b753": {
     "id": "6445a42d-fe82-4af9-b762-db69b840b753",
     "prev": "69ab02ec-4de3-40a6-8873-38e71f9c63ef",
     "regions": {
      "e800b3cf-dbbd-4319-bcce-c43e82502617": {
       "attrs": {
        "height": 0.8,
        "width": 0.8,
        "x": 0.1,
        "y": 0.1
       },
       "content": {
        "cell": "ce577244-e9df-4566-a731-39bf0ab4a3b8",
        "part": "whole"
       },
       "id": "e800b3cf-dbbd-4319-bcce-c43e82502617"
      }
     }
    },
    "65fd5e80-0298-44ca-96eb-abfaf87e6ac8": {
     "id": "65fd5e80-0298-44ca-96eb-abfaf87e6ac8",
     "prev": "10730469-2011-4bec-b998-d9e41fe28d53",
     "regions": {
      "f29f89b6-aeb1-4cb1-a43e-b82b98d9e44c": {
       "attrs": {
        "height": 0.8,
        "width": 0.8,
        "x": 0.1,
        "y": 0.1
       },
       "content": {
        "cell": "46e71cea-bfaa-426e-b548-9478f3c66a81",
        "part": "whole"
       },
       "id": "f29f89b6-aeb1-4cb1-a43e-b82b98d9e44c"
      }
     }
    },
    "6706cb34-5ff5-4346-beb4-29f7af35d94d": {
     "id": "6706cb34-5ff5-4346-beb4-29f7af35d94d",
     "prev": "9e64c96c-795e-4b19-9e64-fbb22e4a9db4",
     "regions": {
      "aea792c6-a4b0-4c7b-a4b1-741d25ba2b52": {
       "attrs": {
        "height": 0.8,
        "width": 0.8,
        "x": 0.1,
        "y": 0.1
       },
       "content": {
        "cell": "22e2f1ce-17b5-4a01-a0e0-46100db6e70a",
        "part": "whole"
       },
       "id": "aea792c6-a4b0-4c7b-a4b1-741d25ba2b52"
      }
     }
    },
    "69ab02ec-4de3-40a6-8873-38e71f9c63ef": {
     "id": "69ab02ec-4de3-40a6-8873-38e71f9c63ef",
     "prev": "12b8c728-db03-44b2-ae69-6341d8ced251",
     "regions": {
      "85203592-8f3a-4a37-87d0-567f9491ec61": {
       "attrs": {
        "height": 0.8,
        "width": 0.8,
        "x": 0.1,
        "y": 0.1
       },
       "content": {
        "cell": "9831de2d-a9c5-42a9-8124-aefa4568cd4e",
        "part": "whole"
       },
       "id": "85203592-8f3a-4a37-87d0-567f9491ec61"
      }
     }
    },
    "6af4e128-277a-4706-9578-fbb4d842544d": {
     "id": "6af4e128-277a-4706-9578-fbb4d842544d",
     "prev": "618f7fe2-93f6-4598-a689-7e1d9071047d",
     "regions": {
      "dad4ff20-5add-4ab8-aca9-8b64833e8094": {
       "attrs": {
        "height": 0.8,
        "width": 0.8,
        "x": 0.1,
        "y": 0.1
       },
       "content": {
        "cell": "fe5dbd7a-ac75-4a52-bf7d-2c6c5f554b25",
        "part": "whole"
       },
       "id": "dad4ff20-5add-4ab8-aca9-8b64833e8094"
      }
     }
    },
    "72187583-e8bd-4f67-9c92-4905a5fb6f44": {
     "id": "72187583-e8bd-4f67-9c92-4905a5fb6f44",
     "prev": "4178956f-07e7-4c05-8c25-0acb423f8ab8",
     "regions": {
      "4f330474-c808-4f9f-9765-47612ed4b84a": {
       "attrs": {
        "height": 0.8,
        "width": 0.8,
        "x": 0.1,
        "y": 0.1
       },
       "content": {
        "cell": "4a5bc74d-7ada-4da9-9901-fc87dfbc5e2d",
        "part": "whole"
       },
       "id": "4f330474-c808-4f9f-9765-47612ed4b84a"
      }
     }
    },
    "77528649-4cd6-4316-b8b5-91b53e78c829": {
     "id": "77528649-4cd6-4316-b8b5-91b53e78c829",
     "prev": "9ab51f9a-f004-41ca-bec7-a8707e399e5e",
     "regions": {
      "fba94417-ead4-4c0f-a038-16ed4b40921a": {
       "attrs": {
        "height": 0.8,
        "width": 0.8,
        "x": 0.1,
        "y": 0.1
       },
       "content": {
        "cell": "773f2fc0-954a-4500-aa79-474f2a944e10",
        "part": "whole"
       },
       "id": "fba94417-ead4-4c0f-a038-16ed4b40921a"
      }
     }
    },
    "7c1b266e-aa28-4f2d-94c4-6aba9ee470c3": {
     "id": "7c1b266e-aa28-4f2d-94c4-6aba9ee470c3",
     "prev": "a542a46b-9092-47d8-8474-43969ae154d0",
     "regions": {
      "860ab664-d827-4a78-8cfb-8dde203807c0": {
       "attrs": {
        "height": 0.8,
        "width": 0.8,
        "x": 0.1,
        "y": 0.1
       },
       "content": {
        "cell": "0ea77a2a-3452-478d-bc78-1e77e984d2d8",
        "part": "whole"
       },
       "id": "860ab664-d827-4a78-8cfb-8dde203807c0"
      }
     }
    },
    "7e42601e-e51a-4f17-8694-5eb8e87727cf": {
     "id": "7e42601e-e51a-4f17-8694-5eb8e87727cf",
     "prev": "62639445-f879-460c-a496-c2e0d94ad16e",
     "regions": {
      "dbabfeab-8298-4cc3-8187-46b7263b460d": {
       "attrs": {
        "height": 0.8,
        "width": 0.8,
        "x": 0.1,
        "y": 0.1
       },
       "content": {
        "cell": "c42619d7-5389-42de-9731-bff603da7e08",
        "part": "whole"
       },
       "id": "dbabfeab-8298-4cc3-8187-46b7263b460d"
      }
     }
    },
    "7ef5df1d-93a7-4be7-b9cb-36c952feb9b8": {
     "id": "7ef5df1d-93a7-4be7-b9cb-36c952feb9b8",
     "prev": "77528649-4cd6-4316-b8b5-91b53e78c829",
     "regions": {
      "3d109a54-f2a7-4536-96c8-b4318c6525fd": {
       "attrs": {
        "height": 0.8,
        "width": 0.8,
        "x": 0.1,
        "y": 0.1
       },
       "content": {
        "cell": "3f4dfa82-c664-4a17-96a7-b1891f4b8b99",
        "part": "whole"
       },
       "id": "3d109a54-f2a7-4536-96c8-b4318c6525fd"
      }
     }
    },
    "83f59f68-2afb-4f9b-a77b-2b8d9850b4ef": {
     "id": "83f59f68-2afb-4f9b-a77b-2b8d9850b4ef",
     "prev": "6af4e128-277a-4706-9578-fbb4d842544d",
     "regions": {
      "7da91bf3-bd39-4643-ba33-55616251fbe8": {
       "attrs": {
        "height": 0.8,
        "width": 0.8,
        "x": 0.1,
        "y": 0.1
       },
       "content": {
        "cell": "047c6d14-3a35-4728-b318-5c0338f024cf",
        "part": "whole"
       },
       "id": "7da91bf3-bd39-4643-ba33-55616251fbe8"
      }
     }
    },
    "8b0c0e01-ff5a-4ade-9260-867ad274087f": {
     "id": "8b0c0e01-ff5a-4ade-9260-867ad274087f",
     "prev": "1fb702ef-86e2-4529-a810-90a8c27c3c35",
     "regions": {
      "53739bfb-671f-4f74-90ec-d1f6bf98e47c": {
       "attrs": {
        "height": 0.8,
        "width": 0.8,
        "x": 0.1,
        "y": 0.1
       },
       "content": {
        "cell": "f6a8500a-2aa8-4ba0-97eb-a497cf3274b4",
        "part": "whole"
       },
       "id": "53739bfb-671f-4f74-90ec-d1f6bf98e47c"
      }
     }
    },
    "8de544e1-ccba-4a00-9541-c18f1348dba3": {
     "id": "8de544e1-ccba-4a00-9541-c18f1348dba3",
     "prev": "7e42601e-e51a-4f17-8694-5eb8e87727cf",
     "regions": {
      "6ab1eb2e-5816-4d33-9e41-9e1f439965ca": {
       "attrs": {
        "height": 0.8,
        "width": 0.8,
        "x": 0.1,
        "y": 0.1
       },
       "content": {
        "cell": "32f53cd0-7828-4109-8a4d-3d8bb30b770e",
        "part": "whole"
       },
       "id": "6ab1eb2e-5816-4d33-9e41-9e1f439965ca"
      }
     }
    },
    "9694bcd0-48d3-4bf1-827b-863d55234d55": {
     "id": "9694bcd0-48d3-4bf1-827b-863d55234d55",
     "prev": "e8bf78d0-be3a-41cd-a3fa-23f1be548c54",
     "regions": {
      "dec2cfe1-bd51-49df-9404-c417af66b55a": {
       "attrs": {
        "height": 0.8,
        "width": 0.8,
        "x": 0.1,
        "y": 0.1
       },
       "content": {
        "cell": "2a1e302f-c30f-4664-8dee-c0a5fa59f707",
        "part": "whole"
       },
       "id": "dec2cfe1-bd51-49df-9404-c417af66b55a"
      }
     }
    },
    "9ab51f9a-f004-41ca-bec7-a8707e399e5e": {
     "id": "9ab51f9a-f004-41ca-bec7-a8707e399e5e",
     "prev": "f3d5254c-15b7-4f14-997c-8041d353fa75",
     "regions": {
      "8795cb9c-c729-4aeb-962f-c5852e5d65c7": {
       "attrs": {
        "height": 0.8,
        "width": 0.8,
        "x": 0.1,
        "y": 0.1
       },
       "content": {
        "cell": "e98c7917-b0b5-4cc1-a8dd-9ccda90831b0",
        "part": "whole"
       },
       "id": "8795cb9c-c729-4aeb-962f-c5852e5d65c7"
      }
     }
    },
    "9e64c96c-795e-4b19-9e64-fbb22e4a9db4": {
     "id": "9e64c96c-795e-4b19-9e64-fbb22e4a9db4",
     "prev": "cf3a6e0f-ab39-4c8b-9763-b54840856409",
     "regions": {
      "d6d9a122-e698-4371-97ce-a9ba48ee0d3d": {
       "attrs": {
        "height": 0.8,
        "width": 0.8,
        "x": 0.1,
        "y": 0.1
       },
       "content": {
        "cell": "3bdd3689-b4c1-4403-8939-e72d35ec2639",
        "part": "whole"
       },
       "id": "d6d9a122-e698-4371-97ce-a9ba48ee0d3d"
      }
     }
    },
    "9f256762-cd7c-4278-81b8-dca3b09840c2": {
     "id": "9f256762-cd7c-4278-81b8-dca3b09840c2",
     "prev": "e2fc92a1-a49f-4eb3-bbce-c163561d77dd",
     "regions": {
      "1b238094-0af8-41d5-a726-7e3e354dc387": {
       "attrs": {
        "height": 0.8,
        "width": 0.8,
        "x": 0.1,
        "y": 0.1
       },
       "content": {
        "cell": "1c33b70b-3657-459a-8fc5-c48c828667bf",
        "part": "whole"
       },
       "id": "1b238094-0af8-41d5-a726-7e3e354dc387"
      }
     }
    },
    "a542a46b-9092-47d8-8474-43969ae154d0": {
     "id": "a542a46b-9092-47d8-8474-43969ae154d0",
     "prev": "83f59f68-2afb-4f9b-a77b-2b8d9850b4ef",
     "regions": {
      "770f2ae8-c421-463b-bb9c-53976af53dd0": {
       "attrs": {
        "height": 0.8,
        "width": 0.8,
        "x": 0.1,
        "y": 0.1
       },
       "content": {
        "cell": "21355d73-f321-4973-8bf2-5ec7aad34d62",
        "part": "whole"
       },
       "id": "770f2ae8-c421-463b-bb9c-53976af53dd0"
      }
     }
    },
    "ad66b18f-d4de-48ba-8dbc-1a4c89c09da5": {
     "id": "ad66b18f-d4de-48ba-8dbc-1a4c89c09da5",
     "prev": "dc202216-c82e-4815-b8ac-12912ccfad68",
     "regions": {
      "bd34d38c-90fa-4be6-ab3e-ef5599a8112d": {
       "attrs": {
        "height": 0.8,
        "width": 0.8,
        "x": 0.1,
        "y": 0.1
       },
       "content": {
        "cell": "019b13bc-1f31-42f4-913a-a5f6f168ad44",
        "part": "whole"
       },
       "id": "bd34d38c-90fa-4be6-ab3e-ef5599a8112d"
      }
     }
    },
    "b576e575-f202-4591-87e4-098a2e89baf7": {
     "id": "b576e575-f202-4591-87e4-098a2e89baf7",
     "prev": "72187583-e8bd-4f67-9c92-4905a5fb6f44",
     "regions": {
      "51480439-d910-4cd6-81af-946838246f47": {
       "attrs": {
        "height": 0.8,
        "width": 0.8,
        "x": 0.1,
        "y": 0.1
       },
       "content": {
        "cell": "3bd95f9f-034c-4648-900a-96e755237f04",
        "part": "whole"
       },
       "id": "51480439-d910-4cd6-81af-946838246f47"
      }
     }
    },
    "c492f2b8-b1f8-4af5-9163-7a694c727b75": {
     "id": "c492f2b8-b1f8-4af5-9163-7a694c727b75",
     "prev": "d1aa163c-70da-4a42-a6bd-3063e9341246",
     "regions": {
      "d314b69a-fa5f-4f43-8742-be5359607290": {
       "attrs": {
        "height": 0.8,
        "width": 0.8,
        "x": 0.1,
        "y": 0.1
       },
       "content": {
        "cell": "41495615-b734-4077-86df-6d8ef92378cc",
        "part": "whole"
       },
       "id": "d314b69a-fa5f-4f43-8742-be5359607290"
      }
     }
    },
    "cf3a6e0f-ab39-4c8b-9763-b54840856409": {
     "id": "cf3a6e0f-ab39-4c8b-9763-b54840856409",
     "prev": "9f256762-cd7c-4278-81b8-dca3b09840c2",
     "regions": {
      "e25ff8fa-964d-4915-81b1-46dd874295c7": {
       "attrs": {
        "height": 0.8,
        "width": 0.8,
        "x": 0.1,
        "y": 0.1
       },
       "content": {
        "cell": "13b8f7ec-403e-4fd2-8837-8643972c618c",
        "part": "whole"
       },
       "id": "e25ff8fa-964d-4915-81b1-46dd874295c7"
      }
     }
    },
    "d1aa163c-70da-4a42-a6bd-3063e9341246": {
     "id": "d1aa163c-70da-4a42-a6bd-3063e9341246",
     "prev": "ad66b18f-d4de-48ba-8dbc-1a4c89c09da5",
     "regions": {
      "813e8ea2-88c1-4897-a186-bfda34539f41": {
       "attrs": {
        "height": 0.8,
        "width": 0.8,
        "x": 0.1,
        "y": 0.1
       },
       "content": {
        "cell": "691ca935-e3a6-4013-a866-200178386230",
        "part": "whole"
       },
       "id": "813e8ea2-88c1-4897-a186-bfda34539f41"
      }
     }
    },
    "d37eb51a-745f-4380-8ea8-0f0a35c0166a": {
     "id": "d37eb51a-745f-4380-8ea8-0f0a35c0166a",
     "prev": "332ebadc-35ab-4b40-af3d-1e232ff68d9a",
     "regions": {
      "cbf0f867-93f9-47df-91c4-93780d5921e5": {
       "attrs": {
        "height": 0.8,
        "width": 0.8,
        "x": 0.1,
        "y": 0.1
       },
       "content": {
        "cell": "2960401f-e62d-439a-b73c-c933d330eeca",
        "part": "whole"
       },
       "id": "cbf0f867-93f9-47df-91c4-93780d5921e5"
      }
     }
    },
    "d72121e3-fa34-4b27-9333-2d20f97c870a": {
     "id": "d72121e3-fa34-4b27-9333-2d20f97c870a",
     "prev": "05285381-3b54-495a-8546-23a128709ed5",
     "regions": {
      "8e1e391c-ef99-4d58-bf63-b6dff97c51e0": {
       "attrs": {
        "height": 0.8,
        "width": 0.8,
        "x": 0.1,
        "y": 0.1
       },
       "content": {
        "cell": "f34de219-73f3-4f02-b5c5-a01f90dff27f",
        "part": "whole"
       },
       "id": "8e1e391c-ef99-4d58-bf63-b6dff97c51e0"
      }
     }
    },
    "dc202216-c82e-4815-b8ac-12912ccfad68": {
     "id": "dc202216-c82e-4815-b8ac-12912ccfad68",
     "prev": "d72121e3-fa34-4b27-9333-2d20f97c870a",
     "regions": {
      "06019293-2aa0-417e-8d25-87e8bc3b5fbb": {
       "attrs": {
        "height": 0.8,
        "width": 0.8,
        "x": 0.1,
        "y": 0.1
       },
       "content": {
        "cell": "0a32a420-8727-48e3-97a0-3685074cfaa6",
        "part": "whole"
       },
       "id": "06019293-2aa0-417e-8d25-87e8bc3b5fbb"
      }
     }
    },
    "e022ece9-6659-46c3-be14-67cbd860f81a": {
     "id": "e022ece9-6659-46c3-be14-67cbd860f81a",
     "prev": "13b7785e-f73c-4ae7-bfeb-46de3dc382e0",
     "regions": {
      "152047b1-8f75-4e79-9c70-4fb9def55537": {
       "attrs": {
        "height": 0.8,
        "width": 0.8,
        "x": 0.1,
        "y": 0.1
       },
       "content": {
        "cell": "c22b1460-22ac-40fc-9f80-05beb0eb7ceb",
        "part": "whole"
       },
       "id": "152047b1-8f75-4e79-9c70-4fb9def55537"
      }
     }
    },
    "e2fc92a1-a49f-4eb3-bbce-c163561d77dd": {
     "id": "e2fc92a1-a49f-4eb3-bbce-c163561d77dd",
     "prev": "25be7e80-4656-49fc-a3e2-bcd7769d93ed",
     "regions": {
      "5fee843a-ab2d-4bbe-b0d1-f4819fe004aa": {
       "attrs": {
        "height": 0.8,
        "width": 0.8,
        "x": 0.1,
        "y": 0.1
       },
       "content": {
        "cell": "a5e41e63-8bf1-4bc5-9bf7-1db23e9a0877",
        "part": "whole"
       },
       "id": "5fee843a-ab2d-4bbe-b0d1-f4819fe004aa"
      }
     }
    },
    "e8bf78d0-be3a-41cd-a3fa-23f1be548c54": {
     "id": "e8bf78d0-be3a-41cd-a3fa-23f1be548c54",
     "prev": "0ec54bf0-06c0-4f6a-ac78-e97dbc61df42",
     "regions": {
      "c3223bd3-239a-459c-8d62-4c12d23e41d6": {
       "attrs": {
        "height": 0.8,
        "width": 0.8,
        "x": 0.1,
        "y": 0.1
       },
       "content": {
        "cell": "eb43aa88-52da-4ba6-a636-8dc9457eaf4e",
        "part": "whole"
       },
       "id": "c3223bd3-239a-459c-8d62-4c12d23e41d6"
      }
     }
    },
    "efbc83bc-ed82-4b8b-a1da-87e085479436": {
     "id": "efbc83bc-ed82-4b8b-a1da-87e085479436",
     "prev": "fa7bf090-d26e-4a68-9611-7a4354b25a15",
     "regions": {
      "c43647c4-9a58-4960-98ee-c8f1b7bfc2c4": {
       "attrs": {
        "height": 0.8,
        "width": 0.8,
        "x": 0.1,
        "y": 0.1
       },
       "content": {
        "cell": "db5a7619-d33c-4823-9c6b-0d6ca8ca937e",
        "part": "whole"
       },
       "id": "c43647c4-9a58-4960-98ee-c8f1b7bfc2c4"
      }
     }
    },
    "f3d5254c-15b7-4f14-997c-8041d353fa75": {
     "id": "f3d5254c-15b7-4f14-997c-8041d353fa75",
     "prev": "65fd5e80-0298-44ca-96eb-abfaf87e6ac8",
     "regions": {
      "b993ac00-c0cb-49e7-9f00-01a2cc963c6b": {
       "attrs": {
        "height": 0.8,
        "width": 0.8,
        "x": 0.1,
        "y": 0.1
       },
       "content": {
        "cell": "f72c675f-7c68-4f23-8541-01c354be7a1d",
        "part": "whole"
       },
       "id": "b993ac00-c0cb-49e7-9f00-01a2cc963c6b"
      }
     }
    },
    "f668feae-4dbe-41bc-bbc5-ba736cb9fab0": {
     "id": "f668feae-4dbe-41bc-bbc5-ba736cb9fab0",
     "prev": "481005a1-8dcc-4a01-96f0-5919101aedc9",
     "regions": {
      "7bd5ada5-21b1-4930-b4c4-4763a11a57c2": {
       "attrs": {
        "height": 0.8,
        "width": 0.8,
        "x": 0.1,
        "y": 0.1
       },
       "content": {
        "cell": "4a5f88e1-8031-4d04-9ceb-53c3775ce91d",
        "part": "whole"
       },
       "id": "7bd5ada5-21b1-4930-b4c4-4763a11a57c2"
      }
     }
    },
    "fa7bf090-d26e-4a68-9611-7a4354b25a15": {
     "id": "fa7bf090-d26e-4a68-9611-7a4354b25a15",
     "prev": "e022ece9-6659-46c3-be14-67cbd860f81a",
     "regions": {
      "a42f3d47-aea0-423e-8c7c-339e6617a9f3": {
       "attrs": {
        "height": 0.8,
        "width": 0.8,
        "x": 0.1,
        "y": 0.1
       },
       "content": {
        "cell": "d94a9920-dea2-4036-b829-aee76c3194d1",
        "part": "whole"
       },
       "id": "a42f3d47-aea0-423e-8c7c-339e6617a9f3"
      }
     }
    }
   },
   "themes": {}
  }
 },
 "nbformat": 4,
 "nbformat_minor": 4
}