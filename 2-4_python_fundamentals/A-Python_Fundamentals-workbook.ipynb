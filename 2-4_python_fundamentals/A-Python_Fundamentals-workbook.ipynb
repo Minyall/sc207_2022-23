{
 "cells": [
  {
   "cell_type": "markdown",
   "metadata": {
    "nbpresent": {
     "id": "f6a8500a-2aa8-4ba0-97eb-a497cf3274b4"
    },
    "slideshow": {
     "slide_type": "-"
    }
   },
   "source": [
    "# SC207 Python Fundamentals\n",
    "\n",
    "<img src=\"https://raw.githubusercontent.com/Minyall/sc207_materials/master/images/python-logo.png\" align=\"right\">\n",
    "\n",
    "\n",
    "## Loops, Lists and Strings, oh my!\n",
    "\n",
    "- Our main priorities in this course will be to generate and analyse data. \n",
    "- When we can rely on a tried and trusted toolset, we will.\n",
    "- However, in order to do that we must understand the basics of how Python works.\n"
   ]
  },
  {
   "cell_type": "markdown",
   "metadata": {
    "slideshow": {
     "slide_type": "slide"
    }
   },
   "source": [
    "# Basics\n",
    "## 1. Comments and Running Code"
   ]
  },
  {
   "cell_type": "code",
   "execution_count": null,
   "metadata": {
    "nbpresent": {
     "id": "270f4e18-bd03-4f96-b410-738708e2c95b"
    },
    "slideshow": {
     "slide_type": "subslide"
    }
   },
   "outputs": [],
   "source": [
    "#  This is a comment line. Any line preceeded by a # is ignored by the Python interpreter \n",
    "#  and is used as a way of writing notes in scripts and code that does not interefere with the code itself.\n",
    "\n"
   ]
  },
  {
   "cell_type": "code",
   "execution_count": null,
   "metadata": {
    "slideshow": {
     "slide_type": "subslide"
    }
   },
   "outputs": [],
   "source": [
    "# print() is a command that will output the value of something to the user\n",
    "# In most python interpreter interfaces you must use print() to ensure something is displayed on the screen.\n",
    "\n",
    "# However it is worth knowing that in Jupyter Notebooks, one feature is that we often don't need print to see a value.\n",
    "\n"
   ]
  },
  {
   "cell_type": "code",
   "execution_count": null,
   "metadata": {
    "slideshow": {
     "slide_type": "subslide"
    }
   },
   "outputs": [],
   "source": [
    "# However it will only display the last variable invoked in this way...\n",
    "\n",
    "\n",
    "\n",
    "# This feature becomes useful later on when we need to inspect what we're creating."
   ]
  },
  {
   "cell_type": "markdown",
   "metadata": {
    "nbpresent": {
     "id": "eb43aa88-52da-4ba6-a636-8dc9457eaf4e"
    },
    "slideshow": {
     "slide_type": "slide"
    }
   },
   "source": [
    "<a id='assigning_variables'></a>\n",
    "## 2. Assigning Variables\n",
    "\n",
    "- Assigning variables allows us to create a label, and then assign a value to that label. \n",
    "- This then allows us to manipulate or use that value in our code.\n",
    "- Assigning values to variables is a key building block of the Python environment."
   ]
  },
  {
   "cell_type": "code",
   "execution_count": null,
   "metadata": {
    "nbpresent": {
     "id": "2a1e302f-c30f-4664-8dee-c0a5fa59f707"
    },
    "slideshow": {
     "slide_type": "subslide"
    }
   },
   "outputs": [],
   "source": [
    "# Variables can be numbers...\n",
    "\n",
    "\n",
    "# Strings (letters)\n",
    "\n",
    "\n",
    "print(our_integer)\n",
    "print(our_float)\n",
    "print(our_string)"
   ]
  },
  {
   "cell_type": "code",
   "execution_count": null,
   "metadata": {
    "nbpresent": {
     "id": "bea049ad-23f6-4080-98c0-8ca5345f8e67"
    },
    "slideshow": {
     "slide_type": "subslide"
    }
   },
   "outputs": [],
   "source": [
    "# and more complicated structures such as lists and operations \n",
    "\n",
    "\n",
    "\n",
    "print(our_operation)\n",
    "print(our_list)\n"
   ]
  },
  {
   "cell_type": "code",
   "execution_count": null,
   "metadata": {
    "nbpresent": {
     "id": "d94a9920-dea2-4036-b829-aee76c3194d1"
    },
    "scrolled": true,
    "slideshow": {
     "slide_type": "subslide"
    }
   },
   "outputs": [],
   "source": [
    "# Variables can be reassigned a new value, \n",
    "# and unlike other programming languages it can be a different type to its original assignment.\n",
    "x = \n",
    "\n",
    "print(x)\n",
    "\n",
    "x = \n",
    "\n",
    "print(x)"
   ]
  },
  {
   "cell_type": "code",
   "execution_count": null,
   "metadata": {
    "nbpresent": {
     "id": "f9cf2519-1c95-41fc-972c-7f053f8ff901"
    },
    "slideshow": {
     "slide_type": "subslide"
    }
   },
   "outputs": [],
   "source": [
    "#  However maintain awareness of the order of your instructions or you might end up with a surprise.\n",
    "\n",
    "\n",
    "\n",
    "print(y)"
   ]
  },
  {
   "cell_type": "markdown",
   "metadata": {
    "slideshow": {
     "slide_type": "subslide"
    }
   },
   "source": [
    "### Remember!..\n",
    "- in Jupyter you must both write the code, and then RUN the code for it to be in memory.\n",
    "- Once something is in memory you can use that variable for other tasks."
   ]
  },
  {
   "cell_type": "markdown",
   "metadata": {
    "slideshow": {
     "slide_type": "fragment"
    }
   },
   "source": [
    "forgotten = 'Forget to run me please!'"
   ]
  },
  {
   "cell_type": "code",
   "execution_count": null,
   "metadata": {
    "slideshow": {
     "slide_type": "fragment"
    }
   },
   "outputs": [],
   "source": [
    "print(forgotten) # This will error because we didn't load it into memory"
   ]
  },
  {
   "cell_type": "markdown",
   "metadata": {},
   "source": [
    "The above is called a 'Traceback message'. They inform you an error has occurred, but also gives you useful information on where the error likely occured, and an indication of what the issue was. It's not always perfect but often these messages can point you in the right direction or give you an error message to Google!"
   ]
  },
  {
   "cell_type": "code",
   "execution_count": null,
   "metadata": {},
   "outputs": [],
   "source": []
  },
  {
   "cell_type": "markdown",
   "metadata": {
    "nbpresent": {
     "id": "ce577244-e9df-4566-a731-39bf0ab4a3b8"
    },
    "slideshow": {
     "slide_type": "subslide"
    }
   },
   "source": [
    "# Types of Data (some)\n",
    "## 3. Numbers\n",
    "### Integers\n",
    "\n",
    "These are whole numbers, and have a range of operators that can be applied to them."
   ]
  },
  {
   "cell_type": "code",
   "execution_count": null,
   "metadata": {
    "nbpresent": {
     "id": "7ca0452b-de48-4c93-a6d1-66e67098038c"
    },
    "slideshow": {
     "slide_type": "subslide"
    }
   },
   "outputs": [],
   "source": [
    "# Addition\n",
    "\n",
    "# Subtraction\n",
    "\n",
    "# Multiplication\n",
    "\n",
    "# Divison (Note division creates a float)\n",
    "\n",
    "# Exponents ('...to the power of')\n"
   ]
  },
  {
   "cell_type": "markdown",
   "metadata": {
    "nbpresent": {
     "id": "f34de219-73f3-4f02-b5c5-a01f90dff27f"
    },
    "slideshow": {
     "slide_type": "subslide"
    }
   },
   "source": [
    "These operators can be chained together using parentheses."
   ]
  },
  {
   "cell_type": "code",
   "execution_count": null,
   "metadata": {
    "nbpresent": {
     "id": "0a32a420-8727-48e3-97a0-3685074cfaa6"
    },
    "scrolled": true,
    "slideshow": {
     "slide_type": "fragment"
    }
   },
   "outputs": [],
   "source": [
    "print( (1+4)*3 )\n",
    "print( 5+5+5+5+5 / 10 )\n",
    "print ( (5 / 10)*100 ) # Percentage calculation"
   ]
  },
  {
   "cell_type": "markdown",
   "metadata": {
    "nbpresent": {
     "id": "d2209bbc-de55-45b0-942a-309c70ecb0f0"
    },
    "slideshow": {
     "slide_type": "subslide"
    }
   },
   "source": [
    "### Floats\n",
    "\n",
    "- Floats are whole integers with fractional parts...\n",
    "- ...or as we often understand them, numbers with decimal points. \n",
    "- Floats have the same operators as Integers.\n",
    "- Any calculation involving a float, will result in a float, even if the result would be a whole number.\n",
    "- Division will result in a float even if the result would be a whole number.\n",
    "- FLOOR Division will result in an integer because it returns the 'integral'... basically it rounds down.\n",
    "- Note that floor division also returns a float if a float is used in the division process.\n"
   ]
  },
  {
   "cell_type": "code",
   "execution_count": null,
   "metadata": {
    "nbpresent": {
     "id": "c42619d7-5389-42de-9731-bff603da7e08"
    },
    "slideshow": {
     "slide_type": "fragment"
    }
   },
   "outputs": [],
   "source": [
    "print( 4.2 + 0.8 )\n",
    "print( 3.6 / 3)\n",
    "print( 0.0 + 10) \n",
    "print( 10 / 5)\n",
    "print( 10 // 5)\n",
    "print(10 // 5.0)"
   ]
  },
  {
   "cell_type": "markdown",
   "metadata": {
    "nbpresent": {
     "id": "d8eeed2c-6497-4215-a6f0-086bea66fee0"
    },
    "slideshow": {
     "slide_type": "slide"
    }
   },
   "source": [
    "<a id='strings'></a>\n",
    "\n",
    "## 4. Strings\n",
    "\n",
    "- Text in Python is called a __String__ as it is a collection of characters 'strung' together.\n",
    "- Strings are defined by enclosing text in either 'single' or \"double\" quotes."
   ]
  },
  {
   "cell_type": "code",
   "execution_count": null,
   "metadata": {
    "nbpresent": {
     "id": "90683fd3-6a63-4ffb-844e-7cebdccc9d7f"
    },
    "scrolled": true,
    "slideshow": {
     "slide_type": "fragment"
    }
   },
   "outputs": [],
   "source": [
    "# single quotes\n",
    "\n",
    "print('I am a string.')\n",
    "\n",
    "# double quotes\n",
    "print(\"Me too!\")"
   ]
  },
  {
   "cell_type": "markdown",
   "metadata": {
    "nbpresent": {
     "id": "2960401f-e62d-439a-b73c-c933d330eeca"
    },
    "slideshow": {
     "slide_type": "subslide"
    }
   },
   "source": [
    "Strings can use some of the standard operators too..."
   ]
  },
  {
   "cell_type": "code",
   "execution_count": null,
   "metadata": {
    "nbpresent": {
     "id": "4b876e61-7fbb-48ef-8428-c836f970ef85"
    },
    "slideshow": {
     "slide_type": "fragment"
    }
   },
   "outputs": [],
   "source": [
    "# We can multiply a string, meanning it will repeat that number of times.\n",
    "# Note that it does not automatically add a space.\n",
    "\n",
    "'Time to say a lot!' "
   ]
  },
  {
   "cell_type": "code",
   "execution_count": null,
   "metadata": {
    "nbpresent": {
     "id": "637d64cf-48c1-46bf-af5b-d44a609409c2"
    },
    "slideshow": {
     "slide_type": "subslide"
    }
   },
   "outputs": [],
   "source": [
    "# We can concatenate strings together using +\n",
    "\n",
    "print(  )\n",
    "\n",
    "part_a = 'For now I am ' # note the extra space at the end of the first string.\n",
    "part_b = 'whole again'\n",
    "\n",
    "print()"
   ]
  },
  {
   "cell_type": "markdown",
   "metadata": {
    "nbpresent": {
     "id": "a19ed1d4-6525-4d89-879e-d0048cd4435e"
    }
   },
   "source": [
    "### String Functions\n",
    "Strings have many other tools (or *methods*) that are built in to the string data type.\n",
    "Here are a few examples. See if you can work out what each method does."
   ]
  },
  {
   "cell_type": "code",
   "execution_count": null,
   "metadata": {
    "nbpresent": {
     "id": "ec6af58d-7346-4763-b250-2d281440e176"
    }
   },
   "outputs": [],
   "source": [
    "\n",
    "name = 'Ted'\n",
    "print( 'This sentence is all about ' ) #format\n",
    "\n",
    "print( 'We Need to Keep a LOW Profile' ) #lower\n",
    "\n",
    "print( 'I am not shouting!' ) #upper\n",
    "\n",
    "print('Fomething iF a bit Ftrange here, we need a Fix!') #replace\n",
    "\n",
    "print('The character A is the 14th character in this sentence' ) # find\n",
    "\n",
    "print('This sentence starts with the word \"This\"') # starts\n",
    "\n"
   ]
  },
  {
   "cell_type": "code",
   "execution_count": null,
   "metadata": {},
   "outputs": [],
   "source": [
    "# Finally a new addition to Python is 'F-Strings'. F-Strings provide a nice easy way of achieving what \n",
    "# `.format` does above but cleaner...\n",
    "\n",
    "age= 21\n",
    "name = 'Jeb'\n",
    "\n",
    "work_yrs = 50\n",
    "\n",
    "test_fstring = 'Meet #. He is currently # years old, and will retire at the age of #.'\n",
    "\n",
    "print(test_fstring)\n",
    "\n",
    "\n",
    "# F-strings can handle most calculations or operations within their {} making them very flexible and cleaner than .format."
   ]
  },
  {
   "cell_type": "markdown",
   "metadata": {
    "nbpresent": {
     "id": "4a5bc74d-7ada-4da9-9901-fc87dfbc5e2d"
    }
   },
   "source": [
    "<a id='lists'></a>\n",
    "\n",
    "\n",
    "## 5. Lists\n",
    "\n",
    "- Lists are an important data structure because they allow us to collect values together in a way that retains their order.\n",
    "- Lists can contain a mix of any data type including...\n",
    "    - Variables\n",
    "    - Integers, floats, strings\n",
    "    - Functions\n",
    "    - Other data structures (Tuples, Dictionaries)\n",
    "    - Other lists"
   ]
  },
  {
   "cell_type": "code",
   "execution_count": null,
   "metadata": {
    "nbpresent": {
     "id": "3bd95f9f-034c-4648-900a-96e755237f04"
    }
   },
   "outputs": [],
   "source": [
    "\n",
    "\n",
    "list_of_numbers"
   ]
  },
  {
   "cell_type": "code",
   "execution_count": null,
   "metadata": {
    "nbpresent": {
     "id": "3bd95f9f-034c-4648-900a-96e755237f04"
    }
   },
   "outputs": [],
   "source": [
    "\n",
    "\n",
    "list_of_strings"
   ]
  },
  {
   "cell_type": "code",
   "execution_count": null,
   "metadata": {
    "nbpresent": {
     "id": "3bd95f9f-034c-4648-900a-96e755237f04"
    }
   },
   "outputs": [],
   "source": [
    "\n",
    "\n",
    "list_of_mixed"
   ]
  },
  {
   "cell_type": "code",
   "execution_count": null,
   "metadata": {
    "nbpresent": {
     "id": "3bd95f9f-034c-4648-900a-96e755237f04"
    }
   },
   "outputs": [],
   "source": [
    "# we assigned these right at the beginning\n",
    "\n",
    "list_of_variables"
   ]
  },
  {
   "cell_type": "code",
   "execution_count": null,
   "metadata": {
    "nbpresent": {
     "id": "3bd95f9f-034c-4648-900a-96e755237f04"
    }
   },
   "outputs": [],
   "source": [
    "\n",
    "\n",
    "list_of_lists"
   ]
  },
  {
   "cell_type": "markdown",
   "metadata": {
    "nbpresent": {
     "id": "ea1d1983-e3f3-491c-938e-1228a4b41550"
    }
   },
   "source": [
    "### List Indexes\n",
    "List values can be accessed through indexes\n",
    "\n",
    "<img src=\"https://raw.githubusercontent.com/Minyall/sc207_materials/master/images/list_indexes.png\">\n"
   ]
  },
  {
   "cell_type": "code",
   "execution_count": null,
   "metadata": {},
   "outputs": [],
   "source": [
    "simple_list = ['red','green','blue','yellow','black']"
   ]
  },
  {
   "cell_type": "code",
   "execution_count": null,
   "metadata": {
    "nbpresent": {
     "id": "7638173b-bac2-4327-81ed-7942ba0197c2"
    }
   },
   "outputs": [],
   "source": [
    "# We can access single items in a list by providing their index number in square brackets\n",
    "\n"
   ]
  },
  {
   "cell_type": "markdown",
   "metadata": {},
   "source": [
    "List indexing always begins at 0, which can be very confusing!\n",
    "\n",
    "If we want the first item in the list we ask for the item at index 0"
   ]
  },
  {
   "cell_type": "code",
   "execution_count": null,
   "metadata": {},
   "outputs": [],
   "source": []
  },
  {
   "cell_type": "markdown",
   "metadata": {},
   "source": [
    "Reverse list indexes always start at -1... because you can't have a -0"
   ]
  },
  {
   "cell_type": "code",
   "execution_count": null,
   "metadata": {},
   "outputs": [],
   "source": []
  },
  {
   "cell_type": "markdown",
   "metadata": {},
   "source": [
    "As lists are **mutable** we can select an item in a list by its index, and assign it a new value."
   ]
  },
  {
   "cell_type": "code",
   "execution_count": null,
   "metadata": {},
   "outputs": [],
   "source": [
    " # Lists are 'mutable' meaning they can be altered.\n",
    "\n",
    "list_of_mixed = ['Joe','Sociologist', 1997]\n",
    "\n",
    "print(list_of_mixed)\n",
    "\n",
    "# change item 1\n",
    "\n",
    "print(list_of_mixed)"
   ]
  },
  {
   "cell_type": "markdown",
   "metadata": {},
   "source": [
    "### List Slicing\n",
    "List *slicing* specifies a range of list indexes and takes the form of `[start index:up to but not including end index]`\n",
    "which is also a little confusing.\n",
    "\n",
    "So if we wanted to retrieve `[red,green,blue]` we would have to ask for all values starting at red, and up to, but not including yellow.\n",
    "\n",
    "So from 0, up to but not including 3..."
   ]
  },
  {
   "cell_type": "code",
   "execution_count": null,
   "metadata": {},
   "outputs": [],
   "source": [
    "# In python code it looks like this...\n"
   ]
  },
  {
   "cell_type": "code",
   "execution_count": null,
   "metadata": {},
   "outputs": [],
   "source": [
    "# it also works to take out a slice from the middle\n"
   ]
  },
  {
   "cell_type": "markdown",
   "metadata": {},
   "source": [
    "You can also denote that you want the range to run from the beginning up to a an index position, and also from an index position to the list end.\n",
    "\n",
    "You do this by leaving the indexes blank...."
   ]
  },
  {
   "cell_type": "code",
   "execution_count": null,
   "metadata": {},
   "outputs": [],
   "source": [
    " # from beginning up to but not including the item at position 3"
   ]
  },
  {
   "cell_type": "code",
   "execution_count": null,
   "metadata": {},
   "outputs": [],
   "source": [
    "# from the item at position 2, up to the very end"
   ]
  },
  {
   "cell_type": "markdown",
   "metadata": {},
   "source": [
    "### List Functions\n",
    "Lists have a number of built in functions as well, a few examples..."
   ]
  },
  {
   "cell_type": "code",
   "execution_count": null,
   "metadata": {},
   "outputs": [],
   "source": [
    "our_list = [3,2,4,1,5]\n",
    "\n",
    "#sort\n",
    "\n",
    "our_list"
   ]
  },
  {
   "cell_type": "code",
   "execution_count": null,
   "metadata": {},
   "outputs": [],
   "source": [
    "our_list = ['Harry','Sally','George','Jerry','Sally','Fred']\n",
    "\n",
    "#count"
   ]
  },
  {
   "cell_type": "code",
   "execution_count": null,
   "metadata": {},
   "outputs": [],
   "source": [
    "our_list #index"
   ]
  },
  {
   "cell_type": "markdown",
   "metadata": {},
   "source": [
    "# 6. Boolean Comparison"
   ]
  },
  {
   "cell_type": "markdown",
   "metadata": {
    "nbpresent": {
     "id": "019b13bc-1f31-42f4-913a-a5f6f168ad44"
    },
    "slideshow": {
     "slide_type": "subslide"
    }
   },
   "source": [
    "- Python can 'test' whether particular statements are `True` or `False`.\n",
    "- Being able to compare and assess values is a key component of programming, automation and analysis.\n",
    "- 'Comparison' operators allow us to compare values, and Python will tell us if the statement is `True` or `False`\n",
    "    -   == Equal to  \n",
    "    -   != Not Equal to \n",
    "    -   \\> Greater than  \n",
    "    -   < Less than  \n",
    "    -   \\>= Greater or equal to  \n",
    "    -   <= Smaller or equal to\n",
    "- We also have the keywords\n",
    "    - `and` assesses if both statements are `True`\n",
    "    - ` or` assesses if either statements are `True`\n",
    "    - `is` assesses if two variables point to the same **object**, not necessarily if they are the same. In general, use `==` rather than `is`\n",
    "    - `in` assesses if a value is contained inside another value, such as a list or string.\n",
    "    - `not` inverts a conditional statement"
   ]
  },
  {
   "cell_type": "markdown",
   "metadata": {},
   "source": [
    "### Some examples of conditionals"
   ]
  },
  {
   "cell_type": "code",
   "execution_count": null,
   "metadata": {
    "nbpresent": {
     "id": "691ca935-e3a6-4013-a866-200178386230"
    },
    "scrolled": true,
    "slideshow": {
     "slide_type": "fragment"
    }
   },
   "outputs": [],
   "source": [
    "3 * 5 == 15"
   ]
  },
  {
   "cell_type": "code",
   "execution_count": null,
   "metadata": {
    "nbpresent": {
     "id": "691ca935-e3a6-4013-a866-200178386230"
    },
    "scrolled": true,
    "slideshow": {
     "slide_type": "fragment"
    }
   },
   "outputs": [],
   "source": [
    "\"Fred\" == \"George\""
   ]
  },
  {
   "cell_type": "code",
   "execution_count": null,
   "metadata": {},
   "outputs": [],
   "source": [
    "\"Fred\" != \"George\""
   ]
  },
  {
   "cell_type": "code",
   "execution_count": null,
   "metadata": {},
   "outputs": [],
   "source": [
    "(5+5 == 10) and (1 < 2)"
   ]
  },
  {
   "cell_type": "code",
   "execution_count": null,
   "metadata": {},
   "outputs": [],
   "source": [
    "(5+5 == 10) and (2 >= 100)"
   ]
  },
  {
   "cell_type": "code",
   "execution_count": null,
   "metadata": {},
   "outputs": [],
   "source": [
    "(5+5 == 10) or (2 >= 100)"
   ]
  },
  {
   "cell_type": "code",
   "execution_count": null,
   "metadata": {
    "nbpresent": {
     "id": "46e71cea-bfaa-426e-b548-9478f3c66a81"
    }
   },
   "outputs": [],
   "source": [
    "# Strings can also use comparison methods and Boolean logic such as `in` or `not in`.\n",
    "\n"
   ]
  },
  {
   "cell_type": "code",
   "execution_count": null,
   "metadata": {},
   "outputs": [],
   "source": [
    "# We can also check lists\n",
    "\n",
    "simpsons = ['Bart','Lisa','Homer','Marge']\n",
    "\n"
   ]
  },
  {
   "cell_type": "markdown",
   "metadata": {},
   "source": [
    "### Why not 'is'?: A small tangent\n",
    "`is` asks if two values are the same **object**, not necessarily if they are the same value. This is a tricky distinction that trips a lot of new programmers up."
   ]
  },
  {
   "cell_type": "code",
   "execution_count": null,
   "metadata": {},
   "outputs": [],
   "source": [
    "# Watch..\n",
    "\n",
    "list_a = ['a','b','c']\n",
    "list_b = ['a','b','c']\n",
    "list_a == list_b"
   ]
  },
  {
   "cell_type": "code",
   "execution_count": null,
   "metadata": {},
   "outputs": [],
   "source": [
    "list_a is list_b"
   ]
  },
  {
   "cell_type": "markdown",
   "metadata": {},
   "source": [
    "#### What just happened?\n",
    "In the above example, we created two lists that are the same in value, but not the same objects. We could for example alter `list_a` without altering `list_b`."
   ]
  },
  {
   "cell_type": "code",
   "execution_count": null,
   "metadata": {},
   "outputs": [],
   "source": [
    "# Watch...\n",
    "\n",
    "a = 5\n",
    "b = 5\n",
    "\n",
    "a == b"
   ]
  },
  {
   "cell_type": "code",
   "execution_count": null,
   "metadata": {},
   "outputs": [],
   "source": [
    "a is b"
   ]
  },
  {
   "cell_type": "markdown",
   "metadata": {},
   "source": [
    "#### What just happened??!\n",
    "In this example we created two variables `a` and `b` and assigned them both the value `5`. They are the same value, but also the two variables are the same **object**. This is because Python works by loading a lot of integers in the background, and then if a variable is assigned that value, it simply *points* to that integer backstage. In our code `a` and `b` are pointing at the same integer object, so `a is b`.\n",
    "\n",
    "### How do I avoid this confusion??!\n",
    "Just use `==`"
   ]
  },
  {
   "cell_type": "markdown",
   "metadata": {},
   "source": [
    "# 7. Flow Control\n",
    "- One key area where Boolean Conditionals are critical, is in controlling the flow of your code.\n",
    "- Flow control means that certain code is only run under certain conditions.\n",
    "- The main relevant keywords are...\n",
    "    - `if` If a statement evaluates to `True`... do something.\n",
    "    - `else` If your above statement evaluated to `False` do this instead.\n",
    "    - `elif` 'Else if' - If your above `if` statement evaluated to `False`, check this statement instead\n",
    "    \n",
    "Flow control works using **blocks**. Normally a block begins with a conditional statement, with indented code beneath it indicating what code should run if the conditional evaluates to `True`.\n",
    "\n",
    "A usual conditional block looks like this...\n",
    "````\n",
    "if True_statement:\n",
    "    Do something\n",
    "````"
   ]
  },
  {
   "cell_type": "code",
   "execution_count": null,
   "metadata": {},
   "outputs": [],
   "source": [
    "# if statements execute if a condition is True and do nothing if False\n",
    "\n",
    "test_value = 'Hello!'\n",
    "\n",
    "print(\"This string says 'Hello'\")\n",
    "    \n",
    "print(\"This string says 'Goodbye'\")\n",
    "    \n",
    "print(\"This string starts with 'H'\")"
   ]
  },
  {
   "cell_type": "code",
   "execution_count": null,
   "metadata": {},
   "outputs": [],
   "source": [
    "# Conditionals can be reversed by usng the keyword `not`\n",
    "\n",
    "awesome_string = 'Monkey powered nuclear jetpack'\n",
    "boring_string = 'Very boring'\n",
    "\n",
    "print(\"Monkeys are in the boring string!\")\n",
    "\n",
    "print('No Monkeys are in the Boring String')"
   ]
  },
  {
   "cell_type": "code",
   "execution_count": null,
   "metadata": {},
   "outputs": [],
   "source": [
    "# else statements can define \n",
    "# what action to take if the condition is not True\n",
    "\n",
    "age = 35\n",
    "# projected retirement age in future UK dystopia\n",
    "retirement_age = 85\n",
    "\n"
   ]
  },
  {
   "cell_type": "code",
   "execution_count": null,
   "metadata": {},
   "outputs": [],
   "source": [
    "# Elif means `run` if the above statement was False.\n",
    "# Whilst having a list of if statements will check each one, \n",
    "# elif statements finish once one True condition is found\n",
    "\n",
    "age = 35\n",
    "\n",
    "school_age = 5\n",
    "uni_age = 18\n",
    "boring_age = 25\n",
    "cool_again_age = 60\n",
    "\n",
    "if age < school_age:\n",
    "    print('Awww, ickle baby')\n",
    "elif age < uni_age:\n",
    "    print('A simpler time at school')\n",
    "elif age < boring_age:\n",
    "    print('So much to learn, sooo little time!')\n",
    "elif age < cool_again_age:\n",
    "    print(\"I have become my parents and I don't like it...\")\n",
    "else:\n",
    "    print(\"Wooo I don't care anymore!\")\n",
    "\n",
    "\n"
   ]
  },
  {
   "cell_type": "markdown",
   "metadata": {},
   "source": [
    "# 8. Loops\n",
    "Looping is a foundational concept in programming that allows your code to do a lot of useful things. The basic structure of a loop is...\n",
    "\n",
    "````\n",
    "for item in iterable:\n",
    "    do something with item\n",
    "````\n",
    "**Key Things**\n",
    "- An `iterable` is a variable that can be broken down into individual items, often a list, but you can also iterate over strings and other data structures.\n",
    "- In our example `item` refers to each individual object in our iterable. The word item could be anything, it is simply the name given to refer to the object in our code."
   ]
  },
  {
   "cell_type": "code",
   "execution_count": null,
   "metadata": {},
   "outputs": [],
   "source": [
    "our_iterable_list = ['First','Second','Third','Last!']\n",
    "\n"
   ]
  },
  {
   "cell_type": "code",
   "execution_count": null,
   "metadata": {},
   "outputs": [],
   "source": [
    "# More importantly we can do things in the loop such as filter based on conditions\n",
    "\n"
   ]
  },
  {
   "cell_type": "code",
   "execution_count": null,
   "metadata": {},
   "outputs": [],
   "source": [
    "# Or do some sort of transformation\n",
    "number_iterable = [1,2,3,4,5,6,7,8,9,10]\n",
    "\n"
   ]
  },
  {
   "cell_type": "markdown",
   "metadata": {},
   "source": [
    "A key use of loops is to iterate over a collection of data, process the data in some way, and then save the result. So far we have simply used `print` to show the results, but now we're going to retain them.\n",
    "\n",
    "For the sake of an example lets say we want to find all words in our list longer than 3 letters..."
   ]
  },
  {
   "cell_type": "code",
   "execution_count": null,
   "metadata": {},
   "outputs": [],
   "source": [
    "# We can find out how many characters are in a string using the built-in Python function len()\n",
    "\n"
   ]
  },
  {
   "cell_type": "code",
   "execution_count": null,
   "metadata": {},
   "outputs": [],
   "source": [
    "# We can also create a new list using a blank set of brackets\n",
    "\n"
   ]
  },
  {
   "cell_type": "code",
   "execution_count": null,
   "metadata": {},
   "outputs": [],
   "source": [
    "# and add to it using .append()\n",
    "\n"
   ]
  },
  {
   "cell_type": "code",
   "execution_count": null,
   "metadata": {},
   "outputs": [],
   "source": [
    "# our list we want to filter\n",
    "animal_words = ['Pig','Cow','Horse','Dog','Sheep','Goat','Cat','Giraffe']\n",
    "\n",
    "# we set up our condition\n",
    "\n",
    "# and initialise a blank list to collect in\n",
    "\n",
    "# then we loop over the list, and only append those values that meet the condition\n",
    "\n",
    "\n",
    "\n",
    "# take a look at the list...\n"
   ]
  },
  {
   "cell_type": "code",
   "execution_count": null,
   "metadata": {},
   "outputs": [],
   "source": [
    "# Always keep your list outside the loop block. \n",
    "# Why? Follow the code step by step, what happens each loop?\n",
    "\n"
   ]
  },
  {
   "cell_type": "code",
   "execution_count": null,
   "metadata": {},
   "outputs": [],
   "source": [
    "# Loops can exist inside other loops.\n",
    "# In this example we use it to check whether each animal is in each of the sentences\n",
    "#(...filtering can be done more efficiently than this!)\n",
    "\n",
    "animal_words = ['Pig','Cow','Horse','Dog','Sheep','Goat','Cat','Giraffe']\n",
    "\n",
    "sentences = ['Demonstrating research excellence in the field.',\n",
    "            'Did you know Donald Trump has a pet Pig?',\n",
    "            'Campus Cat spends far too long looking in the mirror',\n",
    "            'Text mining sure uses some strange examples']\n",
    "\n",
    "animal_sentences = []\n",
    "\n",
    "for animal in animal_words: # for every word in animal words...\n",
    "    for sent in sentences: # we examine each sentence in sentences\n",
    "        if animal in sent: # if the animal word is in the sentence...\n",
    "            animal_sentences.append(sent) # we add it to our blank list\n",
    "            \n",
    "print(animal_sentences)"
   ]
  },
  {
   "cell_type": "markdown",
   "metadata": {},
   "source": [
    "If you're feeling fancy, *list comprehensions* can do effectively the same job, more efficiently in one line. The general structure of a list comprehension is\n",
    "```\n",
    "[keep_value for keep_value in iterable]\n",
    "```\n",
    "If you want to add some sort of condition...\n",
    "\n",
    "```\n",
    "[keep_value for keep_value in iterable if statement_evaluates_to_true]\n",
    "\n",
    "```\n",
    "There is a very good [visual guide to list comprehensions](https://treyhunner.com/2015/12/python-list-comprehensions-now-in-color/) if you are interested."
   ]
  },
  {
   "cell_type": "code",
   "execution_count": null,
   "metadata": {},
   "outputs": [],
   "source": [
    "# The first loop we did in a list comprehension\n",
    "\n",
    "[animal for animal in animal_words if len(animal) >= minimum_word_length]"
   ]
  },
  {
   "cell_type": "code",
   "execution_count": null,
   "metadata": {},
   "outputs": [],
   "source": [
    "# you can also change the value you are keeping \n",
    "[animal.upper() for animal in animal_words if len(animal) >= minimum_word_length]"
   ]
  },
  {
   "cell_type": "markdown",
   "metadata": {},
   "source": [
    "# Summing Up\n",
    "- This week we looked at soome basic variable types such as...\n",
    "    - Integers and floats\n",
    "    - Strings\n",
    "- We also looked at a data structure called *lists*\n",
    "    - How to create them\n",
    "    - Access their values\n",
    "    - Edit them \n",
    "    - Use some of their built in functions.\n",
    "- We then learned about Boolean values, and how comparison statements work to evaluate whether a statement is `True` or `False`\n",
    "- We also learned about Flow control, and how this works with boolean statements to direct how code should act.\n",
    "- Finally we learned about loops, and how they can be used to iterate over lists to filter them or create new transformed lists.\n",
    "\n",
    "## Next Week\n",
    "- We'll learn about *functions*, which make your code more compact and more efficient.\n",
    "- We'll also delve under the hood of Python to learn about Python Scopes...\n",
    "- ...and how Objects are structured in Python, which will help you better understand how to approach and interpret new code you've never seen before.\n"
   ]
  },
  {
   "cell_type": "code",
   "execution_count": null,
   "metadata": {},
   "outputs": [],
   "source": []
  }
 ],
 "metadata": {
  "kernelspec": {
   "display_name": "Python 3 (ipykernel)",
   "language": "python",
   "name": "python3"
  },
  "language_info": {
   "codemirror_mode": {
    "name": "ipython",
    "version": 3
   },
   "file_extension": ".py",
   "mimetype": "text/x-python",
   "name": "python",
   "nbconvert_exporter": "python",
   "pygments_lexer": "ipython3",
   "version": "3.8.12"
  },
  "nbpresent": {
   "slides": {
    "05285381-3b54-495a-8546-23a128709ed5": {
     "id": "05285381-3b54-495a-8546-23a128709ed5",
     "prev": "6445a42d-fe82-4af9-b762-db69b840b753",
     "regions": {
      "aba58ff9-20ca-4237-a311-7d3cfc958b2e": {
       "attrs": {
        "height": 0.8,
        "width": 0.8,
        "x": 0.1,
        "y": 0.1
       },
       "content": {
        "cell": "7ca0452b-de48-4c93-a6d1-66e67098038c",
        "part": "whole"
       },
       "id": "aba58ff9-20ca-4237-a311-7d3cfc958b2e"
      }
     }
    },
    "086dc27d-5ab7-46af-a347-c0c9dc2ec721": {
     "id": "086dc27d-5ab7-46af-a347-c0c9dc2ec721",
     "prev": "8de544e1-ccba-4a00-9541-c18f1348dba3",
     "regions": {
      "52351d58-3d86-40d3-94bb-3abd9ab4ccdc": {
       "attrs": {
        "height": 0.8,
        "width": 0.8,
        "x": 0.1,
        "y": 0.1
       },
       "content": {
        "cell": "d8eeed2c-6497-4215-a6f0-086bea66fee0",
        "part": "whole"
       },
       "id": "52351d58-3d86-40d3-94bb-3abd9ab4ccdc"
      }
     }
    },
    "0c0174b0-71b6-4867-b914-7774af216e58": {
     "id": "0c0174b0-71b6-4867-b914-7774af216e58",
     "prev": "b576e575-f202-4591-87e4-098a2e89baf7",
     "regions": {
      "a4da7569-0e1d-4f1b-af0b-b2c789c86971": {
       "attrs": {
        "height": 0.8,
        "width": 0.8,
        "x": 0.1,
        "y": 0.1
       },
       "content": {
        "cell": "ea1d1983-e3f3-491c-938e-1228a4b41550",
        "part": "whole"
       },
       "id": "a4da7569-0e1d-4f1b-af0b-b2c789c86971"
      }
     }
    },
    "0ec54bf0-06c0-4f6a-ac78-e97dbc61df42": {
     "id": "0ec54bf0-06c0-4f6a-ac78-e97dbc61df42",
     "prev": "4b91ef6f-60db-4d8c-87ca-565e7e1dd607",
     "regions": {
      "6f2823ae-0e3b-41c6-9d72-2cacc6bdc498": {
       "attrs": {
        "height": 0.8,
        "width": 0.8,
        "x": 0.1,
        "y": 0.1
       },
       "content": {
        "cell": "e872828d-3ad1-46e4-b36a-85168bc3742a",
        "part": "whole"
       },
       "id": "6f2823ae-0e3b-41c6-9d72-2cacc6bdc498"
      }
     }
    },
    "10730469-2011-4bec-b998-d9e41fe28d53": {
     "id": "10730469-2011-4bec-b998-d9e41fe28d53",
     "prev": "5ae5305e-6b1c-4272-a45d-9d32feb89ec1",
     "regions": {
      "adb244ff-16e0-4e78-9679-edb72956ebc4": {
       "attrs": {
        "height": 0.8,
        "width": 0.8,
        "x": 0.1,
        "y": 0.1
       },
       "content": {
        "cell": "01433745-de66-4f4e-a2fc-a9e7e72e0472",
        "part": "whole"
       },
       "id": "adb244ff-16e0-4e78-9679-edb72956ebc4"
      }
     }
    },
    "12b8c728-db03-44b2-ae69-6341d8ced251": {
     "id": "12b8c728-db03-44b2-ae69-6341d8ced251",
     "prev": "efbc83bc-ed82-4b8b-a1da-87e085479436",
     "regions": {
      "b257af72-ea55-48f3-80a6-fd23123699d7": {
       "attrs": {
        "height": 0.8,
        "width": 0.8,
        "x": 0.1,
        "y": 0.1
       },
       "content": {
        "cell": "f9cf2519-1c95-41fc-972c-7f053f8ff901",
        "part": "whole"
       },
       "id": "b257af72-ea55-48f3-80a6-fd23123699d7"
      }
     }
    },
    "13b7785e-f73c-4ae7-bfeb-46de3dc382e0": {
     "id": "13b7785e-f73c-4ae7-bfeb-46de3dc382e0",
     "prev": "9694bcd0-48d3-4bf1-827b-863d55234d55",
     "regions": {
      "d379e6f6-b93d-41c2-babd-f1b96ea6f84b": {
       "attrs": {
        "height": 0.8,
        "width": 0.8,
        "x": 0.1,
        "y": 0.1
       },
       "content": {
        "cell": "bea049ad-23f6-4080-98c0-8ca5345f8e67",
        "part": "whole"
       },
       "id": "d379e6f6-b93d-41c2-babd-f1b96ea6f84b"
      }
     }
    },
    "187c5507-2d93-4213-8fbd-5c5f064978e8": {
     "id": "187c5507-2d93-4213-8fbd-5c5f064978e8",
     "prev": null,
     "regions": {
      "ada94adb-7f05-4ef4-a0d4-cdd7a434e089": {
       "attrs": {
        "height": 0.8,
        "width": 0.8,
        "x": 0.1,
        "y": 0.1
       },
       "content": {
        "cell": "e0d1e043-de8e-4961-b3c5-3cbcadd21c6c",
        "part": "whole"
       },
       "id": "ada94adb-7f05-4ef4-a0d4-cdd7a434e089"
      }
     }
    },
    "1fb702ef-86e2-4529-a810-90a8c27c3c35": {
     "id": "1fb702ef-86e2-4529-a810-90a8c27c3c35",
     "prev": "28774a2f-86b2-45a0-bacb-9a806548956d",
     "regions": {
      "975cd5b9-79c3-411d-8d93-2088233eef00": {
       "attrs": {
        "height": 0.8,
        "width": 0.8,
        "x": 0.1,
        "y": 0.1
       },
       "content": {
        "cell": "4f75f85e-fe3a-48ee-a5e8-bd50eec2df0e",
        "part": "whole"
       },
       "id": "975cd5b9-79c3-411d-8d93-2088233eef00"
      }
     }
    },
    "2548df91-4083-4ac5-8ef3-ab35472fd14a": {
     "id": "2548df91-4083-4ac5-8ef3-ab35472fd14a",
     "prev": "f668feae-4dbe-41bc-bbc5-ba736cb9fab0",
     "regions": {
      "1fea0c2b-4b4d-4240-a8e4-537618fc779c": {
       "attrs": {
        "height": 0.8,
        "width": 0.8,
        "x": 0.1,
        "y": 0.1
       },
       "content": {
        "cell": "a19ed1d4-6525-4d89-879e-d0048cd4435e",
        "part": "whole"
       },
       "id": "1fea0c2b-4b4d-4240-a8e4-537618fc779c"
      }
     }
    },
    "25be7e80-4656-49fc-a3e2-bcd7769d93ed": {
     "id": "25be7e80-4656-49fc-a3e2-bcd7769d93ed",
     "prev": "4096eb0d-3031-4e57-9ac7-21a528b31592",
     "regions": {
      "9c362f67-b74c-47cb-9294-166cccfbe061": {
       "attrs": {
        "height": 0.8,
        "width": 0.8,
        "x": 0.1,
        "y": 0.1
       },
       "content": {
        "cell": "fa2a0963-759c-46d5-b548-3d3e1521cbf1",
        "part": "whole"
       },
       "id": "9c362f67-b74c-47cb-9294-166cccfbe061"
      }
     }
    },
    "28774a2f-86b2-45a0-bacb-9a806548956d": {
     "id": "28774a2f-86b2-45a0-bacb-9a806548956d",
     "prev": "187c5507-2d93-4213-8fbd-5c5f064978e8",
     "regions": {
      "a7d1fdfc-f0a1-4af6-a320-7ac53b0fb070": {
       "attrs": {
        "height": 0.8,
        "width": 0.8,
        "x": 0.1,
        "y": 0.1
       },
       "content": {
        "cell": "7495a1eb-7ffe-4675-ba58-ed2accc527bb",
        "part": "whole"
       },
       "id": "a7d1fdfc-f0a1-4af6-a320-7ac53b0fb070"
      }
     }
    },
    "2eb95527-5446-4fbd-9306-f5951897bc04": {
     "id": "2eb95527-5446-4fbd-9306-f5951897bc04",
     "prev": "7c1b266e-aa28-4f2d-94c4-6aba9ee470c3",
     "regions": {
      "ecc2d240-2c45-4e52-b478-f90d0d6fb7d8": {
       "attrs": {
        "height": 0.8,
        "width": 0.8,
        "x": 0.1,
        "y": 0.1
       },
       "content": {
        "cell": "e9a07289-31a8-470b-a37e-80f1489e4ece",
        "part": "whole"
       },
       "id": "ecc2d240-2c45-4e52-b478-f90d0d6fb7d8"
      }
     }
    },
    "332ebadc-35ab-4b40-af3d-1e232ff68d9a": {
     "id": "332ebadc-35ab-4b40-af3d-1e232ff68d9a",
     "prev": "086dc27d-5ab7-46af-a347-c0c9dc2ec721",
     "regions": {
      "d8fa0974-5ef8-4b9d-a413-1fa94e102abe": {
       "attrs": {
        "height": 0.8,
        "width": 0.8,
        "x": 0.1,
        "y": 0.1
       },
       "content": {
        "cell": "90683fd3-6a63-4ffb-844e-7cebdccc9d7f",
        "part": "whole"
       },
       "id": "d8fa0974-5ef8-4b9d-a413-1fa94e102abe"
      }
     }
    },
    "4096eb0d-3031-4e57-9ac7-21a528b31592": {
     "id": "4096eb0d-3031-4e57-9ac7-21a528b31592",
     "prev": "2eb95527-5446-4fbd-9306-f5951897bc04",
     "regions": {
      "0249a6e0-33e6-45e7-9016-205650c921b6": {
       "attrs": {
        "height": 0.8,
        "width": 0.8,
        "x": 0.1,
        "y": 0.1
       },
       "content": {
        "cell": "3d8ef1c6-94ae-4596-ade2-8e3b7e9e7c18",
        "part": "whole"
       },
       "id": "0249a6e0-33e6-45e7-9016-205650c921b6"
      }
     }
    },
    "4178956f-07e7-4c05-8c25-0acb423f8ab8": {
     "id": "4178956f-07e7-4c05-8c25-0acb423f8ab8",
     "prev": "495ed9fd-5d3e-4f43-ae7e-1c1619b53375",
     "regions": {
      "6d717821-c6e7-49d9-9976-ae084ea20f3e": {
       "attrs": {
        "height": 0.8,
        "width": 0.8,
        "x": 0.1,
        "y": 0.1
       },
       "content": {
        "cell": "15c6f45f-3b9e-4620-895c-ba2ab61e5440",
        "part": "whole"
       },
       "id": "6d717821-c6e7-49d9-9976-ae084ea20f3e"
      }
     }
    },
    "481005a1-8dcc-4a01-96f0-5919101aedc9": {
     "id": "481005a1-8dcc-4a01-96f0-5919101aedc9",
     "prev": "7ef5df1d-93a7-4be7-b9cb-36c952feb9b8",
     "regions": {
      "e6afc8af-c9f0-4bc4-9f38-b69d139fca71": {
       "attrs": {
        "height": 0.8,
        "width": 0.8,
        "x": 0.1,
        "y": 0.1
       },
       "content": {
        "cell": "dbd59763-fc35-4c04-9660-aaa8cb2c1185",
        "part": "whole"
       },
       "id": "e6afc8af-c9f0-4bc4-9f38-b69d139fca71"
      }
     }
    },
    "495ed9fd-5d3e-4f43-ae7e-1c1619b53375": {
     "id": "495ed9fd-5d3e-4f43-ae7e-1c1619b53375",
     "prev": "2548df91-4083-4ac5-8ef3-ab35472fd14a",
     "regions": {
      "446acba3-dfef-4420-8e42-aeb82346c8ff": {
       "attrs": {
        "height": 0.8,
        "width": 0.8,
        "x": 0.1,
        "y": 0.1
       },
       "content": {
        "cell": "ec6af58d-7346-4763-b250-2d281440e176",
        "part": "whole"
       },
       "id": "446acba3-dfef-4420-8e42-aeb82346c8ff"
      }
     }
    },
    "4b91ef6f-60db-4d8c-87ca-565e7e1dd607": {
     "id": "4b91ef6f-60db-4d8c-87ca-565e7e1dd607",
     "prev": "8b0c0e01-ff5a-4ade-9260-867ad274087f",
     "regions": {
      "efa1c545-952f-455e-bedb-2efaae4a6ac2": {
       "attrs": {
        "height": 0.8,
        "width": 0.8,
        "x": 0.1,
        "y": 0.1
       },
       "content": {
        "cell": "270f4e18-bd03-4f96-b410-738708e2c95b",
        "part": "whole"
       },
       "id": "efa1c545-952f-455e-bedb-2efaae4a6ac2"
      }
     }
    },
    "58553226-6874-4c99-a20d-ff7453cc720b": {
     "id": "58553226-6874-4c99-a20d-ff7453cc720b",
     "prev": "d37eb51a-745f-4380-8ea8-0f0a35c0166a",
     "regions": {
      "9b56623e-5de3-44de-9a50-f0ebca005fe1": {
       "attrs": {
        "height": 0.8,
        "width": 0.8,
        "x": 0.1,
        "y": 0.1
       },
       "content": {
        "cell": "4b876e61-7fbb-48ef-8428-c836f970ef85",
        "part": "whole"
       },
       "id": "9b56623e-5de3-44de-9a50-f0ebca005fe1"
      }
     }
    },
    "5ae5305e-6b1c-4272-a45d-9d32feb89ec1": {
     "id": "5ae5305e-6b1c-4272-a45d-9d32feb89ec1",
     "prev": "58553226-6874-4c99-a20d-ff7453cc720b",
     "regions": {
      "c714c64c-356e-4878-8c6c-74491ca07996": {
       "attrs": {
        "height": 0.8,
        "width": 0.8,
        "x": 0.1,
        "y": 0.1
       },
       "content": {
        "cell": "637d64cf-48c1-46bf-af5b-d44a609409c2",
        "part": "whole"
       },
       "id": "c714c64c-356e-4878-8c6c-74491ca07996"
      }
     }
    },
    "618f7fe2-93f6-4598-a689-7e1d9071047d": {
     "id": "618f7fe2-93f6-4598-a689-7e1d9071047d",
     "prev": "0c0174b0-71b6-4867-b914-7774af216e58",
     "regions": {
      "76321cea-5d99-460c-94d6-5e454d3f5ce2": {
       "attrs": {
        "height": 0.8,
        "width": 0.8,
        "x": 0.1,
        "y": 0.1
       },
       "content": {
        "cell": "7638173b-bac2-4327-81ed-7942ba0197c2",
        "part": "whole"
       },
       "id": "76321cea-5d99-460c-94d6-5e454d3f5ce2"
      }
     }
    },
    "62639445-f879-460c-a496-c2e0d94ad16e": {
     "id": "62639445-f879-460c-a496-c2e0d94ad16e",
     "prev": "c492f2b8-b1f8-4af5-9163-7a694c727b75",
     "regions": {
      "af3803f7-a30d-4eac-8006-fe4481f9eb6b": {
       "attrs": {
        "height": 0.8,
        "width": 0.8,
        "x": 0.1,
        "y": 0.1
       },
       "content": {
        "cell": "d2209bbc-de55-45b0-942a-309c70ecb0f0",
        "part": "whole"
       },
       "id": "af3803f7-a30d-4eac-8006-fe4481f9eb6b"
      }
     }
    },
    "6445a42d-fe82-4af9-b762-db69b840b753": {
     "id": "6445a42d-fe82-4af9-b762-db69b840b753",
     "prev": "69ab02ec-4de3-40a6-8873-38e71f9c63ef",
     "regions": {
      "e800b3cf-dbbd-4319-bcce-c43e82502617": {
       "attrs": {
        "height": 0.8,
        "width": 0.8,
        "x": 0.1,
        "y": 0.1
       },
       "content": {
        "cell": "ce577244-e9df-4566-a731-39bf0ab4a3b8",
        "part": "whole"
       },
       "id": "e800b3cf-dbbd-4319-bcce-c43e82502617"
      }
     }
    },
    "65fd5e80-0298-44ca-96eb-abfaf87e6ac8": {
     "id": "65fd5e80-0298-44ca-96eb-abfaf87e6ac8",
     "prev": "10730469-2011-4bec-b998-d9e41fe28d53",
     "regions": {
      "f29f89b6-aeb1-4cb1-a43e-b82b98d9e44c": {
       "attrs": {
        "height": 0.8,
        "width": 0.8,
        "x": 0.1,
        "y": 0.1
       },
       "content": {
        "cell": "46e71cea-bfaa-426e-b548-9478f3c66a81",
        "part": "whole"
       },
       "id": "f29f89b6-aeb1-4cb1-a43e-b82b98d9e44c"
      }
     }
    },
    "6706cb34-5ff5-4346-beb4-29f7af35d94d": {
     "id": "6706cb34-5ff5-4346-beb4-29f7af35d94d",
     "prev": "9e64c96c-795e-4b19-9e64-fbb22e4a9db4",
     "regions": {
      "aea792c6-a4b0-4c7b-a4b1-741d25ba2b52": {
       "attrs": {
        "height": 0.8,
        "width": 0.8,
        "x": 0.1,
        "y": 0.1
       },
       "content": {
        "cell": "22e2f1ce-17b5-4a01-a0e0-46100db6e70a",
        "part": "whole"
       },
       "id": "aea792c6-a4b0-4c7b-a4b1-741d25ba2b52"
      }
     }
    },
    "69ab02ec-4de3-40a6-8873-38e71f9c63ef": {
     "id": "69ab02ec-4de3-40a6-8873-38e71f9c63ef",
     "prev": "12b8c728-db03-44b2-ae69-6341d8ced251",
     "regions": {
      "85203592-8f3a-4a37-87d0-567f9491ec61": {
       "attrs": {
        "height": 0.8,
        "width": 0.8,
        "x": 0.1,
        "y": 0.1
       },
       "content": {
        "cell": "9831de2d-a9c5-42a9-8124-aefa4568cd4e",
        "part": "whole"
       },
       "id": "85203592-8f3a-4a37-87d0-567f9491ec61"
      }
     }
    },
    "6af4e128-277a-4706-9578-fbb4d842544d": {
     "id": "6af4e128-277a-4706-9578-fbb4d842544d",
     "prev": "618f7fe2-93f6-4598-a689-7e1d9071047d",
     "regions": {
      "dad4ff20-5add-4ab8-aca9-8b64833e8094": {
       "attrs": {
        "height": 0.8,
        "width": 0.8,
        "x": 0.1,
        "y": 0.1
       },
       "content": {
        "cell": "fe5dbd7a-ac75-4a52-bf7d-2c6c5f554b25",
        "part": "whole"
       },
       "id": "dad4ff20-5add-4ab8-aca9-8b64833e8094"
      }
     }
    },
    "72187583-e8bd-4f67-9c92-4905a5fb6f44": {
     "id": "72187583-e8bd-4f67-9c92-4905a5fb6f44",
     "prev": "4178956f-07e7-4c05-8c25-0acb423f8ab8",
     "regions": {
      "4f330474-c808-4f9f-9765-47612ed4b84a": {
       "attrs": {
        "height": 0.8,
        "width": 0.8,
        "x": 0.1,
        "y": 0.1
       },
       "content": {
        "cell": "4a5bc74d-7ada-4da9-9901-fc87dfbc5e2d",
        "part": "whole"
       },
       "id": "4f330474-c808-4f9f-9765-47612ed4b84a"
      }
     }
    },
    "77528649-4cd6-4316-b8b5-91b53e78c829": {
     "id": "77528649-4cd6-4316-b8b5-91b53e78c829",
     "prev": "9ab51f9a-f004-41ca-bec7-a8707e399e5e",
     "regions": {
      "fba94417-ead4-4c0f-a038-16ed4b40921a": {
       "attrs": {
        "height": 0.8,
        "width": 0.8,
        "x": 0.1,
        "y": 0.1
       },
       "content": {
        "cell": "773f2fc0-954a-4500-aa79-474f2a944e10",
        "part": "whole"
       },
       "id": "fba94417-ead4-4c0f-a038-16ed4b40921a"
      }
     }
    },
    "7c1b266e-aa28-4f2d-94c4-6aba9ee470c3": {
     "id": "7c1b266e-aa28-4f2d-94c4-6aba9ee470c3",
     "prev": "a542a46b-9092-47d8-8474-43969ae154d0",
     "regions": {
      "860ab664-d827-4a78-8cfb-8dde203807c0": {
       "attrs": {
        "height": 0.8,
        "width": 0.8,
        "x": 0.1,
        "y": 0.1
       },
       "content": {
        "cell": "0ea77a2a-3452-478d-bc78-1e77e984d2d8",
        "part": "whole"
       },
       "id": "860ab664-d827-4a78-8cfb-8dde203807c0"
      }
     }
    },
    "7e42601e-e51a-4f17-8694-5eb8e87727cf": {
     "id": "7e42601e-e51a-4f17-8694-5eb8e87727cf",
     "prev": "62639445-f879-460c-a496-c2e0d94ad16e",
     "regions": {
      "dbabfeab-8298-4cc3-8187-46b7263b460d": {
       "attrs": {
        "height": 0.8,
        "width": 0.8,
        "x": 0.1,
        "y": 0.1
       },
       "content": {
        "cell": "c42619d7-5389-42de-9731-bff603da7e08",
        "part": "whole"
       },
       "id": "dbabfeab-8298-4cc3-8187-46b7263b460d"
      }
     }
    },
    "7ef5df1d-93a7-4be7-b9cb-36c952feb9b8": {
     "id": "7ef5df1d-93a7-4be7-b9cb-36c952feb9b8",
     "prev": "77528649-4cd6-4316-b8b5-91b53e78c829",
     "regions": {
      "3d109a54-f2a7-4536-96c8-b4318c6525fd": {
       "attrs": {
        "height": 0.8,
        "width": 0.8,
        "x": 0.1,
        "y": 0.1
       },
       "content": {
        "cell": "3f4dfa82-c664-4a17-96a7-b1891f4b8b99",
        "part": "whole"
       },
       "id": "3d109a54-f2a7-4536-96c8-b4318c6525fd"
      }
     }
    },
    "83f59f68-2afb-4f9b-a77b-2b8d9850b4ef": {
     "id": "83f59f68-2afb-4f9b-a77b-2b8d9850b4ef",
     "prev": "6af4e128-277a-4706-9578-fbb4d842544d",
     "regions": {
      "7da91bf3-bd39-4643-ba33-55616251fbe8": {
       "attrs": {
        "height": 0.8,
        "width": 0.8,
        "x": 0.1,
        "y": 0.1
       },
       "content": {
        "cell": "047c6d14-3a35-4728-b318-5c0338f024cf",
        "part": "whole"
       },
       "id": "7da91bf3-bd39-4643-ba33-55616251fbe8"
      }
     }
    },
    "8b0c0e01-ff5a-4ade-9260-867ad274087f": {
     "id": "8b0c0e01-ff5a-4ade-9260-867ad274087f",
     "prev": "1fb702ef-86e2-4529-a810-90a8c27c3c35",
     "regions": {
      "53739bfb-671f-4f74-90ec-d1f6bf98e47c": {
       "attrs": {
        "height": 0.8,
        "width": 0.8,
        "x": 0.1,
        "y": 0.1
       },
       "content": {
        "cell": "f6a8500a-2aa8-4ba0-97eb-a497cf3274b4",
        "part": "whole"
       },
       "id": "53739bfb-671f-4f74-90ec-d1f6bf98e47c"
      }
     }
    },
    "8de544e1-ccba-4a00-9541-c18f1348dba3": {
     "id": "8de544e1-ccba-4a00-9541-c18f1348dba3",
     "prev": "7e42601e-e51a-4f17-8694-5eb8e87727cf",
     "regions": {
      "6ab1eb2e-5816-4d33-9e41-9e1f439965ca": {
       "attrs": {
        "height": 0.8,
        "width": 0.8,
        "x": 0.1,
        "y": 0.1
       },
       "content": {
        "cell": "32f53cd0-7828-4109-8a4d-3d8bb30b770e",
        "part": "whole"
       },
       "id": "6ab1eb2e-5816-4d33-9e41-9e1f439965ca"
      }
     }
    },
    "9694bcd0-48d3-4bf1-827b-863d55234d55": {
     "id": "9694bcd0-48d3-4bf1-827b-863d55234d55",
     "prev": "e8bf78d0-be3a-41cd-a3fa-23f1be548c54",
     "regions": {
      "dec2cfe1-bd51-49df-9404-c417af66b55a": {
       "attrs": {
        "height": 0.8,
        "width": 0.8,
        "x": 0.1,
        "y": 0.1
       },
       "content": {
        "cell": "2a1e302f-c30f-4664-8dee-c0a5fa59f707",
        "part": "whole"
       },
       "id": "dec2cfe1-bd51-49df-9404-c417af66b55a"
      }
     }
    },
    "9ab51f9a-f004-41ca-bec7-a8707e399e5e": {
     "id": "9ab51f9a-f004-41ca-bec7-a8707e399e5e",
     "prev": "f3d5254c-15b7-4f14-997c-8041d353fa75",
     "regions": {
      "8795cb9c-c729-4aeb-962f-c5852e5d65c7": {
       "attrs": {
        "height": 0.8,
        "width": 0.8,
        "x": 0.1,
        "y": 0.1
       },
       "content": {
        "cell": "e98c7917-b0b5-4cc1-a8dd-9ccda90831b0",
        "part": "whole"
       },
       "id": "8795cb9c-c729-4aeb-962f-c5852e5d65c7"
      }
     }
    },
    "9e64c96c-795e-4b19-9e64-fbb22e4a9db4": {
     "id": "9e64c96c-795e-4b19-9e64-fbb22e4a9db4",
     "prev": "cf3a6e0f-ab39-4c8b-9763-b54840856409",
     "regions": {
      "d6d9a122-e698-4371-97ce-a9ba48ee0d3d": {
       "attrs": {
        "height": 0.8,
        "width": 0.8,
        "x": 0.1,
        "y": 0.1
       },
       "content": {
        "cell": "3bdd3689-b4c1-4403-8939-e72d35ec2639",
        "part": "whole"
       },
       "id": "d6d9a122-e698-4371-97ce-a9ba48ee0d3d"
      }
     }
    },
    "9f256762-cd7c-4278-81b8-dca3b09840c2": {
     "id": "9f256762-cd7c-4278-81b8-dca3b09840c2",
     "prev": "e2fc92a1-a49f-4eb3-bbce-c163561d77dd",
     "regions": {
      "1b238094-0af8-41d5-a726-7e3e354dc387": {
       "attrs": {
        "height": 0.8,
        "width": 0.8,
        "x": 0.1,
        "y": 0.1
       },
       "content": {
        "cell": "1c33b70b-3657-459a-8fc5-c48c828667bf",
        "part": "whole"
       },
       "id": "1b238094-0af8-41d5-a726-7e3e354dc387"
      }
     }
    },
    "a542a46b-9092-47d8-8474-43969ae154d0": {
     "id": "a542a46b-9092-47d8-8474-43969ae154d0",
     "prev": "83f59f68-2afb-4f9b-a77b-2b8d9850b4ef",
     "regions": {
      "770f2ae8-c421-463b-bb9c-53976af53dd0": {
       "attrs": {
        "height": 0.8,
        "width": 0.8,
        "x": 0.1,
        "y": 0.1
       },
       "content": {
        "cell": "21355d73-f321-4973-8bf2-5ec7aad34d62",
        "part": "whole"
       },
       "id": "770f2ae8-c421-463b-bb9c-53976af53dd0"
      }
     }
    },
    "ad66b18f-d4de-48ba-8dbc-1a4c89c09da5": {
     "id": "ad66b18f-d4de-48ba-8dbc-1a4c89c09da5",
     "prev": "dc202216-c82e-4815-b8ac-12912ccfad68",
     "regions": {
      "bd34d38c-90fa-4be6-ab3e-ef5599a8112d": {
       "attrs": {
        "height": 0.8,
        "width": 0.8,
        "x": 0.1,
        "y": 0.1
       },
       "content": {
        "cell": "019b13bc-1f31-42f4-913a-a5f6f168ad44",
        "part": "whole"
       },
       "id": "bd34d38c-90fa-4be6-ab3e-ef5599a8112d"
      }
     }
    },
    "b576e575-f202-4591-87e4-098a2e89baf7": {
     "id": "b576e575-f202-4591-87e4-098a2e89baf7",
     "prev": "72187583-e8bd-4f67-9c92-4905a5fb6f44",
     "regions": {
      "51480439-d910-4cd6-81af-946838246f47": {
       "attrs": {
        "height": 0.8,
        "width": 0.8,
        "x": 0.1,
        "y": 0.1
       },
       "content": {
        "cell": "3bd95f9f-034c-4648-900a-96e755237f04",
        "part": "whole"
       },
       "id": "51480439-d910-4cd6-81af-946838246f47"
      }
     }
    },
    "c492f2b8-b1f8-4af5-9163-7a694c727b75": {
     "id": "c492f2b8-b1f8-4af5-9163-7a694c727b75",
     "prev": "d1aa163c-70da-4a42-a6bd-3063e9341246",
     "regions": {
      "d314b69a-fa5f-4f43-8742-be5359607290": {
       "attrs": {
        "height": 0.8,
        "width": 0.8,
        "x": 0.1,
        "y": 0.1
       },
       "content": {
        "cell": "41495615-b734-4077-86df-6d8ef92378cc",
        "part": "whole"
       },
       "id": "d314b69a-fa5f-4f43-8742-be5359607290"
      }
     }
    },
    "cf3a6e0f-ab39-4c8b-9763-b54840856409": {
     "id": "cf3a6e0f-ab39-4c8b-9763-b54840856409",
     "prev": "9f256762-cd7c-4278-81b8-dca3b09840c2",
     "regions": {
      "e25ff8fa-964d-4915-81b1-46dd874295c7": {
       "attrs": {
        "height": 0.8,
        "width": 0.8,
        "x": 0.1,
        "y": 0.1
       },
       "content": {
        "cell": "13b8f7ec-403e-4fd2-8837-8643972c618c",
        "part": "whole"
       },
       "id": "e25ff8fa-964d-4915-81b1-46dd874295c7"
      }
     }
    },
    "d1aa163c-70da-4a42-a6bd-3063e9341246": {
     "id": "d1aa163c-70da-4a42-a6bd-3063e9341246",
     "prev": "ad66b18f-d4de-48ba-8dbc-1a4c89c09da5",
     "regions": {
      "813e8ea2-88c1-4897-a186-bfda34539f41": {
       "attrs": {
        "height": 0.8,
        "width": 0.8,
        "x": 0.1,
        "y": 0.1
       },
       "content": {
        "cell": "691ca935-e3a6-4013-a866-200178386230",
        "part": "whole"
       },
       "id": "813e8ea2-88c1-4897-a186-bfda34539f41"
      }
     }
    },
    "d37eb51a-745f-4380-8ea8-0f0a35c0166a": {
     "id": "d37eb51a-745f-4380-8ea8-0f0a35c0166a",
     "prev": "332ebadc-35ab-4b40-af3d-1e232ff68d9a",
     "regions": {
      "cbf0f867-93f9-47df-91c4-93780d5921e5": {
       "attrs": {
        "height": 0.8,
        "width": 0.8,
        "x": 0.1,
        "y": 0.1
       },
       "content": {
        "cell": "2960401f-e62d-439a-b73c-c933d330eeca",
        "part": "whole"
       },
       "id": "cbf0f867-93f9-47df-91c4-93780d5921e5"
      }
     }
    },
    "d72121e3-fa34-4b27-9333-2d20f97c870a": {
     "id": "d72121e3-fa34-4b27-9333-2d20f97c870a",
     "prev": "05285381-3b54-495a-8546-23a128709ed5",
     "regions": {
      "8e1e391c-ef99-4d58-bf63-b6dff97c51e0": {
       "attrs": {
        "height": 0.8,
        "width": 0.8,
        "x": 0.1,
        "y": 0.1
       },
       "content": {
        "cell": "f34de219-73f3-4f02-b5c5-a01f90dff27f",
        "part": "whole"
       },
       "id": "8e1e391c-ef99-4d58-bf63-b6dff97c51e0"
      }
     }
    },
    "dc202216-c82e-4815-b8ac-12912ccfad68": {
     "id": "dc202216-c82e-4815-b8ac-12912ccfad68",
     "prev": "d72121e3-fa34-4b27-9333-2d20f97c870a",
     "regions": {
      "06019293-2aa0-417e-8d25-87e8bc3b5fbb": {
       "attrs": {
        "height": 0.8,
        "width": 0.8,
        "x": 0.1,
        "y": 0.1
       },
       "content": {
        "cell": "0a32a420-8727-48e3-97a0-3685074cfaa6",
        "part": "whole"
       },
       "id": "06019293-2aa0-417e-8d25-87e8bc3b5fbb"
      }
     }
    },
    "e022ece9-6659-46c3-be14-67cbd860f81a": {
     "id": "e022ece9-6659-46c3-be14-67cbd860f81a",
     "prev": "13b7785e-f73c-4ae7-bfeb-46de3dc382e0",
     "regions": {
      "152047b1-8f75-4e79-9c70-4fb9def55537": {
       "attrs": {
        "height": 0.8,
        "width": 0.8,
        "x": 0.1,
        "y": 0.1
       },
       "content": {
        "cell": "c22b1460-22ac-40fc-9f80-05beb0eb7ceb",
        "part": "whole"
       },
       "id": "152047b1-8f75-4e79-9c70-4fb9def55537"
      }
     }
    },
    "e2fc92a1-a49f-4eb3-bbce-c163561d77dd": {
     "id": "e2fc92a1-a49f-4eb3-bbce-c163561d77dd",
     "prev": "25be7e80-4656-49fc-a3e2-bcd7769d93ed",
     "regions": {
      "5fee843a-ab2d-4bbe-b0d1-f4819fe004aa": {
       "attrs": {
        "height": 0.8,
        "width": 0.8,
        "x": 0.1,
        "y": 0.1
       },
       "content": {
        "cell": "a5e41e63-8bf1-4bc5-9bf7-1db23e9a0877",
        "part": "whole"
       },
       "id": "5fee843a-ab2d-4bbe-b0d1-f4819fe004aa"
      }
     }
    },
    "e8bf78d0-be3a-41cd-a3fa-23f1be548c54": {
     "id": "e8bf78d0-be3a-41cd-a3fa-23f1be548c54",
     "prev": "0ec54bf0-06c0-4f6a-ac78-e97dbc61df42",
     "regions": {
      "c3223bd3-239a-459c-8d62-4c12d23e41d6": {
       "attrs": {
        "height": 0.8,
        "width": 0.8,
        "x": 0.1,
        "y": 0.1
       },
       "content": {
        "cell": "eb43aa88-52da-4ba6-a636-8dc9457eaf4e",
        "part": "whole"
       },
       "id": "c3223bd3-239a-459c-8d62-4c12d23e41d6"
      }
     }
    },
    "efbc83bc-ed82-4b8b-a1da-87e085479436": {
     "id": "efbc83bc-ed82-4b8b-a1da-87e085479436",
     "prev": "fa7bf090-d26e-4a68-9611-7a4354b25a15",
     "regions": {
      "c43647c4-9a58-4960-98ee-c8f1b7bfc2c4": {
       "attrs": {
        "height": 0.8,
        "width": 0.8,
        "x": 0.1,
        "y": 0.1
       },
       "content": {
        "cell": "db5a7619-d33c-4823-9c6b-0d6ca8ca937e",
        "part": "whole"
       },
       "id": "c43647c4-9a58-4960-98ee-c8f1b7bfc2c4"
      }
     }
    },
    "f3d5254c-15b7-4f14-997c-8041d353fa75": {
     "id": "f3d5254c-15b7-4f14-997c-8041d353fa75",
     "prev": "65fd5e80-0298-44ca-96eb-abfaf87e6ac8",
     "regions": {
      "b993ac00-c0cb-49e7-9f00-01a2cc963c6b": {
       "attrs": {
        "height": 0.8,
        "width": 0.8,
        "x": 0.1,
        "y": 0.1
       },
       "content": {
        "cell": "f72c675f-7c68-4f23-8541-01c354be7a1d",
        "part": "whole"
       },
       "id": "b993ac00-c0cb-49e7-9f00-01a2cc963c6b"
      }
     }
    },
    "f668feae-4dbe-41bc-bbc5-ba736cb9fab0": {
     "id": "f668feae-4dbe-41bc-bbc5-ba736cb9fab0",
     "prev": "481005a1-8dcc-4a01-96f0-5919101aedc9",
     "regions": {
      "7bd5ada5-21b1-4930-b4c4-4763a11a57c2": {
       "attrs": {
        "height": 0.8,
        "width": 0.8,
        "x": 0.1,
        "y": 0.1
       },
       "content": {
        "cell": "4a5f88e1-8031-4d04-9ceb-53c3775ce91d",
        "part": "whole"
       },
       "id": "7bd5ada5-21b1-4930-b4c4-4763a11a57c2"
      }
     }
    },
    "fa7bf090-d26e-4a68-9611-7a4354b25a15": {
     "id": "fa7bf090-d26e-4a68-9611-7a4354b25a15",
     "prev": "e022ece9-6659-46c3-be14-67cbd860f81a",
     "regions": {
      "a42f3d47-aea0-423e-8c7c-339e6617a9f3": {
       "attrs": {
        "height": 0.8,
        "width": 0.8,
        "x": 0.1,
        "y": 0.1
       },
       "content": {
        "cell": "d94a9920-dea2-4036-b829-aee76c3194d1",
        "part": "whole"
       },
       "id": "a42f3d47-aea0-423e-8c7c-339e6617a9f3"
      }
     }
    }
   },
   "themes": {}
  }
 },
 "nbformat": 4,
 "nbformat_minor": 4
}
