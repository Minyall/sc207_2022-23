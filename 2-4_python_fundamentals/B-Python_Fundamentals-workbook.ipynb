{
 "cells": [
  {
   "cell_type": "markdown",
   "metadata": {
    "nbpresent": {
     "id": "f6a8500a-2aa8-4ba0-97eb-a497cf3274b4"
    },
    "slideshow": {
     "slide_type": "-"
    }
   },
   "source": [
    "# SC207 Python Fundamentals\n",
    "\n",
    "<img src=\"https://raw.githubusercontent.com/Minyall/sc207_materials/master/images/python-logo.png\" align=\"right\">\n",
    "\n",
    "\n",
    "## Functions, Scopes and Objects\n",
    "\n",
    "- Understanding the underlying structure of Python helps you both in writing code, but also in using libraries and packages produced by others.\n",
    "- In this session we'll look at Functions, Objects and Scopes.\n",
    "- Functions will show us how we can create our own tools to simplify and avoid repetition in our code\n",
    "- Functions will allow us to explore 'scopes' in Python, understanding what variables are accessible to which parts of our code.\n",
    "- We'll then see how to create our own Object in Python, and how this relates to what we've already learned, and to the wider Python ecosystem.\n"
   ]
  },
  {
   "cell_type": "code",
   "execution_count": 1,
   "metadata": {},
   "outputs": [],
   "source": [
    "%config IPCompleter.greedy=True"
   ]
  },
  {
   "cell_type": "markdown",
   "metadata": {},
   "source": [
    "<a id='functions'></a>\n",
    "## 1. Functions\n",
    "\n",
    "Creating a function allows you to write some code once, and then use it multiple times. If you're writing the same code over and over, you should probably use a function. Functions are also used *in* objects, and are useful to help explain scopes later.\n",
    "\n",
    "\n",
    "Functions are initialised using `def` (short for define). The structure of a function tends to be...\n",
    "\n",
    "\n",
    " "
   ]
  },
  {
   "cell_type": "code",
   "execution_count": null,
   "metadata": {},
   "outputs": [],
   "source": [
    "def name_of_function(argument1, argument2, argument3): # You can have as many arguments as you need.\n",
    "    \n",
    "    # Code here which takes the arguments and performs some activity\n",
    "    \n",
    "    return # The result of the function should be 'returned' to the code that called it"
   ]
  },
  {
   "cell_type": "code",
   "execution_count": null,
   "metadata": {},
   "outputs": [],
   "source": [
    "# def make_awesome function\n"
   ]
  },
  {
   "cell_type": "code",
   "execution_count": null,
   "metadata": {},
   "outputs": [],
   "source": [
    "# run make_awesome\n"
   ]
  },
  {
   "cell_type": "code",
   "execution_count": null,
   "metadata": {},
   "outputs": [],
   "source": [
    "# def calculate_percentage\n"
   ]
  },
  {
   "cell_type": "code",
   "execution_count": null,
   "metadata": {
    "scrolled": true
   },
   "outputs": [],
   "source": [
    "# run calculate_percentage\n"
   ]
  },
  {
   "cell_type": "code",
   "execution_count": null,
   "metadata": {},
   "outputs": [],
   "source": [
    "# We can be even more explicit if we like\n"
   ]
  },
  {
   "cell_type": "code",
   "execution_count": null,
   "metadata": {},
   "outputs": [],
   "source": [
    "# This function is general purpose, it can take any set of sentences and keywords and filter sentences by keywords.\n",
    "\n",
    "def sentence_filter(sentences, filter_words): \n",
    "    filtered = []\n",
    "    # insert magic here\n",
    "    return filtered"
   ]
  },
  {
   "cell_type": "code",
   "execution_count": null,
   "metadata": {},
   "outputs": [],
   "source": [
    "sentences = ['Demonstrating research excellence in the field.',\n",
    "            'Did you know Donald Trump has a pet Pig?',\n",
    "            'Campus Cat spends far too long looking in the mirror',\n",
    "            'Text mining sure uses some strange examples']\n",
    "\n",
    "print(sentence_filter(sentences, ['Trump', 'America']))\n",
    "print(sentence_filter(sentences, ['Cat','mining']))"
   ]
  },
  {
   "cell_type": "code",
   "execution_count": null,
   "metadata": {},
   "outputs": [],
   "source": [
    "# It should be noted that you can also have functions that take 0 arguments, and return nothing, but still perform some function.\n",
    "\n",
    "def just_print_dog():\n",
    "    print(\"Dog\")"
   ]
  },
  {
   "cell_type": "code",
   "execution_count": null,
   "metadata": {},
   "outputs": [],
   "source": [
    "just_print_dog()"
   ]
  },
  {
   "cell_type": "markdown",
   "metadata": {},
   "source": [
    "## 1a. Keyword Arguments"
   ]
  },
  {
   "cell_type": "code",
   "execution_count": null,
   "metadata": {},
   "outputs": [],
   "source": [
    "# Function arguments like this are called positional arguments, and are all required to run the function...\n",
    "\n",
    "def repeat_word(word, repeat):\n",
    "    word = word + \" \"\n",
    "    print(word*repeat)\n",
    "    \n",
    "repeat_word('Monkey', 3)\n"
   ]
  },
  {
   "cell_type": "code",
   "execution_count": null,
   "metadata": {},
   "outputs": [],
   "source": [
    "# if we run it without all arguments we'll get an error which will tell us we're missing a positional argument\n",
    "\n",
    "repeat_word('Monkey',)"
   ]
  },
  {
   "cell_type": "code",
   "execution_count": null,
   "metadata": {},
   "outputs": [],
   "source": [
    "# However we can also set KEYWORD arguments, which provides a default value if no value is given...\n",
    "\n",
    "def repeat_word(word, repeat):\n",
    "    word = word + \" \"\n",
    "    print(word*repeat)\n",
    "    \n",
    "repeat_word('Monkey')"
   ]
  },
  {
   "cell_type": "code",
   "execution_count": null,
   "metadata": {},
   "outputs": [],
   "source": [
    "#... and this default can be changed if we wish\n",
    "repeat_word('Monkey', 10)"
   ]
  },
  {
   "cell_type": "code",
   "execution_count": null,
   "metadata": {},
   "outputs": [],
   "source": [
    "# Normally it is a good idea with keyword arguments to be explicit about which value is going to which argument,\n",
    "# Otherwise you have to remember which argument is at which position in the \n",
    "# function Signature - the collection of arguments that go into a function\n",
    "\n",
    "repeat_word('Monkey'"
   ]
  },
  {
   "cell_type": "code",
   "execution_count": null,
   "metadata": {},
   "outputs": [],
   "source": [
    "# You can have as many positional and keyword arguments as you like.\n",
    "# Positional must come first, then keyword\n",
    "# Keyword arguments can be set in any order so long as you explicitly refer to them...\n",
    "\n",
    "# add an argument that capitalises the output\n",
    "def repeat_word(word, repeat=3\n",
    "    word = word + \" \"\n",
    "    # new code her\n",
    "    print(word*repeat)\n",
    "\n",
    "repeat_word(\"Monkey\")"
   ]
  },
  {
   "cell_type": "code",
   "execution_count": null,
   "metadata": {},
   "outputs": [],
   "source": [
    "repeat_word(\"Monkey\", capitalise=True)"
   ]
  },
  {
   "cell_type": "code",
   "execution_count": null,
   "metadata": {},
   "outputs": [],
   "source": [
    "repeat_word(\"Monkey\", capitalise=True, repeat=10)"
   ]
  },
  {
   "cell_type": "code",
   "execution_count": null,
   "metadata": {},
   "outputs": [],
   "source": [
    "# Note that keyword arguments can also be treated as positional ones, but you better get the position right...!\n",
    "\n",
    "# correct position is word, repeat, capitalise\n",
    "repeat_word(\"Monkey\", 10, True)"
   ]
  },
  {
   "cell_type": "code",
   "execution_count": null,
   "metadata": {},
   "outputs": [],
   "source": [
    "# or you'll get an error or some weird behaviour\n",
    "\n",
    "repeat_word(\"Monkey\", True, 10)"
   ]
  },
  {
   "cell_type": "markdown",
   "metadata": {},
   "source": [
    "#### Huh? What just happened?"
   ]
  },
  {
   "cell_type": "markdown",
   "metadata": {},
   "source": [
    "In that last example think what we fed to the function.\n",
    "The function signature is (word, repeat, capitalise) and we said\n",
    "- word=\"Monkey\"\n",
    "- repeat=True\n",
    "- capitalise=10\n",
    "\n",
    "The function didn't throw an error because technically everything that happened was interpretable Python.\n",
    "However we didn't get the result we expected.\n",
    "These are the WORST kind of bugs because they can alter the output of your code without throwing any errors."
   ]
  },
  {
   "cell_type": "code",
   "execution_count": null,
   "metadata": {},
   "outputs": [],
   "source": [
    "# This works because True, when treated as a number is equal to 1...\n",
    "\n",
    "\"Monkey\" * True\n"
   ]
  },
  {
   "cell_type": "code",
   "execution_count": null,
   "metadata": {},
   "outputs": [],
   "source": [
    "# Whilst False when treated as a number is equal to 0...\n",
    "\n",
    "\"Monkey\" * False"
   ]
  },
  {
   "cell_type": "code",
   "execution_count": null,
   "metadata": {},
   "outputs": [],
   "source": [
    "if 10: # All numbers evaluate to True\n",
    "    print(\"This works because all numbers evaluate to True by default\")"
   ]
  },
  {
   "cell_type": "markdown",
   "metadata": {},
   "source": [
    "#### The Moral of the Story?\n",
    "BE EXPLICIT WITH YOUR ARGUMENTS!! (For your own sanity)"
   ]
  },
  {
   "cell_type": "code",
   "execution_count": null,
   "metadata": {},
   "outputs": [],
   "source": [
    "repeat_word(\"Monkey\", capitalise=True, repeat=10)"
   ]
  },
  {
   "cell_type": "markdown",
   "metadata": {},
   "source": [
    "# 2. Scopes\n",
    "<img src=\"https://raw.githubusercontent.com/Minyall/sc207_materials/master/images/scopes.png\">\n",
    "\n",
    "Scopes image from [Scope of Variables in Python](https://www.datacamp.com/community/tutorials/scope-of-variables-python)"
   ]
  },
  {
   "cell_type": "markdown",
   "metadata": {},
   "source": [
    "In Python there are two \"Scopes\" that you have to consider...\n",
    "- Global scope\n",
    "- Local scope\n",
    "\n",
    "Whether a variable is accessible to a portion of your code and what it will do depends on which scope it is in.\n",
    "\n",
    "Here we will overlook Built-in scope, which simply refers to the built-in functions and values hard-wired into Python like `len()`, `max()`, `min()` etc.\n",
    "\n",
    "## THE SEVEN RULES OF SCOPE!\n",
    "1. Variables defined in a local scope are NOT accessible in the global scope\n",
    "2. Variables defined in a global scope ARE accessible in the local scope\n",
    "3. Python will always look in the local scope FIRST\n",
    "4. You cannot easily overwrite a global variable, by reassigning it when in local scope\n",
    "5. If you want to actually move a value out from the local scope of a function it needs to `return` that value\n",
    "6. Whilst functions can access global variables, it is better to pass them in explicitly\n",
    "7. Python will look first in local, then in any 'enclosing' space, before eventually looking in global"
   ]
  },
  {
   "cell_type": "markdown",
   "metadata": {},
   "source": [
    "### Rule 1. Variables defined in a local scope are NOT accessible in the global scope"
   ]
  },
  {
   "cell_type": "code",
   "execution_count": null,
   "metadata": {},
   "outputs": [],
   "source": [
    "# This variable will be defined in the global scope\n",
    "x = \"I'm on the outside\""
   ]
  },
  {
   "cell_type": "code",
   "execution_count": null,
   "metadata": {},
   "outputs": [],
   "source": [
    "def a_function():\n",
    "    # This variable will be defined in the local scope - local to the function\n",
    "    y = \"I'm on the inside\""
   ]
  },
  {
   "cell_type": "code",
   "execution_count": null,
   "metadata": {},
   "outputs": [],
   "source": [
    "print(x)\n",
    "print(y)"
   ]
  },
  {
   "cell_type": "markdown",
   "metadata": {},
   "source": [
    "### Rule 2. Variables defined in a global scope ARE accessible in the local scope"
   ]
  },
  {
   "cell_type": "code",
   "execution_count": null,
   "metadata": {},
   "outputs": [],
   "source": [
    "x = \"I'm on the outside\"\n",
    "\n",
    "def a_function():\n",
    "    # This variable will be defined in the local scope - local to the function\n",
    "    y = \"I'm on the inside\"\n",
    "    print(y)\n",
    "    print(x)"
   ]
  },
  {
   "cell_type": "code",
   "execution_count": null,
   "metadata": {},
   "outputs": [],
   "source": [
    "a_function()"
   ]
  },
  {
   "cell_type": "markdown",
   "metadata": {},
   "source": [
    "### Rule 3. Python will always look in the local scope FIRST"
   ]
  },
  {
   "cell_type": "code",
   "execution_count": null,
   "metadata": {},
   "outputs": [],
   "source": [
    "x = \"I'm on the outside\"\n",
    "\n",
    "def a_function():\n",
    "    # This variable will be defined in the local scope - local to the function\n",
    "    y = \"I'm on the inside\"\n",
    "    x = \"I'm on the inside too!!\"\n",
    "    print(y)\n",
    "    print(x)"
   ]
  },
  {
   "cell_type": "code",
   "execution_count": null,
   "metadata": {},
   "outputs": [],
   "source": [
    "a_function()"
   ]
  },
  {
   "cell_type": "markdown",
   "metadata": {},
   "source": [
    "### Rule 4. You cannot (easily) overwrite a global variable, by reassigning it when in local scope"
   ]
  },
  {
   "cell_type": "markdown",
   "metadata": {},
   "source": [
    "Local scope variables exist just inside the function itself, meaning you can technically repeat variable names inside a function, without impacting the variable names outside the function"
   ]
  },
  {
   "cell_type": "code",
   "execution_count": 7,
   "metadata": {},
   "outputs": [],
   "source": [
    "important_variable = \"Must keep this safe\"\n",
    "\n",
    "def do_something():\n",
    "    important_variable = \"Bsjdsadjkasbjasfas\""
   ]
  },
  {
   "cell_type": "code",
   "execution_count": 8,
   "metadata": {},
   "outputs": [
    {
     "name": "stdout",
     "output_type": "stream",
     "text": [
      "Must keep this safe\n",
      "Must keep this safe\n"
     ]
    }
   ],
   "source": [
    "print(important_variable)\n",
    "do_something()\n",
    "print(important_variable)"
   ]
  },
  {
   "cell_type": "markdown",
   "metadata": {},
   "source": [
    "### Rule 5. `return` moves the value of a variable out of the local scope\n",
    "Functions can of course provide us the value of their local variables using `return`"
   ]
  },
  {
   "cell_type": "code",
   "execution_count": 9,
   "metadata": {},
   "outputs": [],
   "source": [
    "important_variable = \"Must keep this safe\"\n",
    "\n",
    "def do_something():\n",
    "    important_variable = \"JhSJDhsjkf\"\n",
    "    return important_variable"
   ]
  },
  {
   "cell_type": "code",
   "execution_count": 10,
   "metadata": {},
   "outputs": [
    {
     "name": "stdout",
     "output_type": "stream",
     "text": [
      "Must keep this safe\n",
      "Must keep this safe\n"
     ]
    }
   ],
   "source": [
    "print(important_variable)\n",
    "do_something()\n",
    "print(important_variable)"
   ]
  },
  {
   "cell_type": "code",
   "execution_count": 11,
   "metadata": {},
   "outputs": [
    {
     "name": "stdout",
     "output_type": "stream",
     "text": [
      "Must keep this safe\n",
      "JhSJDhsjkf\n"
     ]
    }
   ],
   "source": [
    "new_important_variable = do_something()\n",
    "print(important_variable)\n",
    "print(new_important_variable)"
   ]
  },
  {
   "cell_type": "markdown",
   "metadata": {},
   "source": [
    "### Rule 6. Whilst functions can access global variables, it is better to pass them in explicitly\n",
    "Whilst both approaches work, explictly passing in variables to a function is clearer and less prone to accidental screw-ups."
   ]
  },
  {
   "cell_type": "code",
   "execution_count": null,
   "metadata": {},
   "outputs": [],
   "source": [
    "a = 1\n",
    "b = 2\n",
    "\n",
    "def lazy_adder():\n",
    "    return a+b"
   ]
  },
  {
   "cell_type": "code",
   "execution_count": null,
   "metadata": {},
   "outputs": [],
   "source": [
    "lazy_adder()"
   ]
  },
  {
   "cell_type": "code",
   "execution_count": null,
   "metadata": {},
   "outputs": [],
   "source": [
    "def superior_adder(a,b):\n",
    "    return a+b"
   ]
  },
  {
   "cell_type": "code",
   "execution_count": null,
   "metadata": {},
   "outputs": [],
   "source": [
    "superior_adder(5,10)"
   ]
  },
  {
   "cell_type": "markdown",
   "metadata": {},
   "source": [
    "### Rule 7. Python will look first in local, then in any 'enclosing' space, before eventually looking in global"
   ]
  },
  {
   "cell_type": "code",
   "execution_count": null,
   "metadata": {},
   "outputs": [],
   "source": [
    "\n",
    "# here we define a few variables in the global scope - Python will look here LAST\n",
    "age = 20\n",
    "town = 'Maldon'\n",
    "\n",
    "def outer_function():\n",
    "    # This is the function that encloses our inner function\n",
    "    \n",
    "     # Here we define some variables in the enclosing space \n",
    "    name = 'Ted'\n",
    "    town = 'Colchester'\n",
    "    \n",
    "    # and we define a function INSIDE our function (weird)\n",
    "    def inner_function():\n",
    "        # This is our function that does stuff\n",
    "        name = 'John'\n",
    "        print(\"name:\",name)\n",
    "        print(\"age:\",age)\n",
    "        print(\"town:\",town)\n",
    "\n",
    "\n",
    "    # and the last act of the outer function, is to run the inner function\n",
    "    inner_function()\n",
    "   \n",
    "        "
   ]
  },
  {
   "cell_type": "code",
   "execution_count": null,
   "metadata": {},
   "outputs": [],
   "source": [
    "# If we run the outer function, it defines the inner function, and defines some variables, then runs the inner function.\n",
    "# What do we think the output will be?\n",
    "outer_function()"
   ]
  },
  {
   "cell_type": "markdown",
   "metadata": {},
   "source": [
    "## Scopes: Summary\n",
    "Understanding the way that Python handles scopes will save you a lot of headaches in the long run. Whilst many of the examples above are a bit odd, they illustate how Python functions under the hood, which will...\n",
    "- Help you better understand why we write code in the way we do.\n",
    "- Help you understand why you must use `return` to provide your code with the result of a function.\n",
    "- Help you understand errors and how to fix them.\n",
    "- Help you to more easily think in terms of creating and manipulating objects in a virtual space and understand why they interact and act in the way they do."
   ]
  },
  {
   "cell_type": "markdown",
   "metadata": {},
   "source": [
    "# 3. Objects (and Classes)\n",
    "Python code is made up of objects. Objects have...\n",
    "\n",
    "- **Attributes**: Pieces of data associated with an object.\n",
    "\n",
    "- **Methods**: Functions associated with an object. To make life easier we will refer to them simply as functions here.\n",
    "\n",
    "An object is simply a collection of data and functions which act upon that data. \n",
    "\n",
    "A `Class` is a blueprint for an object, and every object is an independent instantiation of a class.\n",
    "\n",
    "Let's make one to explain..."
   ]
  },
  {
   "cell_type": "markdown",
   "metadata": {},
   "source": [
    "### A simple Dog - Creating a class"
   ]
  },
  {
   "cell_type": "code",
   "execution_count": 17,
   "metadata": {},
   "outputs": [],
   "source": [
    "# To make an object, you first need to design the blueprint, this is the Class. \n",
    "# It is customary to use CamelCase when naming classes.\n",
    "\n",
    "# We assign our class three attributes and provide default values for them.\n",
    "\n",
    "# create a blueprint for a Dog with colur, name and breed attributes\n",
    "class Dog():\n",
    "    colour = \"brown\"\n",
    "    name = \"Henry\"\n",
    "    breed = 'Husky'\n",
    "    "
   ]
  },
  {
   "cell_type": "markdown",
   "metadata": {},
   "source": [
    "Now we create an instance of our Dog class, called `a_dog`"
   ]
  },
  {
   "cell_type": "code",
   "execution_count": 18,
   "metadata": {},
   "outputs": [],
   "source": [
    "# create a_dog"
   ]
  },
  {
   "cell_type": "markdown",
   "metadata": {},
   "source": [
    "It has all the default attributes, which we can access using *dot notation* like this..."
   ]
  },
  {
   "cell_type": "code",
   "execution_count": null,
   "metadata": {},
   "outputs": [],
   "source": [
    "print(a_dog)\n",
    "\n",
    "print(a_dog)\n",
    "\n",
    "print(a_dog)"
   ]
  },
  {
   "cell_type": "markdown",
   "metadata": {},
   "source": [
    "Currently our dog has the default attributes. We can change them if we want..."
   ]
  },
  {
   "cell_type": "markdown",
   "metadata": {},
   "source": [
    "### Changing our Dog - Editing attributes"
   ]
  },
  {
   "cell_type": "code",
   "execution_count": null,
   "metadata": {},
   "outputs": [],
   "source": [
    "'black'\n",
    "'Joe'\n",
    "'Labrador'"
   ]
  },
  {
   "cell_type": "code",
   "execution_count": null,
   "metadata": {},
   "outputs": [],
   "source": [
    "print(a_dog.colour)\n",
    "\n",
    "print(a_dog.name)\n",
    "\n",
    "print(a_dog.breed)"
   ]
  },
  {
   "cell_type": "markdown",
   "metadata": {},
   "source": [
    "### A Dog with a bark - Adding a Function (Method)"
   ]
  },
  {
   "cell_type": "markdown",
   "metadata": {},
   "source": [
    "Lets update our Dog class with a function or *method*"
   ]
  },
  {
   "cell_type": "code",
   "execution_count": null,
   "metadata": {},
   "outputs": [],
   "source": [
    "class Dog():\n",
    "    colour = \"brown\"\n",
    "    name = \"Henry\"\n",
    "    breed = 'Husky'\n",
    "    \n",
    "    def bark(self): # what's with this self thing? We'll see in a second.\n",
    "        print(\"WOOF!\")"
   ]
  },
  {
   "cell_type": "code",
   "execution_count": null,
   "metadata": {},
   "outputs": [],
   "source": [
    "noisy_dog = Dog()\n",
    "print(noisy_dog.colour)\n",
    "\n",
    "print(noisy_dog.name)\n",
    "\n",
    "print(noisy_dog.breed)\n",
    "\n",
    "# woof!"
   ]
  },
  {
   "cell_type": "code",
   "execution_count": null,
   "metadata": {},
   "outputs": [],
   "source": [
    "# Note that when a_dog was created, it was created using the OLD class blueprint, so a_dog can't bark.\n",
    "a_dog.bark()"
   ]
  },
  {
   "cell_type": "markdown",
   "metadata": {},
   "source": [
    "### A Dog that knows itself - Self and accessing attributes inside an object\n",
    "In our last `Dog` blueprint you may have noticed we passed the variable `self` into our `bark` function. But we never defined `self`, and we never passed anything into the function when we ran it... so what is it and where did it come from?!\n",
    "\n",
    "- `self` refers to the object that the method is inside. Whenever a method is run, the very first variable passed into the function is **the object itself**, i.e the whole of our object with all its defined attributes and functions.\n",
    "- We write `self` as the first argument into a method so we can refer to this object in our code and actually access some of its own attributes."
   ]
  },
  {
   "cell_type": "code",
   "execution_count": null,
   "metadata": {},
   "outputs": [],
   "source": [
    "# Lets add a new function/method that uses self to access these attributes...\n",
    "\n",
    "class Dog():\n",
    "    colour = \"brown\"\n",
    "    name = \"Henry\"\n",
    "    breed = 'Husky'\n",
    "    \n",
    "    def bark(self):\n",
    "        print(\"WOOF!\")\n",
    "    \n",
    "    # describe dog"
   ]
  },
  {
   "cell_type": "code",
   "execution_count": null,
   "metadata": {},
   "outputs": [],
   "source": [
    "self_aware_dog = Dog()"
   ]
  },
  {
   "cell_type": "code",
   "execution_count": null,
   "metadata": {},
   "outputs": [],
   "source": [
    "self_aware_dog.describe()"
   ]
  },
  {
   "cell_type": "code",
   "execution_count": null,
   "metadata": {},
   "outputs": [],
   "source": [
    "# This phrase isn't built in, it is built whenever the function/method is run\n",
    "self_aware_dog.name = 'Descartes'\n",
    "self_aware_dog.colour = 'blue'\n",
    "self_aware_dog.breed = \"Daschund\"\n",
    "\n",
    "self_aware_dog.describe()"
   ]
  },
  {
   "cell_type": "markdown",
   "metadata": {},
   "source": [
    "We can also pass in values to our functions/methods from outside the object"
   ]
  },
  {
   "cell_type": "code",
   "execution_count": null,
   "metadata": {},
   "outputs": [],
   "source": [
    "# Let's edit our bark method to determine how many times to bark...\n",
    "\n",
    "class Dog():\n",
    "    colour = \"brown\"\n",
    "    name = \"Henry\"\n",
    "    breed = 'Husky'\n",
    "    \n",
    "    # multiple barks\n",
    "    def bark(self):\n",
    "        \n",
    "        print(\"WOOF!\")\n",
    "    \n",
    "    def describe(self):\n",
    "        print(f\"My name is {self.name}, I am a {self.colour} {self.breed}\")"
   ]
  },
  {
   "cell_type": "code",
   "execution_count": null,
   "metadata": {},
   "outputs": [],
   "source": [
    "receptive_dog = Dog()"
   ]
  },
  {
   "cell_type": "code",
   "execution_count": null,
   "metadata": {},
   "outputs": [],
   "source": [
    "# note that positionally the first argument, self, is provided by default so we can ignore that.\n",
    "# This means the first variable we pass in is actually being passed to our SECOND argument, 'times'.\n",
    "receptive_dog.bark(3)"
   ]
  },
  {
   "cell_type": "markdown",
   "metadata": {},
   "source": [
    "### Initialising your Dog - \"__init__\" and building your object on creation.\n",
    "Some names for methods/functions in classes are special and reserved for particular functionality. One of these is `__init__` which is run  "
   ]
  },
  {
   "cell_type": "code",
   "execution_count": null,
   "metadata": {},
   "outputs": [],
   "source": [
    "class Dog():\n",
    "    # Note we have changed the defaults here to None\n",
    "    name = None\n",
    "    breed = None\n",
    "    colour = None\n",
    "    \n",
    "    #init dog\n",
    "    \n",
    "    def bark(self, times=1):\n",
    "        for x in range(times):\n",
    "            print(\"WOOF!\")\n",
    "    \n",
    "    def describe(self):\n",
    "        print(f\"My name is {self.name}, I am a {self.colour} {self.breed}\")"
   ]
  },
  {
   "cell_type": "code",
   "execution_count": null,
   "metadata": {},
   "outputs": [],
   "source": [
    "# if we initiate the class now without any arguments we get an error. These arguments are mandatory now...\n",
    "dog = Dog()"
   ]
  },
  {
   "cell_type": "code",
   "execution_count": null,
   "metadata": {},
   "outputs": [],
   "source": [
    "henry = Dog(name=\"Henry\",breed=\"Poodle\",colour=\"Pink\")"
   ]
  },
  {
   "cell_type": "code",
   "execution_count": null,
   "metadata": {},
   "outputs": [],
   "source": [
    "henry.describe()"
   ]
  },
  {
   "cell_type": "markdown",
   "metadata": {},
   "source": [
    "# Objects Summary: Everything is an Object!\n",
    "Now we better understand classes and objects, we can now think of other things in Python as objects.\n",
    "In your next few sessions you'll be using `Pandas`, and the key object in Pandas is the `DataFrame`.\n",
    "\n",
    "Dataframes are simply Python objects, with their own attributes and methods.\n",
    "We can demonstrate some of these below just to illustrate this.\n",
    "\n",
    "If you look at the [Pandas Documentation on the DataFrame](https://pandas.pydata.org/pandas-docs/stable/reference/api/pandas.DataFrame.html) you will also see they have listed all the attributes, and all the methods of a DataFrame.\n",
    "\n",
    "We can demonstrate a few of them here..."
   ]
  },
  {
   "cell_type": "code",
   "execution_count": null,
   "metadata": {},
   "outputs": [],
   "source": [
    "import pandas as pd"
   ]
  },
  {
   "cell_type": "code",
   "execution_count": null,
   "metadata": {},
   "outputs": [],
   "source": [
    "# First we build a toy dataframe - you don't need to understand this necessarily.\n",
    "data = {'column1': [1, 2], 'column2': [3, 4]}\n",
    "\n",
    "df = pd.DataFrame(data) # Here we initialise an instance of the DataFrame class, using some data as the first argument."
   ]
  },
  {
   "cell_type": "code",
   "execution_count": null,
   "metadata": {},
   "outputs": [],
   "source": [
    "df"
   ]
  },
  {
   "cell_type": "markdown",
   "metadata": {},
   "source": [
    "It has attributes..."
   ]
  },
  {
   "cell_type": "code",
   "execution_count": null,
   "metadata": {},
   "outputs": [],
   "source": [
    "df.columns"
   ]
  },
  {
   "cell_type": "code",
   "execution_count": null,
   "metadata": {},
   "outputs": [],
   "source": [
    "df.values"
   ]
  },
  {
   "cell_type": "markdown",
   "metadata": {},
   "source": [
    "and methods...\n"
   ]
  },
  {
   "cell_type": "code",
   "execution_count": null,
   "metadata": {},
   "outputs": [],
   "source": [
    "df.sum() # note the parentheses - this is a method"
   ]
  },
  {
   "cell_type": "code",
   "execution_count": null,
   "metadata": {},
   "outputs": [],
   "source": [
    "df.describe() "
   ]
  }
 ],
 "metadata": {
  "kernelspec": {
   "display_name": "Python [conda env:teaching]",
   "language": "python",
   "name": "conda-env-teaching-py"
  },
  "language_info": {
   "codemirror_mode": {
    "name": "ipython",
    "version": 3
   },
   "file_extension": ".py",
   "mimetype": "text/x-python",
   "name": "python",
   "nbconvert_exporter": "python",
   "pygments_lexer": "ipython3",
   "version": "3.7.8"
  }
 },
 "nbformat": 4,
 "nbformat_minor": 4
}
