{
 "cells": [
  {
   "cell_type": "markdown",
   "metadata": {},
   "source": [
    "# Exercises"
   ]
  },
  {
   "cell_type": "markdown",
   "metadata": {},
   "source": [
    "## *Comments and Variables*"
   ]
  },
  {
   "cell_type": "code",
   "execution_count": null,
   "metadata": {},
   "outputs": [],
   "source": [
    "# 1. Convert the print command below to a comment so that nothing happens when you run the cell.\n",
    "\n",
    "print(\"Ha ha can't stop me!\")"
   ]
  },
  {
   "cell_type": "code",
   "execution_count": null,
   "metadata": {},
   "outputs": [],
   "source": [
    "# 2. Assign some values to the variables x and y so that `answer` is equal to 20\n",
    "\n",
    "x = \n",
    "y = \n",
    "\n",
    "answer = x + y\n",
    "\n",
    "print(answer)"
   ]
  },
  {
   "cell_type": "code",
   "execution_count": null,
   "metadata": {},
   "outputs": [],
   "source": [
    "# 3. Look at the code below. After the code has run what do you think will be the value of x?\n",
    "# Run this cell to load the variables into memory and then run the next cell to see if you were correct.\n",
    "\n",
    "x = 10\n",
    "\n",
    "y = 30\n",
    "\n",
    "x = y"
   ]
  },
  {
   "cell_type": "code",
   "execution_count": null,
   "metadata": {},
   "outputs": [],
   "source": [
    "print(x)"
   ]
  },
  {
   "cell_type": "markdown",
   "metadata": {},
   "source": [
    "\n",
    "## *Numbers and Comparison*"
   ]
  },
  {
   "cell_type": "code",
   "execution_count": null,
   "metadata": {
    "scrolled": true
   },
   "outputs": [],
   "source": [
    "# 1. Fill in the variables `a` and `b` so that the result of this cell is True\n",
    "\n",
    "a = \n",
    "b = \n",
    "\n",
    "c = a+b\n",
    "\n",
    "c == 30"
   ]
  },
  {
   "cell_type": "code",
   "execution_count": null,
   "metadata": {},
   "outputs": [],
   "source": [
    "# 2. Fill in the variable `b` so that the result of this cell is True\n",
    "\n",
    "a = 100\n",
    "b = \n",
    "\n",
    "c = (a+b)*b\n",
    "\n",
    "c == 204"
   ]
  },
  {
   "cell_type": "code",
   "execution_count": null,
   "metadata": {},
   "outputs": [],
   "source": [
    "# 3. Change only the comparison operations so that every line evaluates to True.\n",
    "\n",
    "a = 10 > 20\n",
    "b = 3 + 5 == 7\n",
    "c = 10 >= 9\n",
    "d = 5 + 5 != 10"
   ]
  },
  {
   "cell_type": "code",
   "execution_count": null,
   "metadata": {},
   "outputs": [],
   "source": [
    "# This function checks that `a` `b` `c` and `d` all evaluate to True. \n",
    "# If all are True it returns True, but if any are False it will return False. If you get True - good job!\n",
    "\n",
    "all([a,b,c,d]) "
   ]
  },
  {
   "cell_type": "code",
   "execution_count": null,
   "metadata": {},
   "outputs": [],
   "source": [
    "# 4. Each value in the parenthesis will result in either an int or float.\n",
    "#    Fill in either int or float so that each line evaluates as True.\n",
    "#    The first line has been completed for you.\n",
    "\n",
    "a = type(10) == int\n",
    "b = type(0.5) == \n",
    "c = type(5*5) == \n",
    "d = type(10/5) == \n",
    "e = type(5.0 + 10) == "
   ]
  },
  {
   "cell_type": "code",
   "execution_count": null,
   "metadata": {},
   "outputs": [],
   "source": [
    "# This `all` function checks that `a` `b` `c` `d` and `e` all evaluate to True. \n",
    "# If all are True it returns True, but if any are False it will return False. If you get True - good job!\n",
    "all([a,b,c,d,e]) "
   ]
  },
  {
   "cell_type": "markdown",
   "metadata": {},
   "source": [
    "## *Strings*"
   ]
  },
  {
   "cell_type": "code",
   "execution_count": null,
   "metadata": {},
   "outputs": [],
   "source": [
    "# 1. Print a sentence by concatenating some of the following variables inside a print() call...\n",
    "\n",
    "base_sentence_a = 'This exercise is incredibly '\n",
    "base_sentence_b = 'Our lecturer is particularly '\n",
    "option_1 = 'effective.'\n",
    "option_2 = 'boring.'\n",
    "\n",
    "# your code here...\n"
   ]
  },
  {
   "cell_type": "code",
   "execution_count": null,
   "metadata": {},
   "outputs": [],
   "source": [
    "# 2. Look at the following lines of code. Predict what the output will be before running the cell.\n",
    "\n",
    "print( 'Wales' not in 'United Kingdom' ) #a\n",
    "print( 'UK' in 'EU') #b\n",
    "print( 'Thrones' in 'Game of Thrones' ) #c\n",
    "print( 'Hello' in 'hello') #d\n",
    "\n",
    "# Type your predictions here first. Remember, Python doesn't know anything about politics.\n",
    "\n",
    "#a\n",
    "#b\n",
    "#c\n",
    "#d"
   ]
  },
  {
   "cell_type": "code",
   "execution_count": null,
   "metadata": {
    "scrolled": true
   },
   "outputs": [],
   "source": [
    "# 3. Use slicing to extract the relevant parts of the `friends` variable for each task.\n",
    "\n",
    "friends = 'Rachel, Monica, Ross, Joey and Chandler'\n",
    "\n",
    "# 3a. extract 'Rachel' from the friends string and assign it to the variable below.\n",
    "rachel = \n",
    "\n",
    "# 3b. extract 'Joey and Chandler' from the friends string and assign it to the variable below.\n",
    "joey_chandler = \n",
    "\n",
    "#3c. extract 'Ross' from the friends string and assign it to the variable below.\n",
    "# Remember the `.find()` string method above? It may be useful. Bonus points for also using len().\n",
    "ross = \n",
    "\n",
    "print(rachel)\n",
    "print(joey_chandler)\n",
    "print(ross)"
   ]
  },
  {
   "cell_type": "code",
   "execution_count": null,
   "metadata": {},
   "outputs": [],
   "source": [
    "# 4. Create a sentence using an f-string and the variables `rachel`, `ross` and `joey_chandler` from above.\n",
    "\n",
    "print( f'{} are inseperable but {} and {} were on a break')\n",
    "\n"
   ]
  },
  {
   "cell_type": "markdown",
   "metadata": {},
   "source": [
    "## *Lists*"
   ]
  },
  {
   "cell_type": "code",
   "execution_count": null,
   "metadata": {},
   "outputs": [],
   "source": [
    "# 1. Create a list of strings using square brackets and assign it to a variable. \n",
    "# Check the `type` of the variable to confirm it is a list\n",
    "\n",
    "# Your list here..."
   ]
  },
  {
   "cell_type": "code",
   "execution_count": null,
   "metadata": {},
   "outputs": [],
   "source": [
    "# 2. Turn the string below into a list using just 1 line of code. Assign the list to the variable starks_list\n",
    "\n",
    "starks = 'Eddard Catelyn Bran Sansa Arya Theon'\n",
    "\n",
    "starks_list = "
   ]
  },
  {
   "cell_type": "code",
   "execution_count": null,
   "metadata": {},
   "outputs": [],
   "source": [
    "# 3. We made a mistake in the last list, Theon is a Greyjoy not a Stark. Remove Theon and assign him to a new variable\n",
    "\n",
    "theon = "
   ]
  },
  {
   "cell_type": "code",
   "execution_count": null,
   "metadata": {},
   "outputs": [],
   "source": [
    "# 4. We also forgot Rickon and Robb Stark! \n",
    "# Make a new list containing 'Rickon' and 'Robb' and extend starks_list with your new list.\n",
    "\n"
   ]
  },
  {
   "cell_type": "code",
   "execution_count": null,
   "metadata": {},
   "outputs": [],
   "source": [
    "# 4a Check everything has gone well so far by running this assert\n",
    "\n",
    "assert len(starks_list) == 7"
   ]
  },
  {
   "cell_type": "code",
   "execution_count": null,
   "metadata": {},
   "outputs": [],
   "source": [
    "# 5. It's a bit unfair to exclude Theon. Let's add him back on the list by appending the `theon` variable to the list.\n",
    "\n"
   ]
  },
  {
   "cell_type": "code",
   "execution_count": null,
   "metadata": {},
   "outputs": [],
   "source": [
    "# 6. Finally sort the list and print it. Your list should look like this...\n",
    "# ['Arya', 'Bran', 'Catelyn', 'Eddard', 'Rickon', 'Robb', 'Sansa', 'Theon']\n",
    "\n"
   ]
  },
  {
   "cell_type": "markdown",
   "metadata": {},
   "source": [
    "## *Control Flow and Loops*"
   ]
  },
  {
   "cell_type": "code",
   "execution_count": null,
   "metadata": {},
   "outputs": [],
   "source": [
    "# 1. Complete the assert statement at the bottom of the cell to avoid an error.\n",
    "\n",
    "value = 2\n",
    "\n",
    "if value > 3:\n",
    "    x = 'a'\n",
    "elif value > 2:\n",
    "    x = 'b'\n",
    "elif value > 1:\n",
    "    x = 'c'\n",
    "elif value > 0:\n",
    "    x = 'd'\n",
    "else:\n",
    "    print('Doh!')\n",
    "\n",
    "assert x =="
   ]
  },
  {
   "cell_type": "code",
   "execution_count": null,
   "metadata": {},
   "outputs": [],
   "source": [
    "# 2. Complte the assert statement at the bottom of the cell to avoid an error.\n",
    "value = 2\n",
    "\n",
    "if value > 3:\n",
    "    x = 'a'\n",
    "if value > 2:\n",
    "    x = 'b'\n",
    "if value > 1:\n",
    "    x = 'c'\n",
    "if value > 0:\n",
    "    x = 'd'\n",
    "else:\n",
    "    print('Doh!')\n",
    "\n",
    "assert x == "
   ]
  },
  {
   "cell_type": "code",
   "execution_count": null,
   "metadata": {},
   "outputs": [],
   "source": [
    "# 3. Use a for loop to iterate over the animal_words list. Add only those animals with the letter 'o' to\n",
    "# the list o_animals.\n",
    "\n",
    "animal_words = ['Pig','Cow','Horse','Dog','Sheep','Goat','Cat']\n",
    "\n",
    "o_animals = []\n",
    "\n",
    "\n",
    "# Code here\n",
    "\n",
    "        \n",
    "print(o_animals)\n",
    "\n",
    "assert len(o_animals) == 4"
   ]
  },
  {
   "cell_type": "code",
   "execution_count": null,
   "metadata": {},
   "outputs": [],
   "source": [
    "# 4. This time only append those animals with the letter 'o' and that are shorter than 4 letters long.\n",
    "\n",
    "animal_words = ['Pig','Cow','Horse','Dog','Sheep','Goat','Cat']\n",
    "\n",
    "short_o_animals = []\n",
    "\n",
    "\n",
    "# Code here\n",
    "\n",
    "print(short_o_animals)\n",
    "\n",
    "assert len(short_o_animals) == 2"
   ]
  },
  {
   "cell_type": "code",
   "execution_count": null,
   "metadata": {},
   "outputs": [],
   "source": [
    "# 5. Create a list of animals that have the letter 'e' using only a list comprehension. Assign your code to `e_animals`.\n",
    "\n",
    "animal_words = ['Pig','Cow','Horse','Dog','Sheep','Goat','Cat']\n",
    "\n",
    "\n",
    "e_animals = \n",
    "\n",
    "assert len(e_animals) == 2\n"
   ]
  },
  {
   "cell_type": "code",
   "execution_count": null,
   "metadata": {},
   "outputs": [],
   "source": [
    "# 6. BONUS: Can you split down this sentence, identify and extract all the words longer than 3 letters \n",
    "# and make them lowercase using a list comprehension?\n",
    "# TIP: You'll need to use string methods in the comprehension to help you.\n",
    "\n",
    "sentence = 'Campus Cat spends far too long looking in the mirror'\n",
    "\n",
    "# Code here\n"
   ]
  },
  {
   "cell_type": "markdown",
   "metadata": {},
   "source": [
    "# *Exercises: Functions*\n"
   ]
  },
  {
   "cell_type": "code",
   "execution_count": null,
   "metadata": {},
   "outputs": [],
   "source": [
    "# 1. Create a basic function that takes a string as an argument, does some processing and returns\n",
    "# a list of lowercase words.\n",
    "\n"
   ]
  },
  {
   "cell_type": "code",
   "execution_count": null,
   "metadata": {},
   "outputs": [],
   "source": [
    "# 2. Create a function called length_filter. It should take two arguments, 'sentence' and 'min_length'. \n",
    "# The function should take in the sentence, lower it, split it into a list, filter out words below min_length, \n",
    "# and then return a single string.\n",
    "\n",
    "def length_filter\n",
    "\n",
    "test_sentence = ' Use this sentence to see whether your function works'\n",
    "\n",
    "length_filter(test_sentence,3)"
   ]
  },
  {
   "cell_type": "code",
   "execution_count": null,
   "metadata": {},
   "outputs": [],
   "source": [
    "# 3. Reproduce your function above, but make it optional whether the string is lower case or not.\n",
    "\n",
    "# function here\n",
    "\n",
    "# Test your new function."
   ]
  },
  {
   "cell_type": "code",
   "execution_count": null,
   "metadata": {},
   "outputs": [],
   "source": []
  },
  {
   "cell_type": "code",
   "execution_count": null,
   "metadata": {},
   "outputs": [],
   "source": []
  }
 ],
 "metadata": {
  "kernelspec": {
   "display_name": "Python 3 (ipykernel)",
   "language": "python",
   "name": "python3"
  },
  "language_info": {
   "codemirror_mode": {
    "name": "ipython",
    "version": 3
   },
   "file_extension": ".py",
   "mimetype": "text/x-python",
   "name": "python",
   "nbconvert_exporter": "python",
   "pygments_lexer": "ipython3",
   "version": "3.8.12"
  }
 },
 "nbformat": 4,
 "nbformat_minor": 4
}
