{
 "cells": [
  {
   "cell_type": "markdown",
   "metadata": {
    "pycharm": {
     "name": "#%% md\n"
    }
   },
   "source": [
    "# SC207 - Social Data Science\n",
    "# Data Wrangling with Pandas\n",
    "<img src=\"https://github.com/Minyall/sc207_materials/blob/master/images/python_pandas.jpg?raw=true\" align=\"right\">\n",
    "\n",
    "\n",
    "- A major part of computational social science is the storing, manipulation and reporting of data. \n",
    "- Pandas is a powerful data management library specifically built for these kinds of tasks.\n",
    "- It can handle very large amounts of data whilst remaining quick and responsive.\n",
    "\n",
    "- We will be using Pandas throughout our practical sessions as a general purpose data management tool but this week we will focus on learning its features.\n",
    "\n",
    "[__Pandas Documentation__](http://pandas.pydata.org/pandas-docs/stable/)"
   ]
  },
  {
   "cell_type": "markdown",
   "metadata": {
    "pycharm": {
     "name": "#%% md\n"
    }
   },
   "source": [
    "\n",
    "\n",
    "### The Data\n",
    "\n",
    "<img src=\"https://github.com/Minyall/sc207_materials/blob/master/images/spotify.png?raw=true\" align=\"right\" width=150>\n",
    "\n",
    "Today we will be using data gathered from Spotify, the popular music streaming service. Spotify provides access to some of its data through their public API. This data has been collected and pre-prepared by your instructors.\n"
   ]
  },
  {
   "cell_type": "markdown",
   "metadata": {
    "pycharm": {
     "name": "#%% md\n"
    }
   },
   "source": [
    "### Imports\n",
    "Importing modules in python is standard practice. Rather than everyone create their own unique code from scratch every time, modules allow us to integrate code developed by others into our own work. In most instances it is better to use a well supported pre-existing library than to write your own."
   ]
  },
  {
   "cell_type": "code",
   "execution_count": 154,
   "metadata": {
    "pycharm": {
     "name": "#%%\n"
    }
   },
   "outputs": [],
   "source": [
    "# Here we import the `pandas` module. We could simply use `import pandas` however `as` allows us to use a shorter name.\n",
    "# As social convention many modules are referred to with these short names.\n",
    "\n",
    "import pandas as pd"
   ]
  },
  {
   "cell_type": "markdown",
   "metadata": {
    "pycharm": {
     "name": "#%% md\n"
    }
   },
   "source": [
    "## Loading Data\n",
    "Often (though not always) you will be importing data from a file into Pandas. Pandas can handle a range of import types...\n",
    "\n",
    "\n",
    "<img src=\"https://github.com/Minyall/sc207_materials/blob/master/images/pandas_import.png?raw=true\">\n",
    "\n",
    "[Source - Pandas Documentation](https://pandas.pydata.org/pandas-docs/stable/io.html)\n",
    "\n",
    "...some will be familiar to you, others less so.\n",
    "\n",
    "Today's data is stored as a __CSV file__, a common format for storing data in a simple way that can be read by lots of different programs including text readers, Microsoft Excel, etc.\n",
    "\n",
    "We need to provide either the relative or full path to the file so Python knows where in your computer to look. If the file is in the same place as your notebook you can provide the *relative* path which is the file path relative to the notebook. In our case the path is simply `spotify_top_songs.csv`. \n",
    "\n",
    "Whilst you're still learning it is best to just keep all relevant files in the same folder as your notebook.\n"
   ]
  },
  {
   "cell_type": "code",
   "execution_count": null,
   "metadata": {
    "pycharm": {
     "name": "#%%\n"
    }
   },
   "outputs": [],
   "source": [
    "filename = 'spotify_top_songs.csv'\n"
   ]
  },
  {
   "cell_type": "code",
   "execution_count": null,
   "metadata": {
    "scrolled": true,
    "pycharm": {
     "name": "#%%\n"
    }
   },
   "outputs": [],
   "source": [
    "# load your saved data as variable songs_df, df being short for DataFrame\n",
    "\n",
    "songs_df = pd.read_csv(filename)\n",
    "type(songs_df)"
   ]
  },
  {
   "cell_type": "code",
   "execution_count": null,
   "metadata": {
    "pycharm": {
     "name": "#%%\n"
    }
   },
   "outputs": [],
   "source": [
    "# We can get a quick sense of the size of our dataset using .shape\n",
    "# (number of rows, numer of columns)\n",
    "\n",
    "songs_df.shape"
   ]
  },
  {
   "cell_type": "markdown",
   "source": [
    "## Viewing your data"
   ],
   "metadata": {
    "collapsed": false,
    "pycharm": {
     "name": "#%% md\n"
    }
   }
  },
  {
   "cell_type": "code",
   "execution_count": null,
   "metadata": {
    "pycharm": {
     "name": "#%%\n"
    }
   },
   "outputs": [],
   "source": [
    "# .head() shows us the top 5 rows\n",
    "songs_df.head()"
   ]
  },
  {
   "cell_type": "code",
   "execution_count": null,
   "outputs": [],
   "source": [
    "# .tail() shows us the last 5 rows\n",
    "\n",
    "songs_df.tail()"
   ],
   "metadata": {
    "collapsed": false,
    "pycharm": {
     "name": "#%%\n"
    }
   }
  },
  {
   "cell_type": "code",
   "execution_count": null,
   "outputs": [],
   "source": [
    "# You can specify the number of rows to return\n",
    "\n",
    "songs_df.head(10)"
   ],
   "metadata": {
    "collapsed": false,
    "pycharm": {
     "name": "#%%\n"
    }
   }
  },
  {
   "cell_type": "markdown",
   "source": [
    "## Exercise 1\n",
    "\n",
    "Using `songs_df`, view the\n",
    "- top 20 rows\n",
    "- last 30 rows\n"
   ],
   "metadata": {
    "collapsed": false,
    "pycharm": {
     "name": "#%% md\n"
    }
   }
  },
  {
   "cell_type": "code",
   "execution_count": null,
   "outputs": [],
   "source": [
    "# Write your code for exercise 1 in this cell\n",
    "\n"
   ],
   "metadata": {
    "collapsed": false,
    "pycharm": {
     "name": "#%%\n"
    }
   }
  },
  {
   "cell_type": "code",
   "execution_count": null,
   "outputs": [],
   "source": [
    "# QUESTION\n",
    "# What is the name of the song in the very last row of the dataframe? Assign the name as a string to the answer variable\n",
    "\n",
    "answer =\n",
    "\n",
    "if answer.lower() == songs_df.iloc[-1,1].lower():\n",
    "    print(f'Correct!')\n",
    "else:\n",
    "    print('Incorrect - Try again')\n"
   ],
   "metadata": {
    "collapsed": false,
    "pycharm": {
     "name": "#%%\n"
    }
   }
  },
  {
   "cell_type": "markdown",
   "metadata": {
    "pycharm": {
     "name": "#%% md\n"
    }
   },
   "source": [
    "## Describing your DataFrame\n",
    "<img src=\"https://pandas.pydata.org/docs/_images/01_table_dataframe.svg\" title='Pandas DataFrame' width=\"400\" height=\"200\"/>\n",
    "\n",
    "DataFrames are like big Excel spreadsheets. They have...\n",
    "\n",
    "- Rows\n",
    "- Columns\n",
    "\n",
    "...and `values` which is the data inside the cells of your spreadsheet.\n"
   ]
  },
  {
   "cell_type": "code",
   "execution_count": null,
   "metadata": {
    "pycharm": {
     "name": "#%%\n"
    }
   },
   "outputs": [],
   "source": [
    "# We can see a list of our columns...\n",
    "songs_df.columns"
   ]
  },
  {
   "cell_type": "code",
   "execution_count": null,
   "outputs": [],
   "source": [
    "# Accessing the row index, i.e. the row labels\n",
    "\n",
    "songs_df.index"
   ],
   "metadata": {
    "collapsed": false,
    "pycharm": {
     "name": "#%%\n"
    }
   }
  },
  {
   "cell_type": "code",
   "execution_count": null,
   "outputs": [],
   "source": [
    "# Accessing the DataFrame values\n",
    "\n",
    "songs_df.values"
   ],
   "metadata": {
    "collapsed": false,
    "pycharm": {
     "name": "#%%\n"
    }
   }
  },
  {
   "cell_type": "markdown",
   "source": [
    "The `.info()` method gives us an overview of our DataFrame, including...\n",
    "- A summary of the index labels\n",
    "- Information the columns\n",
    "- a 'Non-Null' Count. i.e. how many 'cells' in the column have a value in them.\n",
    "- The type (Dtype) of values that column holds.\n",
    "    - Integer (int64) - e.g. 5\n",
    "    - Float (float64)- e.g. 5.3\n",
    "    - Boolean (bool) - e.g. True / False\n",
    "    - Other (object) - Usually a string, but can also be any python object e.g. lists, dictionaries, classes.\n",
    "- A summary of how much computer memory the data needs."
   ],
   "metadata": {
    "collapsed": false,
    "pycharm": {
     "name": "#%% md\n"
    }
   }
  },
  {
   "cell_type": "code",
   "execution_count": null,
   "outputs": [],
   "source": [
    "# An informative overview of our DataFrame\n",
    "\n",
    "songs_df.info()"
   ],
   "metadata": {
    "collapsed": false,
    "pycharm": {
     "name": "#%%\n"
    }
   }
  },
  {
   "cell_type": "markdown",
   "source": [
    "## Accessing columns and rows"
   ],
   "metadata": {
    "collapsed": false,
    "pycharm": {
     "name": "#%% md\n"
    }
   }
  },
  {
   "cell_type": "markdown",
   "source": [
    "### Accessing columns\n",
    "<img src=\"https://github.com/Minyall/sc207_materials/blob/master/images/01_table_series.svg?raw=true\" title='Pandas DataFrame'/>\n",
    "\n",
    "A column is also known as a `Series` and in Pandas."
   ],
   "metadata": {
    "collapsed": false,
    "pycharm": {
     "name": "#%% md\n"
    }
   }
  },
  {
   "cell_type": "code",
   "execution_count": null,
   "metadata": {
    "pycharm": {
     "name": "#%%\n"
    }
   },
   "outputs": [],
   "source": [
    "# We can select a single column like we would select a dictionary key\n",
    "\n",
    "songs_track_names = songs_df['track_name']"
   ]
  },
  {
   "cell_type": "code",
   "execution_count": null,
   "outputs": [],
   "source": [
    "songs_track_names.head()"
   ],
   "metadata": {
    "collapsed": false,
    "pycharm": {
     "name": "#%%\n"
    }
   }
  },
  {
   "cell_type": "code",
   "execution_count": null,
   "outputs": [],
   "source": [
    "type(songs_track_names)"
   ],
   "metadata": {
    "collapsed": false,
    "pycharm": {
     "name": "#%%\n"
    }
   }
  },
  {
   "cell_type": "markdown",
   "source": [
    "Note that the Series retains the index labels on the left from the original dataframe. They're not just listing the position of the rows, but are the index reference numbers for the rows."
   ],
   "metadata": {
    "collapsed": false,
    "pycharm": {
     "name": "#%% md\n"
    }
   }
  },
  {
   "cell_type": "code",
   "execution_count": null,
   "metadata": {
    "pycharm": {
     "name": "#%%\n"
    }
   },
   "outputs": [],
   "source": [
    "# We can also select a subset of columns by using double brackets.\n",
    "\n",
    "songs_track_artist_genre = songs_df[['track_name','artists','genre']]\n",
    "\n",
    "songs_track_artist_genre.head()"
   ]
  },
  {
   "cell_type": "code",
   "execution_count": null,
   "outputs": [],
   "source": [
    "# double-brackets returns a DataFrame, single brackets returns a Series\n",
    "\n",
    "type(songs_track_artist_genre)"
   ],
   "metadata": {
    "collapsed": false,
    "pycharm": {
     "name": "#%%\n"
    }
   }
  },
  {
   "cell_type": "code",
   "execution_count": null,
   "outputs": [],
   "source": [
    "# ...even if you only select one column\n",
    "songs_single_track_name = songs_df['track_name']\n",
    "songs_doubled_track_name = songs_df[['track_name']]"
   ],
   "metadata": {
    "collapsed": false,
    "pycharm": {
     "name": "#%%\n"
    }
   }
  },
  {
   "cell_type": "code",
   "execution_count": null,
   "outputs": [],
   "source": [
    "type(songs_single_track_name)"
   ],
   "metadata": {
    "collapsed": false,
    "pycharm": {
     "name": "#%%\n"
    }
   }
  },
  {
   "cell_type": "code",
   "execution_count": null,
   "outputs": [],
   "source": [
    "type(songs_doubled_track_name)"
   ],
   "metadata": {
    "collapsed": false,
    "pycharm": {
     "name": "#%%\n"
    }
   }
  },
  {
   "cell_type": "markdown",
   "source": [
    "## Exercise 2\n",
    "From `songs_df` access the column 'artists' and assign it to a new variable. Check the type to make sure it is a `Series`."
   ],
   "metadata": {
    "collapsed": false,
    "pycharm": {
     "name": "#%% md\n"
    }
   }
  },
  {
   "cell_type": "code",
   "execution_count": null,
   "outputs": [],
   "source": [
    "# Write your code for exercise 2 in this cell\n",
    "\n"
   ],
   "metadata": {
    "collapsed": false,
    "pycharm": {
     "name": "#%%\n"
    }
   }
  },
  {
   "cell_type": "markdown",
   "source": [
    "### Accessing rows\n",
    "Rows can be accessed in a number of ways...\n",
    "- By referring to their row label - `.loc`\n",
    "- By referring to their row index - `.iloc`\n",
    "- By filtering based on specific criteria"
   ],
   "metadata": {
    "collapsed": false,
    "pycharm": {
     "name": "#%% md\n"
    }
   }
  },
  {
   "cell_type": "code",
   "execution_count": null,
   "outputs": [],
   "source": [
    "# Select the row with label 4\n",
    "\n",
    "row_label_4 = songs_df.loc[4]\n",
    "row_label_4"
   ],
   "metadata": {
    "collapsed": false,
    "pycharm": {
     "name": "#%%\n"
    }
   }
  },
  {
   "cell_type": "markdown",
   "source": [
    "Pandas has flipped the data so that the column labels are on the left, and the row label is at the top. This is because not only is a single column a `Series`, but a single row is a `Series` too."
   ],
   "metadata": {
    "collapsed": false,
    "pycharm": {
     "name": "#%% md\n"
    }
   }
  },
  {
   "cell_type": "code",
   "execution_count": null,
   "outputs": [],
   "source": [
    "# We can check the type of our row\n",
    "type(row_label_4)"
   ],
   "metadata": {
    "collapsed": false,
    "pycharm": {
     "name": "#%%\n"
    }
   }
  },
  {
   "cell_type": "code",
   "execution_count": null,
   "outputs": [],
   "source": [
    "# If we wanted to double check our results\n",
    "songs_df.head()"
   ],
   "metadata": {
    "collapsed": false,
    "pycharm": {
     "name": "#%%\n"
    }
   }
  },
  {
   "cell_type": "code",
   "execution_count": null,
   "outputs": [],
   "source": [
    "# Select the row at index position 4\n",
    "\n",
    "row_idx_4 = songs_df.iloc[4]\n",
    "row_idx_4\n"
   ],
   "metadata": {
    "collapsed": false,
    "pycharm": {
     "name": "#%%\n"
    }
   }
  },
  {
   "cell_type": "markdown",
   "source": [
    "It's the same.... so what's the point?\n",
    "\n",
    "By default, Pandas labels the rows by their index position.\n",
    "\n",
    "\n",
    "| index | label | name   |\n",
    "|-------|-------|--------|\n",
    "| 0     | 0     | Arthur |\n",
    "| 1     | 1     | Betty  |\n",
    "| 2     | 2     | Carole |\n",
    "\n",
    "However, whilst the position is always fixed, the labels may change order if the data changes order. If we reversed the order of the data by name...\n",
    "\n",
    "| index | label | name |\n",
    "|-------|-------|----------|\n",
    "| 0     | 2     | Carole   |\n",
    "| 1     | 1     | Betty    |\n",
    "| 2     | 0     | Arthur   |\n",
    "\n"
   ],
   "metadata": {
    "collapsed": false,
    "pycharm": {
     "name": "#%% md\n"
    }
   }
  },
  {
   "cell_type": "code",
   "execution_count": null,
   "outputs": [],
   "source": [
    "# Example using our data\n",
    "\n",
    "songs_artist_alphabetical = songs_df.sort_values('artists')\n",
    "songs_artist_alphabetical.head()"
   ],
   "metadata": {
    "collapsed": false,
    "pycharm": {
     "name": "#%%\n"
    }
   }
  },
  {
   "cell_type": "code",
   "execution_count": null,
   "outputs": [],
   "source": [
    "songs_artist_alphabetical_idx_4 = songs_artist_alphabetical.iloc[4]\n",
    "songs_artist_alphabetical_idx_4"
   ],
   "metadata": {
    "collapsed": false,
    "pycharm": {
     "name": "#%%\n"
    }
   }
  },
  {
   "cell_type": "code",
   "execution_count": null,
   "outputs": [],
   "source": [
    "songs_artist_alphabetical_label_4 = songs_artist_alphabetical.loc[4]\n",
    "songs_artist_alphabetical_label_4"
   ],
   "metadata": {
    "collapsed": false,
    "pycharm": {
     "name": "#%%\n"
    }
   }
  },
  {
   "cell_type": "markdown",
   "source": [
    "## Exercise\n",
    "- Using `.sort_values()` sort your dataframe by `track_name` and assign the result to a new variable.\n",
    "- Using your sorted dataframe, access the row labelled `350` and assign it to its own variable.\n",
    "- Using your sorted dataframe, access the row at index `350` and assign it to its own variable."
   ],
   "metadata": {
    "collapsed": false,
    "pycharm": {
     "name": "#%% md\n"
    }
   }
  },
  {
   "cell_type": "code",
   "execution_count": null,
   "outputs": [],
   "source": [
    "# Use this cell for the exercise\n",
    "\n",
    "\n",
    "\n"
   ],
   "metadata": {
    "collapsed": false,
    "pycharm": {
     "name": "#%%\n"
    }
   }
  },
  {
   "cell_type": "markdown",
   "source": [
    "## Filtering by conditions\n",
    "Filtering allows you to select multiple rows based on particular criteria. Our dataset was produced by pulling track information from a range of different playlists on Spotify."
   ],
   "metadata": {
    "collapsed": false,
    "pycharm": {
     "name": "#%% md\n"
    }
   }
  },
  {
   "cell_type": "code",
   "execution_count": null,
   "outputs": [],
   "source": [
    "# We can see the list of playlists by asking for unique values in the playlist_name column\n",
    "\n",
    "songs_df['playlist_name'].unique()"
   ],
   "metadata": {
    "collapsed": false,
    "pycharm": {
     "name": "#%%\n"
    }
   }
  },
  {
   "cell_type": "markdown",
   "source": [
    "Filtering can be done in many ways, but the standard approach is to use the following syntax...\n",
    "\n",
    "Dataframe[filter conditions]"
   ],
   "metadata": {
    "collapsed": false,
    "pycharm": {
     "name": "#%% md\n"
    }
   }
  },
  {
   "cell_type": "code",
   "execution_count": null,
   "outputs": [],
   "source": [
    "# Filter our dataframe to only show songs from Spotify's Top 50 UK playlist\n",
    "# (Top 50 most played songs in the UK on the day dataset was produced)\n",
    "\n",
    "filter_uk_top_50 = songs_df['playlist_name'] == 'Top 50 - United Kingdom'\n",
    "\n",
    "songs_top_50 = songs_df[filter_uk_top_50]\n",
    "songs_top_50"
   ],
   "metadata": {
    "collapsed": false,
    "pycharm": {
     "name": "#%%\n"
    }
   }
  },
  {
   "cell_type": "code",
   "execution_count": null,
   "outputs": [],
   "source": [
    "# We could filter again to then see which songs in the top 50 are explicit\n",
    "\n",
    "filter_explicit = songs_top_50['explicit'] == True\n",
    "songs_top_50[filter_explicit]"
   ],
   "metadata": {
    "collapsed": false,
    "pycharm": {
     "name": "#%%\n"
    }
   }
  },
  {
   "cell_type": "code",
   "execution_count": null,
   "outputs": [],
   "source": [
    "# Which songs in the top 50 were released before 2020?\n",
    "\n",
    "filter_pre_2020 = songs_top_50['release_year'] < 2020\n",
    "songs_top_50[filter_pre_2020]"
   ],
   "metadata": {
    "collapsed": false,
    "pycharm": {
     "name": "#%%\n"
    }
   }
  },
  {
   "cell_type": "code",
   "execution_count": null,
   "outputs": [],
   "source": [
    "# in release year order...\n",
    "\n",
    "songs_top_50[filter_pre_2020].sort_values('release_year')"
   ],
   "metadata": {
    "collapsed": false,
    "pycharm": {
     "name": "#%%\n"
    }
   }
  },
  {
   "cell_type": "code",
   "execution_count": null,
   "outputs": [],
   "source": [
    "# by popularity.\n",
    "# the ascending keyword in .sort_values() allows us to control if lowest (default), or highest values are first.\n",
    "\n",
    "filter_most_popular = songs_top_50['popularity'] > 90\n",
    "\n",
    "songs_top_50[filter_most_popular].sort_values('popularity', ascending=False)\n"
   ],
   "metadata": {
    "collapsed": false,
    "pycharm": {
     "name": "#%%\n"
    }
   }
  },
  {
   "cell_type": "markdown",
   "source": [
    "[Click here for more information on Spotify's popularity metric.](https://hexdocs.pm/spotify_web_api/Spotify.Tracks.html#t:popularity/0)"
   ],
   "metadata": {
    "collapsed": false,
    "pycharm": {
     "name": "#%% md\n"
    }
   }
  },
  {
   "cell_type": "markdown",
   "source": [
    "We broke down the stages by...\n",
    "- First creating a seperate `songs_top_50` variable by selecting all the rows in the appropriate playlist.\n",
    "- Creating filter variables first before applying them to our new pre-filtered dataset.\n",
    "\n",
    "Pandas supports combining these stages using `&` to combine filters in a single command. However, always aim for clarity and readability above complex solutions."
   ],
   "metadata": {
    "collapsed": false,
    "pycharm": {
     "name": "#%% md\n"
    }
   }
  },
  {
   "cell_type": "code",
   "execution_count": null,
   "outputs": [],
   "source": [
    "# Explicit Top 50 playlist songs with a popularity over 90, sorted by release year\n",
    "\n",
    "songs_df[\n",
    "    (songs_df['playlist_name'] == 'Top 50 - United Kingdom') &\n",
    "    (songs_df['explicit'] == True) &\n",
    "    (songs_df['popularity'] > 90)\n",
    "].sort_values('release_year')"
   ],
   "metadata": {
    "collapsed": false,
    "pycharm": {
     "name": "#%%\n"
    }
   }
  },
  {
   "cell_type": "markdown",
   "source": [
    "## Exercise\n",
    "Which song on Spotify's playlist 'All Out 50s' is the most popular song amongst Spotify listeners today?\n",
    "\n",
    "1. Filter `songs_df` to only include tracks on the playlist `All Out 50s`.\n",
    "2. Sort the filtered dataset by popularity, so that the most popular song is at the top."
   ],
   "metadata": {
    "collapsed": false,
    "pycharm": {
     "name": "#%% md\n"
    }
   }
  },
  {
   "cell_type": "code",
   "execution_count": null,
   "outputs": [],
   "source": [
    "# Write your code for the exercise here\n",
    "\n",
    "\n",
    "\n",
    "\n",
    "\n",
    "\n"
   ],
   "metadata": {
    "collapsed": false,
    "pycharm": {
     "name": "#%%\n"
    }
   }
  },
  {
   "cell_type": "markdown",
   "source": [
    "## Summarising Data\n",
    "\n",
    "We will learn much more about Pandas' ability to manipulate and aggregate data throughout the course. However, here is a small taste of its capabilities."
   ],
   "metadata": {
    "collapsed": false,
    "pycharm": {
     "name": "#%% md\n"
    }
   }
  },
  {
   "cell_type": "code",
   "execution_count": null,
   "outputs": [],
   "source": [
    "# Value counts provides a quick summary of how many times each value appears in a Series\n",
    "\n",
    "songs_df['playlist_name'].value_counts()"
   ],
   "metadata": {
    "collapsed": false,
    "pycharm": {
     "name": "#%%\n"
    }
   }
  },
  {
   "cell_type": "code",
   "execution_count": null,
   "outputs": [],
   "source": [
    "# How many times does an artist appear in the dataset?\n",
    "songs_df['artists'].value_counts().head(10)"
   ],
   "metadata": {
    "collapsed": false,
    "pycharm": {
     "name": "#%%\n"
    }
   }
  },
  {
   "cell_type": "code",
   "execution_count": null,
   "outputs": [],
   "source": [
    "# What is the average popularity score for our particular dataset?\n",
    "# For spotify overall 50 is average\n",
    "songs_df['popularity'].mean()\n"
   ],
   "metadata": {
    "collapsed": false,
    "pycharm": {
     "name": "#%%\n"
    }
   }
  },
  {
   "cell_type": "markdown",
   "source": [
    "### Grouping\n",
    "Pandas `.groupby()` is an incredibly powerful feature that allows us to ask complex questions of our data."
   ],
   "metadata": {
    "collapsed": false,
    "pycharm": {
     "name": "#%% md\n"
    }
   }
  },
  {
   "cell_type": "code",
   "execution_count": null,
   "outputs": [],
   "source": [
    "# is what is the average popularity score of thr tracks on each playlist?\n",
    "\n",
    "songs_df.groupby('playlist_name')['popularity'].mean().sort_values(ascending=False)"
   ],
   "metadata": {
    "collapsed": false,
    "pycharm": {
     "name": "#%%\n"
    }
   }
  },
  {
   "cell_type": "code",
   "execution_count": null,
   "outputs": [],
   "source": [
    "# is what is the average popularity score of tracks by release date?\n",
    "\n",
    "songs_df.groupby('release_year')['popularity'].mean().sort_values(ascending=False)"
   ],
   "metadata": {
    "collapsed": false,
    "pycharm": {
     "name": "#%%\n"
    }
   }
  },
  {
   "cell_type": "code",
   "execution_count": null,
   "outputs": [],
   "source": [
    "# what about grouping again by explicit?\n",
    "songs_df.groupby(['release_year','explicit'])['popularity'].mean().sort_index(ascending=False)"
   ],
   "metadata": {
    "collapsed": false,
    "pycharm": {
     "name": "#%%\n"
    }
   }
  }
 ],
 "metadata": {
  "kernelspec": {
   "name": "python3",
   "language": "python",
   "display_name": "Python 3"
  },
  "language_info": {
   "codemirror_mode": {
    "name": "ipython",
    "version": 3
   },
   "file_extension": ".py",
   "mimetype": "text/x-python",
   "name": "python",
   "nbconvert_exporter": "python",
   "pygments_lexer": "ipython3",
   "version": "3.7.8"
  }
 },
 "nbformat": 4,
 "nbformat_minor": 4
}