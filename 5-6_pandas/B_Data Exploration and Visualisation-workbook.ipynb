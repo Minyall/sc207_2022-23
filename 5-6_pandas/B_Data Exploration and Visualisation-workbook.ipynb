{
 "cells": [
  {
   "cell_type": "markdown",
   "source": [
    "# SC207 - Social Data Science\n",
    "\n",
    "\n",
    "# Data exploration and visualisation with Seaborn\n",
    "\n",
    "\n"
   ],
   "metadata": {
    "collapsed": false,
    "pycharm": {
     "name": "#%% md\n"
    }
   }
  },
  {
   "cell_type": "markdown",
   "source": [
    "\n",
    "\n",
    "## The topic\n",
    "\n",
    "Data visualisation is both about the presentation of results, but also their analysis. Being able to visualise data in an intuitive way allows us to better understand our data, as well as find trends and patterns that otherwise would not have been apparent to us. There are many libraries for data visualisation in python including...\n",
    "\n",
    "- Matplotlib - the classic library that many others are built on top of\n",
    "- Seaborn\n",
    "- Plotly\n",
    "- Bokeh\n",
    "\n",
    "For a great resource on visualisation in Python, visit [The Python Graph Gallery](https://www.python-graph-gallery.com/)\n",
    "\n",
    "## About Seaborn\n",
    "\n",
    "<img src=\"https://github.com/Minyall/sc207_materials/blob/master/images/seaborn_logo.png?raw=true\" height=200 align=\"left\">\n",
    "\n",
    "\n",
    "The Seaborn library is built on top of matplotlib, meaning that it generates figures and objects compatible with the matplotlib library. However, it is designed to make complex analytical plotting simpler with single commands that produce otherwise very complex plots. Seaborn closely integrates with Pandas, making our job even easier.\n",
    "\n",
    "\n",
    "### The Data\n",
    "\n",
    "<img src=\"https://github.com/Minyall/sc207_materials/blob/master/images/RMS_Titanic_3.jpg?raw=true\" align=\"right\" width=150>\n",
    "\n",
    "Today we will be using the Titanic dataset, which provides us information on the pasengers on the ill fated ship, [RMS Titanic](https://en.wikipedia.org/wiki/Titanic). Note that whilst a historical event, you may still find some of the discussion upsetting as we consider age, class, gender, family relations and survival. It is commonly used for teaching data exploration and visualisation, which in itself, is something worth questioning!\n"
   ],
   "metadata": {
    "collapsed": false,
    "pycharm": {
     "name": "#%% md\n"
    }
   }
  },
  {
   "cell_type": "code",
   "execution_count": null,
   "outputs": [],
   "source": [
    "# imports\n"
   ],
   "metadata": {
    "collapsed": false,
    "pycharm": {
     "name": "#%%\n"
    }
   }
  },
  {
   "cell_type": "code",
   "execution_count": null,
   "outputs": [],
   "source": [
    "titanic_df ="
   ],
   "metadata": {
    "collapsed": false,
    "pycharm": {
     "name": "#%%\n"
    }
   }
  },
  {
   "cell_type": "code",
   "execution_count": null,
   "outputs": [],
   "source": [
    "# We take a look at the data as normal\n",
    "\n",
    "titanic_df.head()"
   ],
   "metadata": {
    "collapsed": false,
    "pycharm": {
     "name": "#%%\n"
    }
   }
  },
  {
   "cell_type": "code",
   "execution_count": null,
   "outputs": [],
   "source": [
    "titanic_df.tail()"
   ],
   "metadata": {
    "collapsed": false,
    "pycharm": {
     "name": "#%%\n"
    }
   }
  },
  {
   "cell_type": "code",
   "execution_count": null,
   "outputs": [],
   "source": [
    "titanic_df.info()"
   ],
   "metadata": {
    "collapsed": false,
    "pycharm": {
     "name": "#%%\n"
    }
   }
  },
  {
   "cell_type": "markdown",
   "source": [
    "### The primary variables in the dataset\n",
    "\n",
    "| Variable | Definition                                 | Key                                            |\n",
    "|----------|--------------------------------------------|------------------------------------------------|\n",
    "| survived | Survival                                   | 0 = No, 1 = Yes                                |\n",
    "| pclass   | Ticket class                               | 1 = 1st, 2 = 2nd, 3 = 3rd                      |\n",
    "| sex      | Sex                                        |                                                |\n",
    "| age      | Age in years                               |                                                |\n",
    "| sibsp    | # of siblings / spouses aboard the Titanic |                                                |\n",
    "| parch    | # of parents / children aboard the Titanic |                                                |\n",
    "| ticket   | Ticket number                              |                                                |\n",
    "| fare     | Passenger fare                             |                                                |\n",
    "| cabin    | Cabin number                               |                                                |\n",
    "| embarked | Port of Embarkation                        | C = Cherbourg, Q = Queenstown, S = Southampton |\n",
    "\n",
    "##### The seaborn variation adds additional columns such as `alone`, `alive` etc."
   ],
   "metadata": {
    "collapsed": false,
    "pycharm": {
     "name": "#%% md\n"
    }
   }
  },
  {
   "cell_type": "markdown",
   "source": [
    "### Some possible questions to ask.\n",
    "\n",
    "- Who were the passengers in terms of age, class, family relations?\n",
    "- Did class matter when it came to surviving the titanic?\n",
    "- Did gender matter when it came to surviving the titanic?\n"
   ],
   "metadata": {
    "collapsed": false,
    "pycharm": {
     "name": "#%% md\n"
    }
   }
  },
  {
   "cell_type": "markdown",
   "source": [
    "Here we make some adjustments to our dataframe. First we make our `pclass` and `alive` variables into categorical variables. This helps Seaborn understand that they are categories rather than numerical values.\n",
    "\n",
    "Second we make a new column call `n_family` that summarises how many family members a passenger has in total by combining the two types of count."
   ],
   "metadata": {
    "collapsed": false,
    "pycharm": {
     "name": "#%% md\n"
    }
   }
  },
  {
   "cell_type": "code",
   "execution_count": null,
   "outputs": [],
   "source": [
    "titanic_df['pclass'] =\n",
    "titanic_df['alive'] =\n",
    "titanic_df['n_family'] ="
   ],
   "metadata": {
    "collapsed": false,
    "pycharm": {
     "name": "#%%\n"
    }
   }
  },
  {
   "cell_type": "markdown",
   "source": [
    "# Categorical Plots"
   ],
   "metadata": {
    "collapsed": false,
    "pycharm": {
     "name": "#%% md\n"
    }
   }
  },
  {
   "cell_type": "code",
   "execution_count": null,
   "outputs": [],
   "source": [
    "# For the distributions we can get the raw figures using .value_counts\n"
   ],
   "metadata": {
    "collapsed": false,
    "pycharm": {
     "name": "#%%\n"
    }
   }
  },
  {
   "cell_type": "code",
   "execution_count": null,
   "outputs": [],
   "source": [
    "sns.catplot?"
   ],
   "metadata": {
    "collapsed": false,
    "pycharm": {
     "name": "#%%\n"
    }
   }
  },
  {
   "cell_type": "markdown",
   "source": [
    "Visualisation can give us a better sense of the difference between the numbers. Seaborns `catplot` (Categorical Plot) can be used for a basic visualisation of simple counts, or the relationship between a numerical and categorical variables.\n",
    "\n",
    "We can use the `kind` keyword to specify that we want a count plot."
   ],
   "metadata": {
    "collapsed": false,
    "pycharm": {
     "name": "#%% md\n"
    }
   }
  },
  {
   "cell_type": "code",
   "execution_count": null,
   "outputs": [],
   "source": [
    "# we use a specific colouring here to avoid conflating the blue, orange and green classes with sex\n",
    "\n",
    "\n",
    "sns.despine() # Cleans up the visual a little\n",
    "plt.show()"
   ],
   "metadata": {
    "collapsed": false,
    "pycharm": {
     "name": "#%%\n"
    }
   }
  },
  {
   "cell_type": "code",
   "execution_count": null,
   "outputs": [],
   "source": [
    "\n",
    "sns.despine() # Cleans up the visual a little\n",
    "plt.show()"
   ],
   "metadata": {
    "collapsed": false,
    "pycharm": {
     "name": "#%%\n"
    }
   }
  },
  {
   "cell_type": "markdown",
   "source": [
    "Going beyond simple counts, `Catplot` can also show us how numerical variables (such as age, fare, number of family members) relate to categorical (Class, sex, survival). Let's look at how the visualisation of age and class varies depending on the type of plot used."
   ],
   "metadata": {
    "collapsed": false,
    "pycharm": {
     "name": "#%% md\n"
    }
   }
  },
  {
   "cell_type": "markdown",
   "source": [
    "First a strip plot shows us the individual passenger points against the y axis of Age. How far left or right they are within their strip is purely about visibility."
   ],
   "metadata": {
    "collapsed": false,
    "pycharm": {
     "name": "#%% md\n"
    }
   }
  },
  {
   "cell_type": "code",
   "execution_count": null,
   "outputs": [],
   "source": [
    "ax =\n",
    "\n",
    "ax.set(title='Passenger age and class')\n",
    "sns.despine()\n",
    "plt.show()"
   ],
   "metadata": {
    "collapsed": false,
    "pycharm": {
     "name": "#%%\n"
    }
   }
  },
  {
   "cell_type": "markdown",
   "source": [
    "We may get the sense that in general perhaps the lower down in class, the lower your age. But the strip plot struggles to communicate the density of points, just the overall range of ages within each class.\n",
    "\n",
    "The point plot improves on this by showing us the average age per class with an error bar, indicating the confidence interval (vertical bars) as well as the trend. By setting the hue keyword to `sex` we can generate seperate plots for male and female passengers.\n",
    "\n",
    "##### What is a confidence interval?\n",
    "Imagine taking our dataset and randomly sampling some, but not all of the passengers and then working out the average age. Depending on the sample taken sometimes the average age will be higher than than the entire dataset, sometimes lower. The bars indicate that range of differences after sampling many times, so that we can be better informed about how reliable that single point is. Where there is a lot of variation in age the error bars will be bigger."
   ],
   "metadata": {
    "collapsed": false,
    "pycharm": {
     "name": "#%% md\n"
    }
   }
  },
  {
   "cell_type": "code",
   "execution_count": null,
   "outputs": [],
   "source": [
    "\n",
    "sns.despine()\n",
    "plt.show()"
   ],
   "metadata": {
    "collapsed": false,
    "pycharm": {
     "name": "#%%\n"
    }
   }
  },
  {
   "cell_type": "markdown",
   "source": [
    "The point plot disguises the outliers from view as we know from our strip plot, our age range was from 0 to 80, yet our vertical bars aren't telling us the range of ages, but how confident we should be in that average. A box plot would help us better understand the true range of ages, whilst still informing us about the average ages."
   ],
   "metadata": {
    "collapsed": false,
    "pycharm": {
     "name": "#%% md\n"
    }
   }
  },
  {
   "cell_type": "code",
   "execution_count": null,
   "outputs": [],
   "source": [
    "ax =\n",
    "\n",
    "ax.set(title='Passenger age and class')\n",
    "sns.despine()\n",
    "plt.show()"
   ],
   "metadata": {
    "collapsed": false,
    "pycharm": {
     "name": "#%%\n"
    }
   }
  },
  {
   "cell_type": "markdown",
   "source": [
    "The box plot provides us...\n",
    "- The mean age - middle line of the box\n",
    "- The age at the 25th percentile - bottom of the box\n",
    "- The age at the 7th percentile - top of the box\n",
    "- A sense of the spread - The whiskers show the range of the lowest 25% and the highest 25%.\n",
    "- Outliers - Determined as individual points that are more than 1.5x higher or lower than the length of the box.\n",
    "\n",
    "They can however be less interpretable than other categorical plots such as the Boxen plot which gives us a better sense of how many passengers fall into each range of age by plotting the whiskers too...\n"
   ],
   "metadata": {
    "collapsed": false,
    "pycharm": {
     "name": "#%% md\n"
    }
   }
  },
  {
   "cell_type": "code",
   "execution_count": null,
   "outputs": [],
   "source": [
    "ax =\n",
    "\n",
    "# ax.set(title='Passenger fare and class')\n",
    "sns.despine()\n",
    "plt.show()"
   ],
   "metadata": {
    "collapsed": false,
    "pycharm": {
     "name": "#%%\n"
    }
   }
  },
  {
   "cell_type": "markdown",
   "source": [
    "## Exercise\n",
    "In our dataset we have two columns related to family\n",
    "- `alone` is a boolean column that states whether the passenger was travelling without family.\n",
    "- `n_family` is the number of family members they are travelling with.\n",
    "\n",
    "Create two new plots.\n",
    "- First using `sns.catplot` create a `count` plot (a bar chart) of our variable `alone`. Can you colour your plot by `pclass`?\n",
    "- Next can you visualise the distribution of `n_family` using a `box` or `boxen` plot. Can you also split this by `pclass`?\n",
    "\n",
    "Note: Splitting by `pclass` on a `count` plot uses a different keyword argument than it does when using a `box` or `boxen` plot."
   ],
   "metadata": {
    "collapsed": false,
    "pycharm": {
     "name": "#%% md\n"
    }
   }
  },
  {
   "cell_type": "code",
   "execution_count": null,
   "outputs": [],
   "source": [
    "# Exercise code here - add more cells if needed"
   ],
   "metadata": {
    "collapsed": false,
    "pycharm": {
     "name": "#%%\n"
    }
   }
  },
  {
   "cell_type": "markdown",
   "source": [
    "# Distributions and Densities"
   ],
   "metadata": {
    "collapsed": false,
    "pycharm": {
     "name": "#%% md\n"
    }
   }
  },
  {
   "cell_type": "markdown",
   "source": [
    "At this point we're getting close to using a categorical plot to understand a distribution. Let's shift over to a different type of plot to better understand this.\n",
    "Seaborn `displot` is for plotting distributions of values, such as histograms which will bin the values of a column into groups and then count the number of instances of that group."
   ],
   "metadata": {
    "collapsed": false,
    "pycharm": {
     "name": "#%% md\n"
    }
   }
  },
  {
   "cell_type": "code",
   "execution_count": null,
   "outputs": [],
   "source": [
    "# The ? in Jupyter allows us to query the documentation for a method\n"
   ],
   "metadata": {
    "collapsed": false,
    "pycharm": {
     "name": "#%%\n"
    }
   }
  },
  {
   "cell_type": "code",
   "execution_count": null,
   "outputs": [],
   "source": [
    "# We can use the height and aspect keywords to control the size of our visual\n",
    "ax =\n",
    "\n",
    "# if we assign the result of sns.displot to a variable, we can then make adjustments to it before it is finally produced.\n",
    "ax.set(title='Distribution of passenger age on the Titanic')\n",
    "sns.despine()\n",
    "plt.show()\n"
   ],
   "metadata": {
    "collapsed": false,
    "pycharm": {
     "name": "#%%\n"
    }
   }
  },
  {
   "cell_type": "markdown",
   "source": [
    "We can use the `hue` keyword to colour the data by class to give us a better sense of whether the average age of classes differed as well."
   ],
   "metadata": {
    "collapsed": false,
    "pycharm": {
     "name": "#%% md\n"
    }
   }
  },
  {
   "cell_type": "code",
   "execution_count": null,
   "outputs": [],
   "source": [
    "# pass Pclass to hue to seperate the data.\n",
    "ax =\n",
    "\n",
    "ax.set(title='Distribution of passenger age on the Titanic by class')\n",
    "sns.despine()\n",
    "plt.show()"
   ],
   "metadata": {
    "collapsed": false,
    "pycharm": {
     "name": "#%%\n"
    }
   }
  },
  {
   "cell_type": "markdown",
   "source": [
    "This helps though it is a bit unclear where the bars overlap in the middle and where the ages begin and end. let's make a few adjustments.\n",
    "First we'll change the bin size to increments of 5 so each bar represents an age range of 5 years."
   ],
   "metadata": {
    "collapsed": false,
    "pycharm": {
     "name": "#%% md\n"
    }
   }
  },
  {
   "cell_type": "code",
   "execution_count": null,
   "outputs": [],
   "source": [
    "ax =\n",
    "\n",
    "ax.set(title='Distribution of passenger age on the Titanic by class')\n",
    "sns.despine()\n",
    "plt.show()"
   ],
   "metadata": {
    "collapsed": false,
    "pycharm": {
     "name": "#%%\n"
    }
   }
  },
  {
   "cell_type": "markdown",
   "source": [
    "It's still difficult to tell the overall difference in age distribution by class. Here is where the Kernel Density Estimate can be useful.\n",
    "\n",
    "A Kernel density estimate indicates the probability that someone within that class will be a particular age.\n",
    "\n",
    "We can add one to our existing visual using the keyword argument `kde=True`"
   ],
   "metadata": {
    "collapsed": false,
    "pycharm": {
     "name": "#%% md\n"
    }
   }
  },
  {
   "cell_type": "code",
   "execution_count": null,
   "metadata": {
    "pycharm": {
     "name": "#%%\n"
    }
   },
   "outputs": [],
   "source": [
    "ax =\n",
    "\n",
    "ax.set(title='Distribution of passenger age on the Titanic by class')\n",
    "sns.despine()\n",
    "plt.show()"
   ]
  },
  {
   "cell_type": "markdown",
   "source": [
    "The KDE indicates to us that someone in 3rd class was much more likely to be younger, whilst those in second and first class had a much broader age range, though first class tended to be older than everyone."
   ],
   "metadata": {
    "collapsed": false,
    "pycharm": {
     "name": "#%% md\n"
    }
   }
  },
  {
   "cell_type": "code",
   "execution_count": null,
   "outputs": [],
   "source": [
    "# We can roughly check if this makes sense by looking at the mean ages of our different classes using groupby.\n",
    "\n"
   ],
   "metadata": {
    "collapsed": false,
    "pycharm": {
     "name": "#%%\n"
    }
   }
  },
  {
   "cell_type": "markdown",
   "source": [
    "We could clean this up by just relying on the KDE..."
   ],
   "metadata": {
    "collapsed": false,
    "pycharm": {
     "name": "#%% md\n"
    }
   }
  },
  {
   "cell_type": "code",
   "execution_count": null,
   "outputs": [],
   "source": [
    "# Rather than add a KDE like before, we change the entire kind of distribution plot to a KDE plot, and fill the area below the lines.\n",
    "\n",
    "ax =\n",
    "\n",
    "ax.set(title='Kernel Density Estimate of passenger age on the Titanic by class')\n",
    "sns.despine()\n",
    "plt.show()\n"
   ],
   "metadata": {
    "collapsed": false,
    "pycharm": {
     "name": "#%%\n"
    }
   }
  },
  {
   "cell_type": "markdown",
   "source": [
    "As we can see there are many ways in which to look at the single variable of age. Here we use a different palette to try and distinguish between the class colouring in earlier plots. You can see the different palettes available on the [Seaborn website](https://seaborn.pydata.org/tutorial/color_palettes.html)"
   ],
   "metadata": {
    "collapsed": false,
    "pycharm": {
     "name": "#%% md\n"
    }
   }
  },
  {
   "cell_type": "code",
   "execution_count": null,
   "outputs": [],
   "source": [
    "palette =\n",
    "\n",
    "\n",
    "ax =\n",
    "\n",
    "# ax.set(title='Kernel Density Estimate of passenger age on the Titanic by sex')\n",
    "sns.despine()\n",
    "plt.show()\n"
   ],
   "metadata": {
    "collapsed": false,
    "pycharm": {
     "name": "#%%\n"
    }
   }
  },
  {
   "cell_type": "markdown",
   "source": [
    "Worth noting that one of the categorical plots we did not show, also uses KDE, the violin plot."
   ],
   "metadata": {
    "collapsed": false,
    "pycharm": {
     "name": "#%% md\n"
    }
   }
  },
  {
   "cell_type": "code",
   "execution_count": null,
   "outputs": [],
   "source": [
    "\n",
    "sns.despine()"
   ],
   "metadata": {
    "collapsed": false,
    "pycharm": {
     "name": "#%%\n"
    }
   }
  },
  {
   "cell_type": "markdown",
   "source": [
    "## Exercise\n",
    "\n",
    "Can you plot the distribution of `n_family` using a histogram?\n",
    "- Would it be better as a KDE?\n",
    "- You might also trying splitting the data by `pclass`. You could do this using the `hue` keyword argument.\n",
    "- You might also want to test out the `col` keyword argument. Set both `hue` and `col` to `pclass`. Experiment and see."
   ],
   "metadata": {
    "collapsed": false,
    "pycharm": {
     "name": "#%% md\n"
    }
   }
  },
  {
   "cell_type": "code",
   "execution_count": null,
   "outputs": [],
   "source": [
    "# Exercise Code here - add more cells as needed\n",
    "\n",
    "\n",
    "\n"
   ],
   "metadata": {
    "collapsed": false,
    "pycharm": {
     "name": "#%%\n"
    }
   }
  },
  {
   "cell_type": "markdown",
   "source": [
    "# Relationships and trends\n",
    "\n",
    "<img src=\"https://github.com/Minyall/sc207_materials/blob/master/images/spurious_chart.png?raw=true\" height=400 align=\"right\">\n",
    "\n",
    "##### Predicting space launches via Sociology doctorates - from [Spurious Correlations](http://www.tylervigen.com/spurious-correlations) by Tyler Vigen.\n",
    "\n",
    "\n",
    "Visualising the right way allows us to better understand the relationships between different variables. Often in data science it is framed as prediction. Using a set of known variables to predict a hitherto unknown outcome. In social science we are less interested in the prediction, and more interested in understanding why particular variables are predictive.\n",
    "\n",
    "Never take predictive relationships at face value, always seek to explain them."
   ],
   "metadata": {
    "collapsed": false,
    "pycharm": {
     "name": "#%% md\n"
    }
   }
  },
  {
   "cell_type": "markdown",
   "source": [
    "## Heatmaps\n",
    "Is there a quick way to visualise the differences in survival rates across sex and class?\n",
    "First we need to generate the numbers. Remember the survival column is either 1 for survived or 0 for did not survive.\n",
    "\n",
    "If we take the mean value of the survived column, that gives us the average survival rate as the 1's push the value up, and the 0's bring the value down."
   ],
   "metadata": {
    "collapsed": false,
    "pycharm": {
     "name": "#%% md\n"
    }
   }
  },
  {
   "cell_type": "code",
   "execution_count": null,
   "outputs": [],
   "source": [
    "# mean of survived"
   ],
   "metadata": {
    "collapsed": false,
    "pycharm": {
     "name": "#%%\n"
    }
   }
  },
  {
   "cell_type": "markdown",
   "source": [
    "So the average survival rate is 38%, i.e. 38% of people survived..."
   ],
   "metadata": {
    "collapsed": false,
    "pycharm": {
     "name": "#%% md\n"
    }
   }
  },
  {
   "cell_type": "code",
   "execution_count": null,
   "outputs": [],
   "source": [
    "# We can show this using a standard percentage calculation, the number of people who survived divided by the total number of people.\n",
    "\n"
   ],
   "metadata": {
    "collapsed": false,
    "pycharm": {
     "name": "#%%\n"
    }
   }
  },
  {
   "cell_type": "markdown",
   "source": [
    "But is this uniformly spread across passengers or did different factors impact survival?\n",
    "Let's do that survival calculation again, but this time split the data up by `sex` and `pclass` first."
   ],
   "metadata": {
    "collapsed": false,
    "pycharm": {
     "name": "#%% md\n"
    }
   }
  },
  {
   "cell_type": "code",
   "execution_count": null,
   "outputs": [],
   "source": [
    "# First we need to generate the numbers\n",
    "class_sex_survival =\n",
    "class_sex_survival"
   ],
   "metadata": {
    "collapsed": false,
    "pycharm": {
     "name": "#%%\n"
    }
   }
  },
  {
   "cell_type": "markdown",
   "source": [
    "To be the right shape for a heatmap we need the index to be class, and the columns to be male and female. Currently we have two indexes (known in Pandas as a multiindex), a `pclass` index and a `sex` index.\n",
    "`.unstack()` will turn one of the indexes into column labels instead, and reshape the data."
   ],
   "metadata": {
    "collapsed": false,
    "pycharm": {
     "name": "#%% md\n"
    }
   }
  },
  {
   "cell_type": "code",
   "execution_count": null,
   "outputs": [],
   "source": [
    "heatmap_data =\n",
    "heatmap_data"
   ],
   "metadata": {
    "collapsed": false,
    "pycharm": {
     "name": "#%%\n"
    }
   }
  },
  {
   "cell_type": "code",
   "execution_count": null,
   "outputs": [],
   "source": [
    "# A very basic heatmap\n",
    "\n",
    "plt.show()"
   ],
   "metadata": {
    "collapsed": false,
    "pycharm": {
     "name": "#%%\n"
    }
   }
  },
  {
   "cell_type": "code",
   "execution_count": null,
   "outputs": [],
   "source": [
    "# We can improve it by changing the colour scale\n",
    "\n",
    "\n",
    "plt.show()"
   ],
   "metadata": {
    "collapsed": false,
    "pycharm": {
     "name": "#%%\n"
    }
   }
  },
  {
   "cell_type": "markdown",
   "source": [
    "We can see the impact that both class and sex had on survival rate. What might some of our explanations be? One might hypothesise that class improves with age as we accumulate wealth, and that elderly people were helped by other passengers. Let's explore this further...\n",
    "\n",
    "A `lmplot` is a basic scatter and line plot but it has some interesting features. First let's plot age against survival just to see the most basic result."
   ],
   "metadata": {
    "collapsed": false,
    "pycharm": {
     "name": "#%% md\n"
    }
   }
  },
  {
   "cell_type": "code",
   "execution_count": null,
   "outputs": [],
   "source": [
    "\n",
    "\n",
    "sns.despine()\n",
    "plt.show()"
   ],
   "metadata": {
    "collapsed": false,
    "pycharm": {
     "name": "#%%\n"
    }
   }
  },
  {
   "cell_type": "markdown",
   "source": [
    "Not particularly useful. Our binary survival values of 0 or 1 means that it's very difficult to discern anything. Let's try seperating out the classes."
   ],
   "metadata": {
    "collapsed": false,
    "pycharm": {
     "name": "#%% md\n"
    }
   }
  },
  {
   "cell_type": "code",
   "execution_count": null,
   "outputs": [],
   "source": [
    "\n",
    "\n",
    "sns.despine()\n",
    "plt.show()"
   ],
   "metadata": {
    "collapsed": false,
    "pycharm": {
     "name": "#%%\n"
    }
   }
  },
  {
   "cell_type": "markdown",
   "source": [
    "Ok, maybe on average there are older people in 1st and 2nd class, but it's hard to tell as all the points overlap, let's fix that."
   ],
   "metadata": {
    "collapsed": false,
    "pycharm": {
     "name": "#%% md\n"
    }
   }
  },
  {
   "cell_type": "code",
   "execution_count": null,
   "outputs": [],
   "source": [
    "\n",
    "\n",
    "sns.despine()\n",
    "plt.show()"
   ],
   "metadata": {
    "collapsed": false,
    "pycharm": {
     "name": "#%%\n"
    }
   }
  },
  {
   "cell_type": "markdown",
   "source": [
    "What about our grouping by `sex` as well? We can't use colouring to do it, but we can split up the data better. Let's split the data so that we have individual plots for class and sex similar to our heatmap."
   ],
   "metadata": {
    "collapsed": false,
    "pycharm": {
     "name": "#%% md\n"
    }
   }
  },
  {
   "cell_type": "code",
   "execution_count": null,
   "outputs": [],
   "source": [
    "\n",
    "\n",
    "sns.despine()\n",
    "plt.show()"
   ],
   "metadata": {
    "collapsed": false,
    "pycharm": {
     "name": "#%%\n"
    }
   }
  },
  {
   "cell_type": "markdown",
   "source": [
    "Ok! Now we can see some trends. In terms of the density of points - female passengers tended to survive apart from in 3rd class. Male passengers tended not to, but you had a greater chance in 1st class. However it is still hard to compare and we still don't really know much about the impact of age.\n",
    "\n",
    "We can solve this by allowing seaborn to draw us a regression line. The regression line will predict for us, given the age of the person their liklihood of survival, and it will produce one for each scenario. One thing to keep in mind, this is a logistic regeression, as it is predicting one of two outcomes, unlike a normal regression which tries to predict a value based on another value."
   ],
   "metadata": {
    "collapsed": false,
    "pycharm": {
     "name": "#%% md\n"
    }
   }
  },
  {
   "cell_type": "code",
   "execution_count": null,
   "outputs": [],
   "source": [
    "\n",
    "\n",
    "sns.despine()\n",
    "plt.show()"
   ],
   "metadata": {
    "collapsed": false,
    "pycharm": {
     "name": "#%%\n"
    }
   }
  },
  {
   "cell_type": "markdown",
   "source": [
    "#### Interpreting our plots\n",
    "\n",
    "The line on each plot represents the probability of survival given a particular age. It is a smoothing out of the trends so that we can get a sense of the trend and make the sub-plots (each sex/class scenario) comparable. The shaded area around each line represents the confidence interval. The confidence the tighter or thinner the shaded area the greater confidence we can have in the prediction, because there is a substantial number of samples (passengers) and the trend is very clear.\n",
    "\n",
    "For example take the scenario `female|pclass 1` (bottom left). For ages 0-10 we have a very wide confidence interval from 0.2 to 1.0 because there are so few samples. However by age 15 we see the confidence improve as far more samples are available, and the vast majority are passengers that survived.\n",
    "\n",
    "Some age trend observations...\n",
    "- For women, there is a clear class distinction. For 1st and second class women the number of those that did not survive is low, making it difficult to produce clear trends in relation to age. Third class women were worst off with a broad drop in survival with age.\n",
    "- For men in 1st class survival does descend with age, but there is a greater chance of survival overall. 2nd class boys were likely to survive but survivability took a sharp drop after the age of 10. 3rd class men had the overall worst survivability with age making only a small difference."
   ],
   "metadata": {
    "collapsed": false,
    "pycharm": {
     "name": "#%% md\n"
    }
   }
  },
  {
   "cell_type": "markdown",
   "source": [
    "## Exercise\n",
    "Using a `sns.lmplot` explore the relationship between survival and the number of family members a person had.\n",
    "- Use the `n_family` column in our dataset.\n",
    "- Experiment with splitting the data by `hue`, `col` and `row`."
   ],
   "metadata": {
    "collapsed": false,
    "pycharm": {
     "name": "#%% md\n"
    }
   }
  },
  {
   "cell_type": "code",
   "execution_count": null,
   "outputs": [],
   "source": [
    "# Exercise code here - create more cells if needed."
   ],
   "metadata": {
    "collapsed": false,
    "pycharm": {
     "name": "#%%\n"
    }
   }
  },
  {
   "cell_type": "markdown",
   "source": [
    "# Exporting"
   ],
   "metadata": {
    "collapsed": false,
    "pycharm": {
     "name": "#%% md\n"
    }
   }
  },
  {
   "cell_type": "code",
   "execution_count": null,
   "outputs": [],
   "source": [
    "# The standard syntax for exporting a seaborn plot to an image file is...\n",
    "\n",
    "sns.catplot(data=titanic_df, x='pclass', y='age', kind='point', hue='sex', capsize=0.1)\n",
    "sns.despine()\n",
    "\n",
    "\n",
    "plt.tight_layout()\n",
    "fig = plt.gcf()\n",
    "fig.savefig('class_age_catplot.png', dpi=300)"
   ],
   "metadata": {
    "collapsed": false,
    "pycharm": {
     "name": "#%%\n"
    }
   }
  },
  {
   "cell_type": "markdown",
   "source": [
    "# Conclusion\n",
    "There are many more types of plotting available to us via Seaborn. You'll find more examples and how to use them in Ch.7 of the textbook, the official [Seaborn Gallery](https://seaborn.pydata.org/examples/index.html), and in [The Python Graph Gallery](https://www.python-graph-gallery.com/)."
   ],
   "metadata": {
    "collapsed": false,
    "pycharm": {
     "name": "#%% md\n"
    }
   }
  },
  {
   "cell_type": "code",
   "execution_count": null,
   "outputs": [],
   "source": [],
   "metadata": {
    "collapsed": false,
    "pycharm": {
     "name": "#%%\n"
    }
   }
  }
 ],
 "metadata": {
  "kernelspec": {
   "name": "python3",
   "language": "python",
   "display_name": "Python 3"
  },
  "language_info": {
   "codemirror_mode": {
    "name": "ipython",
    "version": 3
   },
   "file_extension": ".py",
   "mimetype": "text/x-python",
   "name": "python",
   "nbconvert_exporter": "python",
   "pygments_lexer": "ipython3",
   "version": "3.7.8"
  }
 },
 "nbformat": 4,
 "nbformat_minor": 4
}