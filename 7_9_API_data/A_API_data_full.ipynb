{
 "cells": [
  {
   "cell_type": "code",
   "execution_count": null,
   "metadata": {
    "pycharm": {
     "name": "#%%\n"
    }
   },
   "outputs": [],
   "source": [
    "from cred import GUARDIAN_KEY\n",
    "import requests\n",
    "import pandas as pd"
   ]
  },
  {
   "cell_type": "markdown",
   "metadata": {
    "pycharm": {
     "name": "#%% md\n"
    }
   },
   "source": [
    "## Understanding APIs\n",
    "When we visit websites online, we provide an address. The address specifies what website data we want to be sent back from the server for us to view in our browsers.\n",
    "\n",
    "A simple way of thinking about an API, is to also think of it as a website that sends us data which varies depending on what address we provide it. The address has to be a little more complicated than simply www.google.com, but as long as we build that address correctly, we will get what we ask for."
   ]
  },
  {
   "cell_type": "markdown",
   "metadata": {
    "pycharm": {
     "name": "#%% md\n"
    }
   },
   "source": [
    "### Guardian API - Interactive Exploration\n",
    "The Guardian API provides a helpful tool for us to explore how the address it built, and what results we can get back. It is also useful in showing us what kind of options we might have when requesting data.\n",
    "\n",
    "[Explore the Guardian API](https://open-platform.theguardian.com/explore/)"
   ]
  },
  {
   "cell_type": "markdown",
   "metadata": {
    "pycharm": {
     "name": "#%% md\n"
    }
   },
   "source": [
    "## Communicating with the API in Python\n",
    "So we can see how the web address is built using the API explorer, but how do we build that address using Python, and communicate with the API server so that it sends us back the data?"
   ]
  },
  {
   "cell_type": "markdown",
   "metadata": {
    "pycharm": {
     "name": "#%% md\n"
    }
   },
   "source": [
    "### A Very Basic Example\n",
    "Initially we will just make the simplest query we can, which is simply contacting the API with our credential key to get it to send back *something*.\n",
    "\n",
    "First we define the end point, which is essentially the root of the address we are going to start with. The Guardian API has a [few different endpoints](https://open-platform.theguardian.com/documentation/) but for our purposes, the *content* end point is the one we need."
   ]
  },
  {
   "cell_type": "code",
   "execution_count": null,
   "metadata": {
    "pycharm": {
     "name": "#%%\n"
    }
   },
   "outputs": [],
   "source": [
    "API_ENDPOINT = 'http://content.guardianapis.com/search'"
   ]
  },
  {
   "cell_type": "code",
   "execution_count": null,
   "metadata": {
    "pycharm": {
     "name": "#%%\n"
    }
   },
   "outputs": [],
   "source": [
    "# We first create a dictionary that has a parameter name of api-key, and then our key as its value.\n",
    "parameters = {'api-key':GUARDIAN_KEY}"
   ]
  },
  {
   "cell_type": "markdown",
   "metadata": {
    "pycharm": {
     "name": "#%% md\n"
    }
   },
   "source": [
    "Now we're going to communicate with the Guardian API using `requests`. We will pass in the address we are going to communicate with, the `API_ENDPOINT` and by providing `requests` with a dictionary of parameters, it can build the rest of the address for us before making its request for data."
   ]
  },
  {
   "cell_type": "code",
   "execution_count": null,
   "metadata": {
    "pycharm": {
     "name": "#%%\n"
    }
   },
   "outputs": [],
   "source": [
    "response = requests.get(API_ENDPOINT, params=parameters)"
   ]
  },
  {
   "cell_type": "markdown",
   "metadata": {
    "pycharm": {
     "name": "#%% md\n"
    }
   },
   "source": [
    "Requests has now communicated with the server and whatever the server sent back has been packaged up in a special `Response` object."
   ]
  },
  {
   "cell_type": "code",
   "execution_count": null,
   "metadata": {
    "pycharm": {
     "name": "#%%\n"
    }
   },
   "outputs": [],
   "source": [
    "# We can see the type of object\n",
    "type(response)"
   ]
  },
  {
   "cell_type": "code",
   "execution_count": null,
   "metadata": {
    "pycharm": {
     "name": "#%%\n"
    }
   },
   "outputs": [],
   "source": [
    "# and if we look at the object itself it doesn't tell us much.\n",
    "response"
   ]
  },
  {
   "cell_type": "code",
   "execution_count": null,
   "metadata": {
    "pycharm": {
     "name": "#%%\n"
    }
   },
   "outputs": [],
   "source": [
    "# One useful check is to see how requests built the url for us...\n",
    "\n",
    "response.url"
   ]
  },
  {
   "cell_type": "markdown",
   "metadata": {
    "pycharm": {
     "name": "#%% md\n"
    }
   },
   "source": [
    "Finally, we can see the data that was sent back by asking the response object to show us its data in JSON format.\n",
    "JSON is essentially a set of nested dictionaries."
   ]
  },
  {
   "cell_type": "code",
   "execution_count": null,
   "metadata": {
    "pycharm": {
     "name": "#%%\n"
    }
   },
   "outputs": [],
   "source": [
    "response.json()"
   ]
  },
  {
   "cell_type": "code",
   "execution_count": null,
   "metadata": {
    "pycharm": {
     "name": "#%%\n"
    }
   },
   "outputs": [],
   "source": [
    "# The top level dictionary just has one key called 'response' which contains all the other information.\n",
    "guardian_data = response.json()['response']\n",
    "guardian_data"
   ]
  },
  {
   "cell_type": "code",
   "execution_count": null,
   "metadata": {
    "pycharm": {
     "name": "#%%\n"
    }
   },
   "outputs": [],
   "source": [
    "# The dictionary under response is what matters and has a few keys with associated values..\n",
    "guardian_data.keys()"
   ]
  },
  {
   "cell_type": "markdown",
   "metadata": {
    "pycharm": {
     "name": "#%% md\n"
    }
   },
   "source": [
    "Whilst the other keys have useful information for later, for now `results` is key that contains the news results we want..."
   ]
  },
  {
   "cell_type": "code",
   "execution_count": null,
   "metadata": {
    "pycharm": {
     "name": "#%%\n"
    }
   },
   "outputs": [],
   "source": [
    "guardian_data['results']"
   ]
  },
  {
   "cell_type": "code",
   "execution_count": null,
   "metadata": {
    "pycharm": {
     "name": "#%%\n"
    }
   },
   "outputs": [],
   "source": [
    "# As a list of dictionaries Pandas is able to restructure this information into a table\n",
    "\n",
    "results  = pd.DataFrame(guardian_data['results'])\n",
    "results"
   ]
  },
  {
   "cell_type": "code",
   "execution_count": null,
   "metadata": {
    "pycharm": {
     "name": "#%%\n"
    }
   },
   "outputs": [],
   "source": [
    "# To summarise the process\n",
    "parameters = {'api-key':GUARDIAN_KEY}\n",
    "response = requests.get(API_ENDPOINT, params=parameters)\n",
    "guardian_data = response.json()['response']\n",
    "results = pd.DataFrame(guardian_data['results'])\n",
    "\n",
    "results"
   ]
  },
  {
   "cell_type": "markdown",
   "metadata": {
    "pycharm": {
     "name": "#%% md\n"
    }
   },
   "source": [
    "## Customising your request with parameters\n",
    "To customise our query we simply need to add to or adjust the parameters we pass to our request."
   ]
  },
  {
   "cell_type": "markdown",
   "metadata": {
    "pycharm": {
     "name": "#%% md\n"
    }
   },
   "source": [
    "### Query\n",
    "The search query is the primary way to filter our results."
   ]
  },
  {
   "cell_type": "code",
   "execution_count": null,
   "metadata": {
    "pycharm": {
     "name": "#%%\n"
    }
   },
   "outputs": [],
   "source": [
    "parameters = {'api-key':GUARDIAN_KEY,\n",
    "              'q':'crime'}\n",
    "\n",
    "response = requests.get(API_ENDPOINT, params=parameters)\n",
    "guardian_data = response.json()['response']\n",
    "results = pd.DataFrame(guardian_data['results'])\n",
    "\n",
    "results"
   ]
  },
  {
   "cell_type": "code",
   "execution_count": null,
   "metadata": {
    "pycharm": {
     "name": "#%%\n"
    }
   },
   "outputs": [],
   "source": [
    "response.url"
   ]
  },
  {
   "cell_type": "markdown",
   "metadata": {
    "pycharm": {
     "name": "#%% md\n"
    }
   },
   "source": [
    "Queries can be more than one word. The Guardian API documentation explains a number of ways you might adjust your query.\n",
    "- 'Crime AND Prison' - Search for articles where both the terms 'crime' and 'prison' are used.\n",
    "- 'Crime OR Prison' for either term. - Search for articles where either 'crime' or 'prison' are used.\n",
    "- '\"Criminal justice\"' - Using quote marks to search for a phrase.\n",
    "- 'debate AND NOT immigration' - Search for articles that use the term debate, but not the term immigration.\n",
    "\n",
    "See the [Guardian API documentation](https://open-platform.theguardian.com/documentation/) for more options."
   ]
  },
  {
   "cell_type": "code",
   "execution_count": null,
   "metadata": {
    "pycharm": {
     "name": "#%%\n"
    }
   },
   "outputs": [],
   "source": [
    "# Phrases require an extra step because of the way requests works.\n",
    "\n",
    "parameters = {'api-key':GUARDIAN_KEY,\n",
    "              'q':'\"human rights\"'}\n",
    "\n",
    "response = requests.get(API_ENDPOINT, params=parameters)\n",
    "guardian_data = response.json()['response']\n",
    "results = pd.DataFrame(guardian_data['results'])\n",
    "results"
   ]
  },
  {
   "cell_type": "code",
   "execution_count": null,
   "metadata": {
    "pycharm": {
     "name": "#%%\n"
    }
   },
   "outputs": [],
   "source": [
    "response.url"
   ]
  },
  {
   "cell_type": "markdown",
   "metadata": {
    "pycharm": {
     "name": "#%% md\n"
    }
   },
   "source": [
    "### Additional Filters\n",
    "Other useful filters that might be of value when narrowing down your search...\n",
    "\n",
    "See the [Guardian API documentation - Filters](https://open-platform.theguardian.com/documentation/search) for more options.\n"
   ]
  },
  {
   "cell_type": "code",
   "execution_count": null,
   "metadata": {
    "pycharm": {
     "name": "#%%\n"
    }
   },
   "outputs": [],
   "source": [
    "\n",
    "\n",
    "parameters = {'api-key':GUARDIAN_KEY,\n",
    "              'q':'\"human rights\"',\n",
    "              'page-size':10, # controls how many results you get per request - max 200\n",
    "              'production-office':'uk', # filter based on where the article was produced\n",
    "              'lang':'en', # language\n",
    "              'from-date':'2023-01-20', # only published from a specific date\n",
    "              'to-date':'2023-01-30', # only published before a specific date,\n",
    "              'order-by':'oldest' # options - oldest, newest, relevance\n",
    "              }\n",
    "\n",
    "response = requests.get(API_ENDPOINT, params=parameters)\n",
    "guardian_data = response.json()['response']\n",
    "results = pd.DataFrame(guardian_data['results'])\n",
    "results"
   ]
  },
  {
   "cell_type": "code",
   "execution_count": null,
   "metadata": {
    "pycharm": {
     "name": "#%%\n"
    }
   },
   "outputs": [],
   "source": [
    "response.url"
   ]
  },
  {
   "cell_type": "markdown",
   "metadata": {
    "pycharm": {
     "name": "#%% md\n"
    }
   },
   "source": [
    "#### Should I use all of these?\n",
    "No, these are OPTIONS, rather than requirements and should be used to refine your data request depending on the type of question you might be studying. However, for most projects about news reporting you will probably want to at least specify that the type of content should be an article."
   ]
  },
  {
   "cell_type": "markdown",
   "metadata": {
    "pycharm": {
     "name": "#%% md\n"
    }
   },
   "source": [
    "#### Exercise\n",
    "Examine the documentation for the Search section of the Guardian API. Can you find the correct filter to add that will allow you to only return results from the  `\"society\"` section of the Guardian? Add the filter to the parameters dictionary below and run the cell to see what gets returned.\n",
    "\n",
    "[Guardian API Documentation - Search](https://open-platform.theguardian.com/documentation/search)"
   ]
  },
  {
   "cell_type": "code",
   "execution_count": null,
   "metadata": {
    "pycharm": {
     "name": "#%%\n"
    }
   },
   "outputs": [],
   "source": [
    "# adjust the parameters dictionary\n",
    "parameters = {'api-key':GUARDIAN_KEY,\n",
    "              'q':'crime',\n",
    "              'page-size':10,\n",
    "              'production-office':'uk',\n",
    "              'lang':'en',\n",
    "              'section':'society',\n",
    "              }\n",
    "\n",
    "response = requests.get(API_ENDPOINT, params=parameters)\n",
    "guardian_data = response.json()['response']\n",
    "results = pd.DataFrame(guardian_data['results'])\n",
    "results"
   ]
  },
  {
   "cell_type": "markdown",
   "metadata": {
    "pycharm": {
     "name": "#%% md\n"
    }
   },
   "source": [
    "### Getting Additional Content\n",
    "By default the API provides us a limited range of information. Dates, titles, section categories etc can be useful as analysable data, but we may want additional content such as...\n",
    "- Keyword tags - Human provided classification of articles, useful for a range of analysis techniques including network analysis.\n",
    "- Content body - The actual article text, useful for text analysis.\n",
    "- Article word counts\n",
    "\n",
    "Again, the procedure is the same, we just need to adjust our parameters."
   ]
  },
  {
   "cell_type": "code",
   "execution_count": null,
   "metadata": {
    "pycharm": {
     "name": "#%%\n"
    }
   },
   "outputs": [],
   "source": [
    "parameters = {'api-key':GUARDIAN_KEY,\n",
    "              'q':'crime',\n",
    "              'page-size':200,\n",
    "              'production-office':'uk',\n",
    "              'lang':'en',\n",
    "              'section':'news',\n",
    "              'show-tags':'keyword',\n",
    "              'show-fields':'body, byline, wordcount',\n",
    "              }\n",
    "\n",
    "response = requests.get(API_ENDPOINT, params=parameters)\n",
    "guardian_data = response.json()['response']\n",
    "results = pd.DataFrame(guardian_data['results'])\n",
    "results"
   ]
  },
  {
   "cell_type": "markdown",
   "metadata": {
    "pycharm": {
     "name": "#%% md\n"
    }
   },
   "source": [
    "Later we will look at exploring tags, which may lead you to want to focus on a specific tag. If we find a tag or two we want to focus on, we can add them to our query..."
   ]
  },
  {
   "cell_type": "code",
   "execution_count": null,
   "metadata": {
    "pycharm": {
     "name": "#%%\n"
    }
   },
   "outputs": [],
   "source": [
    "parameters = {'api-key':GUARDIAN_KEY,\n",
    "              'q':'crime',\n",
    "              'page-size':200,\n",
    "              'production-office':'uk',\n",
    "              'lang':'en',\n",
    "              'section':'news',\n",
    "              'show-tags':'keyword',\n",
    "              'show-fields':'body, byline, wordcount',\n",
    "              'tag':'society/drugs'\n",
    "              }\n",
    "\n",
    "response = requests.get(API_ENDPOINT, params=parameters)\n",
    "guardian_data = response.json()['response']\n",
    "results = pd.DataFrame(guardian_data['results'])\n",
    "results"
   ]
  },
  {
   "cell_type": "markdown",
   "metadata": {
    "pycharm": {
     "name": "#%% md\n"
    }
   },
   "source": [
    "### Collecting more than 200 items\n",
    "The maximum number of items sent back in a single call to the API is 200. This can be quite a large number for some projects, but what if we wanted to get a larger sample so we could...\n",
    "- Do an exhaustive search of all content on a specific topic\n",
    "- See trends over time - if the topic is frequently discussed 200 results may only cover a very short period of time.\n",
    "- See large scale patterns across topics.\n",
    "\n",
    "In this instance we need to make multiple calls to the API and each set of results to our locally held data, however we need to make sure the API always sends us data that we don't already have. This is where we need to work with some of the extra information we get in our response that isn't the results themselves."
   ]
  },
  {
   "cell_type": "code",
   "execution_count": null,
   "metadata": {
    "pycharm": {
     "name": "#%%\n"
    }
   },
   "outputs": [],
   "source": [
    "parameters = {'api-key':GUARDIAN_KEY,\n",
    "              'q':'crime',\n",
    "              'page-size':200}\n",
    "\n",
    "response = requests.get(API_ENDPOINT,params=parameters)\n",
    "guardian_data = response.json()['response']\n",
    "guardian_data"
   ]
  },
  {
   "cell_type": "markdown",
   "metadata": {
    "pycharm": {
     "name": "#%% md\n"
    }
   },
   "source": [
    "The key information here is `total`, `pages`,`currentPage`.\n",
    "- `total` tells us how many records there are matching our parameters.\n",
    "- `pages` tells us how many pages of results there are available to us given that there are `page-size` number of results per-page.\n",
    "- `currentPage` tells us what page of results we've just received.\n",
    "\n",
    "We can ask the API for a specific page of results using the `page` parameter."
   ]
  },
  {
   "cell_type": "code",
   "execution_count": null,
   "metadata": {
    "pycharm": {
     "name": "#%%\n"
    }
   },
   "outputs": [],
   "source": [
    "parameters = {'api-key':GUARDIAN_KEY,\n",
    "              'q':'crime',\n",
    "              'page-size':200,\n",
    "              'page':2}\n",
    "\n",
    "response = requests.get(API_ENDPOINT,params=parameters)\n",
    "guardian_data = response.json()['response']\n",
    "guardian_data"
   ]
  },
  {
   "cell_type": "markdown",
   "metadata": {
    "pycharm": {
     "name": "#%% md\n"
    }
   },
   "source": [
    "The most direct way to gather multiple pages of data then is to...\n",
    "- Make a call to the API\n",
    "- Store the results in a list.\n",
    "- Increment the value of `page` by 1\n",
    "- Repeat...\n",
    "- Eventually hit a maximum number of pages we set, or run out of data.\n",
    "\n",
    "Initially you will need to make one request to the API to see how much data could be available to you, and then base your max number of pages etc on that information.\n"
   ]
  },
  {
   "cell_type": "code",
   "execution_count": null,
   "metadata": {
    "pycharm": {
     "name": "#%%\n"
    }
   },
   "outputs": [],
   "source": [
    "# Let's just discuss the logic of how we handle the data collection here before we actually implement the real collection\n",
    "from time import sleep\n",
    "\n",
    "\n",
    "current_page = 1 # The page number we're requesting from the API. We start with page 1.\n",
    "available_pages = 1 # We don't necessarily know how many pages the API call will be providing until we make our first call.\n",
    "\n",
    "failsafe_pages = 5 # However many pages are available, we'll set our absolute limit to 5\n",
    "\n",
    "\n",
    "\n",
    "# here we use a while loop that runs the code over and over until the expression is false\n",
    "\n",
    "while (current_page <= available_pages) and (current_page <= failsafe_pages):\n",
    "    parameters['page'] = current_page\n",
    "\n",
    "    # We would do our data collection here\n",
    "    print(parameters)\n",
    "\n",
    "    # Here we pretend the API told us there were 124 pages available to us.\n",
    "    available_pages = 124\n",
    "\n",
    "    # We increment the value of current_page by 1\n",
    "    current_page += 1\n",
    "\n",
    "    # sleep stops our script for 1 second - we do this so we don't overload the Guardian's servers\n",
    "    sleep(1)"
   ]
  },
  {
   "cell_type": "code",
   "execution_count": null,
   "metadata": {
    "pycharm": {
     "name": "#%%\n"
    }
   },
   "outputs": [],
   "source": [
    "from time import sleep\n",
    "\n",
    "parameters = {'api-key':GUARDIAN_KEY,\n",
    "              'q': 'crime',\n",
    "              'page-size':200}\n",
    "\n",
    "current_page = 1\n",
    "available_pages = 1\n",
    "\n",
    "failsafe_pages = 5\n",
    "\n",
    "all_results = []\n",
    "\n",
    "while (current_page <= available_pages) and (current_page <= failsafe_pages):\n",
    "    parameters['page'] = current_page\n",
    "\n",
    "    response = requests.get(API_ENDPOINT, params=parameters)\n",
    "    guardian_data = response.json()['response']\n",
    "    results = guardian_data['results']\n",
    "    all_results += results\n",
    "\n",
    "    available_pages = guardian_data['pages']\n",
    "    print(f'Collected page {current_page} of {available_pages}')\n",
    "    current_page += 1\n",
    "    sleep(1)"
   ]
  },
  {
   "cell_type": "code",
   "execution_count": null,
   "metadata": {
    "pycharm": {
     "name": "#%%\n"
    }
   },
   "outputs": [],
   "source": [
    "df = pd.DataFrame(all_results)\n",
    "df"
   ]
  },
  {
   "cell_type": "code",
   "execution_count": null,
   "metadata": {
    "pycharm": {
     "name": "#%%\n"
    }
   },
   "outputs": [],
   "source": []
  }
 ],
 "metadata": {
  "kernelspec": {
   "display_name": "Python 3",
   "language": "python",
   "name": "python3"
  },
  "language_info": {
   "codemirror_mode": {
    "name": "ipython",
    "version": 2
   },
   "file_extension": ".py",
   "mimetype": "text/x-python",
   "name": "python",
   "nbconvert_exporter": "python",
   "pygments_lexer": "ipython2",
   "version": "2.7.6"
  }
 },
 "nbformat": 4,
 "nbformat_minor": 0
}
