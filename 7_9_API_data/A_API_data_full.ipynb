{
 "cells": [
  {
   "cell_type": "code",
   "execution_count": null,
   "metadata": {
    "pycharm": {
     "name": "#%%\n"
    }
   },
   "outputs": [],
   "source": [
    "from cred import GUARDIAN_KEY\n",
    "import requests\n",
    "import pandas as pd"
   ]
  },
  {
   "cell_type": "markdown",
   "metadata": {
    "pycharm": {
     "name": "#%% md\n"
    }
   },
   "source": [
    "## Understanding APIs\n",
    "When we visit websites online, we provide an address. The address specifies what website data we want to be sent back from the server for us to view in our browsers.\n",
    "\n",
    "A simple way of thinking about an API, is to also think of it as a website that sends us data which varies depending on what address we provide it. The address has to be a little more complicated than simply www.google.com, but as long as we build that address correctly, we will get what we ask for."
   ]
  },
  {
   "cell_type": "markdown",
   "metadata": {
    "pycharm": {
     "name": "#%% md\n"
    }
   },
   "source": [
    "### Guardian API - Interactive Exploration\n",
    "The Guardian API provides a helpful tool for us to explore how the address it built, and what results we can get back. It is also useful in showing us what kind of options we might have when requesting data.\n",
    "\n",
    "[Explore the Guardian API](https://open-platform.theguardian.com/explore/)"
   ]
  },
  {
   "cell_type": "markdown",
   "metadata": {
    "pycharm": {
     "name": "#%% md\n"
    }
   },
   "source": [
    "## Communicating with the API in Python\n",
    "So we can see how the web address is built using the API explorer, but how do we build that address using Python, and communicate with the API server so that it sends us back the data?"
   ]
  },
  {
   "cell_type": "markdown",
   "metadata": {
    "pycharm": {
     "name": "#%% md\n"
    }
   },
   "source": [
    "### A Very Basic Example\n",
    "Initially we will just make the simplest query we can, which is simply contacting the API with our credential key to get it to send back *something*.\n",
    "\n",
    "First we define the end point, which is essentially the root of the address we are going to start with. The Guardian API has a [few different endpoints](https://open-platform.theguardian.com/documentation/) but for our purposes, the *content* end point is the one we need."
   ]
  },
  {
   "cell_type": "code",
   "execution_count": null,
   "metadata": {
    "pycharm": {
     "name": "#%%\n"
    }
   },
   "outputs": [],
   "source": [
    "print('HERE IS SOME OUTPUT'*10)"
   ]
  },
  {
   "cell_type": "code",
   "execution_count": null,
   "metadata": {
    "pycharm": {
     "name": "#%%\n"
    }
   },
   "outputs": [],
   "source": [
    "API_ENDPOINT = 'http://content.guardianapis.com/search'"
   ]
  },
  {
   "cell_type": "code",
   "execution_count": null,
   "metadata": {
    "pycharm": {
     "name": "#%%\n"
    }
   },
   "outputs": [],
   "source": [
    "# We first create a dictionary that has a parameter name of api-key, and then our key as its value.\n",
    "parameters = {'api-key':GUARDIAN_KEY}"
   ]
  },
  {
   "cell_type": "markdown",
   "metadata": {
    "pycharm": {
     "name": "#%% md\n"
    }
   },
   "source": [
    "Now we're going to communicate with the Guardian API using `requests`. We will pass in the address we are going to communicate with, the `API_ENDPOINT` and by providing `requests` with a dictionary of parameters, it can build the rest of the address for us before making its request for data."
   ]
  },
  {
   "cell_type": "code",
   "execution_count": null,
   "metadata": {
    "pycharm": {
     "name": "#%%\n"
    }
   },
   "outputs": [],
   "source": [
    "response = requests.get(API_ENDPOINT, params=parameters)"
   ]
  },
  {
   "cell_type": "markdown",
   "metadata": {
    "pycharm": {
     "name": "#%% md\n"
    }
   },
   "source": [
    "Requests has now communicated with the server and whatever the server sent back has been packaged up in a special `Response` object."
   ]
  },
  {
   "cell_type": "code",
   "execution_count": null,
   "metadata": {
    "pycharm": {
     "name": "#%%\n"
    }
   },
   "outputs": [],
   "source": [
    "# We can see the type of object\n",
    "type(response)"
   ]
  },
  {
   "cell_type": "code",
   "execution_count": null,
   "metadata": {
    "pycharm": {
     "name": "#%%\n"
    }
   },
   "outputs": [],
   "source": [
    "# and if we look at the object itself it doesn't tell us much.\n",
    "response"
   ]
  },
  {
   "cell_type": "code",
   "execution_count": null,
   "metadata": {
    "pycharm": {
     "name": "#%%\n"
    }
   },
   "outputs": [],
   "source": [
    "# One useful check is to see how requests built the url for us...\n",
    "\n",
    "response.url"
   ]
  },
  {
   "cell_type": "markdown",
   "metadata": {
    "pycharm": {
     "name": "#%% md\n"
    }
   },
   "source": [
    "Finally, we can see the data that was sent back by asking the response object to show us its data in JSON format.\n",
    "JSON is essentially a set of nested dictionaries."
   ]
  },
  {
   "cell_type": "code",
   "execution_count": null,
   "metadata": {
    "pycharm": {
     "name": "#%%\n"
    }
   },
   "outputs": [],
   "source": [
    "response.json()"
   ]
  },
  {
   "cell_type": "code",
   "execution_count": null,
   "metadata": {
    "pycharm": {
     "name": "#%%\n"
    }
   },
   "outputs": [],
   "source": [
    "# The top level dictionary just has one key called 'response' which contains all the other information.\n",
    "guardian_data = response.json()['response']\n",
    "guardian_data"
   ]
  },
  {
   "cell_type": "code",
   "execution_count": null,
   "metadata": {
    "pycharm": {
     "name": "#%%\n"
    }
   },
   "outputs": [],
   "source": [
    "# The dictionary under response is what matters and has a few keys with associated values..\n",
    "guardian_data.keys()"
   ]
  },
  {
   "cell_type": "markdown",
   "metadata": {
    "pycharm": {
     "name": "#%% md\n"
    }
   },
   "source": [
    "Whilst the other keys have useful information for later, for now `results` is key that contains the news results we want..."
   ]
  },
  {
   "cell_type": "code",
   "execution_count": null,
   "metadata": {
    "pycharm": {
     "name": "#%%\n"
    }
   },
   "outputs": [],
   "source": [
    "guardian_data['results']"
   ]
  },
  {
   "cell_type": "code",
   "execution_count": null,
   "metadata": {
    "pycharm": {
     "name": "#%%\n"
    }
   },
   "outputs": [],
   "source": [
    "# As a list of dictionaries Pandas is able to restructure this information into a table\n",
    "\n",
    "results  = pd.DataFrame(guardian_data['results'])\n",
    "results"
   ]
  },
  {
   "cell_type": "code",
   "execution_count": null,
   "metadata": {
    "pycharm": {
     "name": "#%%\n"
    }
   },
   "outputs": [],
   "source": [
    "# To summarise the process\n",
    "parameters = {'api-key':GUARDIAN_KEY}\n",
    "response = requests.get(API_ENDPOINT, params=parameters)\n",
    "guardian_data = response.json()['response']\n",
    "results = pd.DataFrame(guardian_data['results'])\n",
    "\n",
    "results"
   ]
  },
  {
   "cell_type": "markdown",
   "metadata": {
    "pycharm": {
     "name": "#%% md\n"
    }
   },
   "source": [
    "## Customising your request with parameters\n",
    "To customise our query we simply need to add to or adjust the parameters we pass to our request."
   ]
  },
  {
   "cell_type": "markdown",
   "metadata": {
    "pycharm": {
     "name": "#%% md\n"
    }
   },
   "source": [
    "### Query\n",
    "The search query is the primary way to filter our results."
   ]
  },
  {
   "cell_type": "code",
   "execution_count": null,
   "metadata": {
    "pycharm": {
     "name": "#%%\n"
    }
   },
   "outputs": [],
   "source": [
    "parameters = {'api-key':GUARDIAN_KEY,\n",
    "              'q':'crime'}\n",
    "\n",
    "response = requests.get(API_ENDPOINT, params=parameters)\n",
    "guardian_data = response.json()['response']\n",
    "results = pd.DataFrame(guardian_data['results'])\n",
    "\n",
    "results"
   ]
  },
  {
   "cell_type": "code",
   "execution_count": null,
   "metadata": {
    "pycharm": {
     "name": "#%%\n"
    }
   },
   "outputs": [],
   "source": [
    "response.url"
   ]
  },
  {
   "cell_type": "markdown",
   "metadata": {
    "pycharm": {
     "name": "#%% md\n"
    }
   },
   "source": [
    "Queries can be more than one word. The Guardian API documentation explains a number of ways you might adjust your query.\n",
    "- 'Crime AND Prison' - Search for articles where both the terms 'crime' and 'prison' are used.\n",
    "- 'Crime OR Prison' for either term. - Search for articles where either 'crime' or 'prison' are used.\n",
    "- '\"Criminal justice\"' - Using quote marks to search for a phrase.\n",
    "- 'debate AND NOT immigration' - Search for articles that use the term debate, but not the term immigration.\n",
    "\n",
    "See the [Guardian API documentation](https://open-platform.theguardian.com/documentation/) for more options."
   ]
  },
  {
   "cell_type": "code",
   "execution_count": null,
   "metadata": {
    "pycharm": {
     "name": "#%%\n"
    }
   },
   "outputs": [],
   "source": [
    "# Phrases require an extra step because of the way requests works.\n",
    "\n",
    "parameters = {'api-key':GUARDIAN_KEY,\n",
    "              'q':'\"human rights\"'}\n",
    "\n",
    "response = requests.get(API_ENDPOINT, params=parameters)\n",
    "guardian_data = response.json()['response']\n",
    "results = pd.DataFrame(guardian_data['results'])\n",
    "results"
   ]
  },
  {
   "cell_type": "markdown",
   "metadata": {
    "pycharm": {
     "name": "#%% md\n"
    }
   },
   "source": [
    "### Additional Filters\n",
    "Other useful filters that might be of value when narrowing down your search..."
   ]
  },
  {
   "cell_type": "code",
   "execution_count": null,
   "metadata": {
    "pycharm": {
     "name": "#%%\n"
    }
   },
   "outputs": [],
   "source": [
    "\n",
    "\n",
    "parameters = {'api-key':GUARDIAN_KEY,\n",
    "              'q':'\"human rights\"',\n",
    "              'page-size':10, # controls how many results you get per request - max 200\n",
    "              'production-office':'uk', # what\n",
    "              'lang':'en',\n",
    "              'from-date':'2023-01-20',\n",
    "              'to-date':'2023-01-30'\n",
    "              }\n",
    "\n",
    "response = requests.get(API_ENDPOINT, params=parameters)\n",
    "guardian_data = response.json()['response']\n",
    "results = pd.DataFrame(guardian_data['results'])\n",
    "results"
   ]
  },
  {
   "cell_type": "code",
   "execution_count": null,
   "metadata": {
    "pycharm": {
     "name": "#%%\n"
    }
   },
   "outputs": [],
   "source": [
    "guardian_data"
   ]
  },
  {
   "cell_type": "code",
   "execution_count": null,
   "metadata": {
    "pycharm": {
     "name": "#%%\n"
    }
   },
   "outputs": [],
   "source": [
    "results.loc[0,'tags']"
   ]
  },
  {
   "cell_type": "code",
   "execution_count": null,
   "metadata": {
    "pycharm": {
     "name": "#%%\n"
    }
   },
   "outputs": [],
   "source": [
    "query = 'royal family'\n",
    "page_size = 50\n",
    "section = 'uk-news'\n",
    "format_query(query)"
   ]
  },
  {
   "cell_type": "code",
   "execution_count": null,
   "metadata": {
    "pycharm": {
     "name": "#%%\n"
    }
   },
   "outputs": [],
   "source": [
    "params = {'api-key':GUARDIAN_KEY,\n",
    "          'q':query,\n",
    "          'page-size':page_size,\n",
    "          'show-tags':'keyword',\n",
    "          'tag':'type/article',\n",
    "          'order-by':'newest',\n",
    "          'page':1,\n",
    "          'section':section,\n",
    "          'show-fields':'wordcount,body,byline',\n",
    "          'from-date':'2023-02-10'\n",
    "          }"
   ]
  },
  {
   "cell_type": "code",
   "execution_count": null,
   "metadata": {
    "pycharm": {
     "name": "#%%\n"
    }
   },
   "outputs": [],
   "source": [
    "res = requests.get(API_ENDPOINT, params=params,)\n",
    "res.url"
   ]
  },
  {
   "cell_type": "code",
   "execution_count": null,
   "metadata": {
    "pycharm": {
     "name": "#%%\n"
    }
   },
   "outputs": [],
   "source": [
    "res.json()"
   ]
  },
  {
   "cell_type": "code",
   "execution_count": null,
   "metadata": {
    "pycharm": {
     "name": "#%%\n"
    }
   },
   "outputs": [],
   "source": [
    "def flatten_nested_dicts(df):\n",
    "    dicts = df.to_dict(orient='records')\n",
    "    flattened = pd.json_normalize(dicts)\n",
    "    return flattened\n",
    "\n",
    "flatten_nested_dicts(pd.DataFrame(res.json()['response']['results']))"
   ]
  },
  {
   "cell_type": "code",
   "execution_count": null,
   "metadata": {
    "pycharm": {
     "name": "#%%\n"
    }
   },
   "outputs": [],
   "source": []
  },
  {
   "cell_type": "markdown",
   "metadata": {
    "pycharm": {
     "name": "#%% md\n"
    }
   },
   "source": [
    "##### API Details\n",
    "In order for people to know how to query an API (without having a helpful University class) APIs  will usually have documentation. The Guardian API is no different. If you want to understand what different parameters do, or what other options you have to explore the API, the documentation is the best place to start.\n",
    "\n",
    "[Guardian API Documentation](https://open-platform.theguardian.com/documentation/)"
   ]
  },
  {
   "cell_type": "code",
   "execution_count": null,
   "metadata": {
    "pycharm": {
     "name": "#%%\n"
    }
   },
   "outputs": [],
   "source": [
    "# We first create a dictionary that has a parameter name of api-key, and then our key as its value.\n",
    "parameters = {'api-key':GUARDIAN_KEY}\n",
    "\n",
    "parameters"
   ]
  },
  {
   "cell_type": "markdown",
   "metadata": {
    "pycharm": {
     "name": "#%% md\n"
    }
   },
   "source": [
    "Now we're going to communicate with the Guardian API using `requests`. We will pass in the address we are going to communicate with, the `API_ENDPOINT` and by providing `requests` with a dictionary of parameters, it can build the rest of the address for us before making its request for data."
   ]
  },
  {
   "cell_type": "code",
   "execution_count": null,
   "metadata": {
    "pycharm": {
     "name": "#%%\n"
    }
   },
   "outputs": [],
   "source": [
    "response = requests.get(API_ENDPOINT, params=parameters)"
   ]
  },
  {
   "cell_type": "markdown",
   "metadata": {
    "pycharm": {
     "name": "#%% md\n"
    }
   },
   "source": [
    "Requests has now communicated with the server and whatever the server sent back has been packaged up in a special `Response` object."
   ]
  },
  {
   "cell_type": "code",
   "execution_count": null,
   "metadata": {
    "pycharm": {
     "name": "#%%\n"
    }
   },
   "outputs": [],
   "source": [
    "# We can see the type of object\n",
    "type(response)"
   ]
  },
  {
   "cell_type": "code",
   "execution_count": null,
   "metadata": {
    "pycharm": {
     "name": "#%%\n"
    }
   },
   "outputs": [],
   "source": [
    "# and if we look at the object itself it doesn't tell us much.\n",
    "response"
   ]
  },
  {
   "cell_type": "code",
   "execution_count": null,
   "metadata": {
    "pycharm": {
     "name": "#%%\n"
    }
   },
   "outputs": [],
   "source": [
    "# One useful check is to see how requests built the url for us...\n",
    "\n",
    "response.url"
   ]
  },
  {
   "cell_type": "markdown",
   "metadata": {
    "pycharm": {
     "name": "#%% md\n"
    }
   },
   "source": [
    "Finally, we can see the data that was sent back by asking the response object to show us its data in JSON format.\n",
    "JSON is essentially a set of nested dictionaries."
   ]
  },
  {
   "cell_type": "code",
   "execution_count": null,
   "metadata": {
    "pycharm": {
     "name": "#%%\n"
    }
   },
   "outputs": [],
   "source": [
    "response.json()"
   ]
  },
  {
   "cell_type": "code",
   "execution_count": null,
   "metadata": {
    "pycharm": {
     "name": "#%%\n"
    }
   },
   "outputs": [],
   "source": [
    "# The top level dictionary just has one key called 'response' which contains all the other information.\n",
    "guardian_data = response.json()['response']\n",
    "guardian_data"
   ]
  },
  {
   "cell_type": "code",
   "execution_count": null,
   "metadata": {
    "pycharm": {
     "name": "#%%\n"
    }
   },
   "outputs": [],
   "source": [
    "# The dictionary under response is what matters and has a few keys with associated values..\n",
    "guardian_data.keys()"
   ]
  },
  {
   "cell_type": "markdown",
   "metadata": {
    "pycharm": {
     "name": "#%% md\n"
    }
   },
   "source": [
    "Whilst the other keys have useful information for later, for now `results` is key that contains the news results we want..."
   ]
  },
  {
   "cell_type": "code",
   "execution_count": null,
   "metadata": {
    "pycharm": {
     "name": "#%%\n"
    }
   },
   "outputs": [],
   "source": [
    "guardian_data['results']"
   ]
  },
  {
   "cell_type": "code",
   "execution_count": null,
   "metadata": {
    "pycharm": {
     "name": "#%%\n"
    }
   },
   "outputs": [],
   "source": [
    "# As a list of dictionaries Pandas is able to restructure this information into a table\n",
    "\n",
    "results  = pd.DataFrame(guardian_data['results'])\n",
    "results"
   ]
  },
  {
   "cell_type": "code",
   "execution_count": null,
   "metadata": {
    "pycharm": {
     "name": "#%%\n"
    }
   },
   "outputs": [],
   "source": [
    "# To summarise the process\n",
    "parameters = {'api-key':GUARDIAN_KEY}\n",
    "response = requests.get(API_ENDPOINT, params=parameters)\n",
    "guardian_data = response.json()['response']\n",
    "results = pd.DataFrame(guardian_data['results'])\n",
    "\n",
    "results"
   ]
  },
  {
   "cell_type": "markdown",
   "metadata": {
    "pycharm": {
     "name": "#%% md\n"
    }
   },
   "source": [
    "## Customising your request with parameters\n",
    "To customise our query we simply need to add to or adjust the parameters we pass to our request."
   ]
  },
  {
   "cell_type": "markdown",
   "metadata": {
    "pycharm": {
     "name": "#%% md\n"
    }
   },
   "source": [
    "### Query\n",
    "The search query is the primary way to filter our results."
   ]
  },
  {
   "cell_type": "code",
   "execution_count": null,
   "metadata": {
    "pycharm": {
     "name": "#%%\n"
    }
   },
   "outputs": [],
   "source": [
    "parameters = {'api-key':GUARDIAN_KEY,\n",
    "              'q':'crime'}\n",
    "\n",
    "response = requests.get(API_ENDPOINT, params=parameters)\n",
    "guardian_data = response.json()['response']\n",
    "results = pd.DataFrame(guardian_data['results'])\n",
    "\n",
    "results"
   ]
  },
  {
   "cell_type": "code",
   "execution_count": null,
   "metadata": {
    "pycharm": {
     "name": "#%%\n"
    }
   },
   "outputs": [],
   "source": [
    "response.url"
   ]
  },
  {
   "cell_type": "markdown",
   "metadata": {
    "pycharm": {
     "name": "#%% md\n"
    }
   },
   "source": [
    "Queries can be more than one word. The Guardian API documentation explains a number of ways you might adjust your query.\n",
    "- 'Crime AND Prison' - Search for articles where both the terms 'crime' and 'prison' are used.\n",
    "- 'Crime OR Prison' for either term. - Search for articles where either 'crime' or 'prison' are used.\n",
    "- '\"Criminal justice\"' - Using quote marks to search for a phrase.\n",
    "- 'debate AND NOT immigration' - Search for articles that use the term debate, but not the term immigration.\n",
    "\n",
    "See the [Guardian API documentation](https://open-platform.theguardian.com/documentation/) for more options."
   ]
  },
  {
   "cell_type": "code",
   "execution_count": null,
   "metadata": {
    "pycharm": {
     "name": "#%%\n"
    }
   },
   "outputs": [],
   "source": [
    "# Phrases require an extra step because of the way requests works.\n",
    "\n",
    "parameters = {'api-key':GUARDIAN_KEY,\n",
    "              'q':'\"human rights\"'}\n",
    "\n",
    "response = requests.get(API_ENDPOINT, params=parameters)\n",
    "guardian_data = response.json()['response']\n",
    "results = pd.DataFrame(guardian_data['results'])\n",
    "results"
   ]
  },
  {
   "cell_type": "markdown",
   "metadata": {
    "pycharm": {
     "name": "#%% md\n"
    }
   },
   "source": [
    "### Additional Filters\n",
    "Other useful filters that might be of value when narrowing down your search..."
   ]
  },
  {
   "cell_type": "code",
   "execution_count": null,
   "metadata": {
    "pycharm": {
     "name": "#%%\n"
    }
   },
   "outputs": [],
   "source": [
    "\n",
    "\n",
    "parameters = {'api-key':GUARDIAN_KEY,\n",
    "              'q':'\"human rights\"',\n",
    "              'page-size':10, # controls how many results you get per request - max 200\n",
    "              'production-office':'uk', # what\n",
    "              'lang':'en',\n",
    "              'from-date':'2023-01-20',\n",
    "              'to-date':'2023-01-30'\n",
    "              }\n",
    "\n",
    "response = requests.get(API_ENDPOINT, params=parameters)\n",
    "guardian_data = response.json()['response']\n",
    "results = pd.DataFrame(guardian_data['results'])\n",
    "results"
   ]
  },
  {
   "cell_type": "code",
   "execution_count": null,
   "metadata": {
    "pycharm": {
     "name": "#%%\n"
    }
   },
   "outputs": [],
   "source": [
    "guardian_data"
   ]
  },
  {
   "cell_type": "code",
   "execution_count": null,
   "metadata": {
    "pycharm": {
     "name": "#%%\n"
    }
   },
   "outputs": [],
   "source": [
    "results.loc[0,'tags']"
   ]
  },
  {
   "cell_type": "code",
   "execution_count": null,
   "metadata": {
    "pycharm": {
     "name": "#%%\n"
    }
   },
   "outputs": [],
   "source": [
    "query = 'royal family'\n",
    "page_size = 50\n",
    "section = 'uk-news'\n",
    "format_query(query)"
   ]
  },
  {
   "cell_type": "code",
   "execution_count": null,
   "metadata": {
    "pycharm": {
     "name": "#%%\n"
    }
   },
   "outputs": [],
   "source": [
    "params = {'api-key':GUARDIAN_KEY,\n",
    "          'q':query,\n",
    "          'page-size':page_size,\n",
    "          'show-tags':'keyword',\n",
    "          'tag':'type/article',\n",
    "          'order-by':'newest',\n",
    "          'page':1,\n",
    "          'section':section,\n",
    "          'show-fields':'wordcount,body,byline',\n",
    "          'from-date':'2023-02-10'\n",
    "          }"
   ]
  },
  {
   "cell_type": "code",
   "execution_count": null,
   "metadata": {
    "pycharm": {
     "name": "#%%\n"
    }
   },
   "outputs": [],
   "source": [
    "res = requests.get(API_ENDPOINT, params=params,)\n",
    "res.url"
   ]
  },
  {
   "cell_type": "code",
   "execution_count": null,
   "metadata": {
    "pycharm": {
     "name": "#%%\n"
    }
   },
   "outputs": [],
   "source": [
    "res.json()"
   ]
  },
  {
   "cell_type": "code",
   "execution_count": null,
   "metadata": {
    "pycharm": {
     "name": "#%%\n"
    }
   },
   "outputs": [],
   "source": [
    "def flatten_nested_dicts(df):\n",
    "    dicts = df.to_dict(orient='records')\n",
    "    flattened = pd.json_normalize(dicts)\n",
    "    return flattened\n",
    "\n",
    "flatten_nested_dicts(pd.DataFrame(res.json()['response']['results']))"
   ]
  },
  {
   "cell_type": "code",
   "execution_count": null,
   "metadata": {
    "pycharm": {
     "name": "#%%\n"
    }
   },
   "outputs": [],
   "source": []
  },
  {
   "cell_type": "markdown",
   "metadata": {
    "pycharm": {
     "name": "#%% md\n"
    }
   },
   "source": [
    "##### API Details\n",
    "In order for people to know how to query an API (without having a helpful University class) APIs  will usually have documentation. The Guardian API is no different. If you want to understand what different parameters do, or what other options you have to explore the API, the documentation is the best place to start.\n",
    "\n",
    "[Guardian API Documentation](https://open-platform.theguardian.com/documentation/)"
   ]
  }
 ],
 "metadata": {
  "kernelspec": {
   "display_name": "Python 3",
   "language": "python",
   "name": "python3"
  },
  "language_info": {
   "codemirror_mode": {
    "name": "ipython",
    "version": 2
   },
   "file_extension": ".py",
   "mimetype": "text/x-python",
   "name": "python",
   "nbconvert_exporter": "python",
   "pygments_lexer": "ipython2",
   "version": "2.7.6"
  }
 },
 "nbformat": 4,
 "nbformat_minor": 0
}
