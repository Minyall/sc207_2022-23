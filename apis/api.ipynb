{
 "cells": [
  {
   "cell_type": "code",
   "execution_count": 1,
   "outputs": [],
   "source": [
    "import requests\n",
    "from time import sleep\n",
    "from guardian_key import KEY"
   ],
   "metadata": {
    "collapsed": false,
    "pycharm": {
     "name": "#%%\n"
    }
   }
  },
  {
   "cell_type": "code",
   "execution_count": 45,
   "outputs": [],
   "source": [
    "def fmt(query):\n",
    "    return query.replace(' ', '%20').replace('/','%2F')\n",
    "\n",
    "def make_query(query, section='uk-news',page_num=1, page_size=50):\n",
    "    base_url = 'https://content.guardianapis.com/search?'\n",
    "    parameters = {'api-key':KEY,\n",
    "                  'q':fmt(query),\n",
    "                  'page-size':page_size,\n",
    "                  'show-tags':'keyword',\n",
    "                  'tag':fmt('type/article'),\n",
    "                  'order-by':'newest',\n",
    "                  'page':page_num,\n",
    "                  'section':section\n",
    "                  }\n",
    "\n",
    "\n",
    "    parameter_string = '&'.join([f\"{k}={v}\" for k,v in parameters.items()])\n",
    "    full_url = base_url + parameter_string\n",
    "    return full_url\n"
   ],
   "metadata": {
    "collapsed": false,
    "pycharm": {
     "name": "#%%\n"
    }
   }
  },
  {
   "cell_type": "code",
   "execution_count": 46,
   "outputs": [],
   "source": [
    "def extract_story_data(article):\n",
    "    article_data = dict(\n",
    "        id=article['id'],\n",
    "        creation_data=article['webPublicationDate'],\n",
    "        title=article['webTitle'],\n",
    "        url=article['webUrl'],\n",
    "        sectionid=article['sectionId'],\n",
    "        section=article['sectionName'],\n",
    "        type=article['type']\n",
    "    )\n",
    "    return article_data\n",
    "\n",
    "def extract_tags(article):\n",
    "    tag_data = article['tags']\n",
    "\n",
    "    tags = []\n",
    "    for tag in tag_data:\n",
    "        tags.append(tag['webTitle'])\n",
    "    return tags\n",
    "\n"
   ],
   "metadata": {
    "collapsed": false,
    "pycharm": {
     "name": "#%%\n"
    }
   }
  },
  {
   "cell_type": "code",
   "execution_count": 42,
   "outputs": [
    {
     "data": {
      "text/plain": "{'status': 'ok',\n 'userTier': 'developer',\n 'total': 0,\n 'startIndex': 0,\n 'pageSize': 50,\n 'currentPage': 1,\n 'pages': 0,\n 'orderBy': 'newest',\n 'results': []}"
     },
     "execution_count": 42,
     "metadata": {},
     "output_type": "execute_result"
    }
   ],
   "source": [
    "response = requests.get(url).json()['response']\n",
    "response"
   ],
   "metadata": {
    "collapsed": false,
    "pycharm": {
     "name": "#%%\n"
    }
   }
  },
  {
   "cell_type": "code",
   "execution_count": 47,
   "outputs": [
    {
     "name": "stdout",
     "output_type": "stream",
     "text": [
      "Collecting Page 1 of 1\n"
     ]
    }
   ],
   "source": [
    "collected_data = []\n",
    "n_pages = 1\n",
    "query = '\"royal family\"'\n",
    "\n",
    "for page in range(1,n_pages+1):\n",
    "    print(f'Collecting Page {page} of {n_pages}')\n",
    "    url = make_query(query, page_num=page)\n",
    "    response = requests.get(url).json()['response']\n",
    "    results = response['results']\n",
    "    for article in results:\n",
    "        main_data = extract_story_data(article)\n",
    "        tags = extract_tags(article)\n",
    "        main_data['tags'] = tags\n",
    "        collected_data.append(main_data)\n",
    "    sleep(2)\n"
   ],
   "metadata": {
    "collapsed": false,
    "pycharm": {
     "name": "#%%\n"
    }
   }
  },
  {
   "cell_type": "code",
   "execution_count": 48,
   "outputs": [
    {
     "data": {
      "text/plain": "                                                   id         creation_data  \\\n0   uk-news/2023/jan/24/couple-missing-with-newbor...  2023-01-24T15:20:24Z   \n1   uk-news/2023/jan/21/spend-a-day-volunteering-t...  2023-01-21T22:30:19Z   \n2   uk-news/2023/jan/19/cash-and-the-crown-estate-...  2023-01-19T16:54:26Z   \n3   uk-news/2023/jan/19/constance-marten-estranged...  2023-01-19T08:57:51Z   \n4   uk-news/2023/jan/18/medieval-institution-commo...  2023-01-19T00:01:11Z   \n5   uk-news/2023/jan/13/prince-harry-i-left-out-de...  2023-01-13T23:56:18Z   \n6   uk-news/2023/jan/13/prince-harry-book-spare-re...  2023-01-13T15:14:32Z   \n7   uk-news/2023/jan/13/prince-harry-spare-book-re...  2023-01-13T12:09:22Z   \n8   uk-news/commentisfree/2023/jan/13/prince-harry...  2023-01-13T11:15:13Z   \n9   uk-news/2023/jan/13/prince-harry-spare-book-th...  2023-01-13T06:00:07Z   \n10  uk-news/2023/jan/12/people-in-the-commonwealth...  2023-01-12T18:40:43Z   \n11  uk-news/2023/jan/12/prince-harry-memoir-wont-b...  2023-01-12T17:47:56Z   \n12  uk-news/2023/jan/11/grief-taliban-royal-todger...  2023-01-11T08:31:07Z   \n13  uk-news/2023/jan/09/prince-harry-says-any-retu...  2023-01-09T17:43:13Z   \n14  uk-news/2023/jan/09/prince-harry-interview-roy...  2023-01-09T04:25:32Z   \n15  uk-news/2023/jan/08/prince-harry-defends-tell-...  2023-01-09T01:55:15Z   \n16  uk-news/2023/jan/08/harrys-book-end-of-monarch...  2023-01-08T09:00:44Z   \n17  uk-news/2023/jan/07/prince-harry-i-felt-guilt-...  2023-01-07T21:00:28Z   \n18  uk-news/2023/jan/07/prince-harry-book-autobiog...  2023-01-07T19:39:06Z   \n19  uk-news/2023/jan/07/prince-harry-spare-revelat...  2023-01-07T13:25:58Z   \n20  uk-news/2023/jan/07/prince-harry-interview-wha...  2023-01-07T13:17:49Z   \n21  uk-news/2023/jan/06/prince-harry-saw-red-mist-...  2023-01-06T08:23:58Z   \n22  uk-news/2023/jan/05/prince-harry-defends-decis...  2023-01-05T14:26:38Z   \n23  uk-news/2023/jan/03/prince-harry-teaser-traile...  2023-01-03T15:19:13Z   \n24  uk-news/2023/jan/02/prince-harry-would-like-fa...  2023-01-02T15:46:18Z   \n25  uk-news/2022/dec/30/new-year-honours-2023-mary...  2022-12-30T22:30:00Z   \n26  uk-news/2022/dec/25/king-charles-highlights-co...  2022-12-25T15:10:04Z   \n27  uk-news/2022/dec/23/king-charles-chooses-st-ge...  2022-12-23T22:00:15Z   \n28  uk-news/2022/dec/17/harry-and-meghan-invited-t...  2022-12-17T12:02:38Z   \n29  uk-news/2022/dec/17/two-pms-a-race-row-and-har...  2022-12-17T08:00:16Z   \n30  uk-news/2022/dec/16/lady-hussey-apologises-ngo...  2022-12-16T17:01:46Z   \n31  uk-news/2022/dec/16/digested-week-give-me-the-...  2022-12-16T11:20:44Z   \n32  uk-news/2022/dec/15/black-women-feel-failed-by...  2022-12-15T18:04:05Z   \n33  uk-news/2022/dec/15/prince-william-bullied-sus...  2022-12-15T16:45:01Z   \n34  uk-news/2022/dec/15/harry-and-meghan-part-two-...  2022-12-15T13:47:15Z   \n35  uk-news/2022/dec/14/royal-households-accused-p...  2022-12-14T16:41:56Z   \n36  uk-news/2022/dec/13/harry-and-meghans-fight-wi...  2022-12-13T19:06:40Z   \n37  uk-news/2022/dec/13/harry-and-meghan-are-right...  2022-12-13T17:41:18Z   \n38  uk-news/2022/dec/12/didnt-get-a-card-from-char...  2022-12-12T16:01:08Z   \n39  uk-news/2022/dec/12/prince-harry-and-meghan-ne...  2022-12-12T13:18:56Z   \n40  uk-news/commentisfree/2022/dec/10/meghan-and-h...  2022-12-10T18:33:44Z   \n41  uk-news/2022/dec/10/meghan-harrys-netflix-docu...  2022-12-10T14:00:05Z   \n42  uk-news/2022/dec/09/harry-meghan-netflix-trail...  2022-12-09T19:01:00Z   \n43  uk-news/2022/dec/09/tory-mp-plans-legislation-...  2022-12-09T00:07:41Z   \n44  uk-news/2022/dec/08/prince-harry-royals-meghan...  2022-12-08T16:38:49Z   \n45  uk-news/2022/dec/08/outraged-media-outlets-use...  2022-12-08T15:06:37Z   \n46  uk-news/2022/dec/07/prince-harry-asked-are-you...  2022-12-07T17:41:40Z   \n47  uk-news/2022/dec/07/harry-and-meghan-win-racia...  2022-12-07T08:26:48Z   \n48  uk-news/2022/dec/05/prince-harry-women-marryin...  2022-12-05T13:42:00Z   \n49  uk-news/2022/dec/03/royal-troubles-cast-shadow...  2022-12-03T18:12:38Z   \n\n                                                title  \\\n0   Couple missing with newborn baby may have been...   \n1   Spend a day volunteering to mark coronation, u...   \n2   Cash and the crown estate: a look at the Briti...   \n3   Constance Marten: estranged father of missing ...   \n4   ‘Medieval institution’: Commonwealth Guardian ...   \n5   Prince Harry: I left out details as I feared f...   \n6   Prince Harry’s revelations won’t help heal chi...   \n7   ‘The monarchy’s a laughing stock’: readers rea...   \n8   Why hasn’t Harry given up his ridiculous title...   \n9   Harry wanted men to talk about their problems....   \n10  People in the Commonwealth: has your attitude ...   \n11  Prince Harry’s memoir won’t bring down the mon...   \n12  Grief, the Taliban and the royal todger: Princ...   \n13  Prince Harry says any return to royal fold wou...   \n14  Prince Harry interview: what we learned about ...   \n15  Prince Harry defends tell-all memoir in furiou...   \n16  Prince Harry’s book could be ‘beginning of end...   \n17  Prince Harry: I felt guilt meeting mourners af...   \n18  US interest grows after Prince Harry book reve...   \n19  Prince Harry revelations ‘like those of B-list...   \n20  What will Harry do next? PR experts on the pri...   \n21  Prince Harry saw ‘red mist’ in William during ...   \n22  Prince Harry defends details about royal famil...   \n23  Prince Harry’s teasers trigger tsunami of outr...   \n24  Prince Harry: I would like my father and my br...   \n25  New year honours 2023: Mary Quant and Lionesse...   \n26  King Charles highlights cost of living crisis ...   \n27  King Charles chooses chapel at Windsor for fir...   \n28  Harry and Meghan invited to Charles’s coronati...   \n29  Two PMs, a race row and Harry & Meghan: Charle...   \n30  Ngozi Fulani receives personal apology over Bu...   \n31  Digested week: give me The White Lotus over Ha...   \n32  ‘Where is the moral compass?’: Black women on ...   \n33  Stress of legal action against Mail on Sunday ...   \n34  Exclusion, death threats and six other themes ...   \n35  Royal households accused of ‘war against Megha...   \n36  Harry and Meghan’s fight with tabloid bosses r...   \n37  Harry and Meghan are right about racist Britai...   \n38  Didn’t get a card from Charles and Camilla? He...   \n39  ‘They were happy to lie to protect my brother,...   \n40  Meghan and Harry’s documentary has hit the raw...   \n41  It’s Meghan and Harry’s story but the real dra...   \n42  Harry and Meghan hit back at criticism over sh...   \n43  Tory MP plans legislation to strip Harry and M...   \n44  Prince Harry: royals didn’t understand risk to...   \n45  Media outlets outraged over Meghan and Harry s...   \n46  Prince Harry asked ‘Are you harming your famil...   \n47  Harry and Meghan win racial justice and mental...   \n48  Prince Harry speaks of ‘suffering’ of women ma...   \n49  Royal troubles cast shadow over William and Ka...   \n\n                                                  url sectionid  section  \\\n0   https://www.theguardian.com/uk-news/2023/jan/2...   uk-news  UK news   \n1   https://www.theguardian.com/uk-news/2023/jan/2...   uk-news  UK news   \n2   https://www.theguardian.com/uk-news/2023/jan/1...   uk-news  UK news   \n3   https://www.theguardian.com/uk-news/2023/jan/1...   uk-news  UK news   \n4   https://www.theguardian.com/uk-news/2023/jan/1...   uk-news  UK news   \n5   https://www.theguardian.com/uk-news/2023/jan/1...   uk-news  UK news   \n6   https://www.theguardian.com/uk-news/2023/jan/1...   uk-news  UK news   \n7   https://www.theguardian.com/uk-news/2023/jan/1...   uk-news  UK news   \n8   https://www.theguardian.com/uk-news/commentisf...   uk-news  UK news   \n9   https://www.theguardian.com/uk-news/2023/jan/1...   uk-news  UK news   \n10  https://www.theguardian.com/uk-news/2023/jan/1...   uk-news  UK news   \n11  https://www.theguardian.com/uk-news/2023/jan/1...   uk-news  UK news   \n12  https://www.theguardian.com/uk-news/2023/jan/1...   uk-news  UK news   \n13  https://www.theguardian.com/uk-news/2023/jan/0...   uk-news  UK news   \n14  https://www.theguardian.com/uk-news/2023/jan/0...   uk-news  UK news   \n15  https://www.theguardian.com/uk-news/2023/jan/0...   uk-news  UK news   \n16  https://www.theguardian.com/uk-news/2023/jan/0...   uk-news  UK news   \n17  https://www.theguardian.com/uk-news/2023/jan/0...   uk-news  UK news   \n18  https://www.theguardian.com/uk-news/2023/jan/0...   uk-news  UK news   \n19  https://www.theguardian.com/uk-news/2023/jan/0...   uk-news  UK news   \n20  https://www.theguardian.com/uk-news/2023/jan/0...   uk-news  UK news   \n21  https://www.theguardian.com/uk-news/2023/jan/0...   uk-news  UK news   \n22  https://www.theguardian.com/uk-news/2023/jan/0...   uk-news  UK news   \n23  https://www.theguardian.com/uk-news/2023/jan/0...   uk-news  UK news   \n24  https://www.theguardian.com/uk-news/2023/jan/0...   uk-news  UK news   \n25  https://www.theguardian.com/uk-news/2022/dec/3...   uk-news  UK news   \n26  https://www.theguardian.com/uk-news/2022/dec/2...   uk-news  UK news   \n27  https://www.theguardian.com/uk-news/2022/dec/2...   uk-news  UK news   \n28  https://www.theguardian.com/uk-news/2022/dec/1...   uk-news  UK news   \n29  https://www.theguardian.com/uk-news/2022/dec/1...   uk-news  UK news   \n30  https://www.theguardian.com/uk-news/2022/dec/1...   uk-news  UK news   \n31  https://www.theguardian.com/uk-news/2022/dec/1...   uk-news  UK news   \n32  https://www.theguardian.com/uk-news/2022/dec/1...   uk-news  UK news   \n33  https://www.theguardian.com/uk-news/2022/dec/1...   uk-news  UK news   \n34  https://www.theguardian.com/uk-news/2022/dec/1...   uk-news  UK news   \n35  https://www.theguardian.com/uk-news/2022/dec/1...   uk-news  UK news   \n36  https://www.theguardian.com/uk-news/2022/dec/1...   uk-news  UK news   \n37  https://www.theguardian.com/uk-news/2022/dec/1...   uk-news  UK news   \n38  https://www.theguardian.com/uk-news/2022/dec/1...   uk-news  UK news   \n39  https://www.theguardian.com/uk-news/2022/dec/1...   uk-news  UK news   \n40  https://www.theguardian.com/uk-news/commentisf...   uk-news  UK news   \n41  https://www.theguardian.com/uk-news/2022/dec/1...   uk-news  UK news   \n42  https://www.theguardian.com/uk-news/2022/dec/0...   uk-news  UK news   \n43  https://www.theguardian.com/uk-news/2022/dec/0...   uk-news  UK news   \n44  https://www.theguardian.com/uk-news/2022/dec/0...   uk-news  UK news   \n45  https://www.theguardian.com/uk-news/2022/dec/0...   uk-news  UK news   \n46  https://www.theguardian.com/uk-news/2022/dec/0...   uk-news  UK news   \n47  https://www.theguardian.com/uk-news/2022/dec/0...   uk-news  UK news   \n48  https://www.theguardian.com/uk-news/2022/dec/0...   uk-news  UK news   \n49  https://www.theguardian.com/uk-news/2022/dec/0...   uk-news  UK news   \n\n       type                                               tags  \n0   article                                  [UK news, London]  \n1   article  [King Charles III, Camilla (Queen Consort), Mo...  \n2   article  [Crown estate, Land ownership, King Charles II...  \n3   article  [UK news, Bolton, Manchester, Greater Manchest...  \n4   article  [Prince Harry, Commonwealth of Nations, Books,...  \n5   article     [Prince Harry, UK news, Telegraph Media Group]  \n6   article  [Prince Harry, Meghan, the Duchess of Sussex, ...  \n7   article  [Prince Harry, Monarchy, Meghan, the Duchess o...  \n8   article  [Prince Harry, US news, Monarchy, Aristocracy,...  \n9   article  [Prince Harry, US news, Prince William, Mental...  \n10  article   [Prince Harry, UK news, Commonwealth of Nations]  \n11  article  [Monarchy, Prince Harry, King Charles III, Que...  \n12  article  [Prince Harry, Television, Stephen Colbert, Cu...  \n13  article  [Prince Harry, Meghan, the Duchess of Sussex, ...  \n14  article               [Prince Harry, ITV News, CBS, Media]  \n15  article  [Prince Harry, UK news, Monarchy, Meghan, the ...  \n16  article  [Monarchy, Prince Harry, Prince William, UK ne...  \n17  article  [Prince Harry, Prince William, Diana, Princess...  \n18  article  [Prince Harry, US news, World news, Books, UK ...  \n19  article  [Prince Harry, Meghan, the Duchess of Sussex, ...  \n20  article  [Prince Harry, UK news, Meghan, the Duchess of...  \n21  article  [Prince Harry, Prince William, UK news, Books,...  \n22  article                  [Prince Harry, Monarchy, UK news]  \n23  article  [Prince Harry, Meghan, the Duchess of Sussex, ...  \n24  article  [Prince Harry, Meghan, the Duchess of Sussex, ...  \n25  article  [New Year honours list, Mary Quant, England wo...  \n26  article              [King Charles III, Monarchy, UK news]  \n27  article  [King Charles III, King's speech, Monarchy, UK...  \n28  article  [Monarchy, Prince Harry, King Charles III, UK ...  \n29  article  [King Charles III, Monarchy, UK news, Camilla ...  \n30  article  [Monarchy, Aristocracy, Race, UK news, Chariti...  \n31  article  [UK news, Prince Harry, Meghan, the Duchess of...  \n32  article  [Monarchy, Meghan, the Duchess of Sussex, Prin...  \n33  article  [Prince Harry, UK news, Prince William, Diana,...  \n34  article  [Prince Harry, Meghan, the Duchess of Sussex, ...  \n35  article  [Prince Harry, Monarchy, UK news, Netflix, Med...  \n36  article  [Prince Harry, Meghan, the Duchess of Sussex, ...  \n37  article  [Prince Harry, Meghan, the Duchess of Sussex, ...  \n38  article  [King Charles III, Camilla (Queen Consort), Mo...  \n39  article  [Prince Harry, Netflix, Media, UK news, Televi...  \n40  article  [Monarchy, Prince Harry, Netflix, Media, UK news]  \n41  article  [Monarchy, Prince Harry, Meghan, the Duchess o...  \n42  article  [Prince Harry, Meghan, the Duchess of Sussex, ...  \n43  article  [Prince Harry, Meghan, the Duchess of Sussex, ...  \n44  article  [Prince Harry, Meghan, the Duchess of Sussex, ...  \n45  article  [Prince Harry, Meghan, the Duchess of Sussex, ...  \n46  article  [Prince Harry, Meghan, the Duchess of Sussex, ...  \n47  article  [Prince Harry, Meghan, the Duchess of Sussex, ...  \n48  article  [Prince Harry, Meghan, the Duchess of Sussex, ...  \n49  article  [Prince William, Catherine, Princess of Wales,...  ",
      "text/html": "<div>\n<style scoped>\n    .dataframe tbody tr th:only-of-type {\n        vertical-align: middle;\n    }\n\n    .dataframe tbody tr th {\n        vertical-align: top;\n    }\n\n    .dataframe thead th {\n        text-align: right;\n    }\n</style>\n<table border=\"1\" class=\"dataframe\">\n  <thead>\n    <tr style=\"text-align: right;\">\n      <th></th>\n      <th>id</th>\n      <th>creation_data</th>\n      <th>title</th>\n      <th>url</th>\n      <th>sectionid</th>\n      <th>section</th>\n      <th>type</th>\n      <th>tags</th>\n    </tr>\n  </thead>\n  <tbody>\n    <tr>\n      <th>0</th>\n      <td>uk-news/2023/jan/24/couple-missing-with-newbor...</td>\n      <td>2023-01-24T15:20:24Z</td>\n      <td>Couple missing with newborn baby may have been...</td>\n      <td>https://www.theguardian.com/uk-news/2023/jan/2...</td>\n      <td>uk-news</td>\n      <td>UK news</td>\n      <td>article</td>\n      <td>[UK news, London]</td>\n    </tr>\n    <tr>\n      <th>1</th>\n      <td>uk-news/2023/jan/21/spend-a-day-volunteering-t...</td>\n      <td>2023-01-21T22:30:19Z</td>\n      <td>Spend a day volunteering to mark coronation, u...</td>\n      <td>https://www.theguardian.com/uk-news/2023/jan/2...</td>\n      <td>uk-news</td>\n      <td>UK news</td>\n      <td>article</td>\n      <td>[King Charles III, Camilla (Queen Consort), Mo...</td>\n    </tr>\n    <tr>\n      <th>2</th>\n      <td>uk-news/2023/jan/19/cash-and-the-crown-estate-...</td>\n      <td>2023-01-19T16:54:26Z</td>\n      <td>Cash and the crown estate: a look at the Briti...</td>\n      <td>https://www.theguardian.com/uk-news/2023/jan/1...</td>\n      <td>uk-news</td>\n      <td>UK news</td>\n      <td>article</td>\n      <td>[Crown estate, Land ownership, King Charles II...</td>\n    </tr>\n    <tr>\n      <th>3</th>\n      <td>uk-news/2023/jan/19/constance-marten-estranged...</td>\n      <td>2023-01-19T08:57:51Z</td>\n      <td>Constance Marten: estranged father of missing ...</td>\n      <td>https://www.theguardian.com/uk-news/2023/jan/1...</td>\n      <td>uk-news</td>\n      <td>UK news</td>\n      <td>article</td>\n      <td>[UK news, Bolton, Manchester, Greater Manchest...</td>\n    </tr>\n    <tr>\n      <th>4</th>\n      <td>uk-news/2023/jan/18/medieval-institution-commo...</td>\n      <td>2023-01-19T00:01:11Z</td>\n      <td>‘Medieval institution’: Commonwealth Guardian ...</td>\n      <td>https://www.theguardian.com/uk-news/2023/jan/1...</td>\n      <td>uk-news</td>\n      <td>UK news</td>\n      <td>article</td>\n      <td>[Prince Harry, Commonwealth of Nations, Books,...</td>\n    </tr>\n    <tr>\n      <th>5</th>\n      <td>uk-news/2023/jan/13/prince-harry-i-left-out-de...</td>\n      <td>2023-01-13T23:56:18Z</td>\n      <td>Prince Harry: I left out details as I feared f...</td>\n      <td>https://www.theguardian.com/uk-news/2023/jan/1...</td>\n      <td>uk-news</td>\n      <td>UK news</td>\n      <td>article</td>\n      <td>[Prince Harry, UK news, Telegraph Media Group]</td>\n    </tr>\n    <tr>\n      <th>6</th>\n      <td>uk-news/2023/jan/13/prince-harry-book-spare-re...</td>\n      <td>2023-01-13T15:14:32Z</td>\n      <td>Prince Harry’s revelations won’t help heal chi...</td>\n      <td>https://www.theguardian.com/uk-news/2023/jan/1...</td>\n      <td>uk-news</td>\n      <td>UK news</td>\n      <td>article</td>\n      <td>[Prince Harry, Meghan, the Duchess of Sussex, ...</td>\n    </tr>\n    <tr>\n      <th>7</th>\n      <td>uk-news/2023/jan/13/prince-harry-spare-book-re...</td>\n      <td>2023-01-13T12:09:22Z</td>\n      <td>‘The monarchy’s a laughing stock’: readers rea...</td>\n      <td>https://www.theguardian.com/uk-news/2023/jan/1...</td>\n      <td>uk-news</td>\n      <td>UK news</td>\n      <td>article</td>\n      <td>[Prince Harry, Monarchy, Meghan, the Duchess o...</td>\n    </tr>\n    <tr>\n      <th>8</th>\n      <td>uk-news/commentisfree/2023/jan/13/prince-harry...</td>\n      <td>2023-01-13T11:15:13Z</td>\n      <td>Why hasn’t Harry given up his ridiculous title...</td>\n      <td>https://www.theguardian.com/uk-news/commentisf...</td>\n      <td>uk-news</td>\n      <td>UK news</td>\n      <td>article</td>\n      <td>[Prince Harry, US news, Monarchy, Aristocracy,...</td>\n    </tr>\n    <tr>\n      <th>9</th>\n      <td>uk-news/2023/jan/13/prince-harry-spare-book-th...</td>\n      <td>2023-01-13T06:00:07Z</td>\n      <td>Harry wanted men to talk about their problems....</td>\n      <td>https://www.theguardian.com/uk-news/2023/jan/1...</td>\n      <td>uk-news</td>\n      <td>UK news</td>\n      <td>article</td>\n      <td>[Prince Harry, US news, Prince William, Mental...</td>\n    </tr>\n    <tr>\n      <th>10</th>\n      <td>uk-news/2023/jan/12/people-in-the-commonwealth...</td>\n      <td>2023-01-12T18:40:43Z</td>\n      <td>People in the Commonwealth: has your attitude ...</td>\n      <td>https://www.theguardian.com/uk-news/2023/jan/1...</td>\n      <td>uk-news</td>\n      <td>UK news</td>\n      <td>article</td>\n      <td>[Prince Harry, UK news, Commonwealth of Nations]</td>\n    </tr>\n    <tr>\n      <th>11</th>\n      <td>uk-news/2023/jan/12/prince-harry-memoir-wont-b...</td>\n      <td>2023-01-12T17:47:56Z</td>\n      <td>Prince Harry’s memoir won’t bring down the mon...</td>\n      <td>https://www.theguardian.com/uk-news/2023/jan/1...</td>\n      <td>uk-news</td>\n      <td>UK news</td>\n      <td>article</td>\n      <td>[Monarchy, Prince Harry, King Charles III, Que...</td>\n    </tr>\n    <tr>\n      <th>12</th>\n      <td>uk-news/2023/jan/11/grief-taliban-royal-todger...</td>\n      <td>2023-01-11T08:31:07Z</td>\n      <td>Grief, the Taliban and the royal todger: Princ...</td>\n      <td>https://www.theguardian.com/uk-news/2023/jan/1...</td>\n      <td>uk-news</td>\n      <td>UK news</td>\n      <td>article</td>\n      <td>[Prince Harry, Television, Stephen Colbert, Cu...</td>\n    </tr>\n    <tr>\n      <th>13</th>\n      <td>uk-news/2023/jan/09/prince-harry-says-any-retu...</td>\n      <td>2023-01-09T17:43:13Z</td>\n      <td>Prince Harry says any return to royal fold wou...</td>\n      <td>https://www.theguardian.com/uk-news/2023/jan/0...</td>\n      <td>uk-news</td>\n      <td>UK news</td>\n      <td>article</td>\n      <td>[Prince Harry, Meghan, the Duchess of Sussex, ...</td>\n    </tr>\n    <tr>\n      <th>14</th>\n      <td>uk-news/2023/jan/09/prince-harry-interview-roy...</td>\n      <td>2023-01-09T04:25:32Z</td>\n      <td>Prince Harry interview: what we learned about ...</td>\n      <td>https://www.theguardian.com/uk-news/2023/jan/0...</td>\n      <td>uk-news</td>\n      <td>UK news</td>\n      <td>article</td>\n      <td>[Prince Harry, ITV News, CBS, Media]</td>\n    </tr>\n    <tr>\n      <th>15</th>\n      <td>uk-news/2023/jan/08/prince-harry-defends-tell-...</td>\n      <td>2023-01-09T01:55:15Z</td>\n      <td>Prince Harry defends tell-all memoir in furiou...</td>\n      <td>https://www.theguardian.com/uk-news/2023/jan/0...</td>\n      <td>uk-news</td>\n      <td>UK news</td>\n      <td>article</td>\n      <td>[Prince Harry, UK news, Monarchy, Meghan, the ...</td>\n    </tr>\n    <tr>\n      <th>16</th>\n      <td>uk-news/2023/jan/08/harrys-book-end-of-monarch...</td>\n      <td>2023-01-08T09:00:44Z</td>\n      <td>Prince Harry’s book could be ‘beginning of end...</td>\n      <td>https://www.theguardian.com/uk-news/2023/jan/0...</td>\n      <td>uk-news</td>\n      <td>UK news</td>\n      <td>article</td>\n      <td>[Monarchy, Prince Harry, Prince William, UK ne...</td>\n    </tr>\n    <tr>\n      <th>17</th>\n      <td>uk-news/2023/jan/07/prince-harry-i-felt-guilt-...</td>\n      <td>2023-01-07T21:00:28Z</td>\n      <td>Prince Harry: I felt guilt meeting mourners af...</td>\n      <td>https://www.theguardian.com/uk-news/2023/jan/0...</td>\n      <td>uk-news</td>\n      <td>UK news</td>\n      <td>article</td>\n      <td>[Prince Harry, Prince William, Diana, Princess...</td>\n    </tr>\n    <tr>\n      <th>18</th>\n      <td>uk-news/2023/jan/07/prince-harry-book-autobiog...</td>\n      <td>2023-01-07T19:39:06Z</td>\n      <td>US interest grows after Prince Harry book reve...</td>\n      <td>https://www.theguardian.com/uk-news/2023/jan/0...</td>\n      <td>uk-news</td>\n      <td>UK news</td>\n      <td>article</td>\n      <td>[Prince Harry, US news, World news, Books, UK ...</td>\n    </tr>\n    <tr>\n      <th>19</th>\n      <td>uk-news/2023/jan/07/prince-harry-spare-revelat...</td>\n      <td>2023-01-07T13:25:58Z</td>\n      <td>Prince Harry revelations ‘like those of B-list...</td>\n      <td>https://www.theguardian.com/uk-news/2023/jan/0...</td>\n      <td>uk-news</td>\n      <td>UK news</td>\n      <td>article</td>\n      <td>[Prince Harry, Meghan, the Duchess of Sussex, ...</td>\n    </tr>\n    <tr>\n      <th>20</th>\n      <td>uk-news/2023/jan/07/prince-harry-interview-wha...</td>\n      <td>2023-01-07T13:17:49Z</td>\n      <td>What will Harry do next? PR experts on the pri...</td>\n      <td>https://www.theguardian.com/uk-news/2023/jan/0...</td>\n      <td>uk-news</td>\n      <td>UK news</td>\n      <td>article</td>\n      <td>[Prince Harry, UK news, Meghan, the Duchess of...</td>\n    </tr>\n    <tr>\n      <th>21</th>\n      <td>uk-news/2023/jan/06/prince-harry-saw-red-mist-...</td>\n      <td>2023-01-06T08:23:58Z</td>\n      <td>Prince Harry saw ‘red mist’ in William during ...</td>\n      <td>https://www.theguardian.com/uk-news/2023/jan/0...</td>\n      <td>uk-news</td>\n      <td>UK news</td>\n      <td>article</td>\n      <td>[Prince Harry, Prince William, UK news, Books,...</td>\n    </tr>\n    <tr>\n      <th>22</th>\n      <td>uk-news/2023/jan/05/prince-harry-defends-decis...</td>\n      <td>2023-01-05T14:26:38Z</td>\n      <td>Prince Harry defends details about royal famil...</td>\n      <td>https://www.theguardian.com/uk-news/2023/jan/0...</td>\n      <td>uk-news</td>\n      <td>UK news</td>\n      <td>article</td>\n      <td>[Prince Harry, Monarchy, UK news]</td>\n    </tr>\n    <tr>\n      <th>23</th>\n      <td>uk-news/2023/jan/03/prince-harry-teaser-traile...</td>\n      <td>2023-01-03T15:19:13Z</td>\n      <td>Prince Harry’s teasers trigger tsunami of outr...</td>\n      <td>https://www.theguardian.com/uk-news/2023/jan/0...</td>\n      <td>uk-news</td>\n      <td>UK news</td>\n      <td>article</td>\n      <td>[Prince Harry, Meghan, the Duchess of Sussex, ...</td>\n    </tr>\n    <tr>\n      <th>24</th>\n      <td>uk-news/2023/jan/02/prince-harry-would-like-fa...</td>\n      <td>2023-01-02T15:46:18Z</td>\n      <td>Prince Harry: I would like my father and my br...</td>\n      <td>https://www.theguardian.com/uk-news/2023/jan/0...</td>\n      <td>uk-news</td>\n      <td>UK news</td>\n      <td>article</td>\n      <td>[Prince Harry, Meghan, the Duchess of Sussex, ...</td>\n    </tr>\n    <tr>\n      <th>25</th>\n      <td>uk-news/2022/dec/30/new-year-honours-2023-mary...</td>\n      <td>2022-12-30T22:30:00Z</td>\n      <td>New year honours 2023: Mary Quant and Lionesse...</td>\n      <td>https://www.theguardian.com/uk-news/2022/dec/3...</td>\n      <td>uk-news</td>\n      <td>UK news</td>\n      <td>article</td>\n      <td>[New Year honours list, Mary Quant, England wo...</td>\n    </tr>\n    <tr>\n      <th>26</th>\n      <td>uk-news/2022/dec/25/king-charles-highlights-co...</td>\n      <td>2022-12-25T15:10:04Z</td>\n      <td>King Charles highlights cost of living crisis ...</td>\n      <td>https://www.theguardian.com/uk-news/2022/dec/2...</td>\n      <td>uk-news</td>\n      <td>UK news</td>\n      <td>article</td>\n      <td>[King Charles III, Monarchy, UK news]</td>\n    </tr>\n    <tr>\n      <th>27</th>\n      <td>uk-news/2022/dec/23/king-charles-chooses-st-ge...</td>\n      <td>2022-12-23T22:00:15Z</td>\n      <td>King Charles chooses chapel at Windsor for fir...</td>\n      <td>https://www.theguardian.com/uk-news/2022/dec/2...</td>\n      <td>uk-news</td>\n      <td>UK news</td>\n      <td>article</td>\n      <td>[King Charles III, King's speech, Monarchy, UK...</td>\n    </tr>\n    <tr>\n      <th>28</th>\n      <td>uk-news/2022/dec/17/harry-and-meghan-invited-t...</td>\n      <td>2022-12-17T12:02:38Z</td>\n      <td>Harry and Meghan invited to Charles’s coronati...</td>\n      <td>https://www.theguardian.com/uk-news/2022/dec/1...</td>\n      <td>uk-news</td>\n      <td>UK news</td>\n      <td>article</td>\n      <td>[Monarchy, Prince Harry, King Charles III, UK ...</td>\n    </tr>\n    <tr>\n      <th>29</th>\n      <td>uk-news/2022/dec/17/two-pms-a-race-row-and-har...</td>\n      <td>2022-12-17T08:00:16Z</td>\n      <td>Two PMs, a race row and Harry &amp; Meghan: Charle...</td>\n      <td>https://www.theguardian.com/uk-news/2022/dec/1...</td>\n      <td>uk-news</td>\n      <td>UK news</td>\n      <td>article</td>\n      <td>[King Charles III, Monarchy, UK news, Camilla ...</td>\n    </tr>\n    <tr>\n      <th>30</th>\n      <td>uk-news/2022/dec/16/lady-hussey-apologises-ngo...</td>\n      <td>2022-12-16T17:01:46Z</td>\n      <td>Ngozi Fulani receives personal apology over Bu...</td>\n      <td>https://www.theguardian.com/uk-news/2022/dec/1...</td>\n      <td>uk-news</td>\n      <td>UK news</td>\n      <td>article</td>\n      <td>[Monarchy, Aristocracy, Race, UK news, Chariti...</td>\n    </tr>\n    <tr>\n      <th>31</th>\n      <td>uk-news/2022/dec/16/digested-week-give-me-the-...</td>\n      <td>2022-12-16T11:20:44Z</td>\n      <td>Digested week: give me The White Lotus over Ha...</td>\n      <td>https://www.theguardian.com/uk-news/2022/dec/1...</td>\n      <td>uk-news</td>\n      <td>UK news</td>\n      <td>article</td>\n      <td>[UK news, Prince Harry, Meghan, the Duchess of...</td>\n    </tr>\n    <tr>\n      <th>32</th>\n      <td>uk-news/2022/dec/15/black-women-feel-failed-by...</td>\n      <td>2022-12-15T18:04:05Z</td>\n      <td>‘Where is the moral compass?’: Black women on ...</td>\n      <td>https://www.theguardian.com/uk-news/2022/dec/1...</td>\n      <td>uk-news</td>\n      <td>UK news</td>\n      <td>article</td>\n      <td>[Monarchy, Meghan, the Duchess of Sussex, Prin...</td>\n    </tr>\n    <tr>\n      <th>33</th>\n      <td>uk-news/2022/dec/15/prince-william-bullied-sus...</td>\n      <td>2022-12-15T16:45:01Z</td>\n      <td>Stress of legal action against Mail on Sunday ...</td>\n      <td>https://www.theguardian.com/uk-news/2022/dec/1...</td>\n      <td>uk-news</td>\n      <td>UK news</td>\n      <td>article</td>\n      <td>[Prince Harry, UK news, Prince William, Diana,...</td>\n    </tr>\n    <tr>\n      <th>34</th>\n      <td>uk-news/2022/dec/15/harry-and-meghan-part-two-...</td>\n      <td>2022-12-15T13:47:15Z</td>\n      <td>Exclusion, death threats and six other themes ...</td>\n      <td>https://www.theguardian.com/uk-news/2022/dec/1...</td>\n      <td>uk-news</td>\n      <td>UK news</td>\n      <td>article</td>\n      <td>[Prince Harry, Meghan, the Duchess of Sussex, ...</td>\n    </tr>\n    <tr>\n      <th>35</th>\n      <td>uk-news/2022/dec/14/royal-households-accused-p...</td>\n      <td>2022-12-14T16:41:56Z</td>\n      <td>Royal households accused of ‘war against Megha...</td>\n      <td>https://www.theguardian.com/uk-news/2022/dec/1...</td>\n      <td>uk-news</td>\n      <td>UK news</td>\n      <td>article</td>\n      <td>[Prince Harry, Monarchy, UK news, Netflix, Med...</td>\n    </tr>\n    <tr>\n      <th>36</th>\n      <td>uk-news/2022/dec/13/harry-and-meghans-fight-wi...</td>\n      <td>2022-12-13T19:06:40Z</td>\n      <td>Harry and Meghan’s fight with tabloid bosses r...</td>\n      <td>https://www.theguardian.com/uk-news/2022/dec/1...</td>\n      <td>uk-news</td>\n      <td>UK news</td>\n      <td>article</td>\n      <td>[Prince Harry, Meghan, the Duchess of Sussex, ...</td>\n    </tr>\n    <tr>\n      <th>37</th>\n      <td>uk-news/2022/dec/13/harry-and-meghan-are-right...</td>\n      <td>2022-12-13T17:41:18Z</td>\n      <td>Harry and Meghan are right about racist Britai...</td>\n      <td>https://www.theguardian.com/uk-news/2022/dec/1...</td>\n      <td>uk-news</td>\n      <td>UK news</td>\n      <td>article</td>\n      <td>[Prince Harry, Meghan, the Duchess of Sussex, ...</td>\n    </tr>\n    <tr>\n      <th>38</th>\n      <td>uk-news/2022/dec/12/didnt-get-a-card-from-char...</td>\n      <td>2022-12-12T16:01:08Z</td>\n      <td>Didn’t get a card from Charles and Camilla? He...</td>\n      <td>https://www.theguardian.com/uk-news/2022/dec/1...</td>\n      <td>uk-news</td>\n      <td>UK news</td>\n      <td>article</td>\n      <td>[King Charles III, Camilla (Queen Consort), Mo...</td>\n    </tr>\n    <tr>\n      <th>39</th>\n      <td>uk-news/2022/dec/12/prince-harry-and-meghan-ne...</td>\n      <td>2022-12-12T13:18:56Z</td>\n      <td>‘They were happy to lie to protect my brother,...</td>\n      <td>https://www.theguardian.com/uk-news/2022/dec/1...</td>\n      <td>uk-news</td>\n      <td>UK news</td>\n      <td>article</td>\n      <td>[Prince Harry, Netflix, Media, UK news, Televi...</td>\n    </tr>\n    <tr>\n      <th>40</th>\n      <td>uk-news/commentisfree/2022/dec/10/meghan-and-h...</td>\n      <td>2022-12-10T18:33:44Z</td>\n      <td>Meghan and Harry’s documentary has hit the raw...</td>\n      <td>https://www.theguardian.com/uk-news/commentisf...</td>\n      <td>uk-news</td>\n      <td>UK news</td>\n      <td>article</td>\n      <td>[Monarchy, Prince Harry, Netflix, Media, UK news]</td>\n    </tr>\n    <tr>\n      <th>41</th>\n      <td>uk-news/2022/dec/10/meghan-harrys-netflix-docu...</td>\n      <td>2022-12-10T14:00:05Z</td>\n      <td>It’s Meghan and Harry’s story but the real dra...</td>\n      <td>https://www.theguardian.com/uk-news/2022/dec/1...</td>\n      <td>uk-news</td>\n      <td>UK news</td>\n      <td>article</td>\n      <td>[Monarchy, Prince Harry, Meghan, the Duchess o...</td>\n    </tr>\n    <tr>\n      <th>42</th>\n      <td>uk-news/2022/dec/09/harry-meghan-netflix-trail...</td>\n      <td>2022-12-09T19:01:00Z</td>\n      <td>Harry and Meghan hit back at criticism over sh...</td>\n      <td>https://www.theguardian.com/uk-news/2022/dec/0...</td>\n      <td>uk-news</td>\n      <td>UK news</td>\n      <td>article</td>\n      <td>[Prince Harry, Meghan, the Duchess of Sussex, ...</td>\n    </tr>\n    <tr>\n      <th>43</th>\n      <td>uk-news/2022/dec/09/tory-mp-plans-legislation-...</td>\n      <td>2022-12-09T00:07:41Z</td>\n      <td>Tory MP plans legislation to strip Harry and M...</td>\n      <td>https://www.theguardian.com/uk-news/2022/dec/0...</td>\n      <td>uk-news</td>\n      <td>UK news</td>\n      <td>article</td>\n      <td>[Prince Harry, Meghan, the Duchess of Sussex, ...</td>\n    </tr>\n    <tr>\n      <th>44</th>\n      <td>uk-news/2022/dec/08/prince-harry-royals-meghan...</td>\n      <td>2022-12-08T16:38:49Z</td>\n      <td>Prince Harry: royals didn’t understand risk to...</td>\n      <td>https://www.theguardian.com/uk-news/2022/dec/0...</td>\n      <td>uk-news</td>\n      <td>UK news</td>\n      <td>article</td>\n      <td>[Prince Harry, Meghan, the Duchess of Sussex, ...</td>\n    </tr>\n    <tr>\n      <th>45</th>\n      <td>uk-news/2022/dec/08/outraged-media-outlets-use...</td>\n      <td>2022-12-08T15:06:37Z</td>\n      <td>Media outlets outraged over Meghan and Harry s...</td>\n      <td>https://www.theguardian.com/uk-news/2022/dec/0...</td>\n      <td>uk-news</td>\n      <td>UK news</td>\n      <td>article</td>\n      <td>[Prince Harry, Meghan, the Duchess of Sussex, ...</td>\n    </tr>\n    <tr>\n      <th>46</th>\n      <td>uk-news/2022/dec/07/prince-harry-asked-are-you...</td>\n      <td>2022-12-07T17:41:40Z</td>\n      <td>Prince Harry asked ‘Are you harming your famil...</td>\n      <td>https://www.theguardian.com/uk-news/2022/dec/0...</td>\n      <td>uk-news</td>\n      <td>UK news</td>\n      <td>article</td>\n      <td>[Prince Harry, Meghan, the Duchess of Sussex, ...</td>\n    </tr>\n    <tr>\n      <th>47</th>\n      <td>uk-news/2022/dec/07/harry-and-meghan-win-racia...</td>\n      <td>2022-12-07T08:26:48Z</td>\n      <td>Harry and Meghan win racial justice and mental...</td>\n      <td>https://www.theguardian.com/uk-news/2022/dec/0...</td>\n      <td>uk-news</td>\n      <td>UK news</td>\n      <td>article</td>\n      <td>[Prince Harry, Meghan, the Duchess of Sussex, ...</td>\n    </tr>\n    <tr>\n      <th>48</th>\n      <td>uk-news/2022/dec/05/prince-harry-women-marryin...</td>\n      <td>2022-12-05T13:42:00Z</td>\n      <td>Prince Harry speaks of ‘suffering’ of women ma...</td>\n      <td>https://www.theguardian.com/uk-news/2022/dec/0...</td>\n      <td>uk-news</td>\n      <td>UK news</td>\n      <td>article</td>\n      <td>[Prince Harry, Meghan, the Duchess of Sussex, ...</td>\n    </tr>\n    <tr>\n      <th>49</th>\n      <td>uk-news/2022/dec/03/royal-troubles-cast-shadow...</td>\n      <td>2022-12-03T18:12:38Z</td>\n      <td>Royal troubles cast shadow over William and Ka...</td>\n      <td>https://www.theguardian.com/uk-news/2022/dec/0...</td>\n      <td>uk-news</td>\n      <td>UK news</td>\n      <td>article</td>\n      <td>[Prince William, Catherine, Princess of Wales,...</td>\n    </tr>\n  </tbody>\n</table>\n</div>"
     },
     "execution_count": 48,
     "metadata": {},
     "output_type": "execute_result"
    }
   ],
   "source": [
    "import pandas as pd\n",
    "pd.DataFrame(collected_data)"
   ],
   "metadata": {
    "collapsed": false,
    "pycharm": {
     "name": "#%%\n"
    }
   }
  },
  {
   "cell_type": "code",
   "execution_count": 17,
   "outputs": [],
   "source": [
    "pd.DataFrame(collected_data).to_json('guardian_data.json')"
   ],
   "metadata": {
    "collapsed": false,
    "pycharm": {
     "name": "#%%\n"
    }
   }
  },
  {
   "cell_type": "code",
   "execution_count": 18,
   "outputs": [],
   "source": [
    "data = pd.read_json('guardian_data.json')"
   ],
   "metadata": {
    "collapsed": false,
    "pycharm": {
     "name": "#%%\n"
    }
   }
  },
  {
   "cell_type": "code",
   "execution_count": 19,
   "outputs": [
    {
     "ename": "KeyError",
     "evalue": "'section'",
     "output_type": "error",
     "traceback": [
      "\u001B[0;31m---------------------------------------------------------------------------\u001B[0m",
      "\u001B[0;31mKeyError\u001B[0m                                  Traceback (most recent call last)",
      "File \u001B[0;32m~/miniconda3/envs/teaching/lib/python3.10/site-packages/pandas/core/indexes/base.py:3621\u001B[0m, in \u001B[0;36mIndex.get_loc\u001B[0;34m(self, key, method, tolerance)\u001B[0m\n\u001B[1;32m   3620\u001B[0m \u001B[38;5;28;01mtry\u001B[39;00m:\n\u001B[0;32m-> 3621\u001B[0m     \u001B[38;5;28;01mreturn\u001B[39;00m \u001B[38;5;28;43mself\u001B[39;49m\u001B[38;5;241;43m.\u001B[39;49m\u001B[43m_engine\u001B[49m\u001B[38;5;241;43m.\u001B[39;49m\u001B[43mget_loc\u001B[49m\u001B[43m(\u001B[49m\u001B[43mcasted_key\u001B[49m\u001B[43m)\u001B[49m\n\u001B[1;32m   3622\u001B[0m \u001B[38;5;28;01mexcept\u001B[39;00m \u001B[38;5;167;01mKeyError\u001B[39;00m \u001B[38;5;28;01mas\u001B[39;00m err:\n",
      "File \u001B[0;32m~/miniconda3/envs/teaching/lib/python3.10/site-packages/pandas/_libs/index.pyx:136\u001B[0m, in \u001B[0;36mpandas._libs.index.IndexEngine.get_loc\u001B[0;34m()\u001B[0m\n",
      "File \u001B[0;32m~/miniconda3/envs/teaching/lib/python3.10/site-packages/pandas/_libs/index.pyx:144\u001B[0m, in \u001B[0;36mpandas._libs.index.IndexEngine.get_loc\u001B[0;34m()\u001B[0m\n",
      "File \u001B[0;32mpandas/_libs/index_class_helper.pxi:20\u001B[0m, in \u001B[0;36mpandas._libs.index.Float64Engine._check_type\u001B[0;34m()\u001B[0m\n",
      "\u001B[0;31mKeyError\u001B[0m: 'section'",
      "\nThe above exception was the direct cause of the following exception:\n",
      "\u001B[0;31mKeyError\u001B[0m                                  Traceback (most recent call last)",
      "Input \u001B[0;32mIn [19]\u001B[0m, in \u001B[0;36m<cell line: 1>\u001B[0;34m()\u001B[0m\n\u001B[0;32m----> 1\u001B[0m \u001B[43mdata\u001B[49m\u001B[43m[\u001B[49m\u001B[38;5;124;43m'\u001B[39;49m\u001B[38;5;124;43msection\u001B[39;49m\u001B[38;5;124;43m'\u001B[39;49m\u001B[43m]\u001B[49m\u001B[38;5;241m.\u001B[39mvalue_counts()\n",
      "File \u001B[0;32m~/miniconda3/envs/teaching/lib/python3.10/site-packages/pandas/core/frame.py:3505\u001B[0m, in \u001B[0;36mDataFrame.__getitem__\u001B[0;34m(self, key)\u001B[0m\n\u001B[1;32m   3503\u001B[0m \u001B[38;5;28;01mif\u001B[39;00m \u001B[38;5;28mself\u001B[39m\u001B[38;5;241m.\u001B[39mcolumns\u001B[38;5;241m.\u001B[39mnlevels \u001B[38;5;241m>\u001B[39m \u001B[38;5;241m1\u001B[39m:\n\u001B[1;32m   3504\u001B[0m     \u001B[38;5;28;01mreturn\u001B[39;00m \u001B[38;5;28mself\u001B[39m\u001B[38;5;241m.\u001B[39m_getitem_multilevel(key)\n\u001B[0;32m-> 3505\u001B[0m indexer \u001B[38;5;241m=\u001B[39m \u001B[38;5;28;43mself\u001B[39;49m\u001B[38;5;241;43m.\u001B[39;49m\u001B[43mcolumns\u001B[49m\u001B[38;5;241;43m.\u001B[39;49m\u001B[43mget_loc\u001B[49m\u001B[43m(\u001B[49m\u001B[43mkey\u001B[49m\u001B[43m)\u001B[49m\n\u001B[1;32m   3506\u001B[0m \u001B[38;5;28;01mif\u001B[39;00m is_integer(indexer):\n\u001B[1;32m   3507\u001B[0m     indexer \u001B[38;5;241m=\u001B[39m [indexer]\n",
      "File \u001B[0;32m~/miniconda3/envs/teaching/lib/python3.10/site-packages/pandas/core/indexes/base.py:3623\u001B[0m, in \u001B[0;36mIndex.get_loc\u001B[0;34m(self, key, method, tolerance)\u001B[0m\n\u001B[1;32m   3621\u001B[0m     \u001B[38;5;28;01mreturn\u001B[39;00m \u001B[38;5;28mself\u001B[39m\u001B[38;5;241m.\u001B[39m_engine\u001B[38;5;241m.\u001B[39mget_loc(casted_key)\n\u001B[1;32m   3622\u001B[0m \u001B[38;5;28;01mexcept\u001B[39;00m \u001B[38;5;167;01mKeyError\u001B[39;00m \u001B[38;5;28;01mas\u001B[39;00m err:\n\u001B[0;32m-> 3623\u001B[0m     \u001B[38;5;28;01mraise\u001B[39;00m \u001B[38;5;167;01mKeyError\u001B[39;00m(key) \u001B[38;5;28;01mfrom\u001B[39;00m \u001B[38;5;21;01merr\u001B[39;00m\n\u001B[1;32m   3624\u001B[0m \u001B[38;5;28;01mexcept\u001B[39;00m \u001B[38;5;167;01mTypeError\u001B[39;00m:\n\u001B[1;32m   3625\u001B[0m     \u001B[38;5;66;03m# If we have a listlike key, _check_indexing_error will raise\u001B[39;00m\n\u001B[1;32m   3626\u001B[0m     \u001B[38;5;66;03m#  InvalidIndexError. Otherwise we fall through and re-raise\u001B[39;00m\n\u001B[1;32m   3627\u001B[0m     \u001B[38;5;66;03m#  the TypeError.\u001B[39;00m\n\u001B[1;32m   3628\u001B[0m     \u001B[38;5;28mself\u001B[39m\u001B[38;5;241m.\u001B[39m_check_indexing_error(key)\n",
      "\u001B[0;31mKeyError\u001B[0m: 'section'"
     ]
    }
   ],
   "source": [
    "data['section'].value_counts()"
   ],
   "metadata": {
    "collapsed": false,
    "pycharm": {
     "name": "#%%\n"
    }
   }
  },
  {
   "cell_type": "code",
   "execution_count": 14,
   "outputs": [],
   "source": [
    "data = data.explode('tags').dropna()"
   ],
   "metadata": {
    "collapsed": false,
    "pycharm": {
     "name": "#%%\n"
    }
   }
  },
  {
   "cell_type": "code",
   "execution_count": 15,
   "outputs": [],
   "source": [
    "import networkx as nx"
   ],
   "metadata": {
    "collapsed": false,
    "pycharm": {
     "name": "#%%\n"
    }
   }
  },
  {
   "cell_type": "code",
   "execution_count": 16,
   "outputs": [],
   "source": [
    "edge_list = data[['id','tags']].copy()"
   ],
   "metadata": {
    "collapsed": false,
    "pycharm": {
     "name": "#%%\n"
    }
   }
  },
  {
   "cell_type": "code",
   "execution_count": 17,
   "outputs": [],
   "source": [
    "edge_list['source'] = edge_list.index"
   ],
   "metadata": {
    "collapsed": false,
    "pycharm": {
     "name": "#%%\n"
    }
   }
  },
  {
   "cell_type": "code",
   "execution_count": 18,
   "outputs": [],
   "source": [
    "edge_list['target'] = edge_list['tags']"
   ],
   "metadata": {
    "collapsed": false,
    "pycharm": {
     "name": "#%%\n"
    }
   }
  },
  {
   "cell_type": "code",
   "execution_count": 19,
   "outputs": [],
   "source": [
    "edge_list = edge_list[['source','target']]"
   ],
   "metadata": {
    "collapsed": false,
    "pycharm": {
     "name": "#%%\n"
    }
   }
  },
  {
   "cell_type": "code",
   "execution_count": 20,
   "outputs": [],
   "source": [
    "G = nx.from_pandas_edgelist(edge_list)"
   ],
   "metadata": {
    "collapsed": false,
    "pycharm": {
     "name": "#%%\n"
    }
   }
  },
  {
   "cell_type": "code",
   "execution_count": 21,
   "outputs": [
    {
     "data": {
      "text/plain": "True"
     },
     "execution_count": 21,
     "metadata": {},
     "output_type": "execute_result"
    }
   ],
   "source": [
    "nx.is_bipartite(G)"
   ],
   "metadata": {
    "collapsed": false,
    "pycharm": {
     "name": "#%%\n"
    }
   }
  },
  {
   "cell_type": "code",
   "execution_count": 23,
   "outputs": [],
   "source": [
    "new_G = nx.bipartite.weighted_projected_graph(G,edge_list['target'].unique())"
   ],
   "metadata": {
    "collapsed": false,
    "pycharm": {
     "name": "#%%\n"
    }
   }
  },
  {
   "cell_type": "code",
   "execution_count": 110,
   "outputs": [],
   "source": [
    "from netwulf import visualize"
   ],
   "metadata": {
    "collapsed": false,
    "pycharm": {
     "name": "#%%\n"
    }
   }
  },
  {
   "cell_type": "code",
   "execution_count": 24,
   "outputs": [],
   "source": [
    "nx.write_gexf(new_G,'G.gexf')"
   ],
   "metadata": {
    "collapsed": false,
    "pycharm": {
     "name": "#%%\n"
    }
   }
  },
  {
   "cell_type": "code",
   "execution_count": 26,
   "outputs": [
    {
     "data": {
      "text/plain": "     source               target\n0         0             Football\n0         0                Sport\n1         1            Joe Biden\n1         1            Gun crime\n1         1           California\n..      ...                  ...\n499     499               Gender\n499     499  Australian politics\n499     499       Australia news\n499     499            Coalition\n499     499          Labor party\n\n[2816 rows x 2 columns]",
      "text/html": "<div>\n<style scoped>\n    .dataframe tbody tr th:only-of-type {\n        vertical-align: middle;\n    }\n\n    .dataframe tbody tr th {\n        vertical-align: top;\n    }\n\n    .dataframe thead th {\n        text-align: right;\n    }\n</style>\n<table border=\"1\" class=\"dataframe\">\n  <thead>\n    <tr style=\"text-align: right;\">\n      <th></th>\n      <th>source</th>\n      <th>target</th>\n    </tr>\n  </thead>\n  <tbody>\n    <tr>\n      <th>0</th>\n      <td>0</td>\n      <td>Football</td>\n    </tr>\n    <tr>\n      <th>0</th>\n      <td>0</td>\n      <td>Sport</td>\n    </tr>\n    <tr>\n      <th>1</th>\n      <td>1</td>\n      <td>Joe Biden</td>\n    </tr>\n    <tr>\n      <th>1</th>\n      <td>1</td>\n      <td>Gun crime</td>\n    </tr>\n    <tr>\n      <th>1</th>\n      <td>1</td>\n      <td>California</td>\n    </tr>\n    <tr>\n      <th>...</th>\n      <td>...</td>\n      <td>...</td>\n    </tr>\n    <tr>\n      <th>499</th>\n      <td>499</td>\n      <td>Gender</td>\n    </tr>\n    <tr>\n      <th>499</th>\n      <td>499</td>\n      <td>Australian politics</td>\n    </tr>\n    <tr>\n      <th>499</th>\n      <td>499</td>\n      <td>Australia news</td>\n    </tr>\n    <tr>\n      <th>499</th>\n      <td>499</td>\n      <td>Coalition</td>\n    </tr>\n    <tr>\n      <th>499</th>\n      <td>499</td>\n      <td>Labor party</td>\n    </tr>\n  </tbody>\n</table>\n<p>2816 rows × 2 columns</p>\n</div>"
     },
     "execution_count": 26,
     "metadata": {},
     "output_type": "execute_result"
    }
   ],
   "source": [
    "edge_list"
   ],
   "metadata": {
    "collapsed": false,
    "pycharm": {
     "name": "#%%\n"
    }
   }
  },
  {
   "cell_type": "code",
   "execution_count": null,
   "outputs": [],
   "source": [],
   "metadata": {
    "collapsed": false,
    "pycharm": {
     "name": "#%%\n"
    }
   }
  }
 ],
 "metadata": {
  "kernelspec": {
   "display_name": "Python 3",
   "language": "python",
   "name": "python3"
  },
  "language_info": {
   "codemirror_mode": {
    "name": "ipython",
    "version": 2
   },
   "file_extension": ".py",
   "mimetype": "text/x-python",
   "name": "python",
   "nbconvert_exporter": "python",
   "pygments_lexer": "ipython2",
   "version": "2.7.6"
  }
 },
 "nbformat": 4,
 "nbformat_minor": 0
}
